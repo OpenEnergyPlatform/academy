{
 "cells": [
  {
   "cell_type": "markdown",
   "metadata": {},
   "source": [
    "<img src=\"http://reiner-lemoine-institut.de//wp-content/uploads/2015/09/rlilogo.png\" alt=\"RLI\" height=\"100\" width=\"100\" align=\"right\"/>\n",
    "\n",
    "# Validate Metadata - Datapackage "
   ]
  },
  {
   "cell_type": "code",
   "execution_count": null,
   "metadata": {},
   "outputs": [],
   "source": [
    "__copyright__ = \"Reiner Lemoine Institut\"\n",
    "__license__   = \"GNU Affero General Public License Version 3 (AGPL-3.0)\"\n",
    "__url__       = \"https://www.gnu.org/licenses/agpl-3.0.html\"\n",
    "__author__    = \"christian-rli, Ludee\""
   ]
  },
  {
   "cell_type": "code",
   "execution_count": null,
   "metadata": {},
   "outputs": [],
   "source": [
    "from datapackage import Package\n",
    "import pprint as pp"
   ]
  },
  {
   "cell_type": "markdown",
   "metadata": {},
   "source": [
    "# Instructions\n",
    "\n",
    "[**Frictionlessdata**](https://frictionlessdata.io/specs/data-package/) offers a python package [**datapackage-py**](https://github.com/frictionlessdata/datapackage-py) to work with datapackages and validate the metadata string.\n",
    "\n",
    "* Save metadata string as .json file in the same folder folder\n",
    "* Load *[Package('string')]* and validate *[dp.valid]* metadata string\n",
    "* If the validations fails, an error *[dp.errors]* description is printed with "
   ]
  },
  {
   "cell_type": "markdown",
   "metadata": {},
   "source": [
    "# Datapackage Requirements"
   ]
  },
  {
   "cell_type": "markdown",
   "metadata": {},
   "source": [
    "Taken from **https://frictionlessdata.io/specs/data-package/** and **https://frictionlessdata.io/specs/data-resource/**.\n",
    "\n",
    "The key words MUST, MUST NOT, REQUIRED, SHALL, SHALL NOT, SHOULD, SHOULD NOT, RECOMMENDED, MAY, and OPTIONAL in this document are to be interpreted as described in RFC 2119.\n",
    "\n",
    "1. **[FILE]** A Data Package descriptor MUST be a valid JSON object. (JSON is defined in [RFC 4627](http://www.ietf.org/rfc/rfc4627.txt)). When available as a file it MUST be named **datapackage.json** and it MUST be placed in the top-level directory (relative to any other **resources** provided as part of the data package).\n",
    "1. **[resources]** The descriptor MUST contain a resources property describing the data resources. The resources property is required, with at least one resource. Packaged data resources are described in the resources property of the package descriptor. This property MUST be an array of objects. Each object MUST follow the [Data Resource specification](https://frictionlessdata.io/specs/data-resource/).\n",
    "1. **[name]** A short url-usable (and preferably human-readable) **name of the package**. This MUST be lower-case and contain only alphanumeric characters along with \".\", \"_\" or \"-\" characters. It will function as a unique identifier and therefore SHOULD be unique in relation to any registry in which this package will be deposited (and preferably globally unique).\n",
    "1. **[licenses]** MUST be an array. Each item in the array is a license. Each MUST be an object. The object MUST contain a name property and/or a path property. It MAY contain a title property. \n",
    "    2. **[name]**: The name MUST be an [Open Definition license ID](http://licenses.opendefinition.org/)\n",
    "    2. **[path]**: A [url-or-path](https://frictionlessdata.io/specs/data-resource/#url-or-path) string, that is a fully qualified HTTP address, or a relative POSIX path\n",
    "1. **[contributors]** The people or organizations who contributed to this Data Package. It MUST be an array. Each entry is a Contributor and MUST be an object. A Contributor MUST have a *title* property and MAY contain path, email, role and organization properties."
   ]
  },
  {
   "cell_type": "markdown",
   "metadata": {},
   "source": [
    "# OEP metadata v1.4"
   ]
  },
  {
   "cell_type": "code",
   "execution_count": null,
   "metadata": {},
   "outputs": [],
   "source": [
    "# oep_metadata_template.json\n",
    "try:\n",
    "    dp = Package('oep_metadata_example.json')\n",
    "    if dp.valid == True:\n",
    "        print('Metadata is a valid DataPackage!')\n",
    "    else: \n",
    "        print(dp.errors)\n",
    "except:\n",
    "    print('No valid JSON file!')"
   ]
  },
  {
   "cell_type": "code",
   "execution_count": null,
   "metadata": {},
   "outputs": [],
   "source": [
    "# print JSON\n",
    "dp = Package('oep_metadata_example.json')\n",
    "pp.pprint(dp.descriptor)"
   ]
  },
  {
   "cell_type": "code",
   "execution_count": null,
   "metadata": {},
   "outputs": [],
   "source": [
    "dp = Package('oep_metadata_example.json')"
   ]
  }
 ],
 "metadata": {
  "kernelspec": {
   "display_name": "Python 3.10.0 ('.env': venv)",
   "language": "python",
   "name": "python3"
  },
  "language_info": {
   "codemirror_mode": {
    "name": "ipython",
    "version": 3
   },
   "file_extension": ".py",
   "mimetype": "text/x-python",
   "name": "python",
   "nbconvert_exporter": "python",
   "pygments_lexer": "ipython3",
   "version": "3.10.0"
  },
  "vscode": {
   "interpreter": {
    "hash": "107173beb3e5096b29955c6f511b636e3644f34d87aaa01385107543be18dbd0"
   }
  }
 },
 "nbformat": 4,
 "nbformat_minor": 2
}
