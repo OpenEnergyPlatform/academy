{
    "cells": [
        {
            "attachments": {},
            "cell_type": "markdown",
            "metadata": {},
            "source": [
                "<img src=\"https://raw.githubusercontent.com/OpenEnergyPlatform/academy/develop/docs/data/img/OEP_logo_2_no_text.svg\" alt=\"OpenEnergy Platform\" height=\"75\" width=\"75\" align=\"left\"/>\n",
                "\n",
                "# API Tutorial 02 - Download data using the OepClient in a python script"
            ]
        },
        {
            "attachments": {},
            "cell_type": "markdown",
            "metadata": {},
            "source": [
                "## Learnings\n",
                "\n",
                "* [Download data](#download-data)\n",
                "* [Download filtered data (Not implemented yet)](#download-filtered-data)\n",
                "* [Download metadata](#download-metadata)\n",
                "\n",
                "## Requirements\n",
                "\n",
                "* Python packages:\n",
                "    * `oep-client`\n",
                "    * jupyter notebook, e.g. `notebook` or `jupyterlab`\n",
                "* Skills:\n",
                "    * use python with jupyter notebooks"
            ]
        },
        {
            "attachments": {},
            "cell_type": "markdown",
            "metadata": {},
            "source": [
                "## Setup"
            ]
        },
        {
            "cell_type": "code",
            "execution_count": 1,
            "metadata": {},
            "outputs": [],
            "source": [
                "# install required packages with: pip install oep-client\n",
                "# import required packages\n",
                "import json\n",
                "\n",
                "from oep_client import OepClient\n",
                "\n",
                "cli = OepClient()\n",
                "table = 'tutorial_example_table'"
            ]
        },
        {
            "attachments": {},
            "cell_type": "markdown",
            "metadata": {},
            "source": [
                "## Download data\n",
                "\n",
                "requires execution of [setup](#setup)"
            ]
        },
        {
            "cell_type": "code",
            "execution_count": 2,
            "metadata": {},
            "outputs": [
                {
                    "name": "stdout",
                    "output_type": "stream",
                    "text": [
                        "[\n",
                        "    {\n",
                        "        \"id\": 1,\n",
                        "        \"name\": \"unit1\",\n",
                        "        \"is_active\": true,\n",
                        "        \"capacity_mw\": 1.2,\n",
                        "        \"installation_datetime_utc\": \"2010-02-03T00:00:00\",\n",
                        "        \"location\": \"01010000008FC2F5285C8F4A40713D0AD7A3B02040\"\n",
                        "    },\n",
                        "    {\n",
                        "        \"id\": 2,\n",
                        "        \"name\": \"unit2\",\n",
                        "        \"is_active\": false,\n",
                        "        \"capacity_mw\": 2.1,\n",
                        "        \"installation_datetime_utc\": \"2010-01-08T00:00:00\",\n",
                        "        \"location\": null\n",
                        "    },\n",
                        "    {\n",
                        "        \"id\": 3,\n",
                        "        \"name\": \"unit3\",\n",
                        "        \"is_active\": true,\n",
                        "        \"capacity_mw\": 100.0,\n",
                        "        \"installation_datetime_utc\": \"2010-01-02T10:30:00\",\n",
                        "        \"location\": \"0101000000EC51B81E85AB4B405C8FC2F5285C1D40\"\n",
                        "    }\n",
                        "]\n"
                    ]
                }
            ],
            "source": [
                "data = cli.select_from_table(table)\n",
                "\n",
                "# show results in notebook\n",
                "print(json.dumps(data, indent=4))"
            ]
        },
        {
            "attachments": {},
            "cell_type": "markdown",
            "metadata": {},
            "source": [
                "## Download filtered data\n",
                "\n",
                "requires execution of [setup](#setup)"
            ]
        },
        {
            "cell_type": "code",
            "execution_count": 3,
            "metadata": {},
            "outputs": [
                {
                    "name": "stdout",
                    "output_type": "stream",
                    "text": [
                        "[\n",
                        "    {\n",
                        "        \"id\": 3,\n",
                        "        \"name\": \"unit3\",\n",
                        "        \"is_active\": true,\n",
                        "        \"capacity_mw\": 100.0,\n",
                        "        \"installation_datetime_utc\": \"2010-01-02T10:30:00\",\n",
                        "        \"location\": \"0101000000EC51B81E85AB4B405C8FC2F5285C1D40\"\n",
                        "    }\n",
                        "]\n"
                    ]
                }
            ],
            "source": [
                "data = cli.select_from_table(table, where=[\"is_active=true\", \"capacity_mw>10\"])\n",
                "\n",
                "# show results in notebook\n",
                "print(json.dumps(data, indent=4))"
            ]
        },
        {
            "attachments": {},
            "cell_type": "markdown",
            "metadata": {},
            "source": [
                "## Download metadata\n",
                "\n",
                "requires execution of [setup](#setup)"
            ]
        },
        {
            "cell_type": "code",
            "execution_count": 4,
            "metadata": {},
            "outputs": [
                {
                    "name": "stdout",
                    "output_type": "stream",
                    "text": [
                        "{\n",
                        "    \"id\": \"test_table\",\n",
                        "    \"keywords\": [\n",
                        "        \"energy\",\n",
                        "        \"installations\",\n",
                        "        \"geo\"\n",
                        "    ],\n",
                        "    \"resources\": [\n",
                        "        {\n",
                        "            \"name\": \"test_table\",\n",
                        "            \"schema\": {\n",
                        "                \"foreignKeys\": [],\n",
                        "                \"fields\": [\n",
                        "                    {\n",
                        "                        \"name\": \"id\",\n",
                        "                        \"description\": \"numerical id of this data point\",\n",
                        "                        \"type\": \"integer\"\n",
                        "                    },\n",
                        "                    {\n",
                        "                        \"name\": \"name\",\n",
                        "                        \"description\": \"name of installation\",\n",
                        "                        \"type\": \"string\"\n",
                        "                    },\n",
                        "                    {\n",
                        "                        \"name\": \"is_active\",\n",
                        "                        \"description\": \"true/false if installation is active\",\n",
                        "                        \"type\": \"boolean\"\n",
                        "                    },\n",
                        "                    {\n",
                        "                        \"name\": \"capacity_mw\",\n",
                        "                        \"description\": \"installed capacity in MW\",\n",
                        "                        \"type\": \"number\"\n",
                        "                    },\n",
                        "                    {\n",
                        "                        \"name\": \"installation_datetime_utc\",\n",
                        "                        \"description\": \"date (and time) when installation was build\",\n",
                        "                        \"type\": \"string\"\n",
                        "                    },\n",
                        "                    {\n",
                        "                        \"name\": \"location\",\n",
                        "                        \"description\": \"point location of installation\",\n",
                        "                        \"type\": \"geojson\"\n",
                        "                    }\n",
                        "                ]\n",
                        "            }\n",
                        "        }\n",
                        "    ],\n",
                        "    \"metaMetadata\": {\n",
                        "        \"metadataVersion\": \"OEP-1.5.2\",\n",
                        "        \"metadataLicense\": {\n",
                        "            \"name\": \"CC0-1.0\",\n",
                        "            \"title\": \"Creative Commons Zero v1.0 Universal\",\n",
                        "            \"path\": \"https://creativecommons.org/publicdomain/zero/1.0/\"\n",
                        "        }\n",
                        "    },\n",
                        "    \"_comment\": {\n",
                        "        \"metadata\": \"Metadata documentation and explanation (https://github.com/OpenEnergyPlatform/oemetadata)\",\n",
                        "        \"dates\": \"Dates and time must follow the ISO8601 including time zone (YYYY-MM-DD or YYYY-MM-DDThh:mm:ss\\u00b1hh)\",\n",
                        "        \"units\": \"Use a space between numbers and units (100 m)\",\n",
                        "        \"languages\": \"Languages must follow the IETF (BCP47) format (en-GB, en-US, de-DE)\",\n",
                        "        \"licenses\": \"License name must follow the SPDX License List (https://spdx.org/licenses/)\",\n",
                        "        \"review\": \"Following the OEP Data Review (https://github.com/OpenEnergyPlatform/data-preprocessing/blob/master/data-review/manual/review_manual.md)\",\n",
                        "        \"null\": \"If not applicable use: null\",\n",
                        "        \"todo\": \"If a value is not yet available, use: todo\"\n",
                        "    }\n",
                        "}\n"
                    ]
                }
            ],
            "source": [
                "metadata = cli.get_metadata(table)\n",
                "\n",
                "# show results in notebook\n",
                "print(json.dumps(metadata, indent=4))"
            ]
        }
    ],
    "metadata": {
        "kernelspec": {
            "display_name": "Python 3",
            "language": "python",
            "name": "python3"
        },
        "language_info": {
            "codemirror_mode": {
                "name": "ipython",
                "version": 3
            },
            "file_extension": ".py",
            "mimetype": "text/x-python",
            "name": "python",
            "nbconvert_exporter": "python",
            "pygments_lexer": "ipython3",
            "version": "3.10.0"
        },
        "orig_nbformat": 4
    },
    "nbformat": 4,
    "nbformat_minor": 2
}
