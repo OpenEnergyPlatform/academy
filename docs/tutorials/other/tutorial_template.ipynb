{
 "cells": [
  {
   "cell_type": "markdown",
   "metadata": {},
   "source": [
    "<img src=\"http://openenergy-platform.org/static/OEP_logo_2_no_text.svg\" alt=\"OpenEnergy Platform\" height=\"100\" width=\"100\"  align=\"left\"/>\n",
    "\n",
    "\n",
    "The development of tutorials for the Open Energy Family takes place publicly in a dedicated [tutorial repository](https://github.com/OpenEnergyPlatform/tutorial). Please report bugs and suggestions as [new issues](https://github.com/OpenEnergyPlatform/template/issues). If Jupyter Notebooks are new to you and you'd like to get an introduction, have a look at this less than 10 minute [introduction video](https://www.youtube.com/watch?v=q_BzsPxwLOE). Official installation instructions are available on [jupyter's readthedocs page](https://jupyter.readthedocs.io/en/latest/install.html).\n",
    "\n",
    "> **license**: [GNU Affero General Public License Version 3 (AGPL-3.0)](https://github.com/openego/data_processing/blob/master/LICENSE) <br> \n",
    "> **copyright**: name_of_institution <br> \n",
    "> **authors**: author1, author2\n",
    "\n",
    "# Title of Tutorial\n"
   ]
  },
  {
   "cell_type": "markdown",
   "metadata": {},
   "source": [
    "## Takeaways\n",
    "\n",
    "* one thing people will learn in this tutorial\n",
    "* another thing people will learn\n",
    "* the last thing people will learn in this tutorial"
   ]
  },
  {
   "cell_type": "markdown",
   "metadata": {},
   "source": [
    "## Introduction\n",
    "\n",
    "This optional paragraph may give a more detailed description of what the reader can expect to go through with this tutorial. It's a summary with an outline of the steps followed, data used, concepts to be covered and may include references to internal and external resources for context."
   ]
  },
  {
   "cell_type": "markdown",
   "metadata": {},
   "source": [
    "### Setup\n",
    "\n",
    "You need the following things to run through the entire tutorial: \n",
    "* An account at the OEP to access your username and API Token. \n",
    "* An environment with the following dependencies installed: \n",
    "  * `oedialect`\n",
    "  * ..."
   ]
  },
  {
   "cell_type": "markdown",
   "metadata": {},
   "source": [
    "## Actual first chapter / Content of tutorial\n",
    "\n",
    "Note: Do see the structure and headlines as a suggestion and feel free to create your own structure if it better suits your purpose when explaining something. "
   ]
  },
  {
   "cell_type": "markdown",
   "metadata": {},
   "source": [
    "### Styling help for tutorial creators\n",
    "\n",
    "Running the following commands will delete the tables from the database which you have in your ordered ORM. Take care that you only delete tables you actually want to have removed.\n",
    "\n",
    "<div class=\"alert alert-block alert-info\">\n",
    "This shows up as a blue block. Suitable styling for tips / notes / infos.\n",
    "</div>\n",
    "\n",
    "<div class=\"alert alert-block alert-warning\">\n",
    "This shows up as a yellow block. Suitable styling for warnings.\n",
    "</div>\n",
    "\n",
    "<div class=\"alert alert-block alert-danger\">\n",
    "This shows up as a red block. Suitable styling for marking danger. Use sparingly e.g. when data loss is a possible risk.\n",
    "</div>\n",
    "\n",
    "<div class=\"alert alert-block alert-success\">\n",
    "This shows up as a green block. Suitable styling for success messages.\n",
    "</div>\n",
    "\n",
    "* item in list\n",
    "  * item in sublist\n",
    "    1. first item in subsublist\n",
    "    1. second item in subsublist\n",
    "  * another item in sublist\n",
    "\n",
    "This is a [link](https://www.ibm.com/support/knowledgecenter/en/SSGNPV_2.0.0/dsx/markd-jupyter.html) and it refers to a markdown cheatsheet for Jupyter notebooks, so you can look up more styling options."
   ]
  },
  {
   "cell_type": "code",
   "execution_count": null,
   "metadata": {},
   "outputs": [],
   "source": []
  }
 ],
 "metadata": {
  "kernelspec": {
   "display_name": "Python 3",
   "language": "python",
   "name": "python3"
  },
  "language_info": {
   "codemirror_mode": {
    "name": "ipython",
    "version": 3
   },
   "file_extension": ".py",
   "mimetype": "text/x-python",
   "name": "python",
   "nbconvert_exporter": "python",
   "pygments_lexer": "ipython3",
   "version": "3.7.1"
  }
 },
 "nbformat": 4,
 "nbformat_minor": 2
}
