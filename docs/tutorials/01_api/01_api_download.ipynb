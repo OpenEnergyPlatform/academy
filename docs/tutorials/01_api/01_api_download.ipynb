{
  "cells": [
    {
      "attachments": {},
      "cell_type": "markdown",
      "metadata": {},
      "source": [
        "# API Tutorial 01 - Download data from the Open Energy Platform using the API\n",
        "\n",
        "<!-- keep img below title and without align=\"left\"  -->\n",
        "<img src=\"https://raw.githubusercontent.com/OpenEnergyPlatform/academy/develop/docs/data/img/OEP_logo_2_no_text.svg\" alt=\"OpenEnergy Platform\" height=\"75\" width=\"75\"/>\n"
      ]
    },
    {
      "attachments": {},
      "cell_type": "markdown",
      "metadata": {},
      "source": [
        "## Learnings\n",
        "\n",
        "This tutorials will enable you to:\n",
        "\n",
        "- [Download data](#download-data)\n",
        "- [Download filtered data](#download-filtered-data)\n",
        "- [Download metadata](#download-metadata)\n",
        "\n",
        "## Requirements\n",
        "\n",
        "- Python\n",
        "- Python packages:\n",
        "  - `requests` (See the packages [documentation](https://requests.readthedocs.io/en/latest/) for more help)\n",
        "  - jupyter notebook, e.g. `notebook` or `jupyterlab`\n",
        "  - `shapely` (only for geometry data conversion)\n",
        "- Skills:\n",
        "  - use [python](https://wiki.python.org/moin/BeginnersGuide) with [jupyter notebooks](https://docs.jupyter.org/en/latest/)\n",
        "  - _some_ understanding of [JSON encoded data](https://www.w3schools.com/js/js_json_datatypes.asp)\n",
        "- Internet: obviously, but also make sure your network settings allow https traffic from python\n",
        "\n",
        "## Feedback\n",
        "\n",
        "You can provide feedback on this tutorial in this [github issue](https://github.com/OpenEnergyPlatform/academy/issues/233)\n"
      ]
    },
    {
      "attachments": {},
      "cell_type": "markdown",
      "metadata": {},
      "source": [
        "## Setup\n"
      ]
    },
    {
      "cell_type": "code",
      "execution_count": 7,
      "metadata": {
        "metadata": {}
      },
      "outputs": [
        {
          "name": "stdout",
          "output_type": "stream",
          "text": [
            "you can see the table in your browser here: https://openenergyplatform.org/dataedit/view/model_draft/tutorial_example_table\n"
          ]
        }
      ],
      "source": [
        "# install required packages with: pip install requests\n",
        "# import required packages\n",
        "import json\n",
        "\n",
        "import requests as req\n",
        "\n",
        "# TODO: explain schema/topic/sandbox\n",
        "# TODO: explain randint\n",
        "\n",
        "topic = \"model_draft\"\n",
        "table = \"tutorial_example_table\"\n",
        "table_api_url = f\"https://openenergyplatform.org/api/v0/schema/{topic}/tables/{table}/\"\n",
        "table_web_url = f\"https://openenergyplatform.org/dataedit/view/{topic}/{table}\"\n",
        "\n",
        "print(f\"you can see the table in your browser here: {table_web_url}\")"
      ]
    },
    {
      "attachments": {},
      "cell_type": "markdown",
      "metadata": {},
      "source": [
        "## Download data\n",
        "\n",
        "requires execution of [setup](#setup)\n"
      ]
    },
    {
      "cell_type": "code",
      "execution_count": 2,
      "metadata": {
        "metadata": {}
      },
      "outputs": [
        {
          "name": "stdout",
          "output_type": "stream",
          "text": [
            "[\n",
            "    {\n",
            "        \"id\": 1,\n",
            "        \"name\": \"unit1\",\n",
            "        \"is_active\": true,\n",
            "        \"capacity_mw\": 1.2,\n",
            "        \"installation_datetime_utc\": \"2010-02-03T00:00:00\",\n",
            "        \"location\": \"01010000008FC2F5285C8F4A40713D0AD7A3B02040\"\n",
            "    },\n",
            "    {\n",
            "        \"id\": 2,\n",
            "        \"name\": \"unit2\",\n",
            "        \"is_active\": false,\n",
            "        \"capacity_mw\": 2.1,\n",
            "        \"installation_datetime_utc\": \"2010-01-08T00:00:00\",\n",
            "        \"location\": null\n",
            "    },\n",
            "    {\n",
            "        \"id\": 3,\n",
            "        \"name\": \"unit3\",\n",
            "        \"is_active\": true,\n",
            "        \"capacity_mw\": 100.0,\n",
            "        \"installation_datetime_utc\": \"2010-01-02T10:30:00\",\n",
            "        \"location\": \"0101000000EC51B81E85AB4B405C8FC2F5285C1D40\"\n",
            "    }\n",
            "]\n"
          ]
        }
      ],
      "source": [
        "res = req.get(table_api_url + \"rows/\")\n",
        "data = res.json()\n",
        "\n",
        "# show results in notebook\n",
        "print(json.dumps(data, indent=4))"
      ]
    },
    {
      "cell_type": "markdown",
      "metadata": {},
      "source": [
        "## Notes on data types\n",
        "\n",
        "The api returns json serializable data, which is only bool, numerical, or string.\n",
        "In the example, the value of `installation_datetime_utc` is a string representation\n",
        "of a datetime object, the value of `location` a\n",
        "[WKB](https://en.wikipedia.org/wiki/Well-known_text_representation_of_geometry)\n",
        "string representation of a geometry object.\n",
        "\n",
        "Depending on the use case, the data needs to be converted after the download\n"
      ]
    },
    {
      "cell_type": "code",
      "execution_count": 3,
      "metadata": {
        "metadata": {}
      },
      "outputs": [],
      "source": [
        "from shapely import wkb\n",
        "from datetime import datetime\n",
        "\n",
        "data_converted = []\n",
        "for row in data:\n",
        "    row_converted = row.copy()\n",
        "    # convert datetime string to datetime object\n",
        "    row_converted[\"installation_datetime_utc\"] = datetime.strptime(\n",
        "        row_converted[\"installation_datetime_utc\"], \"%Y-%m-%dT%H:%M:%S\"\n",
        "    )\n",
        "    # convert wkb string to shapely geoemtry object\n",
        "    row_converted[\"location\"] = wkb.loads(row_converted[\"location\"])\n",
        "    data_converted.append(row_converted)"
      ]
    },
    {
      "attachments": {},
      "cell_type": "markdown",
      "metadata": {},
      "source": [
        "## Download filtered data\n",
        "\n",
        "- requires execution of [setup](#setup)\n",
        "- read more about [query strings](https://en.wikipedia.org/wiki/Query_string)\n"
      ]
    },
    {
      "cell_type": "code",
      "execution_count": 4,
      "metadata": {
        "metadata": {}
      },
      "outputs": [
        {
          "name": "stdout",
          "output_type": "stream",
          "text": [
            "[\n",
            "    {\n",
            "        \"id\": 3,\n",
            "        \"name\": \"unit3\",\n",
            "        \"is_active\": true,\n",
            "        \"capacity_mw\": 100.0,\n",
            "        \"installation_datetime_utc\": \"2010-01-02T10:30:00\",\n",
            "        \"location\": \"0101000000EC51B81E85AB4B405C8FC2F5285C1D40\"\n",
            "    }\n",
            "]\n"
          ]
        }
      ],
      "source": [
        "# Add (multiple) where filters to the url\n",
        "\n",
        "\n",
        "filter = \"where=is_active=true&where=capacity_mw>10\"\n",
        "\n",
        "\n",
        "res = req.get(table_api_url + f\"rows/?{filter}\")\n",
        "\n",
        "\n",
        "\n",
        "data = res.json()\n",
        "\n",
        "\n",
        "\n",
        "# show results in notebook\n",
        "\n",
        "\n",
        "\n",
        "print(json.dumps(data, indent=4))"
      ]
    },
    {
      "attachments": {},
      "cell_type": "markdown",
      "metadata": {},
      "source": [
        "## Download metadata\n",
        "\n",
        "requires execution of [setup](#setup)\n"
      ]
    },
    {
      "cell_type": "code",
      "execution_count": 5,
      "metadata": {
        "metadata": {}
      },
      "outputs": [
        {
          "name": "stdout",
          "output_type": "stream",
          "text": [
            "{\n",
            "    \"id\": \"test_table\",\n",
            "    \"_comment\": {\n",
            "        \"null\": \"If not applicable use: null\",\n",
            "        \"todo\": \"If a value is not yet available, use: todo\",\n",
            "        \"dates\": \"Dates and time must follow the ISO8601 including time zone (YYYY-MM-DD or YYYY-MM-DDThh:mm:ss\\u00b1hh)\",\n",
            "        \"units\": \"Use a space between numbers and units (100 m)\",\n",
            "        \"review\": \"Following the OEP Data Review (https://github.com/OpenEnergyPlatform/data-preprocessing/blob/master/data-review/manual/review_manual.md)\",\n",
            "        \"licenses\": \"License name must follow the SPDX License List (https://spdx.org/licenses/)\",\n",
            "        \"metadata\": \"Metadata documentation and explanation (https://github.com/OpenEnergyPlatform/oemetadata)\",\n",
            "        \"languages\": \"Languages must follow the IETF (BCP47) format (en-GB, en-US, de-DE)\"\n",
            "    },\n",
            "    \"keywords\": [\n",
            "        \"energy\",\n",
            "        \"installations\",\n",
            "        \"geo\"\n",
            "    ],\n",
            "    \"resources\": [\n",
            "        {\n",
            "            \"name\": \"test_table\",\n",
            "            \"schema\": {\n",
            "                \"fields\": [\n",
            "                    {\n",
            "                        \"name\": \"id\",\n",
            "                        \"type\": \"integer\",\n",
            "                        \"description\": \"numerical id of this data point\"\n",
            "                    },\n",
            "                    {\n",
            "                        \"name\": \"name\",\n",
            "                        \"type\": \"string\",\n",
            "                        \"description\": \"name of installation\"\n",
            "                    },\n",
            "                    {\n",
            "                        \"name\": \"is_active\",\n",
            "                        \"type\": \"boolean\",\n",
            "                        \"description\": \"true/false if installation is active\"\n",
            "                    },\n",
            "                    {\n",
            "                        \"name\": \"capacity_mw\",\n",
            "                        \"type\": \"number\",\n",
            "                        \"description\": \"installed capacity in MW\"\n",
            "                    },\n",
            "                    {\n",
            "                        \"name\": \"installation_datetime_utc\",\n",
            "                        \"type\": \"string\",\n",
            "                        \"description\": \"date (and time) when installation was build\"\n",
            "                    },\n",
            "                    {\n",
            "                        \"name\": \"location\",\n",
            "                        \"type\": \"geojson\",\n",
            "                        \"description\": \"point location of installation\"\n",
            "                    }\n",
            "                ],\n",
            "                \"foreignKeys\": []\n",
            "            }\n",
            "        }\n",
            "    ],\n",
            "    \"metaMetadata\": {\n",
            "        \"metadataLicense\": {\n",
            "            \"name\": \"CC0-1.0\",\n",
            "            \"path\": \"https://creativecommons.org/publicdomain/zero/1.0/\",\n",
            "            \"title\": \"Creative Commons Zero v1.0 Universal\"\n",
            "        },\n",
            "        \"metadataVersion\": \"OEP-1.5.2\"\n",
            "    }\n",
            "}\n"
          ]
        }
      ],
      "source": [
        "res = req.get(table_api_url + \"meta/\")\n",
        "metadata = res.json()\n",
        "\n",
        "# show (partial) results in notebook\n",
        "print(json.dumps(metadata, indent=4))"
      ]
    },
    {
      "cell_type": "markdown",
      "metadata": {},
      "source": [
        "## About this tutorial\n",
        "\n",
        ":oep-logo-sirop:\n",
        "\n",
        "- Author: Christian Winger\n",
        "- Copyright: [Öko-Institut](https://www.oeko.de) (2024)\n",
        "- License: [CC BY 4.0](https://creativecommons.org/licenses/by/4.0/deed.en)\n",
        "- Attribution: Öko-Institut (2024): API Tutorial 01- Download data from the Open Energy Platform using the API.\n",
        "- Last update :oep-auto-lastupdate:\n"
      ]
    },
    {
      "cell_type": "markdown",
      "metadata": {},
      "source": []
    }
  ],
  "metadata": {
    "kernelspec": {
      "display_name": "Python 3",
      "language": "python",
      "name": "python3"
    },
    "language_info": {
      "codemirror_mode": {
        "name": "ipython",
        "version": 3
      },
      "file_extension": ".py",
      "mimetype": "text/x-python",
      "name": "python",
      "nbconvert_exporter": "python",
      "pygments_lexer": "ipython3",
      "version": "3.10.0"
    },
    "orig_nbformat": 4
  },
  "nbformat": 4,
  "nbformat_minor": 2
}
