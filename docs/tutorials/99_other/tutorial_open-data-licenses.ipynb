{
  "cells": [
    {
      "attachments": {},
      "cell_type": "markdown",
      "metadata": {},
      "source": [
        "<img src=\"https://raw.githubusercontent.com/OpenEnergyPlatform/academy/develop/docs/data/img/OEP_logo_2_no_text.svg\" alt=\"OpenEnergy Platform\" height=\"75\" width=\"75\" align=\"left\"/>\n",
        "# Open Data Licenses\n",
        "\n",
        "The development of tutorials for the Open Energy Family takes place publicly in a dedicated [tutorial repository](https://github.com/OpenEnergyPlatform/tutorial). Please report bugs and suggestions as [new issues](https://github.com/OpenEnergyPlatform/academy/issues). If Jupyter Notebooks are new to you and you'd like to get an introduction, have a look at this less than 10 minute [introduction video](https://www.youtube.com/watch?v=q_BzsPxwLOE). Official installation instructions are available on [jupyter's readthedocs page](https://jupyter.readthedocs.io/en/latest/install.html).\n",
        "\n",
        "> **license**: [GNU Affero General Public License Version 3 (AGPL-3.0)](https://github.com/openego/data_processing/blob/master/LICENSE) <br> \n",
        "> **copyright**: Reiner Lemoine Institut <br> \n",
        "> **authors**: Ludwig Hülk\n",
        "\n",
        "\n"
      ]
    },
    {
      "cell_type": "markdown",
      "metadata": {},
      "source": [
        "## Takeaways\n",
        "\n",
        "* Overview of existing open data licenses\n",
        "* Suitable and allowed open licenses for the OEP"
      ]
    },
    {
      "cell_type": "markdown",
      "metadata": {},
      "source": [
        "## Introduction\n",
        "\n",
        "Licensing your data is important. Copyright affects all digital information and without context it's unclear if our data can be used by others or not. Supplying a license will automate the steps of asking for permission and allowing, so it makes life better for the giving and the receiving end. Note that in some countries, like Germany, it is not possible to waive one's copyright. Data that don't come with any license are not open. A license will provide legal certainty for usage. Choosing an established license will take care of questionable edge cases without umbiguity as well. <br>\n",
        "\n",
        "In the field of information technology there are many [licenses](https://en.wikipedia.org/wiki/License). Some cover multiple materials and domains, i.e. software, data or content while others only cover specific domains. <br>\n",
        "\n",
        "This tutorial aims to collect and describe existing and commonly used [open data](https://en.wikipedia.org/wiki/Open_data) licenses. <br>\n",
        "Please note that there are different definitions of free, open, libre and what falls into [open science data](https://en.wikipedia.org/wiki/Open_science_data)."
      ]
    },
    {
      "cell_type": "markdown",
      "metadata": {},
      "source": [
        "## Open Licenses\n",
        "\n",
        "\n",
        "The [Open Knowledge Foundation](https://okfn.org/) provides a [definition](http://opendefinition.org/) for open data:\n",
        "\n",
        "<div class=\"alert alert-block alert-success\">\n",
        "“Open data and content can be freely used, modified, and shared by anyone for any purpose”\n",
        "</div>\n",
        "\n",
        "In general, open licenses grant the four freedoms, i.e. rights, that were originally defined for [free software](https://en.wikipedia.org/wiki/The_Free_Software_Definition#The_Four_Essential_Freedoms_of_Free_Software). These freedoms are:\n",
        "1. to run the program as wished and for any purpose \n",
        "2. to study how the program works, and change it so it does your computing as wished. Access to the source code is a precondition for this.\n",
        "3. to redistribute copies so you can help others\n",
        "4. to distribute copies of modified versions to others\n",
        "\n",
        "These freedoms can be translated to open data. So they become the freedoms to freely use, analyse, share and modify the data. The main difference between open data licenes and free or open source software licenses, lies in the definition of the obligations that must be met in order to obtain the rights. There are already lists of open source licenses that guarantee the four freedoms. For example the Open Source Initiative (OSI) offers a list of [approved licenses](https://opensource.org/licenses). <br>\n",
        "\n",
        "\n",
        "\n",
        "### Licenses which are not open\n",
        "\n",
        "There are certain obligations that a license may formalise, which will prevent the data from being considered open! The Open Knowledge Foundation has a section on [non-conformant clauses](http://opendefinition.org/licenses/nonconformant/). In brief, the main relevant clauses are:\n",
        "\n",
        "* Non-commercial (NC) <br>\n",
        "You may not use the material for commercial purposes. As there is no definition of what is considered commercial, and an NGO or a non-profit organization may also be considered commercial entities, this clause renders data licensed under it not open. \n",
        "* No Derivatives (ND) <br>\n",
        "You may not alter, transform, or build upon this work. This limits your freedom to modify the data and is therefore not open."
      ]
    },
    {
      "cell_type": "markdown",
      "metadata": {},
      "source": [
        "## Open Data Licenses\n",
        "\n",
        "The open data licenses below are grouped by the three main obligations. For a broader list of licenses, also see: https://github.com/ifrOSS/ifrOSS/blob/master/OpenDataLicenses.md and https://opendefinition.org/licenses/ .\n",
        "<br>\n",
        "\n",
        "\n",
        "### Public Domain\n",
        "\n",
        "Public domain is a concept in which no copyright or other protection like patents and trademark exists and thus no obligations are defined. In order to label and communicate this, information about being public domain is useful! In some countries, like Germany, it is not possible to waive one's copyright. Specifically declaring an unrestrictive open license will ensure a legal status that is equivalent to public domain and that works worldwide. <br>\n",
        "For more information see the international definition of [public domain](https://en.wikipedia.org/wiki/Public_domain) and the German/European [Gemeinfreiheit](https://de.wikipedia.org/wiki/Gemeinfreiheit).\n",
        "\n",
        "__Usecase__: Data for which no attribution to authors is required, e.g. \"helper tables\" for conversions.\n",
        "\n",
        "__Openness:__ As open as possible, but others can create non-open derivatives of it.\n",
        "\n",
        "| id | name | spdx | link | comment |\n",
        "|---|---|---|---|---|\n",
        "| 1.1 | Creative Commons Zero v1.0 Universal | CC0-1.0 | https://creativecommons.org/publicdomain/zero/1.0/legalcode | recommended |\n",
        "| 1.2 | ODC Public Domain Dedication & License 1.0 | PDDL-1.0 | https://opendatacommons.org/licenses/pddl/1-0/ | recommended |\n",
        "| 1.3 | Datenlizenz Deutschland – Zero – Version 2.0 | dl-de/zero-2-0 | https://www.govdata.de/dl-de/zero-2-0 | granted only by the German government |\n",
        "| 1.4 | Public Domain Mark | CC-PDDC | https://creativecommons.org/licenses/publicdomain/ | not recommended |\n",
        "\n",
        "<br>"
      ]
    },
    {
      "cell_type": "markdown",
      "metadata": {},
      "source": [
        "### Attribution\n",
        "\n",
        "This obligation prescribes creating and placing an attribution string close to the created work. The string must contain the name of the author and/or copyright holder and has sometimes additional requirements, such as a link to the license text or the original source. Be aware that this _attribution_ string is different from the scientific _citation_ string, which is necessary for good scientific practice. <br>\n",
        "Licenses that merely require an attribution are often referred to as [permissive licenses](https://en.wikipedia.org/wiki/Permissive_software_license)\n",
        "\n",
        "For more information, see [Best practices for attribution](https://wiki.creativecommons.org/wiki/Best_practices_for_attribution) and  [Attribution Generator](https://lizenzhinweisgenerator.de/?lang=en).\n",
        "\n",
        "__Usecase__: Data for which naming of the authors and/or copyright holders is required, e.g. \"input and result data\". Note: The holder of database rights under EU law is the investor, not the author. The same is true for works made for hire in the US.\n",
        "\n",
        "__Openness:__ Open and suitable for acedemic work.\n",
        "\n",
        "| id | name | spdx | link | comment |\n",
        "|---|---|---|---|---|\n",
        "| 2.1 | Creative Commons Attribution 4.0 International | CC-BY-4.0 | https://creativecommons.org/licenses/by/4.0/legalcode| recommended, prior versions OK if necessary |\n",
        "| 2.2 | Open Data Commons Attribution License v1.0 | ODC-By-1.0 | https://opendatacommons.org/licenses/by/1-0/ | recommended |\n",
        "| 2.3 | Community Data License Agreement – Permissive – Version 1.0 | CDLA-Permissive-1.0 | https://cdla.io/permissive-1-0/ |   |\n",
        "| 2.4 | Datenlizenz Deutschland – Namensnennung – Version 2.0 | dl-de/by-2-0 (no official spdx-id) | https://www.govdata.de/dl-de/by-2-0 | granted only by the German government  |\n",
        "| 2.5 | Gesetz über den Zugang zu digitalen Geodaten (Geodatenzugangsgesetz - GeoZG) | GeoZG (no official spdx-id) | https://www.gesetze-im-internet.de/geozg/index.html | [quasi-license](https://de.wikipedia.org/wiki/Geodatenzugangsgesetz), granted only by the German government |\n",
        "| 2.6 | Verordnung zur Festlegung der Nutzungsbestimmungen für die Bereitstellung von Geodaten des Bundes (GeoNutzV) | GeoNutzV | https://www.gesetze-im-internet.de/geonutzv/index.html | [quasi-license](https://de.wikipedia.org/wiki/Geodatenzugangsgesetz), granted only by the German government. Requires citation instead of attribution  |\n",
        "\n",
        "<br>"
      ]
    },
    {
      "cell_type": "markdown",
      "metadata": {},
      "source": [
        "### Share-Alike (Copyleft)\n",
        "\n",
        "The Share-Alike obligation requires that you choose the exact same license for aggregated or modified data. It can be described as reciprocal, hereditary or (negatively connotated) virulent.\n",
        "\n",
        "For more information see [copyleft](https://en.wikipedia.org/wiki/Copyleft) on Wikipedia.\n",
        "\n",
        "__Usecase__: Data where naming of the authors is required and all further updates must be open as well, e.g. \"manual collection of technical parameters from factsheets\". \n",
        "\n",
        "__Openness:__ Open and will be open forever.\n",
        "\n",
        "| id | name | spdx | link | comment |\n",
        "|---|---|---|---|---|\n",
        "| 3.1 | ODC Open Database License v1.0 | ODbL-1.0 | https://opendatacommons.org/licenses/odbl/1-0/ | recommended |\n",
        "| 3.2 | ~~Creative Commons Attribution Share Alike 4.0 International~~ | CC-BY-SA-4.0 | https://creativecommons.org/licenses/by-sa/4.0/legalcode | not recommended! |\n",
        "\n",
        "<div class=\"alert alert-block alert-danger\">\n",
        "Note that different copyleft licenses are incompatible by default! Compatibility among copyleft licenses requires a specific compatibility clause, otherwise they create data silos. The OEP decided for the ODbL as only suitable copyleft license due to the use of OpenStreetMap (OSM) data.\n",
        "</div>\n",
        "\n",
        "<br>"
      ]
    },
    {
      "cell_type": "markdown",
      "metadata": {},
      "source": [
        "### Legal bases for use of data\n",
        "\n",
        "There are a few legal bases with the goal of providing an open access and free use of public data. For example there is a directive by the EU parliament and the council of the EU for the creation of a geodata-infrastructure, also called the [INSPIRE directive](https://en.wikipedia.org/wiki/Infrastructure_for_Spatial_Information_in_the_European_Community). Another example is the directive on the reuse of public sector information, or [PSI directive](https://en.wikipedia.org/wiki/Infrastructure_for_Spatial_Information_in_the_European_Community).\n",
        "\n",
        "German law contains something called \"Gesetz über den Zugang zu digitalen Geodaten\" (Geodatenzugangsgesetz, or GeoZG for short)\". GeoZG in § 11 introduces an obligation to allow the use of the country's geodata, however it doesn't itself allow use. Asking for attribution is not required by this law. If you're feeling particularly good about your skills in legal German language: „Geodaten und Metadaten sind über Geodatendienste für die kommerzielle und nicht kommerzielle Nutzung geldleistungsfrei zur Verfügung zu stellen, soweit durch besondere Rechtsvorschrift nichts anderes bestimmt ist oder vertragliche oder gesetzliche Rechte Dritter dem nicht entgegenstehen.“\n",
        "\n",
        "<br>"
      ]
    }
  ],
  "metadata": {
    "kernelspec": {
      "display_name": "Python 3",
      "language": "python",
      "name": "python3"
    },
    "language_info": {
      "codemirror_mode": {
        "name": "ipython",
        "version": 3
      },
      "file_extension": ".py",
      "mimetype": "text/x-python",
      "name": "python",
      "nbconvert_exporter": "python",
      "pygments_lexer": "ipython3",
      "version": "3.7.1"
    }
  },
  "nbformat": 4,
  "nbformat_minor": 2
}
