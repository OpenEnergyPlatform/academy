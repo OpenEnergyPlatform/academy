{
  "cells": [
    {
      "cell_type": "markdown",
      "metadata": {},
      "source": [
        "<img src=\"https://raw.githubusercontent.com/OpenEnergyPlatform/academy/develop/docs/data/img/OEP_logo_2_no_text.svg\" alt=\"OpenEnergy Platform\" height=\"75\" width=\"75\" align=\"left\"/>\n",
        "\n",
        "# Intoduction to OpenEnergyMetadata (OEM) \n",
        "\n",
        "The development of tutorials for the Open Energy Family takes place publicly in a dedicated [tutorial repository](https://github.com/OpenEnergyPlatform/tutorial). Please report bugs and suggestions as [new issues](https://github.com/OpenEnergyPlatform/academy/issues). If Jupyter Notebooks are new to you and you'd like to get an introduction, have a look at this less than 10 minute [introduction video](https://www.youtube.com/watch?v=q_BzsPxwLOE). Official installation instructions are available on [jupyter's readthedocs page](https://jupyter.readthedocs.io/en/latest/install.html).\n",
        "\n",
        "> **license**: [GNU Affero General Public License Version 3 (AGPL-3.0)](https://github.com/openego/data_processing/blob/master/LICENSE) <br> \n",
        "> **copyright**: Reiner Lemoine Institut <br> \n",
        "> **authors**: jh-RLI\n"
      ]
    },
    {
      "cell_type": "markdown",
      "metadata": {},
      "source": [
        "## Takeaways\n",
        "\n",
        "* Understand what OEMetadata is and where it is applied.\n",
        "* How to use OEMetadata.\n",
        "* Find helpful resources.\n",
        "* Where to start contributing as a developer."
      ]
    },
    {
      "cell_type": "markdown",
      "metadata": {},
      "source": [
        "## The OpenEnergyMetadata\n",
        "\n",
        "### Introduction\n",
        "\n",
        "OpenenEnergyMetadata(OEM) is a standardised metadata format. OEM are used to provide relevant information about a dataset on the OEP \"It´s data explaining the data :)\". OEM are mandatory for oficially publishing data on the OEP, because this will clarify any licensing issues in advance and also provide context for the review that is part of every publishing process. You can find more information about publishing your data in the[publishing guidebook](https://github.com/OpenEnergyPlatform/tutorial/blob/develop/upload/OEP_Research_Data_Publishing_Guidebook.ipynb). There are descriptions on how to upload OEM on the Open Energy Platform itself with a [wizard](https://openenergyplatform.org/dataedit/wizard/) and a more [technical description](https://github.com/OpenEnergyPlatform/tutorial/blob/develop/upload/OEP_Upload_Process_Data_and_Metadata_oem2orm.ipynb)) for using the API in scrips. If a dataset has already been uploaded to the OEP, then the metadata can be viewed via the [detailed view](https://openenergyplatform.org/dataedit/view/climate/szenariendb_gwp#MetaInformation) of a table. You just scroll down to the \"Meta Information\" section and there they are. The OEP also offers functions for creating, editing and downloading metadata. These functions can also be found on the detail view. Make sure to [sign in](https://openenergyplatform.org/user/login/?next=/) to the OEP in advance to get writing access.\n",
        "\n",
        "### Compatible with frictionless data\n",
        "\n",
        "OEMetadata development is partially based on the specification of [frictionless data](https://frictionlessdata.io/). The advantage is that OEM is compatible with [frictionless datapackage format](https://specs.frictionlessdata.io/data-package/#language) and thus a solid basis for applicability is ensured. In the easiest case, a frictionless datapackage is a JSON-file that is placed directly next to the actual data - the former describing the latter.\n",
        "\n",
        "### Developer information\n",
        "\n",
        "The oemetadata is developed in JSON format and is published on GitHub under the MIT License. The current version of the JSON string can be found in the [oemetadata](https://github.com/OpenEnergyPlatform/oemetadata/tree/develop/metadata/latest) repository. As an open source project, [suggestions for improvement](https://github.com/OpenEnergyPlatform/oemetadata/issues/new) and forking are welcome and encouraged. Please take note of our [development philosophy](https://github.com/OpenEnergyPlatform/oemetadata/blob/master/CONTRIBUTING.md) when you start contributing."
      ]
    },
    {
      "cell_type": "markdown",
      "metadata": {},
      "source": [
        "### Structure of the OEMetadata\n",
        "\n",
        "The OEMetadata are, generally speaking, divided into six sections: \n",
        "1. general\n",
        "    - Describes the dataset\n",
        "    - Links to related data tables on the OEP \n",
        "    - References further documentation\n",
        "1. spatiotemporal\n",
        "    - Summarizes spatial and temporal information of the dataset\n",
        "1. sources\n",
        "    - Documents used sources with attribution and licenses\n",
        "1. license\n",
        "    - The license for the data \n",
        "    - An open license must be available for OEP upload\n",
        "1. history\n",
        "    - Information on who created/edited the metadata\n",
        "1. data model\n",
        "    - Structure of the table in which the data is stored, \n",
        "    - Technical documentation of the table\n",
        "    - Manual fillout  require basic database (SQL) knowledge\n",
        "\n",
        "There is a **[detailed overview](https://github.com/OpenEnergyPlatform/oemetadata/blob/develop/metadata/latest/metadata_key_description.md)** in which all fields that occur in the metadata are described. You will also find sample values there. \n",
        "\n"
      ]
    },
    {
      "cell_type": "markdown",
      "metadata": {},
      "source": [
        "### Suggested workflow to get started\n",
        "\n",
        "There are several ways to create the OEMetadata. One way is to download the [template JSON file](https://github.com/OpenEnergyPlatform/oemetadata/blob/develop/metadata/latest/template.json) and fill it manually in your text editor of choice. Another option is to use a tool on the OEP website called [wizard](https://openenergyplatform.org/dataedit/wizard/). There, a table can be created, data can be uploaded from an excel or CSV file and the metadata can be filled in. The wizard is much more user friendly for beginners, so we recommend using the tool. Once the metadata has been created, in order to go into review it should be downloaded and put in an inssue on github to start the review process. If you are unable to do this, create an issue and get in touch with a reviewer who will help you with those steps.\n",
        "\n",
        "The metadata can be filled in to the best of your knowledge in a first step. If there are any difficulties, it is sufficient to create an issue on github to get in contact with the OEP developers. The [issue template](https://github.com/OpenEnergyPlatform/data-preprocessing/issues/new?assignees=christian-rli%2C+jh-RLI%2C+Ludee&labels=review&template=metadata-and-data-review.md&title=Review%3A+NameOfDataset) can be used for this purpose. Unfortunately at this stage of development a GitHub account is still required for this. "
      ]
    }
  ],
  "metadata": {
    "kernelspec": {
      "display_name": "Python 3",
      "language": "python",
      "name": "python3"
    },
    "language_info": {
      "codemirror_mode": {
        "name": "ipython",
        "version": 3
      },
      "file_extension": ".py",
      "mimetype": "text/x-python",
      "name": "python",
      "nbconvert_exporter": "python",
      "pygments_lexer": "ipython3",
      "version": "3.8.10"
    }
  },
  "nbformat": 4,
  "nbformat_minor": 2
}
