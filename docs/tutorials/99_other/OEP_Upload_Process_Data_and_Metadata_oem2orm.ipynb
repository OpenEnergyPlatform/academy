{
  "cells": [
    {
      "attachments": {},
      "cell_type": "markdown",
      "metadata": {},
      "source": [
        "<img src=\"https://raw.githubusercontent.com/OpenEnergyPlatform/academy/develop/docs/data/img/OEP_logo_2_no_text.svg\" alt=\"OpenEnergy Platform\" height=\"75\" width=\"75\" align=\"left\"/>\n",
        "\n",
        "# How Upload Your Data and Metadata to the OEP\n",
        "\n",
        "The development of tutorials for the Open Energy Family takes place publicly in a dedicated [tutorial repository](https://github.com/OpenEnergyPlatform/tutorial).<br> \n",
        "Please report bugs and suggestions as [new issues](https://github.com/OpenEnergyPlatform/template/issues). <br> \n",
        "\n",
        "license: [**GNU Affero General Public License Version 3 (AGPL-3.0)**](https://github.com/openego/data_processing/blob/master/LICENSE)<br> \n",
        "copyright: **Reiner Lemoine Institut** <br> \n",
        "authors: **christian-rli, jh-RLI, Ludee**<br> \n",
        "\n",
        "If Jupyter Notebooks are new to you and you'd like to get an introduction, have a look at this less than 10 minute [introduction video](https://www.youtube.com/watch?v=q_BzsPxwLOE). Official installation instructions are available on [jupyter's readthedocs page](https://jupyter.readthedocs.io/en/latest/install.html)."
      ]
    },
    {
      "cell_type": "markdown",
      "metadata": {},
      "source": [
        "## Introduction\n",
        "\n",
        "This resource will go through the technical process of uploading data to the OEDB. It uses example data from a csv file and corresponding metadata to illustrate the process. In order to replicate it with your own data in a jupyter notebook, you can use this empty [upload template](https://github.com/OpenEnergyPlatform/tutorial/tree/master/upload/upload_template.ipynb) with the same structure. \n",
        "\n",
        "If you need more context on the used tools and how to install them, have a look at the [Upload Process Guidebook](https://github.com/OpenEnergyPlatform/tutorial/blob/feature/upload_process_tutorial/upload/OEP_Research_Data_Publishing_Guidebook.ipynb)."
      ]
    },
    {
      "cell_type": "markdown",
      "metadata": {},
      "source": [
        "## Setup\n",
        "\n",
        "You need to be signed up to the OEP to access your username and API Token. To run this Jupyter Notebook you need to create an execution environment with all the following dependencies installed: `oem2orm`, `pandas==1.2.4`, `sqlalchemy==1.3.16`, `requests`, `oep_client`, `oedialect`."
      ]
    },
    {
      "cell_type": "markdown",
      "metadata": {},
      "source": [
        "## Uploading Process\n",
        "\n",
        "### Import Dependencies\n",
        "\n",
        "We will start out by creating a connection to the OEP, reading in our metadata files and creating empty tables from these. For these steps we need to import oem2orm, pandas, os and getpass."
      ]
    },
    {
      "cell_type": "code",
      "execution_count": null,
      "metadata": {},
      "outputs": [],
      "source": [
        "from oem2orm import oep_oedialect_oem2orm as oem2orm\n",
        "import os\n",
        "import pandas as pd\n",
        "import getpass"
      ]
    },
    {
      "cell_type": "markdown",
      "metadata": {},
      "source": [
        "### Setting up the oem2orm logger\n",
        "\n",
        "If you want to see detailed runtime information on oem2orm functions or if errors occur, you can activate the logger with this simple setup function."
      ]
    },
    {
      "cell_type": "code",
      "execution_count": null,
      "metadata": {},
      "outputs": [],
      "source": [
        "oem2orm.setup_logger()"
      ]
    },
    {
      "cell_type": "markdown",
      "metadata": {},
      "source": [
        "### Connection to OEP\n",
        "\n",
        "To connect to the OEP you need your OEP Token and user name. Note: You ca view your token on your OEP profile page after [logging in](https://openenergyplatform.org/user/login/?next=/). The following command will prompt you for your token and store it as an environment variable. When you paste it here, it will only show dots instead of the actual string."
      ]
    },
    {
      "cell_type": "code",
      "execution_count": null,
      "metadata": {},
      "outputs": [],
      "source": [
        "os.environ[\"OEP_API_TOKEN\"] = getpass.getpass('Token:')"
      ]
    },
    {
      "cell_type": "markdown",
      "metadata": {},
      "source": [
        "Provide your OEP-username to oem2orm in order to create a connection to the database. Your token is taken from the environment variable you've created above. Note: Using white space in your name is fine."
      ]
    },
    {
      "cell_type": "code",
      "execution_count": null,
      "metadata": {},
      "outputs": [],
      "source": [
        "db = oem2orm.setup_db_connection()"
      ]
    },
    {
      "cell_type": "markdown",
      "metadata": {},
      "source": [
        "### Creating sql tables from oemetadata\n",
        "\n",
        "The oemetadata format is a standardised json file format and required for all data uploaded to the OEP. It includes the data model and the used data types. This allows us to derive the necessary tables in sqlalchemy from it.\n",
        "\n",
        "In order to create the table(s) we need to tell python where to find our oemetadata file first. To do this we place them in the folder \"metadata\" which is in the current directory (Path of this jupyter notebbok). Provide the path to your own folder if you want to use your own metadata. oem2orm will process all files that are located in the folder.\n"
      ]
    },
    {
      "cell_type": "code",
      "execution_count": null,
      "metadata": {},
      "outputs": [],
      "source": [
        "metadata_folder = oem2orm.select_oem_dir(oem_folder_name=\"metadata\")"
      ]
    },
    {
      "cell_type": "markdown",
      "metadata": {},
      "source": [
        "The next command will set up the table. The collect_tables_function collects all metadata files in a folder and retrives the SQLAlchemy ORM objects and returns them. The Tables are ordered by foreign key. Having a valid metadata strings is necessary for the following steps.\n",
        "\n",
        "\n",
        "<div class=\"alert alert-block alert-info\">\n",
        "INFO: The red output is information printed by the logger. It does not mean that an error has occurred.</div>\n"
      ]
    },
    {
      "cell_type": "code",
      "execution_count": null,
      "metadata": {},
      "outputs": [],
      "source": [
        "tables_orm = oem2orm.collect_tables_from_oem(db, metadata_folder)"
      ]
    },
    {
      "cell_type": "markdown",
      "metadata": {},
      "source": [
        "Now we can use create our table objects in the database."
      ]
    },
    {
      "cell_type": "code",
      "execution_count": null,
      "metadata": {},
      "outputs": [],
      "source": [
        "#create table\n",
        "oem2orm.create_tables(db, tables_orm)"
      ]
    },
    {
      "cell_type": "markdown",
      "metadata": {},
      "source": [
        "The tables should now be public, but empty on the OEP at the location provided in the metadata file. For this example tutorial, the created table is located in [model_draft.upload_tutorial_example_data](https://openenergyplatform.org/dataedit/view/model_draft/upload_tutorial_example_data). If you've just been playing around and don't want to write any data to the OEP, please make sure to delete your tables again. \n",
        "\n",
        "### Deleting your table\n",
        "\n",
        "Running the following commands will delete the tables from the database which you have in your ordered ORM. Take care that you only delete tables you actually want to have removed.\n",
        "\n",
        "<div class=\"alert alert-block alert-danger\">\n",
        "Skip this command, if you want to keep your table!"
      ]
    },
    {
      "cell_type": "code",
      "execution_count": null,
      "metadata": {},
      "outputs": [],
      "source": [
        "# In order to actually delete, you will need to type: yes\n",
        "oem2orm.delete_tables(db, tables_orm)"
      ]
    },
    {
      "cell_type": "markdown",
      "metadata": {},
      "source": [
        "## Writing data into a table\n",
        "\n",
        "In this example we will upload data from a csv file. Pandas has a read_csv function which makes importing a csv-file rather comfortable. It reads csv into a DataFrame. By default, it assumes that the fields are comma-separated. Our example file has columns with semicolons as separators, so we have to specify this when reading the file.\n",
        "\n",
        "The example file for this tutorial ('upload_tutorial_example_data.csv') is in the 'data' directory, next to this tutorial. Make sure to adapt the path to the file you're using if your file is located elsewhere."
      ]
    },
    {
      "cell_type": "code",
      "execution_count": null,
      "metadata": {},
      "outputs": [],
      "source": [
        "# db = oem2orm.setup_db_connection()\n",
        "\n",
        "filepath = \"./data/upload_tutorial_example_data.csv\"\n",
        "example_df = pd.read_csv(filepath, encoding='utf8', sep=';')\n",
        "\n",
        "# show the first 10 row´s\n",
        "example_df[:10]"
      ]
    },
    {
      "cell_type": "markdown",
      "metadata": {},
      "source": [
        "We need to define the location in the OEDB where the data should be written to. The connection information is still available from our steps above. "
      ]
    },
    {
      "cell_type": "code",
      "execution_count": null,
      "metadata": {},
      "outputs": [],
      "source": [
        "# change to the table schema\n",
        "schema = \"sandbox\"\n",
        "# change to the table name\n",
        "table_name = \"upload_tutorial_example_data\"\n",
        "connection = db.engine"
      ]
    },
    {
      "cell_type": "markdown",
      "metadata": {},
      "source": [
        "The following command will write the content of your dataframe to the table on the OEP that was created earlier. <br> The table is uploaded in chunks to ensure a stable connection to the OEP when uploading large tables.<br>\n",
        "Take a look at your table on the OEP after succesfull upload or for debugging in case of an exception!"
      ]
    },
    {
      "cell_type": "code",
      "execution_count": null,
      "metadata": {},
      "outputs": [],
      "source": [
        "# Define chunksize. The chunksize defines the number of uploaded csv-rows per request.\n",
        "chunksize = 6000\n",
        "\n",
        "with pd.read_csv(filepath, encoding='utf8', sep=';', chunksize=chunksize) as reader:\n",
        "    for chunk in reader:\n",
        "        print(f'Uploading chunk from table: {table_name}.')\n",
        "        try: \n",
        "            chunk.to_sql(table_name, connection, schema=schema, if_exists='append', index=False)\n",
        "            print(f'Appended {len(chunk)} rows to table on OEP')\n",
        "        except Exception as e:\n",
        "            print(f'Writing to {schema}.{table_name} failed!')\n",
        "            print('Delete and recreate with the commands above, if you want to repeat your upload again.')\n",
        "            print('The program throws the following exception:')\n",
        "            print(e)\n",
        "        finally:\n",
        "            print(f'Take a look at your table on the OEP: https://openenergyplatform.org/dataedit/view/{schema}/{table_name}')"
      ]
    },
    {
      "cell_type": "markdown",
      "metadata": {},
      "source": [
        "## Writing metadata to the table"
      ]
    },
    {
      "cell_type": "markdown",
      "metadata": {},
      "source": [
        "Now that we have data in our table it's high time, that we attach our metadata to it. Since we're using the api, some direct http-requests and a little helper function from the oep-client, we need to import these new dependencies. "
      ]
    },
    {
      "cell_type": "code",
      "execution_count": null,
      "metadata": {},
      "outputs": [],
      "source": [
        "import json\n",
        "import requests"
      ]
    },
    {
      "cell_type": "markdown",
      "metadata": {},
      "source": [
        "We use the metadata folder we set up before. (See the Creating tables section)\n",
        "If you wan´t to set another folder use the code below:"
      ]
    },
    {
      "cell_type": "code",
      "execution_count": null,
      "metadata": {},
      "outputs": [],
      "source": [
        "# oem_path = oem2orm.select_oem_dir(oem_folder_name=\"metadata\")\n",
        "md_file_name = \"example_metadata\""
      ]
    },
    {
      "cell_type": "markdown",
      "metadata": {},
      "source": [
        "First we're reading the metadata file into a json dictionary."
      ]
    },
    {
      "cell_type": "code",
      "execution_count": null,
      "metadata": {},
      "outputs": [],
      "source": [
        "metadata = oem2orm.mdToDict(oem_folder_path=metadata_folder, file_name=md_file_name)"
      ]
    },
    {
      "cell_type": "markdown",
      "metadata": {},
      "source": [
        "Then we need to validate the metadata."
      ]
    },
    {
      "cell_type": "code",
      "execution_count": null,
      "metadata": {},
      "outputs": [],
      "source": [
        "oem2orm.omi_validateMd(metadata)"
      ]
    },
    {
      "cell_type": "markdown",
      "metadata": {},
      "source": [
        "Now we can upload the metadata."
      ]
    },
    {
      "cell_type": "code",
      "execution_count": null,
      "metadata": {},
      "outputs": [],
      "source": [
        "oem2orm.api_updateMdOnTable(metadata)"
      ]
    },
    {
      "cell_type": "markdown",
      "metadata": {},
      "source": [
        "If you still have the page on the OEP with your data open, refresh it. It should now show you the metadata on its side."
      ]
    }
  ],
  "metadata": {
    "kernelspec": {
      "display_name": "Python oem2orm upload",
      "language": "python",
      "name": "upload_env"
    },
    "language_info": {
      "codemirror_mode": {
        "name": "ipython",
        "version": 3
      },
      "file_extension": ".py",
      "mimetype": "text/x-python",
      "name": "python",
      "nbconvert_exporter": "python",
      "pygments_lexer": "ipython3",
      "version": "3.9.9"
    }
  },
  "nbformat": 4,
  "nbformat_minor": 2
}
