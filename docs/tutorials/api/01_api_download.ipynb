{
 "cells": [
  {
   "attachments": {},
   "cell_type": "markdown",
   "metadata": {},
   "source": [
    "# Learnings\n",
    "\n",
    "* Download data using the API\n",
    "* Download filtered data using the API\n",
    "* Download metadata using the API\n",
    "\n",
    "# Requirements\n",
    "\n",
    "* Python packages:\n",
    "    * `requests`\n",
    "    * jupyter notebook, e.g. `notebook` or `jupyterlab`\n",
    "* Skills:\n",
    "    * use python with jupyter notebooks"
   ]
  },
  {
   "cell_type": "code",
   "execution_count": null,
   "metadata": {},
   "outputs": [],
   "source": [
    "# install required packages with: pip install requests\n",
    "# import required packages\n",
    "import json\n",
    "\n",
    "import requests as req"
   ]
  },
  {
   "cell_type": "code",
   "execution_count": null,
   "metadata": {},
   "outputs": [],
   "source": [
    "# TODO: explain schema/topic/sandbox\n",
    "# TODO: explain randint\n",
    "\n",
    "topic = 'model_draft'\n",
    "table = f'caro_test' # TODO\n",
    "table_api_url = f\"https://openenergy-platform.org/api/v0/schema/{topic}/tables/{table}/\""
   ]
  },
  {
   "attachments": {},
   "cell_type": "markdown",
   "metadata": {},
   "source": [
    "# Download data using the API"
   ]
  },
  {
   "cell_type": "code",
   "execution_count": null,
   "metadata": {},
   "outputs": [],
   "source": [
    "res = req.get(table_api_url + \"rows/\")\n",
    "data = res.json()\n",
    "\n",
    "print(json.dumps(data, indent=4))"
   ]
  },
  {
   "attachments": {},
   "cell_type": "markdown",
   "metadata": {},
   "source": [
    "# Download filtered data using the API"
   ]
  },
  {
   "cell_type": "code",
   "execution_count": null,
   "metadata": {},
   "outputs": [],
   "source": [
    "# Add (multiple) where filters to the url\n",
    "res = req.get(table_api_url + \"rows/?where=id<10\")\n",
    "data = res.json()\n",
    "\n",
    "print(json.dumps(data, indent=4))"
   ]
  },
  {
   "attachments": {},
   "cell_type": "markdown",
   "metadata": {},
   "source": [
    "# Download metadata using the API"
   ]
  },
  {
   "cell_type": "code",
   "execution_count": null,
   "metadata": {},
   "outputs": [],
   "source": [
    "res = req.get(table_api_url + \"meta/\")\n",
    "metadata = res.json()\n",
    "\n",
    "print(json.dumps(metadata, indent=4))"
   ]
  }
 ],
 "metadata": {
  "kernelspec": {
   "display_name": "Python 3",
   "language": "python",
   "name": "python3"
  },
  "language_info": {
   "codemirror_mode": {
    "name": "ipython",
    "version": 3
   },
   "file_extension": ".py",
   "mimetype": "text/x-python",
   "name": "python",
   "nbconvert_exporter": "python",
   "pygments_lexer": "ipython3",
   "version": "3.10.0"
  },
  "orig_nbformat": 4
 },
 "nbformat": 4,
 "nbformat_minor": 2
}
