{
 "cells": [
  {
   "attachments": {},
   "cell_type": "markdown",
   "metadata": {},
   "source": [
    "<img src=\"https://raw.githubusercontent.com/OpenEnergyPlatform/academy/develop/docs/data/img/OEP_logo_2_no_text.svg\" alt=\"OpenEnergy Platform\" height=\"75\" width=\"75\" align=\"left\"/>\n",
    "\n",
    "# API Tutorial 02 - Upload data using the API"
   ]
  },
  {
   "attachments": {},
   "cell_type": "markdown",
   "metadata": {},
   "source": [
    "## Learnings\n",
    "\n",
    "* [Create table using the API](#create-table-using-the-api)\n",
    "* [Upload data using the API](#upload-data-using-the-api)\n",
    "* [Upload metadata using the API](#upload-metadata-using-the-api)\n",
    "* [Delete table using the API](#delete-table-using-the-api)\n",
    "\n",
    "## Requirements\n",
    "\n",
    "* Python packages:\n",
    "    * `requests`\n",
    "    * `pandas`\n",
    "    * jupyter notebook, e.g. `notebook` or `jupyterlab`\n",
    "* Get your OEP API token from the settings tab in your profile page    \n",
    "* Skills:\n",
    "    * use python with jupyter notebooks\n"
   ]
  },
  {
   "attachments": {},
   "cell_type": "markdown",
   "metadata": {},
   "source": [
    "## Import packages & define table names and user authentification"
   ]
  },
  {
   "cell_type": "code",
   "execution_count": 10,
   "metadata": {},
   "outputs": [],
   "source": [
    "# install required packages with: pip install requests pandas\n",
    "# import required packages\n",
    "import json\n",
    "import requests as req\n",
    "import pandas as pd\n",
    "from random import randint\n",
    "from getpass import getpass\n",
    "from os import environ\n",
    "\n",
    "topic = 'sandbox'\n",
    "table = f'test_table_{randint(0, 100000)}'\n",
    "token = environ.get(\"OEP_API_TOKEN\") or getpass.getpass('Enter your OEP API token:')\n",
    "\n",
    "# for read/write, we need to add authorization header\n",
    "auth_headers = {'Authorization': 'Token %s' % token}\n",
    "table_api_url = f\"https://openenergy-platform.org/api/v0/schema/{topic}/tables/{table}/\""
   ]
  },
  {
   "attachments": {},
   "cell_type": "markdown",
   "metadata": {},
   "source": [
    "## Create table using the API"
   ]
  },
  {
   "cell_type": "code",
   "execution_count": 12,
   "metadata": {},
   "outputs": [],
   "source": [
    "# TODO: explain / link to data types\n",
    "table_schema = {\n",
    "    \"columns\": [\n",
    "        # NOTE: first column should be numerical column named `id` .\n",
    "        # Use `bigserial` if you want the database to create the re\n",
    "        {\"name\": \"id\", \"data_type\": \"bigserial\", \"primary_key\": True},\n",
    "        {\"name\": \"name\", \"data_type\": \"varchar(18)\", \"is_nullable\": False},\n",
    "        {\"name\": \"is_active\", \"data_type\": \"boolean\"},\n",
    "        {\"name\": \"capacity_mw\", \"data_type\": \"float\"},\n",
    "        {\"name\": \"installation_datetime_utc\", \"data_type\": \"datetime\"},        \n",
    "        {\"name\": \"location\", \"data_type\": \"geometry\"},\n",
    "    ]\n",
    "}"
   ]
  },
  {
   "cell_type": "code",
   "execution_count": 13,
   "metadata": {},
   "outputs": [],
   "source": [
    "# Creating table needs authentication headers\n",
    "# Creating table needs table schema json data\n",
    "res = req.put(table_api_url, json={\"query\": table_schema}, headers=auth_headers)\n",
    "\n",
    "# raise Exception if request fails\n",
    "if not res.ok:\n",
    "    raise Exception(res.text)"
   ]
  },
  {
   "attachments": {},
   "cell_type": "markdown",
   "metadata": {},
   "source": [
    "## Upload data using the API"
   ]
  },
  {
   "cell_type": "code",
   "execution_count": 14,
   "metadata": {},
   "outputs": [
    {
     "name": "stdout",
     "output_type": "stream",
     "text": [
      "[\n",
      "    {\n",
      "        \"name\": \"unit1\",\n",
      "        \"is_active\": true,\n",
      "        \"capacity_mw\": 1.2,\n",
      "        \"installation_datetime_utc\": \"2010-02-03 00:00:00\",\n",
      "        \"location\": \"POINT(53.12 8.345)\"\n",
      "    },\n",
      "    {\n",
      "        \"name\": \"unit2\",\n",
      "        \"is_active\": false,\n",
      "        \"capacity_mw\": 2.1,\n",
      "        \"installation_datetime_utc\": \"2010-01-08\",\n",
      "        \"location\": null\n",
      "    }\n",
      "]\n"
     ]
    }
   ],
   "source": [
    "# TODO: explain required data structure\n",
    "\n",
    "# get example data (from csv)\n",
    "df = pd.read_csv(\"https://gist.githubusercontent.com/wingechr/4b6a6301a37a2131c10b2eb412b288e9/raw/782c94009fe12486ffc7a232fd852fcda2e835bc/oep_example1.data.csv\")\n",
    "\n",
    "# optionally: clean up nan values\n",
    "df = df.astype(object).where(pd.notnull(df), None)\n",
    "data = df.to_dict(orient=\"records\")\n",
    "\n",
    "print(json.dumps(data, indent=4))"
   ]
  },
  {
   "cell_type": "code",
   "execution_count": 15,
   "metadata": {},
   "outputs": [],
   "source": [
    "# Upload data needs authentication headers\n",
    "# Upload data needs data records in json query\n",
    "res = req.post(table_api_url + \"rows/new\", json={\"query\": data}, headers=auth_headers)\n",
    "\n",
    "# raise Exception if request fails\n",
    "if not res.ok:\n",
    "    raise Exception(res.text)\n",
    "\n",
    "# TODO: maybe batches, append, not overwrite existing"
   ]
  },
  {
   "attachments": {},
   "cell_type": "markdown",
   "metadata": {},
   "source": [
    "## Upload metadata using the API"
   ]
  },
  {
   "cell_type": "code",
   "execution_count": 16,
   "metadata": {},
   "outputs": [
    {
     "name": "stdout",
     "output_type": "stream",
     "text": [
      "{\n",
      "    \"id\": \"test_table_74864\",\n",
      "    \"keywords\": [\n",
      "        \"energy\",\n",
      "        \"installations\",\n",
      "        \"geo\"\n",
      "    ],\n",
      "    \"languages\": [\n",
      "        \"EN\"\n",
      "    ],\n",
      "    \"resources\": [\n",
      "        {\n",
      "            \"name\": \"test_table_74864\",\n",
      "            \"schema\": {\n",
      "                \"fields\": [\n",
      "                    {\n",
      "                        \"name\": \"id\",\n",
      "                        \"type\": \"integer\",\n",
      "                        \"description\": \"numerical id of this data point\"\n",
      "                    },\n",
      "                    {\n",
      "                        \"name\": \"name\",\n",
      "                        \"type\": \"string\",\n",
      "                        \"description\": \"name of installation\"\n",
      "                    },\n",
      "                    {\n",
      "                        \"name\": \"is_active\",\n",
      "                        \"type\": \"boolean\",\n",
      "                        \"description\": \"true/false if installation is active\"\n",
      "                    },\n",
      "                    {\n",
      "                        \"name\": \"capacity_mw\",\n",
      "                        \"type\": \"number\",\n",
      "                        \"description\": \"installed capacity in MW\"\n",
      "                    },\n",
      "                    {\n",
      "                        \"name\": \"installation_datetime_utc\",\n",
      "                        \"type\": \"string\",\n",
      "                        \"description\": \"date (and time) when installation was build\"\n",
      "                    },\n",
      "                    {\n",
      "                        \"name\": \"location\",\n",
      "                        \"type\": \" geojson\",\n",
      "                        \"description\": \"point location of installation\"\n",
      "                    }\n",
      "                ]\n",
      "            }\n",
      "        }\n",
      "    ]\n",
      "}\n"
     ]
    }
   ],
   "source": [
    "# get metadata (from example file)\n",
    "metadata = req.get(\"https://gist.githubusercontent.com/wingechr/228d76ea759e92feca53910794cba477/raw/ac95def814f385b85e8372194723e5fb81672796/oep_example1.metadata.json\").json()\n",
    "\n",
    "print(json.dumps(metadata, indent=4))"
   ]
  },
  {
   "cell_type": "code",
   "execution_count": 17,
   "metadata": {},
   "outputs": [],
   "source": [
    "# Upload metadata needs authentication headers\n",
    "# Upload metadata needs metadata json\n",
    "res = req.post(table_api_url + \"meta/\", json=metadata, headers=auth_headers)\n",
    "\n",
    "# raise Exception if request fails\n",
    "if not res.ok:\n",
    "    raise Exception(res.text)"
   ]
  },
  {
   "attachments": {},
   "cell_type": "markdown",
   "metadata": {},
   "source": [
    "## Delete table using the API"
   ]
  },
  {
   "cell_type": "code",
   "execution_count": 18,
   "metadata": {},
   "outputs": [],
   "source": [
    "# Deleting tables needs authentication headers\n",
    "res = req.delete(table_api_url, headers=auth_headers)\n",
    "\n",
    "# raise Exception if request fails\n",
    "if not res.ok:\n",
    "    raise Exception(res.text)"
   ]
  }
 ],
 "metadata": {
  "kernelspec": {
   "display_name": "Python 3",
   "language": "python",
   "name": "python3"
  },
  "language_info": {
   "codemirror_mode": {
    "name": "ipython",
    "version": 3
   },
   "file_extension": ".py",
   "mimetype": "text/x-python",
   "name": "python",
   "nbconvert_exporter": "python",
   "pygments_lexer": "ipython3",
   "version": "3.10.0"
  },
  "orig_nbformat": 4
 },
 "nbformat": 4,
 "nbformat_minor": 2
}
