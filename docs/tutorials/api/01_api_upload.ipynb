{
 "cells": [
  {
   "attachments": {},
   "cell_type": "markdown",
   "metadata": {},
   "source": [
    "<img src=\"https://raw.githubusercontent.com/OpenEnergyPlatform/academy/develop/docs/data/img/OEP_logo_2_no_text.svg\" alt=\"OpenEnergy Platform\" height=\"75\" width=\"75\" align=\"left\"/>\n",
    "\n",
    "# API Tutorial 02 - Upload data using the API"
   ]
  },
  {
   "attachments": {},
   "cell_type": "markdown",
   "metadata": {},
   "source": [
    "## Learnings\n",
    "This tutorials will enable you to:\n",
    "\n",
    "* [Create a table on the OEP using the API](#create-table-using-the-api)\n",
    "* [Upload data to that table using the API](#upload-data-using-the-api)\n",
    "* [Upload metadata accompanying the data using the API](#upload-metadata-using-the-api)\n",
    "* [Delete the table using the API](#delete-table-using-the-api)\n",
    "\n",
    "## Requirements\n",
    "To execute the following code you will need to have the following installed:\n",
    "* Python\n",
    "\n",
    "* Python packages:\n",
    "    * `requests`\n",
    "    * `pandas`\n",
    "    * jupyter notebook, e.g. `notebook` or `jupyterlab`\n",
    "* Get your OEP API token from the settings tab in your profile page    \n",
    "* Skills:\n",
    "    * use python with jupyter notebooks\n"
   ]
  },
  {
   "attachments": {},
   "cell_type": "markdown",
   "metadata": {},
   "source": [
    "## Setup"
   ]
  },
  {
   "cell_type": "code",
   "execution_count": 1,
   "metadata": {},
   "outputs": [],
   "source": [
    "# install required packages with: pip install requests pandas\n",
    "# import required packages\n",
    "import json\n",
    "import requests as req\n",
    "import pandas as pd\n",
    "from random import randint\n",
    "from getpass import getpass\n",
    "from os import environ\n",
    "\n",
    "topic = 'sandbox'\n",
    "table = f'test_table_{randint(0, 100000)}'\n",
    "token = environ.get(\"OEP_API_TOKEN\") or getpass('Enter your OEP API token:')\n",
    "\n",
    "# for read/write, we need to add authorization header\n",
    "auth_headers = {'Authorization': 'Token %s' % token}\n",
    "table_api_url = f\"https://openenergy-platform.org/api/v0/schema/{topic}/tables/{table}/\""
   ]
  },
  {
   "attachments": {},
   "cell_type": "markdown",
   "metadata": {},
   "source": [
    "## Create table using the API\n",
    "\n",
    "requires execution of [setup](#setup)"
   ]
  },
  {
   "cell_type": "code",
   "execution_count": 2,
   "metadata": {},
   "outputs": [],
   "source": [
    "# TODO: explain / link to data types\n",
    "table_schema = {\n",
    "    \"columns\": [\n",
    "        # NOTE: first column should be numerical column named `id` .\n",
    "        # Use `bigserial` if you want the database to create the re\n",
    "        {\"name\": \"id\", \"data_type\": \"bigserial\", \"primary_key\": True},\n",
    "        {\"name\": \"name\", \"data_type\": \"varchar(18)\", \"is_nullable\": False},\n",
    "        {\"name\": \"is_active\", \"data_type\": \"boolean\"},\n",
    "        {\"name\": \"capacity_mw\", \"data_type\": \"float\"},\n",
    "        {\"name\": \"installation_datetime_utc\", \"data_type\": \"datetime\"},        \n",
    "        {\"name\": \"location\", \"data_type\": \"geometry\"},\n",
    "    ]\n",
    "}"
   ]
  },
  {
   "cell_type": "code",
   "execution_count": 3,
   "metadata": {},
   "outputs": [],
   "source": [
    "# Creating table needs authentication headers\n",
    "# Creating table needs table schema json data\n",
    "res = req.put(table_api_url, json={\"query\": table_schema}, headers=auth_headers)\n",
    "\n",
    "# raise Exception if request fails\n",
    "if not res.ok:\n",
    "    raise Exception(res.text)"
   ]
  },
  {
   "attachments": {},
   "cell_type": "markdown",
   "metadata": {},
   "source": [
    "## Upload data using the API\n",
    "\n",
    "requires execution of [setup](#setup) and already created table"
   ]
  },
  {
   "cell_type": "code",
   "execution_count": 4,
   "metadata": {},
   "outputs": [
    {
     "name": "stdout",
     "output_type": "stream",
     "text": [
      "[\n",
      "    {\n",
      "        \"name\": \"unit1\",\n",
      "        \"is_active\": true,\n",
      "        \"capacity_mw\": 1.2,\n",
      "        \"installation_datetime_utc\": \"2010-02-03 00:00:00\",\n",
      "        \"location\": \"POINT(53.12 8.345)\"\n",
      "    },\n",
      "    {\n",
      "        \"name\": \"unit2\",\n",
      "        \"is_active\": false,\n",
      "        \"capacity_mw\": 2.1,\n",
      "        \"installation_datetime_utc\": \"2010-01-08\",\n",
      "        \"location\": null\n",
      "    },\n",
      "    {\n",
      "        \"name\": \"unit3\",\n",
      "        \"is_active\": true,\n",
      "        \"capacity_mw\": 100.0,\n",
      "        \"installation_datetime_utc\": \"2010-01-02 10:30:00\",\n",
      "        \"location\": \"Point(55.34 7.34)\"\n",
      "    }\n",
      "]\n"
     ]
    }
   ],
   "source": [
    "# TODO: explain required data structure\n",
    "\n",
    "# get example data (from csv)\n",
    "df = pd.read_csv(\"https://raw.githubusercontent.com/OpenEnergyPlatform/academy/production/docs/data/upload_tutorial_example_data.csv\")\n",
    "\n",
    "# optionally: clean up nan values\n",
    "df = df.astype(object).where(pd.notnull(df), None)\n",
    "data = df.to_dict(orient=\"records\")\n",
    "\n",
    "# show results in notebook\n",
    "print(json.dumps(data, indent=4))"
   ]
  },
  {
   "cell_type": "code",
   "execution_count": 5,
   "metadata": {},
   "outputs": [],
   "source": [
    "# Upload data needs authentication headers\n",
    "# Upload data needs data records in json query\n",
    "res = req.post(table_api_url + \"rows/new\", json={\"query\": data}, headers=auth_headers)\n",
    "\n",
    "# raise Exception if request fails\n",
    "if not res.ok:\n",
    "    raise Exception(res.text)\n",
    "\n",
    "# TODO: maybe batches, append, not overwrite existing"
   ]
  },
  {
   "attachments": {},
   "cell_type": "markdown",
   "metadata": {},
   "source": [
    "## Upload metadata using the API\n",
    "\n",
    "requires execution of [setup](#setup) and already created table"
   ]
  },
  {
   "cell_type": "code",
   "execution_count": 6,
   "metadata": {},
   "outputs": [
    {
     "ename": "JSONDecodeError",
     "evalue": "Extra data: line 1 column 4 (char 3)",
     "output_type": "error",
     "traceback": [
      "\u001b[1;31m---------------------------------------------------------------------------\u001b[0m",
      "\u001b[1;31mJSONDecodeError\u001b[0m                           Traceback (most recent call last)",
      "\u001b[1;32mc:\\Users\\c.winger\\nobackup\\bin\\python\\lib\\site-packages\\requests\\models.py\u001b[0m in \u001b[0;36mjson\u001b[1;34m(self, **kwargs)\u001b[0m\n\u001b[0;32m    970\u001b[0m         \u001b[1;32mtry\u001b[0m\u001b[1;33m:\u001b[0m\u001b[1;33m\u001b[0m\u001b[1;33m\u001b[0m\u001b[0m\n\u001b[1;32m--> 971\u001b[1;33m             \u001b[1;32mreturn\u001b[0m \u001b[0mcomplexjson\u001b[0m\u001b[1;33m.\u001b[0m\u001b[0mloads\u001b[0m\u001b[1;33m(\u001b[0m\u001b[0mself\u001b[0m\u001b[1;33m.\u001b[0m\u001b[0mtext\u001b[0m\u001b[1;33m,\u001b[0m \u001b[1;33m**\u001b[0m\u001b[0mkwargs\u001b[0m\u001b[1;33m)\u001b[0m\u001b[1;33m\u001b[0m\u001b[1;33m\u001b[0m\u001b[0m\n\u001b[0m\u001b[0;32m    972\u001b[0m         \u001b[1;32mexcept\u001b[0m \u001b[0mJSONDecodeError\u001b[0m \u001b[1;32mas\u001b[0m \u001b[0me\u001b[0m\u001b[1;33m:\u001b[0m\u001b[1;33m\u001b[0m\u001b[1;33m\u001b[0m\u001b[0m\n",
      "\u001b[1;32mc:\\Users\\c.winger\\nobackup\\bin\\python\\lib\\json\\__init__.py\u001b[0m in \u001b[0;36mloads\u001b[1;34m(s, cls, object_hook, parse_float, parse_int, parse_constant, object_pairs_hook, **kw)\u001b[0m\n\u001b[0;32m    345\u001b[0m             parse_constant is None and object_pairs_hook is None and not kw):\n\u001b[1;32m--> 346\u001b[1;33m         \u001b[1;32mreturn\u001b[0m \u001b[0m_default_decoder\u001b[0m\u001b[1;33m.\u001b[0m\u001b[0mdecode\u001b[0m\u001b[1;33m(\u001b[0m\u001b[0ms\u001b[0m\u001b[1;33m)\u001b[0m\u001b[1;33m\u001b[0m\u001b[1;33m\u001b[0m\u001b[0m\n\u001b[0m\u001b[0;32m    347\u001b[0m     \u001b[1;32mif\u001b[0m \u001b[0mcls\u001b[0m \u001b[1;32mis\u001b[0m \u001b[1;32mNone\u001b[0m\u001b[1;33m:\u001b[0m\u001b[1;33m\u001b[0m\u001b[1;33m\u001b[0m\u001b[0m\n",
      "\u001b[1;32mc:\\Users\\c.winger\\nobackup\\bin\\python\\lib\\json\\decoder.py\u001b[0m in \u001b[0;36mdecode\u001b[1;34m(self, s, _w)\u001b[0m\n\u001b[0;32m    339\u001b[0m         \u001b[1;32mif\u001b[0m \u001b[0mend\u001b[0m \u001b[1;33m!=\u001b[0m \u001b[0mlen\u001b[0m\u001b[1;33m(\u001b[0m\u001b[0ms\u001b[0m\u001b[1;33m)\u001b[0m\u001b[1;33m:\u001b[0m\u001b[1;33m\u001b[0m\u001b[1;33m\u001b[0m\u001b[0m\n\u001b[1;32m--> 340\u001b[1;33m             \u001b[1;32mraise\u001b[0m \u001b[0mJSONDecodeError\u001b[0m\u001b[1;33m(\u001b[0m\u001b[1;34m\"Extra data\"\u001b[0m\u001b[1;33m,\u001b[0m \u001b[0ms\u001b[0m\u001b[1;33m,\u001b[0m \u001b[0mend\u001b[0m\u001b[1;33m)\u001b[0m\u001b[1;33m\u001b[0m\u001b[1;33m\u001b[0m\u001b[0m\n\u001b[0m\u001b[0;32m    341\u001b[0m         \u001b[1;32mreturn\u001b[0m \u001b[0mobj\u001b[0m\u001b[1;33m\u001b[0m\u001b[1;33m\u001b[0m\u001b[0m\n",
      "\u001b[1;31mJSONDecodeError\u001b[0m: Extra data: line 1 column 4 (char 3)",
      "\nDuring handling of the above exception, another exception occurred:\n",
      "\u001b[1;31mJSONDecodeError\u001b[0m                           Traceback (most recent call last)",
      "\u001b[1;32mC:\\Users\\C4495~1.WIN\\nobackup\\tmp/ipykernel_12800/3890873945.py\u001b[0m in \u001b[0;36m<cell line: 2>\u001b[1;34m()\u001b[0m\n\u001b[0;32m      1\u001b[0m \u001b[1;31m# get metadata (from example file)\u001b[0m\u001b[1;33m\u001b[0m\u001b[1;33m\u001b[0m\u001b[0m\n\u001b[1;32m----> 2\u001b[1;33m \u001b[0mmetadata\u001b[0m \u001b[1;33m=\u001b[0m \u001b[0mreq\u001b[0m\u001b[1;33m.\u001b[0m\u001b[0mget\u001b[0m\u001b[1;33m(\u001b[0m\u001b[1;34m\"https://raw.githubusercontent.com/OpenEnergyPlatform/academy/production/docs/data/upload_tutorial_example_data.metadata.json\"\u001b[0m\u001b[1;33m)\u001b[0m\u001b[1;33m.\u001b[0m\u001b[0mjson\u001b[0m\u001b[1;33m(\u001b[0m\u001b[1;33m)\u001b[0m\u001b[1;33m\u001b[0m\u001b[1;33m\u001b[0m\u001b[0m\n\u001b[0m\u001b[0;32m      3\u001b[0m \u001b[1;33m\u001b[0m\u001b[0m\n\u001b[0;32m      4\u001b[0m \u001b[1;31m# show results in notebook\u001b[0m\u001b[1;33m\u001b[0m\u001b[1;33m\u001b[0m\u001b[0m\n\u001b[0;32m      5\u001b[0m \u001b[0mprint\u001b[0m\u001b[1;33m(\u001b[0m\u001b[0mjson\u001b[0m\u001b[1;33m.\u001b[0m\u001b[0mdumps\u001b[0m\u001b[1;33m(\u001b[0m\u001b[0mmetadata\u001b[0m\u001b[1;33m,\u001b[0m \u001b[0mindent\u001b[0m\u001b[1;33m=\u001b[0m\u001b[1;36m4\u001b[0m\u001b[1;33m)\u001b[0m\u001b[1;33m)\u001b[0m\u001b[1;33m\u001b[0m\u001b[1;33m\u001b[0m\u001b[0m\n",
      "\u001b[1;32mc:\\Users\\c.winger\\nobackup\\bin\\python\\lib\\site-packages\\requests\\models.py\u001b[0m in \u001b[0;36mjson\u001b[1;34m(self, **kwargs)\u001b[0m\n\u001b[0;32m    973\u001b[0m             \u001b[1;31m# Catch JSON-related errors and raise as requests.JSONDecodeError\u001b[0m\u001b[1;33m\u001b[0m\u001b[1;33m\u001b[0m\u001b[0m\n\u001b[0;32m    974\u001b[0m             \u001b[1;31m# This aliases json.JSONDecodeError and simplejson.JSONDecodeError\u001b[0m\u001b[1;33m\u001b[0m\u001b[1;33m\u001b[0m\u001b[0m\n\u001b[1;32m--> 975\u001b[1;33m             \u001b[1;32mraise\u001b[0m \u001b[0mRequestsJSONDecodeError\u001b[0m\u001b[1;33m(\u001b[0m\u001b[0me\u001b[0m\u001b[1;33m.\u001b[0m\u001b[0mmsg\u001b[0m\u001b[1;33m,\u001b[0m \u001b[0me\u001b[0m\u001b[1;33m.\u001b[0m\u001b[0mdoc\u001b[0m\u001b[1;33m,\u001b[0m \u001b[0me\u001b[0m\u001b[1;33m.\u001b[0m\u001b[0mpos\u001b[0m\u001b[1;33m)\u001b[0m\u001b[1;33m\u001b[0m\u001b[1;33m\u001b[0m\u001b[0m\n\u001b[0m\u001b[0;32m    976\u001b[0m \u001b[1;33m\u001b[0m\u001b[0m\n\u001b[0;32m    977\u001b[0m     \u001b[1;33m@\u001b[0m\u001b[0mproperty\u001b[0m\u001b[1;33m\u001b[0m\u001b[1;33m\u001b[0m\u001b[0m\n",
      "\u001b[1;31mJSONDecodeError\u001b[0m: Extra data: line 1 column 4 (char 3)"
     ]
    }
   ],
   "source": [
    "# get metadata (from example file)\n",
    "metadata = req.get(\"https://raw.githubusercontent.com/OpenEnergyPlatform/academy/production/docs/data/upload_tutorial_example_data.metadata.json\").json()\n",
    "\n",
    "# show results in notebook\n",
    "print(json.dumps(metadata, indent=4))"
   ]
  },
  {
   "cell_type": "code",
   "execution_count": null,
   "metadata": {},
   "outputs": [],
   "source": [
    "# Upload metadata needs authentication headers\n",
    "# Upload metadata needs metadata json\n",
    "res = req.post(table_api_url + \"meta/\", json=metadata, headers=auth_headers)\n",
    "\n",
    "# raise Exception if request fails\n",
    "if not res.ok:\n",
    "    raise Exception(res.text)"
   ]
  },
  {
   "attachments": {},
   "cell_type": "markdown",
   "metadata": {},
   "source": [
    "## Delete table using the API\n",
    "\n",
    "requires execution of [setup](#setup) and already created table"
   ]
  },
  {
   "cell_type": "code",
   "execution_count": null,
   "metadata": {},
   "outputs": [],
   "source": [
    "# Deleting tables needs authentication headers\n",
    "res = req.delete(table_api_url, headers=auth_headers)\n",
    "\n",
    "# raise Exception if request fails\n",
    "if not res.ok:\n",
    "    raise Exception(res.text)"
   ]
  }
 ],
 "metadata": {
  "kernelspec": {
   "display_name": "Python 3",
   "language": "python",
   "name": "python3"
  },
  "language_info": {
   "codemirror_mode": {
    "name": "ipython",
    "version": 3
   },
   "file_extension": ".py",
   "mimetype": "text/x-python",
   "name": "python",
   "nbconvert_exporter": "python",
   "pygments_lexer": "ipython3",
   "version": "3.10.0"
  },
  "orig_nbformat": 4
 },
 "nbformat": 4,
 "nbformat_minor": 2
}
