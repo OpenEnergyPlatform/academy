{
 "cells": [
  {
   "attachments": {},
   "cell_type": "markdown",
   "metadata": {},
   "source": [
    "# Learnings\n",
    "\n",
    "* Create table using the API\n",
    "* Upload data using the API\n",
    "* Upload metadata using the API\n",
    "* Delete table using the API\n",
    "\n",
    "# Requirements\n",
    "\n",
    "* Python packages:\n",
    "    * `requests`\n",
    "    * `pandas`\n",
    "    * jupyter notebook, e.g. `notebook` or `jupyterlab`\n",
    "* Get your OEP API token from the settings tab in your profile page    \n",
    "* Skills:\n",
    "    * use python with jupyter notebooks\n"
   ]
  },
  {
   "cell_type": "code",
   "execution_count": null,
   "metadata": {},
   "outputs": [],
   "source": [
    "# install required packages with: pip install requests pandas\n",
    "# import required packages\n",
    "import json\n",
    "\n",
    "import requests as req\n",
    "import pandas as pd"
   ]
  },
  {
   "cell_type": "code",
   "execution_count": null,
   "metadata": {},
   "outputs": [],
   "source": [
    "# TODO: explain schema/topic/sandbox\n",
    "# TODO: explain randint\n",
    "\n",
    "from random import randint\n",
    "from getpass import getpass\n",
    "from os import environ\n",
    "\n",
    "topic = 'sandbox'\n",
    "table = f'test_table_{randint(0, 100000)}'\n",
    "token = environ.get(\"OEP_API_TOKEN\") or getpass.getpass('Enter your OEP API token:')\n",
    "\n",
    "# for read/write, we need to add authorization header\n",
    "auth_headers = {'Authorization': 'Token %s' % token}\n",
    "table_api_url = f\"https://openenergy-platform.org/api/v0/schema/{topic}/tables/{table}/\""
   ]
  },
  {
   "attachments": {},
   "cell_type": "markdown",
   "metadata": {},
   "source": [
    "# Create table using the API"
   ]
  },
  {
   "cell_type": "code",
   "execution_count": null,
   "metadata": {},
   "outputs": [],
   "source": [
    "# TODO: explain / link to data types\n",
    "table_schema = {\n",
    "    \"columns\": [\n",
    "        # NOTE: first column should be numerical column named `id` .\n",
    "        # Use `bigserial` if you want the database to create the re\n",
    "        {\"name\": \"id\", \"data_type\": \"bigserial\", \"primary_key\": True},\n",
    "        {\"name\": \"name\", \"data_type\": \"varchar(18)\", \"is_nullable\": False},\n",
    "        {\"name\": \"is_active\", \"data_type\": \"boolean\"},\n",
    "        {\"name\": \"capacity_mw\", \"data_type\": \"float\"},\n",
    "        {\"name\": \"installation_datetime_utc\", \"data_type\": \"datetime\"},        \n",
    "        {\"name\": \"location\", \"data_type\": \"geometry\"},\n",
    "    ]\n",
    "}"
   ]
  },
  {
   "cell_type": "code",
   "execution_count": null,
   "metadata": {},
   "outputs": [],
   "source": [
    "# Creating table needs authentication headers\n",
    "# Creating table needs table schema json data\n",
    "res = req.put(table_api_url, json={\"query\": table_schema}, headers=auth_headers)\n",
    "\n",
    "# raise Exception if request fails\n",
    "if not res.ok:\n",
    "    raise Exception(res.text)"
   ]
  },
  {
   "attachments": {},
   "cell_type": "markdown",
   "metadata": {},
   "source": [
    "# Upload data using the API"
   ]
  },
  {
   "cell_type": "code",
   "execution_count": null,
   "metadata": {},
   "outputs": [],
   "source": [
    "# TODO: explain required data structure\n",
    "\n",
    "# get example data (from csv)\n",
    "df = pd.read_csv(\"https://gist.githubusercontent.com/wingechr/4b6a6301a37a2131c10b2eb412b288e9/raw/782c94009fe12486ffc7a232fd852fcda2e835bc/oep_example1.data.csv\")\n",
    "\n",
    "# optionally: clean up nan values\n",
    "df = df.astype(object).where(pd.notnull(df), None)\n",
    "data = df.to_dict(orient=\"records\")\n",
    "\n",
    "print(json.dumps(data, indent=4))"
   ]
  },
  {
   "cell_type": "code",
   "execution_count": null,
   "metadata": {},
   "outputs": [],
   "source": [
    "# Upload data needs authentication headers\n",
    "# Upload data needs data records in json query\n",
    "res = req.post(table_api_url + \"rows/new\", json={\"query\": data}, headers=auth_headers)\n",
    "\n",
    "# raise Exception if request fails\n",
    "if not res.ok:\n",
    "    raise Exception(res.text)\n",
    "\n",
    "# TODO: maybe batches, append, not overwrite existing"
   ]
  },
  {
   "attachments": {},
   "cell_type": "markdown",
   "metadata": {},
   "source": [
    "# Upload metadata using the API"
   ]
  },
  {
   "cell_type": "code",
   "execution_count": null,
   "metadata": {},
   "outputs": [],
   "source": [
    "# get metadata (from example file)\n",
    "metadata = req.get(\"https://gist.githubusercontent.com/wingechr/228d76ea759e92feca53910794cba477/raw/ac95def814f385b85e8372194723e5fb81672796/oep_example1.metadata.json\").json()\n",
    "\n",
    "print(json.dumps(metadata, indent=4))"
   ]
  },
  {
   "cell_type": "code",
   "execution_count": null,
   "metadata": {},
   "outputs": [],
   "source": [
    "# Upload metadata needs authentication headers\n",
    "# Upload metadata needs metadata json\n",
    "res = req.post(table_api_url + \"meta/\", json=metadata, headers=auth_headers)\n",
    "\n",
    "# raise Exception if request fails\n",
    "if not res.ok:\n",
    "    raise Exception(res.text)"
   ]
  },
  {
   "attachments": {},
   "cell_type": "markdown",
   "metadata": {},
   "source": [
    "# Delete table using the API"
   ]
  },
  {
   "cell_type": "code",
   "execution_count": null,
   "metadata": {},
   "outputs": [],
   "source": [
    "# Deleting tables needs authentication headers\n",
    "res = req.delete(table_api_url, headers=auth_headers)\n",
    "\n",
    "# raise Exception if request fails\n",
    "if not res.ok:\n",
    "    raise Exception(res.text)"
   ]
  }
 ],
 "metadata": {
  "kernelspec": {
   "display_name": "Python 3",
   "language": "python",
   "name": "python3"
  },
  "language_info": {
   "codemirror_mode": {
    "name": "ipython",
    "version": 3
   },
   "file_extension": ".py",
   "mimetype": "text/x-python",
   "name": "python",
   "nbconvert_exporter": "python",
   "pygments_lexer": "ipython3",
   "version": "3.10.0"
  },
  "orig_nbformat": 4
 },
 "nbformat": 4,
 "nbformat_minor": 2
}
