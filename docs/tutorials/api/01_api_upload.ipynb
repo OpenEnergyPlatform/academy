{
 "cells": [
  {
   "attachments": {},
   "cell_type": "markdown",
   "metadata": {},
   "source": [
    "<img src=\"https://raw.githubusercontent.com/OpenEnergyPlatform/academy/develop/docs/data/img/OEP_logo_2_no_text.svg\" alt=\"OpenEnergy Platform\" height=\"75\" width=\"75\" align=\"left\"/>\n",
    "\n",
    "# API Tutorial 02 - Upload data using the API"
   ]
  },
  {
   "attachments": {},
   "cell_type": "markdown",
   "metadata": {},
   "source": [
    "## Learnings\n",
    "This tutorials will enable you to:\n",
    "\n",
    "* [Create a table on the OEP using the API](#create-table-using-the-api)\n",
    "* [Upload data to that table using the API](#upload-data-using-the-api)\n",
    "* [Upload metadata accompanying the data using the API](#upload-metadata-using-the-api)\n",
    "* [Delete the table and the corresponding metadata using the API](#delete-table-using-the-api)\n",
    "\n",
    "## Requirements\n",
    "\n",
    "To execute the following code you will need to need to be a registered user on the OEP and\n",
    "* have your OEP API token at hand. You find this in settings tab in your profile page  \n",
    "\n",
    "You will also need to have the following installed on your computer:\n",
    "* Python\n",
    "* Python packages:\n",
    "    * `requests`\n",
    "    * jupyter notebook, e.g. `notebook` or `jupyterlab`\n",
    "\n",
    "* Ideally you exhibit the following skills:\n",
    "    * use python with jupyter notebooks\n"
   ]
  },
  {
   "attachments": {},
   "cell_type": "markdown",
   "metadata": {},
   "source": [
    "## Setup\n",
    "This part of the code sets up all you need to execute the further code below. It imports the required packages into python, sets up the test table and asks you for the OEP API token so that you can identify with the OEP, which is mandatory if you want to upload to the OEP. The setup is a necessary step."
   ]
  },
  {
   "cell_type": "code",
   "execution_count": 9,
   "metadata": {},
   "outputs": [
    {
     "name": "stdout",
     "output_type": "stream",
     "text": [
      "https://openenergy-platform.org/api/v0/schema/sandbox/tables/test_table_32106/\n"
     ]
    }
   ],
   "source": [
    "# install required packages with: pip install requests\n",
    "# import required packages\n",
    "import json\n",
    "import requests as req\n",
    "from random import randint\n",
    "from getpass import getpass\n",
    "from os import environ\n",
    "\n",
    "topic = 'sandbox'\n",
    "table = f'test_table_{randint(0, 100000)}'\n",
    "token = environ.get(\"OEP_API_TOKEN\") or getpass('Enter your OEP API token:')\n",
    "\n",
    "# for read/write, we need to add authorization header\n",
    "auth_headers = {'Authorization': 'Token %s' % token}\n",
    "table_api_url = f\"https://openenergy-platform.org/api/v0/schema/{topic}/tables/{table}/\"\n",
    "\n",
    "print(table_api_url)"
   ]
  },
  {
   "attachments": {},
   "cell_type": "markdown",
   "metadata": {},
   "source": [
    "## Create table using the API\n",
    "\n",
    "This part of the code creates the table you will later upload to the OEP.\n",
    "\n",
    "To be able to execute this part you will need to have executed the [setup](#setup)"
   ]
  },
  {
   "cell_type": "code",
   "execution_count": 2,
   "metadata": {},
   "outputs": [],
   "source": [
    "# TODO: explain / link to data types\n",
    "table_schema = {\n",
    "    \"columns\": [\n",
    "        # NOTE: first column should be numerical column named `id` .\n",
    "        # Use `bigserial` if you want the database to create the re\n",
    "        {\"name\": \"id\", \"data_type\": \"bigserial\", \"primary_key\": True},\n",
    "        {\"name\": \"name\", \"data_type\": \"varchar(18)\", \"is_nullable\": False},\n",
    "        {\"name\": \"is_active\", \"data_type\": \"boolean\"},\n",
    "        {\"name\": \"capacity_mw\", \"data_type\": \"float\"},\n",
    "        {\"name\": \"installation_datetime_utc\", \"data_type\": \"datetime\"},        \n",
    "        {\"name\": \"location\", \"data_type\": \"geometry\"},\n",
    "    ]\n",
    "}"
   ]
  },
  {
   "cell_type": "code",
   "execution_count": 3,
   "metadata": {},
   "outputs": [
    {
     "name": "stdout",
     "output_type": "stream",
     "text": [
      "you can see the data on the platform here: https://openenergy-platform.org/dataedit/view/sandbox/test_table_14078\n"
     ]
    }
   ],
   "source": [
    "# Creating table needs authentication headers\n",
    "# Creating table needs table schema json data\n",
    "res = req.put(table_api_url, json={\"query\": table_schema}, headers=auth_headers)\n",
    "\n",
    "# raise Exception if request fails\n",
    "if not res.ok:\n",
    "    raise Exception(res.text)\n",
    "\n",
    "\n",
    "# NOTE: in the sandbox,this link will currentlynot work:\n",
    "print(f\"you can see the data on the platform here: https://openenergy-platform.org/dataedit/view/{topic}/{table}\")"
   ]
  },
  {
   "attachments": {},
   "cell_type": "markdown",
   "metadata": {},
   "source": [
    "## Upload data using the API\n",
    "\n",
    "This part of the code uploads the table that you have created above to the OEP.  \n",
    "\n",
    "To be able to execute this part you will need to have executed the [setup](#setup) and you will need to have [created a table](#create-table-using-the-api)."
   ]
  },
  {
   "cell_type": "code",
   "execution_count": 4,
   "metadata": {},
   "outputs": [
    {
     "name": "stdout",
     "output_type": "stream",
     "text": [
      "[\n",
      "    {\n",
      "        \"name\": \"unit1\",\n",
      "        \"is_active\": true,\n",
      "        \"capacity_mw\": 1.2,\n",
      "        \"installation_datetime_utc\": \"2010-02-03 00:00:00\",\n",
      "        \"location\": \"POINT(53.12 8.345)\"\n",
      "    },\n",
      "    {\n",
      "        \"name\": \"unit2\",\n",
      "        \"is_active\": false,\n",
      "        \"capacity_mw\": 2.1,\n",
      "        \"installation_datetime_utc\": \"2010-01-08\",\n",
      "        \"location\": null\n",
      "    },\n",
      "    {\n",
      "        \"name\": \"unit3\",\n",
      "        \"is_active\": true,\n",
      "        \"capacity_mw\": 100.0,\n",
      "        \"installation_datetime_utc\": \"2010-01-02 10:30:00\",\n",
      "        \"location\": \"Point(55.34 7.34)\"\n",
      "    }\n",
      "]\n"
     ]
    }
   ],
   "source": [
    "# TODO: explain required data structure\n",
    "\n",
    "# get example data\n",
    "data = req.get(\"https://raw.githubusercontent.com/OpenEnergyPlatform/academy/production/docs/data/upload_tutorial_example_data.json\").json()\n",
    "\n",
    "# show results in notebook\n",
    "print(json.dumps(data, indent=4))"
   ]
  },
  {
   "cell_type": "code",
   "execution_count": 5,
   "metadata": {},
   "outputs": [],
   "source": [
    "# Upload data needs authentication headers\n",
    "# Upload data needs data records in json query\n",
    "res = req.post(table_api_url + \"rows/new\", json={\"query\": data}, headers=auth_headers)\n",
    "\n",
    "# raise Exception if request fails\n",
    "if not res.ok:\n",
    "    raise Exception(res.text)\n",
    "\n",
    "# TODO: maybe batches, append, not overwrite existing"
   ]
  },
  {
   "attachments": {},
   "cell_type": "markdown",
   "metadata": {},
   "source": [
    "## Upload metadata using the API\n",
    "\n",
    "This part of the code will upload metadata that described the data in your table to the OEP. \n",
    "\n",
    "To be able to execute this part you will need to have executed the [setup](#setup) and you will need to have [created a table](#create-table-using-the-api)."
   ]
  },
  {
   "cell_type": "code",
   "execution_count": 6,
   "metadata": {},
   "outputs": [
    {
     "name": "stdout",
     "output_type": "stream",
     "text": [
      "{\n",
      "    \"id\": \"test_table_74864\",\n",
      "    \"keywords\": [\n",
      "        \"energy\",\n",
      "        \"installations\",\n",
      "        \"geo\"\n",
      "    ],\n",
      "    \"languages\": [\n",
      "        \"EN\"\n",
      "    ],\n",
      "    \"resources\": [\n",
      "        {\n",
      "            \"name\": \"test_table_74864\",\n",
      "            \"schema\": {\n",
      "                \"fields\": [\n",
      "                    {\n",
      "                        \"name\": \"id\",\n",
      "                        \"type\": \"integer\",\n",
      "                        \"description\": \"numerical id of this data point\"\n",
      "                    },\n",
      "                    {\n",
      "                        \"name\": \"name\",\n",
      "                        \"type\": \"string\",\n",
      "                        \"description\": \"name of installation\"\n",
      "                    },\n",
      "                    {\n",
      "                        \"name\": \"is_active\",\n",
      "                        \"type\": \"boolean\",\n",
      "                        \"description\": \"true/false if installation is active\"\n",
      "                    },\n",
      "                    {\n",
      "                        \"name\": \"capacity_mw\",\n",
      "                        \"type\": \"number\",\n",
      "                        \"description\": \"installed capacity in MW\"\n",
      "                    },\n",
      "                    {\n",
      "                        \"name\": \"installation_datetime_utc\",\n",
      "                        \"type\": \"string\",\n",
      "                        \"description\": \"date (and time) when installation was build\"\n",
      "                    },\n",
      "                    {\n",
      "                        \"name\": \"location\",\n",
      "                        \"type\": \" geojson\",\n",
      "                        \"description\": \"point location of installation\"\n",
      "                    }\n",
      "                ]\n",
      "            }\n",
      "        }\n",
      "    ]\n",
      "}\n"
     ]
    }
   ],
   "source": [
    "# get metadata (from example file)\n",
    "metadata = req.get(\"https://raw.githubusercontent.com/OpenEnergyPlatform/academy/production/docs/data/upload_tutorial_example_data.metadata.json\").json()\n",
    "\n",
    "# show results in notebook\n",
    "print(json.dumps(metadata, indent=4))"
   ]
  },
  {
   "cell_type": "code",
   "execution_count": 7,
   "metadata": {},
   "outputs": [],
   "source": [
    "# Upload metadata needs authentication headers\n",
    "# Upload metadata needs metadata json\n",
    "res = req.post(table_api_url + \"meta/\", json=metadata, headers=auth_headers)\n",
    "\n",
    "# raise Exception if request fails\n",
    "if not res.ok:\n",
    "    raise Exception(res.text)"
   ]
  },
  {
   "attachments": {},
   "cell_type": "markdown",
   "metadata": {},
   "source": [
    "## Delete table using the API\n",
    "This part of the code deletes the table (including the metadata) that you have uploaded to the OEP. \n",
    "\n",
    "To be able to execute this part you will need to have executed the [setup](#setup) and you will need to have [created a table](#create-table-using-the-api)."
   ]
  },
  {
   "cell_type": "code",
   "execution_count": 8,
   "metadata": {},
   "outputs": [],
   "source": [
    "# Deleting tables needs authentication headers\n",
    "res = req.delete(table_api_url, headers=auth_headers)\n",
    "\n",
    "# raise Exception if request fails\n",
    "if not res.ok:\n",
    "    raise Exception(res.text)"
   ]
  }
 ],
 "metadata": {
  "kernelspec": {
   "display_name": "Python 3",
   "language": "python",
   "name": "python3"
  },
  "language_info": {
   "codemirror_mode": {
    "name": "ipython",
    "version": 3
   },
   "file_extension": ".py",
   "mimetype": "text/x-python",
   "name": "python",
   "nbconvert_exporter": "python",
   "pygments_lexer": "ipython3",
   "version": "3.10.0"
  },
  "orig_nbformat": 4
 },
 "nbformat": 4,
 "nbformat_minor": 2
}
