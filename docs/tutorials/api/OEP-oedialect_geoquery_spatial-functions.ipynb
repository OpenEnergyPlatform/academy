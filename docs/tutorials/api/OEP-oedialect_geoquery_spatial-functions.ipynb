{
    "cells": [
        {
            "cell_type": "markdown",
            "metadata": {},
            "source": [
                "<img src=\"http://openenergy-platform.org/static/OEP_logo_2_no_text.svg\" alt=\"OpenEnergy Platform\" height=\"100\" width=\"100\"  align=\"left\"/>\n",
                "\n",
                "The development of tutorials for the Open Energy Family takes place publicly in a dedicated [tutorial repository](https://github.com/OpenEnergyPlatform/tutorial). Please report bugs and suggestions as [new issues](https://github.com/OpenEnergyPlatform/template/issues). If Jupyter Notebooks are new to you and you'd like to get an introduction, have a look at this less than 10 minute [introduction video](https://www.youtube.com/watch?v=q_BzsPxwLOE). Official installation instructions are available on [jupyter's readthedocs page](https://jupyter.readthedocs.io/en/latest/install.html).\n",
                "\n",
                "> **license**: [GNU Affero General Public License Version 3 (AGPL-3.0)](https://github.com/openego/data_processing/blob/master/LICENSE) <br> \n",
                "> **copyright**: Reiner Lemoine Institut <br> \n",
                "> **authors**: jh-RLI\n",
                "\n",
                "# Getting started with postgis spatial functions using python\n"
            ]
        },
        {
            "cell_type": "markdown",
            "metadata": {},
            "source": [
                "## Takeaways\n",
                "\n",
                "* Connect to OEP and query data form sql (postgresql) table using python. \n",
                "* Use python (sqlalchemy and geoalchemy2) to query spatial data and apply spatial functions.\n",
                "* Example use case for spatial functions and data preprocessing.\n",
                "* Plot result using geopandas."
            ]
        },
        {
            "cell_type": "markdown",
            "metadata": {},
            "source": [
                "## Introduction\n",
                "\n",
                "This tutorial introduces to sptail functions in a PostgresSQL database. In gernal spatial functions enable us to apply functions to spatial data. As a result we could find out about helpful information in the data like how many points are insde a polygon or how many shapes are included within a 50m buffer zone around some point. \n",
                "\n",
                "You learn how to use python using mainly two packages: SqlAlchemy - for database connection and interaction, Geoalchemy2 - as extension to use spatial functions. To ease the process of quering a table on the database we will use another python package: saio - will import a table schema from the database as sqlalchemy compatible table object. The data is stored at and retrieved form the https://openenergy-platform.org/  "
            ]
        },
        {
            "cell_type": "markdown",
            "metadata": {},
            "source": [
                "### Setup\n",
                "\n",
                "You need the following things to run through the entire tutorial: \n",
                "* An account at the OEP to access your username and API Token. \n",
                "* An environment with the following dependencies installed: \n",
                "  * `oedialect`\n",
                "  * `saio`\n",
                "  * `sqlalchemy`\n",
                "  * `geoalchemy2`\n",
                "* Example geospatial data\n",
                "  * `link to data`"
            ]
        },
        {
            "cell_type": "code",
            "execution_count": null,
            "metadata": {},
            "outputs": [],
            "source": [
                "# Gerneral imports\n",
                "import getpass\n",
                "import sqlalchemy as sa\n",
                "from sqlalchemy.orm import sessionmaker\n",
                "import oedialect\n",
                "import saio"
            ]
        },
        {
            "cell_type": "markdown",
            "metadata": {},
            "source": [
                "### Recap: How to connect to the OEP using SQLAlchemy and the oedialect\n",
                "\n",
                "If we want to upload data to the OEP we first need to connect to it, using our OEP user name and token. \n",
                "\n",
                "<div class=\"alert alert-block alert-info\">\n",
                "Note: You can view your token on your OEP profile page. Please visit https://openenergy-platform.org/\n",
                "</div>"
            ]
        },
        {
            "cell_type": "code",
            "execution_count": null,
            "metadata": {},
            "outputs": [],
            "source": [
                "# Whitespaces are not a problem for setting up the url!\n",
                "user = input('Enter OEP-username:')\n",
                "token = getpass.getpass('Token:')"
            ]
        },
        {
            "cell_type": "markdown",
            "metadata": {},
            "source": [
                "Create a SQLAlchemy connection using the oedialect and your OEP-credentials."
            ]
        },
        {
            "cell_type": "code",
            "execution_count": null,
            "metadata": {},
            "outputs": [],
            "source": [
                "# Create Engine:\n",
                "OEP_URL = 'openenergy-platform.org'\n",
                "OED_STRING = f'postgresql+oedialect://{user}:{token}@{OEP_URL}'\n",
                "\n",
                "engine = sa.create_engine(OED_STRING)\n",
                "metadata = sa.MetaData(bind=engine)"
            ]
        },
        {
            "cell_type": "markdown",
            "metadata": {},
            "source": [
                "## Import a table model from the database \n",
                "\n",
                "<div class=\"alert alert-block alert-danger\">\n",
                "Currently there is a bug in the oedialect that throws an execption when executing the code below. This will be fixed, you can view the current state by visiting this issue: https://github.com/OpenEnergyPlatform/oedialect/issues/35.  \n",
                "</div>\n",
                "\n",
                "\n",
                "We select a table that contains spatial data, it can also contain other data types. A table containing spatial data often includes a column name like `geom` or `geometry`. The example table geometry cloumn contains data that is stored as well-known-binary (wkb) or well-known-text (wkt) format."
            ]
        },
        {
            "cell_type": "markdown",
            "metadata": {},
            "source": [
                "<div class=\"alert alert-block alert-info\">\n",
                "You can view all available schemas on the oep: https://openenergy-platform.org/dataedit/schemas\n",
                "</div>"
            ]
        },
        {
            "cell_type": "code",
            "execution_count": null,
            "metadata": {},
            "outputs": [],
            "source": [
                "# register the oep-schema that contains the example table on the database\n",
                "# saio.register_schema(\"schema-name\", engine)\n",
                "saio.register_schema(\"climate\", engine)\n",
                "\n",
                "# import the sqlalchemy table model\n",
                "# usage:\n",
                "# from saio.registrated_table import table_name as MyTableName-Class\n",
                "from saio.climate import openfred_locations as locations"
            ]
        },
        {
            "cell_type": "markdown",
            "metadata": {},
            "source": [
                "## Query the table with spatial functions\n",
                "\n",
                "We already setup the table model that is required to query a table with sqlalachemy. This table model is used as a mapping between the table model in python and the table on the database. By that we can use sql query using the `sqlalchemy` magic and also add spatial functions to the query using the `geoalchemy2` extension. The query is then executed on the database.\n",
                "\n",
                "See all available spatial functions in the geoalemy2 documentation:\n",
                "https://geoalchemy-2.readthedocs.io/en/latest/spatial_functions.html\n",
                "\n",
                "### Requrements on input variables for spatial functions\n",
                "The spatial function is applied to the whole geometry column. Basically the input is a different geometry. To get an expected result it is important to note that the input has the same data format and the same georeference system as the data in the table.\n",
                "\n",
                "<div class=\"alert alert-block alert-info\">\n",
                "For the application of the spatial function an input variable is required. Spatial data can be calculated with data from the same table. But often another data source is included. For example, if you want to find all points which are located in a federal state, the geometry for the federal state is needed as input. The oep has the necessary data in another table. ______ . Another possibility is to import a file e.g. in geojson format that stores nuts-regions into python. The problem is that there are two different data formats (geojson vs wkb/wkt. The geojson must therefore be converted into the well kown text format. \n",
                "</div>"
            ]
        },
        {
            "cell_type": "code",
            "execution_count": null,
            "metadata": {},
            "outputs": [],
            "source": [
                "from geoalchemy2.elements import WKTElement\n",
                "clicked_p = WKTElement(f'POINT (51.1642292 10.4541194)', srid=4326)\n",
                "\n",
                "# Find the 5 nearest points from the mouse click in the oedb table\n",
                "# model_draft.openfred_locations, which has an 'id' and a 'point' column.\n",
                "# The point column is the geographical coordinates in a binary format\n",
                "oep_query = Serializer.session.query(locations).order_by(\n",
                "    locations.point.distance_centroid(clicked_p)\n",
                "    ).limit(5)\n",
                "print(oep_query)"
            ]
        },
        {
            "cell_type": "markdown",
            "metadata": {},
            "source": [
                "## Use Cases: Data preprocessing using spatial functions.\n",
                "Since we know how to apply spatial functions to a query we are able to process the spatial data in the table. The following examples show a few spatial functions that can be used in several tasks like data preprocessing. \n",
                "\n",
                "<div class=\"alert alert-block alert-info\">\n",
                "Info: A Posgresql database with an install postgis extension enables the database to use spatial functions.  \n",
                "</div>"
            ]
        },
        {
            "cell_type": "markdown",
            "metadata": {},
            "source": [
                "### 1. Example: \n",
                "Add a point to a geometry"
            ]
        },
        {
            "cell_type": "code",
            "execution_count": null,
            "metadata": {},
            "outputs": [],
            "source": []
        },
        {
            "cell_type": "markdown",
            "metadata": {},
            "source": [
                "### 2. Example: \n",
                "This example shows how to filter all points that are inside of the shape of a geometry like polygon.\n",
                "This use case could be usefull if you want to know how many points are included in a singel region like a Federal State.   "
            ]
        },
        {
            "cell_type": "code",
            "execution_count": null,
            "metadata": {},
            "outputs": [],
            "source": []
        },
        {
            "cell_type": "markdown",
            "metadata": {},
            "source": [
                "### Styling help for tutorial creators\n",
                "\n",
                "Running the following commands will delete the tables from the database which you have in your ordered ORM. Take care that you only delete tables you actually want to have removed.\n",
                "\n",
                "<div class=\"alert alert-block alert-info\">\n",
                "This shows up as a blue block. Suitable styling for tips / notes / infos.\n",
                "</div>\n",
                "\n",
                "<div class=\"alert alert-block alert-warning\">\n",
                "This shows up as a yellow block. Suitable styling for warnings.\n",
                "</div>\n",
                "\n",
                "<div class=\"alert alert-block alert-danger\">\n",
                "This shows up as a red block. Suitable styling for marking danger. Use sparingly e.g. when data loss is a possible risk.\n",
                "</div>\n",
                "\n",
                "<div class=\"alert alert-block alert-success\">\n",
                "This shows up as a green block. Suitable styling for success messages.\n",
                "</div>\n",
                "\n",
                "* item in list\n",
                "  * item in sublist\n",
                "    1. first item in subsublist\n",
                "    1. second item in subsublist\n",
                "  * another item in sublist\n",
                "\n",
                "This is a [link](https://www.ibm.com/support/knowledgecenter/en/SSGNPV_2.0.0/dsx/markd-jupyter.html) and it refers to a markdown cheatsheet for Jupyter notebooks, so you can look up more styling options."
            ]
        },
        {
            "cell_type": "code",
            "execution_count": null,
            "metadata": {},
            "outputs": [],
            "source": []
        }
    ],
    "metadata": {
        "kernelspec": {
            "display_name": "oep-upload",
            "language": "python",
            "name": "oep-upload"
        },
        "language_info": {
            "codemirror_mode": {
                "name": "ipython",
                "version": 3
            },
            "file_extension": ".py",
            "mimetype": "text/x-python",
            "name": "python",
            "nbconvert_exporter": "python",
            "pygments_lexer": "ipython3",
            "version": "3.6.10"
        }
    },
    "nbformat": 4,
    "nbformat_minor": 2
}
