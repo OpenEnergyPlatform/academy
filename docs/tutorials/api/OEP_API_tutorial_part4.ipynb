{
    "cells": [
        {
            "attachments": {},
            "cell_type": "markdown",
            "metadata": {},
            "source": [
                "<img src=\"https://raw.githubusercontent.com/OpenEnergyPlatform/academy/develop/docs/data/img/OEP_logo_2_no_text.svg\" alt=\"OpenEnergy Platform\" height=\"75\" width=\"75\" align=\"left\"/>\n",
                "\n",
                "# API tutorial 4 - Process query result data and save to file\n",
                "\n",
                "Repository: https://github.com/openego/oedialect\n",
                "\n",
                "Please report bugs and improvements here: https://github.com/OpenEnergyPlatform/examples/issues <br>\n",
                "How to get started with Jupyter Notebooks can be found here: https://realpython.com/jupyter-notebook-introduction/ <br>\n",
                "Please ensure you have read the Terms of use here: https://openenergy-platform.org/legal/tou/"
            ]
        },
        {
            "cell_type": "code",
            "execution_count": 1,
            "metadata": {},
            "outputs": [],
            "source": [
                "__copyright__ = \"Zentrum für nachhaltige Energiesysteme Flensburg\"\n",
                "__license__   = \"GNU Affero General Public License Version 3 (AGPL-3.0)\"\n",
                "__url__       = \"https://github.com/openego/data_processing/blob/master/LICENSE\"\n",
                "__author__    = \"wolfbunke\""
            ]
        },
        {
            "cell_type": "markdown",
            "metadata": {},
            "source": [
                "## Introduction\n",
                "\n",
                "<br>\n",
                "<div class=\"alert alert-block alert-danger\">\n",
                "This is an important information!\n",
                "</div>\n",
                "<div class=\"alert alert-block alert-info\">\n",
                "This is an information!\n",
                "</div>\n",
                "<div class=\"alert alert-block alert-success\">\n",
                "This is your task!\n",
                "</div>\n",
                "\n",
                "This tutorial gives you an overview of the [**OpenEnergy Platform**](https://openenergy-platform.org/) and how you can work with the **REST-full-HTTP** API in Python. <br>\n",
                "The full API documentaion can be found on [ReadtheDocs.io](http://oep-data-interface.readthedocs.io/en/latest/api/how_to.html#authenticate \"OpenEnergyPlatform’s documentation\").\n",
                "\n",
                "\n",
                "## Part IV - How to work with the OpenEnergy Platform (OEP)\n",
                "\n",
                "0 Setup token <br>\n",
                "1 Select data <br>\n",
                "2 Make a pandas dataframe <br>\n",
                "3 Make calculations <br>\n",
                "4 Save results as csv and excel files <br>\n"
            ]
        },
        {
            "cell_type": "code",
            "execution_count": 2,
            "metadata": {},
            "outputs": [],
            "source": [
                "# pip install requests pandas xlsxwriter\n",
                "\n",
                "import requests\n",
                "import pandas as pd\n",
                "import xlsxwriter"
            ]
        },
        {
            "attachments": {},
            "cell_type": "markdown",
            "metadata": {},
            "source": [
                "# Part  IV"
            ]
        },
        {
            "cell_type": "markdown",
            "metadata": {},
            "source": [
                "## 1. Select data"
            ]
        },
        {
            "cell_type": "code",
            "execution_count": 3,
            "metadata": {},
            "outputs": [
                {
                    "data": {
                        "text/plain": [
                            "200"
                        ]
                    },
                    "execution_count": 3,
                    "metadata": {},
                    "output_type": "execute_result"
                }
            ],
            "source": [
                "# select powerplant data\n",
                "schema = 'supply'\n",
                "table = 'ego_dp_conv_powerplant'\n",
                "where = 'version=v0.2.10'\n",
                "oep_url = 'https://openenergy-platform.org'\n",
                "conv_powerplants = requests.get(oep_url+'/api/v0/schema/'+schema+'/tables/'+table+'/rows/?where='+where, )\n",
                "conv_powerplants.status_code"
            ]
        },
        {
            "cell_type": "markdown",
            "metadata": {},
            "source": [
                "<div class=\"alert alert-block alert-info\">\n",
                "<b>Response [200]</b> succesfully selected data! <br>\n",
                "<b>Response [404]</b> table doesn't exist!\n",
                "</div>"
            ]
        },
        {
            "cell_type": "markdown",
            "metadata": {},
            "source": [
                "## 2. Make a pandas dataframe"
            ]
        },
        {
            "cell_type": "code",
            "execution_count": 4,
            "metadata": {},
            "outputs": [],
            "source": [
                "df_pp = pd.DataFrame(conv_powerplants.json())"
            ]
        },
        {
            "cell_type": "markdown",
            "metadata": {},
            "source": [
                "## 3. Make calculations\n",
                "\n",
                "<div class=\"alert alert-block alert-success\">\n",
                "Get an overview of your DataFrame:\n",
                "</div>"
            ]
        },
        {
            "cell_type": "code",
            "execution_count": 5,
            "metadata": {},
            "outputs": [
                {
                    "name": "stdout",
                    "output_type": "stream",
                    "text": [
                        "<class 'pandas.core.frame.DataFrame'>\n",
                        "RangeIndex: 879 entries, 0 to 878\n",
                        "Data columns (total 42 columns):\n",
                        " #   Column                 Non-Null Count  Dtype  \n",
                        "---  ------                 --------------  -----  \n",
                        " 0   version                879 non-null    object \n",
                        " 1   id                     879 non-null    int64  \n",
                        " 2   bnetza_id              879 non-null    object \n",
                        " 3   company                876 non-null    object \n",
                        " 4   name                   845 non-null    object \n",
                        " 5   postcode               879 non-null    object \n",
                        " 6   city                   879 non-null    object \n",
                        " 7   street                 476 non-null    object \n",
                        " 8   state                  879 non-null    object \n",
                        " 9   block                  638 non-null    object \n",
                        " 10  commissioned_original  878 non-null    object \n",
                        " 11  commissioned           877 non-null    float64\n",
                        " 12  retrofit               76 non-null     float64\n",
                        " 13  shutdown               54 non-null     float64\n",
                        " 14  status                 879 non-null    object \n",
                        " 15  fuel                   879 non-null    object \n",
                        " 16  technology             879 non-null    object \n",
                        " 17  type                   331 non-null    object \n",
                        " 18  eeg                    879 non-null    object \n",
                        " 19  chp                    856 non-null    object \n",
                        " 20  capacity               879 non-null    float64\n",
                        " 21  capacity_uba           214 non-null    float64\n",
                        " 22  chp_capacity_uba       111 non-null    float64\n",
                        " 23  efficiency_data        135 non-null    float64\n",
                        " 24  efficiency_estimate    685 non-null    float64\n",
                        " 25  network_node           744 non-null    object \n",
                        " 26  voltage                843 non-null    object \n",
                        " 27  network_operator       875 non-null    object \n",
                        " 28  name_uba               331 non-null    object \n",
                        " 29  lat                    879 non-null    float64\n",
                        " 30  lon                    879 non-null    float64\n",
                        " 31  comment                879 non-null    object \n",
                        " 32  geom                   879 non-null    object \n",
                        " 33  voltage_level          879 non-null    int64  \n",
                        " 34  subst_id               879 non-null    int64  \n",
                        " 35  otg_id                 879 non-null    int64  \n",
                        " 36  un_id                  810 non-null    float64\n",
                        " 37  preversion             0 non-null      object \n",
                        " 38  la_id                  0 non-null      object \n",
                        " 39  scenario               879 non-null    object \n",
                        " 40  flag                   0 non-null      object \n",
                        " 41  nuts                   0 non-null      object \n",
                        "dtypes: float64(11), int64(4), object(27)\n",
                        "memory usage: 288.5+ KB\n"
                    ]
                }
            ],
            "source": [
                "df_pp.info()"
            ]
        },
        {
            "cell_type": "markdown",
            "metadata": {},
            "source": [
                "<div class=\"alert alert-block alert-success\">\n",
                "Sum the installed Capacity by fuels and add the unit MW in a new column.\n",
                "</div>"
            ]
        },
        {
            "cell_type": "code",
            "execution_count": 6,
            "metadata": {},
            "outputs": [
                {
                    "data": {
                        "text/html": [
                            "<div>\n",
                            "<style scoped>\n",
                            "    .dataframe tbody tr th:only-of-type {\n",
                            "        vertical-align: middle;\n",
                            "    }\n",
                            "\n",
                            "    .dataframe tbody tr th {\n",
                            "        vertical-align: top;\n",
                            "    }\n",
                            "\n",
                            "    .dataframe thead th {\n",
                            "        text-align: right;\n",
                            "    }\n",
                            "</style>\n",
                            "<table border=\"1\" class=\"dataframe\">\n",
                            "  <thead>\n",
                            "    <tr style=\"text-align: right;\">\n",
                            "      <th></th>\n",
                            "      <th>capacity</th>\n",
                            "      <th>units</th>\n",
                            "    </tr>\n",
                            "    <tr>\n",
                            "      <th>fuel</th>\n",
                            "      <th></th>\n",
                            "      <th></th>\n",
                            "    </tr>\n",
                            "  </thead>\n",
                            "  <tbody>\n",
                            "    <tr>\n",
                            "      <th>biomass</th>\n",
                            "      <td>1195.5200</td>\n",
                            "      <td>MW</td>\n",
                            "    </tr>\n",
                            "    <tr>\n",
                            "      <th>coal</th>\n",
                            "      <td>31468.3000</td>\n",
                            "      <td>MW</td>\n",
                            "    </tr>\n",
                            "    <tr>\n",
                            "      <th>gas</th>\n",
                            "      <td>27275.9925</td>\n",
                            "      <td>MW</td>\n",
                            "    </tr>\n",
                            "    <tr>\n",
                            "      <th>gas_mine</th>\n",
                            "      <td>75.4000</td>\n",
                            "      <td>MW</td>\n",
                            "    </tr>\n",
                            "    <tr>\n",
                            "      <th>lignite</th>\n",
                            "      <td>22931.0000</td>\n",
                            "      <td>MW</td>\n",
                            "    </tr>\n",
                            "    <tr>\n",
                            "      <th>oil</th>\n",
                            "      <td>4466.6000</td>\n",
                            "      <td>MW</td>\n",
                            "    </tr>\n",
                            "    <tr>\n",
                            "      <th>other_non_renewable</th>\n",
                            "      <td>2592.5000</td>\n",
                            "      <td>MW</td>\n",
                            "    </tr>\n",
                            "    <tr>\n",
                            "      <th>pumped_storage</th>\n",
                            "      <td>9275.2000</td>\n",
                            "      <td>MW</td>\n",
                            "    </tr>\n",
                            "    <tr>\n",
                            "      <th>reservoir</th>\n",
                            "      <td>1382.5000</td>\n",
                            "      <td>MW</td>\n",
                            "    </tr>\n",
                            "    <tr>\n",
                            "      <th>run_of_river</th>\n",
                            "      <td>2343.6000</td>\n",
                            "      <td>MW</td>\n",
                            "    </tr>\n",
                            "    <tr>\n",
                            "      <th>uranium</th>\n",
                            "      <td>12068.0000</td>\n",
                            "      <td>MW</td>\n",
                            "    </tr>\n",
                            "    <tr>\n",
                            "      <th>waste</th>\n",
                            "      <td>1662.5000</td>\n",
                            "      <td>MW</td>\n",
                            "    </tr>\n",
                            "  </tbody>\n",
                            "</table>\n",
                            "</div>"
                        ],
                        "text/plain": [
                            "                       capacity units\n",
                            "fuel                                 \n",
                            "biomass               1195.5200    MW\n",
                            "coal                 31468.3000    MW\n",
                            "gas                  27275.9925    MW\n",
                            "gas_mine                75.4000    MW\n",
                            "lignite              22931.0000    MW\n",
                            "oil                   4466.6000    MW\n",
                            "other_non_renewable   2592.5000    MW\n",
                            "pumped_storage        9275.2000    MW\n",
                            "reservoir             1382.5000    MW\n",
                            "run_of_river          2343.6000    MW\n",
                            "uranium              12068.0000    MW\n",
                            "waste                 1662.5000    MW"
                        ]
                    },
                    "execution_count": 6,
                    "metadata": {},
                    "output_type": "execute_result"
                }
            ],
            "source": [
                "results = df_pp[['capacity','fuel']].groupby('fuel').sum()\n",
                "results['units'] = 'MW'\n",
                "results"
            ]
        },
        {
            "cell_type": "markdown",
            "metadata": {},
            "source": [
                "<div class=\"alert alert-block alert-success\">\n",
                "Create a csv file from the data frame with a suitable name and configure the representation of the different data types. \n",
                "</div>"
            ]
        },
        {
            "cell_type": "code",
            "execution_count": 7,
            "metadata": {},
            "outputs": [],
            "source": [
                "# Write DataFrame as csv with desired column seperator and representation of the datatypes\n",
                "results.to_csv(\n",
                "    'output_example_conventional_powerplants_germany.csv',\n",
                "    sep=',',\n",
                "    float_format='%.3f',\n",
                "    decimal='.',\n",
                "    date_format='%Y-%m-%d',\n",
                "    encoding='utf-8'\n",
                ")\n"
            ]
        },
        {
            "cell_type": "markdown",
            "metadata": {},
            "source": [
                "<div class=\"alert alert-block alert-success\">\n",
                "Create a .xlsx file with a suitable name and two sheets. The sheets must contain the data from 1. result and 2. df_pp.\n",
                "</div>"
            ]
        },
        {
            "cell_type": "code",
            "execution_count": 8,
            "metadata": {},
            "outputs": [
                {
                    "ename": "AttributeError",
                    "evalue": "'XlsxWriter' object has no attribute 'save'",
                    "output_type": "error",
                    "traceback": [
                        "\u001b[1;31m---------------------------------------------------------------------------\u001b[0m",
                        "\u001b[1;31mAttributeError\u001b[0m                            Traceback (most recent call last)",
                        "Cell \u001b[1;32mIn[8], line 11\u001b[0m\n\u001b[0;32m      8\u001b[0m df_pp\u001b[39m.\u001b[39mto_excel(writer, index\u001b[39m=\u001b[39m\u001b[39mFalse\u001b[39;00m, sheet_name\u001b[39m=\u001b[39m\u001b[39m'\u001b[39m\u001b[39mConventional Powerplants\u001b[39m\u001b[39m'\u001b[39m)\n\u001b[0;32m     10\u001b[0m \u001b[39m# Close the Pandas Excel writer and output the Excel file.\u001b[39;00m\n\u001b[1;32m---> 11\u001b[0m writer\u001b[39m.\u001b[39;49msave()\n",
                        "\u001b[1;31mAttributeError\u001b[0m: 'XlsxWriter' object has no attribute 'save'"
                    ]
                }
            ],
            "source": [
                "# Write the results as xlsx file\n",
                "writer = pd.ExcelWriter('output_example_onventional_powerplants_germany.xlsx', engine='xlsxwriter')\n",
                "\n",
                "# write results of installed Capacity by fuels\n",
                "results.to_excel(writer, index=False, sheet_name='Installed Capacities by fuel')\n",
                "\n",
                "# write orgininal data in second sheet\n",
                "df_pp.to_excel(writer, index=False, sheet_name='Conventional Powerplants')\n",
                "\n",
                "# Close the Pandas Excel writer and output the Excel file.\n",
                "writer.save()"
            ]
        },
        {
            "cell_type": "markdown",
            "metadata": {},
            "source": [
                "<div class=\"alert alert-block alert-info\">\n",
                "The file can be found in the <b>/api</b> folder.\n",
                "</div>"
            ]
        }
    ],
    "metadata": {
        "kernelspec": {
            "display_name": "Python 3.10.0 ('.env': venv)",
            "language": "python",
            "name": "python3"
        },
        "language_info": {
            "codemirror_mode": {
                "name": "ipython",
                "version": 3
            },
            "file_extension": ".py",
            "mimetype": "text/x-python",
            "name": "python",
            "nbconvert_exporter": "python",
            "pygments_lexer": "ipython3",
            "version": "3.10.0"
        },
        "vscode": {
            "interpreter": {
                "hash": "107173beb3e5096b29955c6f511b636e3644f34d87aaa01385107543be18dbd0"
            }
        }
    },
    "nbformat": 4,
    "nbformat_minor": 1
}
