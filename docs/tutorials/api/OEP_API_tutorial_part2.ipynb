{
    "cells": [
        {
            "attachments": {},
            "cell_type": "markdown",
            "metadata": {},
            "source": [
                "<img src=\"https://raw.githubusercontent.com/OpenEnergyPlatform/academy/develop/docs/data/img/OEP_logo_2_no_text.svg\" alt=\"OpenEnergy Platform\" height=\"75\" width=\"75\" align=\"left\"/>\n",
                "\n",
                "# API tutorial 2 - Advanced OEP-API data queries using query parameters\n",
                "\n",
                "Repository: https://github.com/openego/oedialect\n",
                "\n",
                "Please report bugs and improvements here: https://github.com/OpenEnergyPlatform/examples/issues <br>\n",
                "How to get started with Jupyter Notebooks can be found here: https://realpython.com/jupyter-notebook-introduction/ <br>\n",
                "Please ensure you have read the Terms of use here: https://openenergy-platform.org/legal/tou/"
            ]
        },
        {
            "cell_type": "code",
            "execution_count": 1,
            "metadata": {},
            "outputs": [],
            "source": [
                "__copyright__ = \"Reiner Lemoine Institut, Zentrum für nachhaltige Energiesysteme Flensburg\"\n",
                "__license__   = \"GNU Affero General Public License Version 3 (AGPL-3.0)\"\n",
                "__url__       = \"https://github.com/openego/data_processing/blob/master/LICENSE\"\n",
                "__author__    = \"wolfbunke, Ludee\""
            ]
        },
        {
            "cell_type": "markdown",
            "metadata": {},
            "source": [
                "## Introduction\n",
                "\n",
                "<br>\n",
                "<div class=\"alert alert-block alert-danger\">\n",
                "This is an important information!\n",
                "</div>\n",
                "<div class=\"alert alert-block alert-info\">\n",
                "This is an information!\n",
                "</div>\n",
                "<div class=\"alert alert-block alert-success\">\n",
                "This is your task!\n",
                "</div>\n",
                "\n",
                "This tutorial gives you an overview of the [**OpenEnergy Platform**](https://openenergy-platform.org/) and how you can work with the **REST-full-HTTP** API in Python. <br>\n",
                "The full API documentaion can be found on [ReadtheDocs.io](http://oep-data-interface.readthedocs.io/en/latest/api/how_to.html\\#authenticate).\n",
                "\n",
                "\n",
                "## Part II - How to work with the OpenEnergy Platform (OEP)\n",
                "\n",
                "0 Setup token <br>\n",
                "1 Select data from a table <br>\n",
                "2 Include filters <br>\n",
                "3 More Options"
            ]
        },
        {
            "cell_type": "code",
            "execution_count": 2,
            "metadata": {},
            "outputs": [],
            "source": [
                "# pip install requests pandas\n",
                "\n",
                "import requests\n",
                "import pandas as pd"
            ]
        },
        {
            "cell_type": "markdown",
            "metadata": {},
            "source": [
                "## 1. Select data from a table"
            ]
        },
        {
            "cell_type": "code",
            "execution_count": 3,
            "metadata": {},
            "outputs": [
                {
                    "data": {
                        "text/plain": [
                            "200"
                        ]
                    },
                    "execution_count": 3,
                    "metadata": {},
                    "output_type": "execute_result"
                }
            ],
            "source": [
                "# select data\n",
                "schema = 'sandbox'\n",
                "table = 'example_api_table_test'\n",
                "oep_url = 'https://openenergy-platform.org'\n",
                "get_data = requests.get(oep_url + '/api/v0/schema/' + schema + '/tables/' + table + '/rows/')\n",
                "get_data.status_code"
            ]
        },
        {
            "cell_type": "markdown",
            "metadata": {},
            "source": [
                "<div class=\"alert alert-block alert-info\">\n",
                "<b>Response [201]</b> succesfully selected data! <br>\n",
                "<b>Response [404]</b> table doesn't exist!\n",
                "</div>"
            ]
        },
        {
            "cell_type": "code",
            "execution_count": 4,
            "metadata": {},
            "outputs": [
                {
                    "data": {
                        "text/html": [
                            "<div>\n",
                            "<style scoped>\n",
                            "    .dataframe tbody tr th:only-of-type {\n",
                            "        vertical-align: middle;\n",
                            "    }\n",
                            "\n",
                            "    .dataframe tbody tr th {\n",
                            "        vertical-align: top;\n",
                            "    }\n",
                            "\n",
                            "    .dataframe thead th {\n",
                            "        text-align: right;\n",
                            "    }\n",
                            "</style>\n",
                            "<table border=\"1\" class=\"dataframe\">\n",
                            "  <thead>\n",
                            "    <tr style=\"text-align: right;\">\n",
                            "      <th></th>\n",
                            "      <th>id</th>\n",
                            "      <th>name</th>\n",
                            "      <th>type</th>\n",
                            "      <th>capacity</th>\n",
                            "      <th>lat</th>\n",
                            "      <th>lon</th>\n",
                            "    </tr>\n",
                            "  </thead>\n",
                            "  <tbody>\n",
                            "    <tr>\n",
                            "      <th>0</th>\n",
                            "      <td>1</td>\n",
                            "      <td>Anlage 1</td>\n",
                            "      <td>wind_onshore</td>\n",
                            "      <td>20000</td>\n",
                            "      <td>52.40731</td>\n",
                            "      <td>7.46118</td>\n",
                            "    </tr>\n",
                            "    <tr>\n",
                            "      <th>1</th>\n",
                            "      <td>3</td>\n",
                            "      <td>Anlage 3</td>\n",
                            "      <td>photovoltaic</td>\n",
                            "      <td>5.5</td>\n",
                            "      <td>51.804783</td>\n",
                            "      <td>11.6341573</td>\n",
                            "    </tr>\n",
                            "    <tr>\n",
                            "      <th>2</th>\n",
                            "      <td>11</td>\n",
                            "      <td>Anlage 11</td>\n",
                            "      <td>photovoltaic</td>\n",
                            "      <td>5.5</td>\n",
                            "      <td>51.804783</td>\n",
                            "      <td>10.41573</td>\n",
                            "    </tr>\n",
                            "    <tr>\n",
                            "      <th>3</th>\n",
                            "      <td>2</td>\n",
                            "      <td>Anlage 2</td>\n",
                            "      <td>pv</td>\n",
                            "      <td>2</td>\n",
                            "      <td>51.804783</td>\n",
                            "      <td>11.686346</td>\n",
                            "    </tr>\n",
                            "  </tbody>\n",
                            "</table>\n",
                            "</div>"
                        ],
                        "text/plain": [
                            "   id       name          type capacity        lat         lon\n",
                            "0   1   Anlage 1  wind_onshore    20000   52.40731     7.46118\n",
                            "1   3   Anlage 3  photovoltaic      5.5  51.804783  11.6341573\n",
                            "2  11  Anlage 11  photovoltaic      5.5  51.804783    10.41573\n",
                            "3   2   Anlage 2            pv        2  51.804783   11.686346"
                        ]
                    },
                    "execution_count": 4,
                    "metadata": {},
                    "output_type": "execute_result"
                }
            ],
            "source": [
                "# Convert to dataframe\n",
                "plant_df = pd.DataFrame(get_data.json())\n",
                "plant_df"
            ]
        },
        {
            "cell_type": "markdown",
            "metadata": {},
            "source": [
                "## 2. Include filters\n",
                "<div class=\"alert alert-block alert-info\">\n",
                "A filter option is applied at the end of the result URL like this \".../rows/<b>?</b>where=filter_statement\" and is processed as HTTP/get request by the API.<br>\n",
                "</div>\n",
                "\n",
                "### 2.1 where"
            ]
        },
        {
            "cell_type": "code",
            "execution_count": 5,
            "metadata": {},
            "outputs": [
                {
                    "name": "stdout",
                    "output_type": "stream",
                    "text": [
                        "200\n"
                    ]
                },
                {
                    "data": {
                        "text/html": [
                            "<div>\n",
                            "<style scoped>\n",
                            "    .dataframe tbody tr th:only-of-type {\n",
                            "        vertical-align: middle;\n",
                            "    }\n",
                            "\n",
                            "    .dataframe tbody tr th {\n",
                            "        vertical-align: top;\n",
                            "    }\n",
                            "\n",
                            "    .dataframe thead th {\n",
                            "        text-align: right;\n",
                            "    }\n",
                            "</style>\n",
                            "<table border=\"1\" class=\"dataframe\">\n",
                            "  <thead>\n",
                            "    <tr style=\"text-align: right;\">\n",
                            "      <th></th>\n",
                            "      <th>id</th>\n",
                            "      <th>name</th>\n",
                            "      <th>type</th>\n",
                            "      <th>capacity</th>\n",
                            "      <th>lat</th>\n",
                            "      <th>lon</th>\n",
                            "    </tr>\n",
                            "  </thead>\n",
                            "  <tbody>\n",
                            "    <tr>\n",
                            "      <th>0</th>\n",
                            "      <td>1</td>\n",
                            "      <td>Anlage 1</td>\n",
                            "      <td>wind_onshore</td>\n",
                            "      <td>20000</td>\n",
                            "      <td>52.40731</td>\n",
                            "      <td>7.46118</td>\n",
                            "    </tr>\n",
                            "  </tbody>\n",
                            "</table>\n",
                            "</div>"
                        ],
                        "text/plain": [
                            "   id      name          type capacity       lat      lon\n",
                            "0   1  Anlage 1  wind_onshore    20000  52.40731  7.46118"
                        ]
                    },
                    "execution_count": 5,
                    "metadata": {},
                    "output_type": "execute_result"
                }
            ],
            "source": [
                "# insert 'columnname=value'\n",
                "where = 'type=wind_onshore'\n",
                "\n",
                "result = requests.get(oep_url + '/api/v0/schema/' + schema + '/tables/' + table + '/rows/?where=' + where)\n",
                "print(result.status_code)\n",
                "\n",
                "# Convert to dataframe\n",
                "df = pd.DataFrame(result.json())\n",
                "df"
            ]
        },
        {
            "cell_type": "markdown",
            "metadata": {},
            "source": [
                "<div class=\"alert alert-block alert-info\">\n",
                "<b>Response [201]</b> succesfully selected data! <br>\n",
                "<b>Response [404]</b> table doesn't exist!\n",
                "</div>"
            ]
        },
        {
            "cell_type": "markdown",
            "metadata": {},
            "source": [
                "### 2.2 column"
            ]
        },
        {
            "cell_type": "markdown",
            "metadata": {},
            "source": [
                "<div class=\"alert alert-block alert-info\">\n",
                "Name of a column to include in the results. If not present, all columns are returned.\n",
                "</div>"
            ]
        },
        {
            "cell_type": "code",
            "execution_count": 6,
            "metadata": {},
            "outputs": [
                {
                    "name": "stdout",
                    "output_type": "stream",
                    "text": [
                        "200\n"
                    ]
                },
                {
                    "data": {
                        "text/html": [
                            "<div>\n",
                            "<style scoped>\n",
                            "    .dataframe tbody tr th:only-of-type {\n",
                            "        vertical-align: middle;\n",
                            "    }\n",
                            "\n",
                            "    .dataframe tbody tr th {\n",
                            "        vertical-align: top;\n",
                            "    }\n",
                            "\n",
                            "    .dataframe thead th {\n",
                            "        text-align: right;\n",
                            "    }\n",
                            "</style>\n",
                            "<table border=\"1\" class=\"dataframe\">\n",
                            "  <thead>\n",
                            "    <tr style=\"text-align: right;\">\n",
                            "      <th></th>\n",
                            "      <th>name</th>\n",
                            "      <th>id</th>\n",
                            "      <th>type</th>\n",
                            "    </tr>\n",
                            "  </thead>\n",
                            "  <tbody>\n",
                            "    <tr>\n",
                            "      <th>0</th>\n",
                            "      <td>Anlage 1</td>\n",
                            "      <td>1</td>\n",
                            "      <td>wind_onshore</td>\n",
                            "    </tr>\n",
                            "    <tr>\n",
                            "      <th>1</th>\n",
                            "      <td>Anlage 3</td>\n",
                            "      <td>3</td>\n",
                            "      <td>photovoltaic</td>\n",
                            "    </tr>\n",
                            "    <tr>\n",
                            "      <th>2</th>\n",
                            "      <td>Anlage 11</td>\n",
                            "      <td>11</td>\n",
                            "      <td>photovoltaic</td>\n",
                            "    </tr>\n",
                            "    <tr>\n",
                            "      <th>3</th>\n",
                            "      <td>Anlage 2</td>\n",
                            "      <td>2</td>\n",
                            "      <td>pv</td>\n",
                            "    </tr>\n",
                            "  </tbody>\n",
                            "</table>\n",
                            "</div>"
                        ],
                        "text/plain": [
                            "        name  id          type\n",
                            "0   Anlage 1   1  wind_onshore\n",
                            "1   Anlage 3   3  photovoltaic\n",
                            "2  Anlage 11  11  photovoltaic\n",
                            "3   Anlage 2   2            pv"
                        ]
                    },
                    "execution_count": 6,
                    "metadata": {},
                    "output_type": "execute_result"
                }
            ],
            "source": [
                "# select columns by columnname\n",
                "# select multiple columns using &\n",
                "column = 'column=name&column=id&column=type'\n",
                "\n",
                "result = requests.get(oep_url + '/api/v0/schema/' + schema + '/tables/' + table + '/rows/?' + column)\n",
                "print(result.status_code)\n",
                "\n",
                "# Convert to dataframe\n",
                "df = pd.DataFrame(result.json())\n",
                "df"
            ]
        },
        {
            "cell_type": "markdown",
            "metadata": {},
            "source": [
                "<div class=\"alert alert-block alert-info\">\n",
                "<b>Response [201]</b> succesfully selected data! <br>\n",
                "<b>Response [404]</b> table doesn't exist!\n",
                "</div>"
            ]
        },
        {
            "cell_type": "markdown",
            "metadata": {},
            "source": [
                "### 2.3 limit"
            ]
        },
        {
            "cell_type": "markdown",
            "metadata": {},
            "source": [
                "<div class=\"alert alert-block alert-info\">\n",
                "The limit option is used to limit the number of results returned by the API. This is useful when querying a large data set with many results for the specific filter request.\n",
                "</div>"
            ]
        },
        {
            "cell_type": "code",
            "execution_count": 7,
            "metadata": {},
            "outputs": [
                {
                    "name": "stdout",
                    "output_type": "stream",
                    "text": [
                        "200\n"
                    ]
                },
                {
                    "data": {
                        "text/html": [
                            "<div>\n",
                            "<style scoped>\n",
                            "    .dataframe tbody tr th:only-of-type {\n",
                            "        vertical-align: middle;\n",
                            "    }\n",
                            "\n",
                            "    .dataframe tbody tr th {\n",
                            "        vertical-align: top;\n",
                            "    }\n",
                            "\n",
                            "    .dataframe thead th {\n",
                            "        text-align: right;\n",
                            "    }\n",
                            "</style>\n",
                            "<table border=\"1\" class=\"dataframe\">\n",
                            "  <thead>\n",
                            "    <tr style=\"text-align: right;\">\n",
                            "      <th></th>\n",
                            "      <th>id</th>\n",
                            "      <th>name</th>\n",
                            "      <th>type</th>\n",
                            "      <th>capacity</th>\n",
                            "      <th>lat</th>\n",
                            "      <th>lon</th>\n",
                            "    </tr>\n",
                            "  </thead>\n",
                            "  <tbody>\n",
                            "    <tr>\n",
                            "      <th>0</th>\n",
                            "      <td>1</td>\n",
                            "      <td>Anlage 1</td>\n",
                            "      <td>wind_onshore</td>\n",
                            "      <td>20000</td>\n",
                            "      <td>52.40731</td>\n",
                            "      <td>7.46118</td>\n",
                            "    </tr>\n",
                            "    <tr>\n",
                            "      <th>1</th>\n",
                            "      <td>3</td>\n",
                            "      <td>Anlage 3</td>\n",
                            "      <td>photovoltaic</td>\n",
                            "      <td>5.5</td>\n",
                            "      <td>51.804783</td>\n",
                            "      <td>11.6341573</td>\n",
                            "    </tr>\n",
                            "  </tbody>\n",
                            "</table>\n",
                            "</div>"
                        ],
                        "text/plain": [
                            "   id      name          type capacity        lat         lon\n",
                            "0   1  Anlage 1  wind_onshore    20000   52.40731     7.46118\n",
                            "1   3  Anlage 3  photovoltaic      5.5  51.804783  11.6341573"
                        ]
                    },
                    "execution_count": 7,
                    "metadata": {},
                    "output_type": "execute_result"
                }
            ],
            "source": [
                "# set the number of results\n",
                "limit = '2'\n",
                "\n",
                "result = requests.get(oep_url + '/api/v0/schema/' + schema + '/tables/' + table  +  '/rows/?limit='  +  limit)\n",
                "print(result.status_code)\n",
                "\n",
                "# Convert to dataframe\n",
                "df = pd.DataFrame(result.json())\n",
                "df"
            ]
        },
        {
            "cell_type": "markdown",
            "metadata": {},
            "source": [
                "<div class=\"alert alert-block alert-info\">\n",
                "<b>Response [201]</b> succesfully selected filtered data! <br>\n",
                "<b>Response [404]</b> table doesn't exist!\n",
                "</div>"
            ]
        },
        {
            "cell_type": "markdown",
            "metadata": {},
            "source": [
                "### 2.4 orderby"
            ]
        },
        {
            "cell_type": "markdown",
            "metadata": {},
            "source": [
                "<div class=\"alert alert-block alert-info\">\n",
                "The ORDER BY keyword is used to sort the result-set in ascending order.\n",
                "</div>"
            ]
        },
        {
            "cell_type": "code",
            "execution_count": 8,
            "metadata": {},
            "outputs": [
                {
                    "name": "stdout",
                    "output_type": "stream",
                    "text": [
                        "<Response [200]>\n"
                    ]
                },
                {
                    "data": {
                        "text/html": [
                            "<div>\n",
                            "<style scoped>\n",
                            "    .dataframe tbody tr th:only-of-type {\n",
                            "        vertical-align: middle;\n",
                            "    }\n",
                            "\n",
                            "    .dataframe tbody tr th {\n",
                            "        vertical-align: top;\n",
                            "    }\n",
                            "\n",
                            "    .dataframe thead th {\n",
                            "        text-align: right;\n",
                            "    }\n",
                            "</style>\n",
                            "<table border=\"1\" class=\"dataframe\">\n",
                            "  <thead>\n",
                            "    <tr style=\"text-align: right;\">\n",
                            "      <th></th>\n",
                            "      <th>id</th>\n",
                            "      <th>name</th>\n",
                            "      <th>type</th>\n",
                            "      <th>capacity</th>\n",
                            "      <th>lat</th>\n",
                            "      <th>lon</th>\n",
                            "    </tr>\n",
                            "  </thead>\n",
                            "  <tbody>\n",
                            "    <tr>\n",
                            "      <th>0</th>\n",
                            "      <td>1</td>\n",
                            "      <td>Anlage 1</td>\n",
                            "      <td>wind_onshore</td>\n",
                            "      <td>20000</td>\n",
                            "      <td>52.40731</td>\n",
                            "      <td>7.46118</td>\n",
                            "    </tr>\n",
                            "    <tr>\n",
                            "      <th>1</th>\n",
                            "      <td>2</td>\n",
                            "      <td>Anlage 2</td>\n",
                            "      <td>pv</td>\n",
                            "      <td>2</td>\n",
                            "      <td>51.804783</td>\n",
                            "      <td>11.686346</td>\n",
                            "    </tr>\n",
                            "    <tr>\n",
                            "      <th>2</th>\n",
                            "      <td>3</td>\n",
                            "      <td>Anlage 3</td>\n",
                            "      <td>photovoltaic</td>\n",
                            "      <td>5.5</td>\n",
                            "      <td>51.804783</td>\n",
                            "      <td>11.6341573</td>\n",
                            "    </tr>\n",
                            "    <tr>\n",
                            "      <th>3</th>\n",
                            "      <td>11</td>\n",
                            "      <td>Anlage 11</td>\n",
                            "      <td>photovoltaic</td>\n",
                            "      <td>5.5</td>\n",
                            "      <td>51.804783</td>\n",
                            "      <td>10.41573</td>\n",
                            "    </tr>\n",
                            "  </tbody>\n",
                            "</table>\n",
                            "</div>"
                        ],
                        "text/plain": [
                            "   id       name          type capacity        lat         lon\n",
                            "0   1   Anlage 1  wind_onshore    20000   52.40731     7.46118\n",
                            "1   2   Anlage 2            pv        2  51.804783   11.686346\n",
                            "2   3   Anlage 3  photovoltaic      5.5  51.804783  11.6341573\n",
                            "3  11  Anlage 11  photovoltaic      5.5  51.804783    10.41573"
                        ]
                    },
                    "execution_count": 8,
                    "metadata": {},
                    "output_type": "execute_result"
                }
            ],
            "source": [
                "# insert column name\n",
                "order_by = 'id'\n",
                "\n",
                "result = requests.get(oep_url + '/api/v0/schema/' + schema + '/tables/' + table + '/rows/?orderby=' + order_by)\n",
                "result.status_code\n",
                "print(result)\n",
                "\n",
                "# Convert to dataframe\n",
                "df = pd.DataFrame(result.json())\n",
                "df\n"
            ]
        },
        {
            "cell_type": "markdown",
            "metadata": {},
            "source": [
                "<div class=\"alert alert-block alert-info\">\n",
                "<b>Response [201]</b> succesfully selected data! <br>\n",
                "<b>Response [404]</b> table doesn't exist!\n",
                "</div>"
            ]
        },
        {
            "cell_type": "markdown",
            "metadata": {},
            "source": [
                "<div class=\"alert alert-block alert-info\">\n",
                "It is possible to combine filters by appending a \"&\" to the end of the URL then adding another filteroption like \"/rows/?limit=somelimit<b>&</b>orderby=someorder\"\n",
                "</div>"
            ]
        },
        {
            "cell_type": "code",
            "execution_count": 9,
            "metadata": {},
            "outputs": [
                {
                    "name": "stdout",
                    "output_type": "stream",
                    "text": [
                        "200\n"
                    ]
                },
                {
                    "data": {
                        "text/html": [
                            "<div>\n",
                            "<style scoped>\n",
                            "    .dataframe tbody tr th:only-of-type {\n",
                            "        vertical-align: middle;\n",
                            "    }\n",
                            "\n",
                            "    .dataframe tbody tr th {\n",
                            "        vertical-align: top;\n",
                            "    }\n",
                            "\n",
                            "    .dataframe thead th {\n",
                            "        text-align: right;\n",
                            "    }\n",
                            "</style>\n",
                            "<table border=\"1\" class=\"dataframe\">\n",
                            "  <thead>\n",
                            "    <tr style=\"text-align: right;\">\n",
                            "      <th></th>\n",
                            "      <th>id</th>\n",
                            "      <th>name</th>\n",
                            "      <th>type</th>\n",
                            "      <th>capacity</th>\n",
                            "      <th>lat</th>\n",
                            "      <th>lon</th>\n",
                            "    </tr>\n",
                            "  </thead>\n",
                            "  <tbody>\n",
                            "    <tr>\n",
                            "      <th>0</th>\n",
                            "      <td>1</td>\n",
                            "      <td>Anlage 1</td>\n",
                            "      <td>wind_onshore</td>\n",
                            "      <td>20000</td>\n",
                            "      <td>52.40731</td>\n",
                            "      <td>7.46118</td>\n",
                            "    </tr>\n",
                            "    <tr>\n",
                            "      <th>1</th>\n",
                            "      <td>2</td>\n",
                            "      <td>Anlage 2</td>\n",
                            "      <td>pv</td>\n",
                            "      <td>2</td>\n",
                            "      <td>51.804783</td>\n",
                            "      <td>11.686346</td>\n",
                            "    </tr>\n",
                            "  </tbody>\n",
                            "</table>\n",
                            "</div>"
                        ],
                        "text/plain": [
                            "   id      name          type capacity        lat        lon\n",
                            "0   1  Anlage 1  wind_onshore    20000   52.40731    7.46118\n",
                            "1   2  Anlage 2            pv        2  51.804783  11.686346"
                        ]
                    },
                    "execution_count": 9,
                    "metadata": {},
                    "output_type": "execute_result"
                }
            ],
            "source": [
                "# insert column name\n",
                "order_by = 'id'\n",
                "# set the number of results\n",
                "limit = '2'\n",
                "\n",
                "result = requests.get(oep_url + '/api/v0/schema/' + schema + '/tables/' + table + '/rows/?limit=' + limit + '&orderby=' + order_by)\n",
                "print(result.status_code)\n",
                "\n",
                "# Convert to dataframe\n",
                "df = pd.DataFrame(result.json())\n",
                "df"
            ]
        },
        {
            "cell_type": "markdown",
            "metadata": {},
            "source": [
                "<div class=\"alert alert-block alert-info\">\n",
                "<b>Response [201]</b> succesfully selected data! <br>\n",
                "<b>Response [404]</b> table doesn't exist!\n",
                "</div>"
            ]
        },
        {
            "cell_type": "markdown",
            "metadata": {},
            "source": [
                "### 2.5 Combine filters "
            ]
        },
        {
            "cell_type": "code",
            "execution_count": 10,
            "metadata": {},
            "outputs": [
                {
                    "name": "stdout",
                    "output_type": "stream",
                    "text": [
                        "200\n"
                    ]
                },
                {
                    "data": {
                        "text/html": [
                            "<div>\n",
                            "<style scoped>\n",
                            "    .dataframe tbody tr th:only-of-type {\n",
                            "        vertical-align: middle;\n",
                            "    }\n",
                            "\n",
                            "    .dataframe tbody tr th {\n",
                            "        vertical-align: top;\n",
                            "    }\n",
                            "\n",
                            "    .dataframe thead th {\n",
                            "        text-align: right;\n",
                            "    }\n",
                            "</style>\n",
                            "<table border=\"1\" class=\"dataframe\">\n",
                            "  <thead>\n",
                            "    <tr style=\"text-align: right;\">\n",
                            "      <th></th>\n",
                            "      <th>name</th>\n",
                            "      <th>id</th>\n",
                            "      <th>type</th>\n",
                            "    </tr>\n",
                            "  </thead>\n",
                            "  <tbody>\n",
                            "    <tr>\n",
                            "      <th>0</th>\n",
                            "      <td>Anlage 3</td>\n",
                            "      <td>3</td>\n",
                            "      <td>photovoltaic</td>\n",
                            "    </tr>\n",
                            "    <tr>\n",
                            "      <th>1</th>\n",
                            "      <td>Anlage 11</td>\n",
                            "      <td>11</td>\n",
                            "      <td>photovoltaic</td>\n",
                            "    </tr>\n",
                            "  </tbody>\n",
                            "</table>\n",
                            "</div>"
                        ],
                        "text/plain": [
                            "        name  id          type\n",
                            "0   Anlage 3   3  photovoltaic\n",
                            "1  Anlage 11  11  photovoltaic"
                        ]
                    },
                    "execution_count": 10,
                    "metadata": {},
                    "output_type": "execute_result"
                }
            ],
            "source": [
                "# insert 'columnname=value'\n",
                "where = 'type=photovoltaic'\n",
                "\n",
                "# select columns by columnname\n",
                "# select multiple columns using &\n",
                "column = 'column=name&column=id&column=type'\n",
                "\n",
                "result = requests.get(oep_url + '/api/v0/schema/' + schema + '/tables/' + table + '/rows/?where=' + where + '&' + column)\n",
                "print(result.status_code)\n",
                "\n",
                "# Convert to dataframe\n",
                "df = pd.DataFrame(result.json())\n",
                "df"
            ]
        },
        {
            "cell_type": "markdown",
            "metadata": {},
            "source": [
                "<div class=\"alert alert-block alert-info\">\n",
                "<b>Response [201]</b> succesfully selected data! <br>\n",
                "<b>Response [404]</b> table doesn't exist!\n",
                "</div>"
            ]
        },
        {
            "cell_type": "markdown",
            "metadata": {},
            "source": [
                "## 3. More Options\n",
                "\n",
                "There are also optional parameters for these GET-queries:\n",
                "\n",
                "**offset**: Ignore the specified amount of rows <br>\n",
                "**where**: Constraint fourmulated as VALUE+OPERATOR+VALUE with <br>\n",
                "1 VALUE: Constant or name of a column <br>\n",
                "2 OPERATOR: One of the following: <br>\n",
                "* EQUALS or `=`, <br>\n",
                "* GREATER or `>`, <br>\n",
                "* LOWER or `<`, <br>\n",
                "* NOTEQUAL or `!=` or <>, <br>\n",
                "* NOTGREATER or `<=`, <br>\n",
                "* NOTLOWER or `>=` <br>"
            ]
        },
        {
            "cell_type": "markdown",
            "metadata": {},
            "source": [
                "<div class=\"alert alert-block alert-success\">\n",
                "Try some selects!\n",
                "</div>"
            ]
        },
        {
            "cell_type": "code",
            "execution_count": null,
            "metadata": {},
            "outputs": [],
            "source": []
        }
    ],
    "metadata": {
        "kernelspec": {
            "display_name": "Python 3",
            "language": "python",
            "name": "python3"
        },
        "language_info": {
            "codemirror_mode": {
                "name": "ipython",
                "version": 3
            },
            "file_extension": ".py",
            "mimetype": "text/x-python",
            "name": "python",
            "nbconvert_exporter": "python",
            "pygments_lexer": "ipython3",
            "version": "3.10.0"
        }
    },
    "nbformat": 4,
    "nbformat_minor": 1
}
