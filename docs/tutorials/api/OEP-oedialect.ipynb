{
    "cells": [
        {
            "attachments": {},
            "cell_type": "markdown",
            "metadata": {},
            "source": [
                "<img src=\"https://raw.githubusercontent.com/OpenEnergyPlatform/academy/develop/docs/data/img/OEP_logo_2_no_text.svg\" alt=\"OpenEnergy Platform\" height=\"75\" width=\"75\" align=\"left\"/>\n",
                "\n",
                "# Usage of the oedialect a python sqlalchemy dialect for the OEP \n",
                "\n",
                "Repository: https://github.com/openego/oedialect <br>\n",
                "Documentation: http://oep-data-interface.readthedocs.io/en/latest/api/how_to.html<br>\n",
                "Please report bugs and improvements here: https://github.com/OpenEnergyPlatform/oedialect/issues <br>"
            ]
        },
        {
            "cell_type": "code",
            "execution_count": 1,
            "metadata": {},
            "outputs": [],
            "source": [
                "__copyright__ = \"Reiner Lemoine Institut\"\n",
                "__license__   = \"GNU Affero General Public License Version 3 (AGPL-3.0)\"\n",
                "__url__       = \"https://github.com/openego/data_processing/blob/master/LICENSE\"\n",
                "__author__    = \"henhuy, Ludee, oakca\""
            ]
        },
        {
            "cell_type": "code",
            "execution_count": 2,
            "metadata": {},
            "outputs": [],
            "source": [
                "# pip install oedialect \"sqlalchemy~=1.3,<1.4\" pandas\n",
                "\n",
                "import os\n",
                "import getpass\n",
                "import pandas as pd\n",
                "import sqlalchemy as sa\n",
                "from sqlalchemy.orm import sessionmaker\n",
                "import oedialect"
            ]
        },
        {
            "cell_type": "markdown",
            "metadata": {},
            "source": [
                "## Connection to OEP\n",
                "\n",
                "If we want to upload data to the OEP we first need to connect to it, using our OEP user name and token. \n",
                "Note: You ca view your token on your OEP profile page after logging in."
            ]
        },
        {
            "cell_type": "code",
            "execution_count": 3,
            "metadata": {},
            "outputs": [],
            "source": [
                "# set your token, for example from an environment variable\n",
                "# NEVER commit your token to a repository\n",
                "\n",
                "# token = getpass.getpass('Token:')  # get token from user input\n",
                "token = os.environ[\"OEP_API_TOKEN\"]  # OR get token from environment variable"
            ]
        },
        {
            "cell_type": "code",
            "execution_count": 4,
            "metadata": {},
            "outputs": [],
            "source": [
                "# Create Engine:\n",
                "OEP_URL = 'openenergy-platform.org'\n",
                "OED_STRING = f'postgresql+oedialect://:{token}@{OEP_URL}'\n",
                "\n",
                "engine = sa.create_engine(OED_STRING)\n",
                "metadata = sa.MetaData(engine)"
            ]
        },
        {
            "cell_type": "markdown",
            "metadata": {},
            "source": [
                "## Setup a Table\n",
                "\n",
                "We need to tell the data base what columns and datatypes we are about to upload. In our case we have four columns, two of which are text, one is integer and the last is float."
            ]
        },
        {
            "cell_type": "code",
            "execution_count": 5,
            "metadata": {},
            "outputs": [],
            "source": [
                "table_name = 'example_dialect_tablex'\n",
                "schema_name = 'sandbox'\n",
                "\n",
                "ExampleTable = sa.Table(\n",
                "    table_name,\n",
                "    metadata,\n",
                "    sa.Column('id', sa.BIGINT()),\n",
                "    sa.Column('name', sa.VARCHAR(50)),\n",
                "    sa.Column('age', sa.INTEGER),\n",
                "    sa.Column('stadtname', sa.VARCHAR(50)),\n",
                "    schema=schema_name\n",
                ")"
            ]
        },
        {
            "cell_type": "markdown",
            "metadata": {},
            "source": [
                "## Create the new Table\n",
                "Now we tell our engine to connect to the data base and create the defined table within the chosen schema."
            ]
        },
        {
            "cell_type": "code",
            "execution_count": 6,
            "metadata": {},
            "outputs": [
                {
                    "name": "stdout",
                    "output_type": "stream",
                    "text": [
                        "Connection established\n",
                        "Created table\n"
                    ]
                }
            ],
            "source": [
                "conn = engine.connect()\n",
                "print('Connection established')\n",
                "if not engine.dialect.has_table(conn, table_name, schema_name):\n",
                "    ExampleTable.create()\n",
                "    print('Created table')\n",
                "else:\n",
                "    print('Table already exists')"
            ]
        },
        {
            "cell_type": "markdown",
            "metadata": {},
            "source": [
                "## Insert data into Table\n",
                "Uploading the information from our DataFrame is now done with a single command. Uploading data in this way will always delete the content of the table and refill it with new values every time. If you change 'replace' to 'append', the data entries will be added to the preexisting ones. (Connecting and uploading may take a minute.)"
            ]
        },
        {
            "cell_type": "code",
            "execution_count": 7,
            "metadata": {},
            "outputs": [
                {
                    "name": "stdout",
                    "output_type": "stream",
                    "text": [
                        "Insert successful!\n"
                    ]
                }
            ],
            "source": [
                "Session = sessionmaker(bind=engine)\n",
                "session = Session()\n",
                "try:\n",
                "    insert_statement = ExampleTable.insert().values(\n",
                "        [\n",
                "            dict(name='Carsten', age=25, stadtname='Berlin'),\n",
                "            dict(name='Bert', age=42, stadtname='Hamburg'),\n",
                "            dict(name='Rhamses', age=69, stadtname='München')\n",
                "        ]\n",
                "    )\n",
                "    session.execute(insert_statement)\n",
                "    session.commit()\n",
                "    print('Insert successful!')\n",
                "except Exception as e:\n",
                "    session.rollback()\n",
                "    print('Insert incomplete!')\n",
                "    raise    \n",
                "finally:\n",
                "    session.close()"
            ]
        },
        {
            "cell_type": "markdown",
            "metadata": {},
            "source": [
                "## Select from Table\n",
                "\n",
                "Now  we can query our table to see if the data arrived."
            ]
        },
        {
            "cell_type": "code",
            "execution_count": 8,
            "metadata": {},
            "outputs": [
                {
                    "name": "stdout",
                    "output_type": "stream",
                    "text": [
                        "[(1, 'Carsten', 25, 'Berlin'), (2, 'Bert', 42, 'Hamburg'), (3, 'Rhamses', 69, 'München')]\n"
                    ]
                }
            ],
            "source": [
                "Session = sessionmaker(bind=engine)\n",
                "session = Session()\n",
                "print(session.query(ExampleTable).all())\n",
                "session.close()"
            ]
        },
        {
            "cell_type": "code",
            "execution_count": 9,
            "metadata": {},
            "outputs": [
                {
                    "data": {
                        "text/html": [
                            "<div>\n",
                            "<style scoped>\n",
                            "    .dataframe tbody tr th:only-of-type {\n",
                            "        vertical-align: middle;\n",
                            "    }\n",
                            "\n",
                            "    .dataframe tbody tr th {\n",
                            "        vertical-align: top;\n",
                            "    }\n",
                            "\n",
                            "    .dataframe thead th {\n",
                            "        text-align: right;\n",
                            "    }\n",
                            "</style>\n",
                            "<table border=\"1\" class=\"dataframe\">\n",
                            "  <thead>\n",
                            "    <tr style=\"text-align: right;\">\n",
                            "      <th></th>\n",
                            "      <th>name</th>\n",
                            "      <th>age</th>\n",
                            "      <th>stadtname</th>\n",
                            "    </tr>\n",
                            "    <tr>\n",
                            "      <th>id</th>\n",
                            "      <th></th>\n",
                            "      <th></th>\n",
                            "      <th></th>\n",
                            "    </tr>\n",
                            "  </thead>\n",
                            "  <tbody>\n",
                            "    <tr>\n",
                            "      <th>1</th>\n",
                            "      <td>Carsten</td>\n",
                            "      <td>25</td>\n",
                            "      <td>Berlin</td>\n",
                            "    </tr>\n",
                            "    <tr>\n",
                            "      <th>2</th>\n",
                            "      <td>Bert</td>\n",
                            "      <td>42</td>\n",
                            "      <td>Hamburg</td>\n",
                            "    </tr>\n",
                            "    <tr>\n",
                            "      <th>3</th>\n",
                            "      <td>Rhamses</td>\n",
                            "      <td>69</td>\n",
                            "      <td>München</td>\n",
                            "    </tr>\n",
                            "  </tbody>\n",
                            "</table>\n",
                            "</div>"
                        ],
                        "text/plain": [
                            "       name  age stadtname\n",
                            "id                        \n",
                            "1   Carsten   25    Berlin\n",
                            "2      Bert   42   Hamburg\n",
                            "3   Rhamses   69   München"
                        ]
                    },
                    "execution_count": 9,
                    "metadata": {},
                    "output_type": "execute_result"
                }
            ],
            "source": [
                "Session = sessionmaker(bind=engine)\n",
                "session = Session()\n",
                "df = pd.DataFrame(session.query(ExampleTable).all())\n",
                "df = df.set_index(\"id\")\n",
                "session.close()\n",
                "df"
            ]
        },
        {
            "attachments": {},
            "cell_type": "markdown",
            "metadata": {},
            "source": [
                "# Delete Table"
            ]
        },
        {
            "cell_type": "code",
            "execution_count": 10,
            "metadata": {},
            "outputs": [],
            "source": [
                "ExampleTable.drop()"
            ]
        }
    ],
    "metadata": {
        "kernelspec": {
            "display_name": "Python 3",
            "language": "python",
            "name": "python3"
        },
        "language_info": {
            "codemirror_mode": {
                "name": "ipython",
                "version": 3
            },
            "file_extension": ".py",
            "mimetype": "text/x-python",
            "name": "python",
            "nbconvert_exporter": "python",
            "pygments_lexer": "ipython3",
            "version": "3.10.0"
        }
    },
    "nbformat": 4,
    "nbformat_minor": 2
}
