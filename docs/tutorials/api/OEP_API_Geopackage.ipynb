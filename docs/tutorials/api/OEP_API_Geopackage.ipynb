{
    "cells": [
        {
            "attachments": {},
            "cell_type": "markdown",
            "metadata": {},
            "source": [
                "<img src=\"https://raw.githubusercontent.com/OpenEnergyPlatform/academy/develop/docs/data/img/OEP_logo_2_no_text.svg\" alt=\"OpenEnergy Platform\" height=\"75\" width=\"75\" align=\"left\"/>\n",
                "\n",
                "# Create a (Geo)Dataframe from OEP Data and export it as geopackage\n",
                "\n",
                "Repository: https://github.com/OpenEnergyPlatform/tutorial <br>\n",
                "Please report bugs and improvements here: https://github.com/OpenEnergyPlatform/examples/issues <br>\n",
                "How to get started with Jupyter Notebooks can be found here: https://realpython.com/jupyter-notebook-introduction/ <br>\n",
                "\n",
                "\n",
                "license: [**GNU Affero General Public License Version 3 (AGPL-3.0)**](https://github.com/openego/data_processing/blob/master/LICENSE)<br> \n",
                "copyright: **Reiner Lemoine Institut** <br>\n",
                "authors: **TuPhanRLI, christian-rli** <br>"
            ]
        },
        {
            "cell_type": "markdown",
            "metadata": {},
            "source": [
                "## Introduction\n",
                "\n",
                "This tutorial gives you an overview of the [**OpenEnergy Platform**](https://openenergy-platform.org/) and how you can work with the **RESTful-HTTP** API in Python to access geodata. <br>\n",
                "The full API documentaion can be found on [ReadtheDocs.io](https://oep-data-interface.readthedocs.io/en/latest/api/how_to.html).\n",
                "\n",
                "In order to run this entire notebook you need to have some python packages installed. Install them all by using the requirements.txt and running `pip install -r requirements.txt`. Note the colored info blocks:\n",
                "\n",
                "<br>\n",
                "<div class=\"alert alert-block alert-danger\">\n",
                "This is an important information!\n",
                "</div>\n",
                "<div class=\"alert alert-block alert-info\">\n",
                "This is an information!\n",
                "</div>\n",
                "<div class=\"alert alert-block alert-success\">\n",
                "This is your task!\n",
                "</div>"
            ]
        },
        {
            "cell_type": "markdown",
            "metadata": {},
            "source": [
                "## Content\n",
                "\n",
                "1 Select data <br>\n",
                "2 Make a pandas dataframe <br>\n",
                "3 Plot a dataframe (geo plot)<br>\n",
                "4 Save data "
            ]
        },
        {
            "cell_type": "code",
            "execution_count": 14,
            "metadata": {},
            "outputs": [],
            "source": [
                "# pip install requests pandas missingno geopandas shapely matplotlib\n",
                "\n",
                "import os\n",
                "import getpass\n",
                "\n",
                "import requests\n",
                "import pandas as pd\n",
                "import missingno\n",
                "import geopandas as gpd\n",
                "from shapely import wkb\n",
                "import matplotlib.pyplot as plt"
            ]
        },
        {
            "cell_type": "markdown",
            "metadata": {},
            "source": [
                "## 1. Select data"
            ]
        },
        {
            "cell_type": "markdown",
            "metadata": {},
            "source": [
                "This will select the following table from the OEP: https://openenergy-platform.org/dataedit/view/openstreetmap . \n",
                "\n",
                "You can change the details to address other tables."
            ]
        },
        {
            "cell_type": "code",
            "execution_count": 15,
            "metadata": {},
            "outputs": [],
            "source": [
                "# NEVER commit your token to a repository\n",
                "# get your token from an environment variable\n",
                "# or ask user\n",
                "token = os.environ.get(\"OEP_API_TOKEN\") or getpass.getpass('Token:')"
            ]
        },
        {
            "cell_type": "code",
            "execution_count": 16,
            "metadata": {},
            "outputs": [],
            "source": [
                "# select data\n",
                "schema = 'openstreetmap'\n",
                "table = 'osm_deu_point_windpower'\n",
                "oep_url = 'openenergy-platform.org'\n",
                "requested_data = requests.get('https://'+oep_url+'/api/v0/schema/'+schema+'/tables/'+table+'/rows')\n",
                "requested_data.status_code"
            ]
        },
        {
            "cell_type": "markdown",
            "metadata": {},
            "source": [
                "<div class=\"alert alert-block alert-info\">\n",
                "<b>Response [200]</b> succesfully selected data! <br>\n",
                "<b>Response [404]</b> table doesn't exist!\n",
                "</div>"
            ]
        },
        {
            "cell_type": "markdown",
            "metadata": {},
            "source": [
                "## 2. Make a pandas dataframe"
            ]
        },
        {
            "cell_type": "markdown",
            "metadata": {},
            "source": [
                "The API returns data in json format. In order to be more flexible with it, we'll convert it to a pandas dataframe.\n"
            ]
        },
        {
            "cell_type": "code",
            "execution_count": null,
            "metadata": {},
            "outputs": [],
            "source": [
                "#Create dataframe from json format\n",
                "df = pd.DataFrame(requested_data.json())"
            ]
        },
        {
            "cell_type": "markdown",
            "metadata": {},
            "source": [
                "<div class=\"alert alert-block alert-success\">\n",
                "Let's take a look at our data!\n",
                "</div>"
            ]
        },
        {
            "cell_type": "code",
            "execution_count": null,
            "metadata": {},
            "outputs": [],
            "source": [
                "# Show metadata for a specific dataframe.\n",
                "df.info()"
            ]
        },
        {
            "cell_type": "code",
            "execution_count": null,
            "metadata": {},
            "outputs": [],
            "source": [
                "#Print the df_pp dataframe as table.\n",
                "df.head()"
            ]
        },
        {
            "cell_type": "code",
            "execution_count": null,
            "metadata": {},
            "outputs": [],
            "source": [
                "#visualization of the dataframe \n",
                "missingno.bar(df, color='tab:blue');"
            ]
        },
        {
            "cell_type": "markdown",
            "metadata": {},
            "source": [
                "## 3. Plot a dataframe (geo plot)"
            ]
        },
        {
            "cell_type": "markdown",
            "metadata": {},
            "source": [
                "<div class=\"alert alert-block alert-success\">\n",
                "Geoinformation can come in different representations. Two commons ways are `well known text` (WKT) and `well known binary` (WKB). We can convert these. In pandas to apply a change to every entity in a column we can use its apply function.\n",
                "</div>"
            ]
        },
        {
            "cell_type": "code",
            "execution_count": null,
            "metadata": {},
            "outputs": [],
            "source": [
                "#Print the df geodataframe as table with geometry data\n",
                "df.geom.head()"
            ]
        },
        {
            "cell_type": "code",
            "execution_count": null,
            "metadata": {},
            "outputs": [],
            "source": [
                "# transform WKB to WKT / Geometry specially the geom column\n",
                "df['geom'] = df['geom'].apply(lambda x:wkb.loads(x, hex=True))"
            ]
        },
        {
            "cell_type": "markdown",
            "metadata": {},
            "source": [
                "The data of this table is encoded in the coordinate reference system UTM Zone 33 North. "
            ]
        },
        {
            "cell_type": "code",
            "execution_count": null,
            "metadata": {},
            "outputs": [],
            "source": [
                "#Print the gdf geodataframe as table with geometry data\n",
                "df.geom.head()"
            ]
        },
        {
            "cell_type": "markdown",
            "metadata": {},
            "source": [
                "<div class=\"alert alert-block alert-success\">\n",
                "Finally, let's plot our data!\n",
                "</div>"
            ]
        },
        {
            "cell_type": "markdown",
            "metadata": {},
            "source": [
                "* crs parameters can be changed depends on your source and location.\n",
                "* At the following lines there are possibilities to set up the crs variable.\n",
                "* WGS84 Latitude/Longitude: \"EPSG:4326\"\n",
                "* UTM Zone 33 North: \"EPSG:32633\""
            ]
        },
        {
            "cell_type": "code",
            "execution_count": null,
            "metadata": {},
            "outputs": [],
            "source": [
                "# geo plot data\n",
                "crs = {'init' :'epsg:32633'}\n",
                "gdf = gpd.GeoDataFrame(\n",
                "                        df,# specifify your dataframe\n",
                "                        crs=crs, # this is your coordinate system\n",
                "                        geometry=df.geom # specify the geometry list we created\n",
                "                        )\n",
                "base1 = gdf.plot(color='white', edgecolor='black',figsize=(16,16))\n",
                "gdf.plot(ax=base1, color='tab:blue')\n",
                "plt.show()"
            ]
        },
        {
            "cell_type": "code",
            "execution_count": null,
            "metadata": {},
            "outputs": [],
            "source": [
                "# Show metadata for a specific (geo)dataframe.\n",
                "gdf.info()"
            ]
        },
        {
            "cell_type": "markdown",
            "metadata": {},
            "source": [
                "## 4. Save Data"
            ]
        },
        {
            "cell_type": "markdown",
            "metadata": {},
            "source": [
                "Geodataframes have a function to easily store in different file types. In the following we'll store the data in GeoJSON and geopackage."
            ]
        },
        {
            "cell_type": "code",
            "execution_count": null,
            "metadata": {},
            "outputs": [],
            "source": [
                "# Convert the GeoDataFrame to GeoPackage and GeoJSON Format and save file \n",
                "# at the folder path \"output_GeoData\"\n",
                "gdf.geometry.to_file(\"output_example_geo_json.geojson\", driver='GeoJSON')\n",
                "gdf.geometry.to_file(\"output_example_geopackage.gpkg\", layer='data_example', driver=\"GPKG\")"
            ]
        }
    ],
    "metadata": {
        "anaconda-cloud": {},
        "kernelspec": {
            "display_name": "Python 3.10.0 ('.env': venv)",
            "language": "python",
            "name": "python3"
        },
        "language_info": {
            "codemirror_mode": {
                "name": "ipython",
                "version": 3
            },
            "file_extension": ".py",
            "mimetype": "text/x-python",
            "name": "python",
            "nbconvert_exporter": "python",
            "pygments_lexer": "ipython3",
            "version": "3.10.0"
        },
        "vscode": {
            "interpreter": {
                "hash": "107173beb3e5096b29955c6f511b636e3644f34d87aaa01385107543be18dbd0"
            }
        }
    },
    "nbformat": 4,
    "nbformat_minor": 4
}
