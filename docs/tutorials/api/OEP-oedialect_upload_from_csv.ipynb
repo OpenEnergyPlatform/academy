{
    "cells": [
        {
            "attachments": {},
            "cell_type": "markdown",
            "metadata": {},
            "source": [
                "<img src=\"https://raw.githubusercontent.com/OpenEnergyPlatform/academy/develop/docs/data/img/OEP_logo_2_no_text.svg\" alt=\"OpenEnergy Platform\" height=\"75\" width=\"75\" align=\"left\"/>\n",
                "\n",
                "# Upload csv data to a new table on the OEP using the oedialect\n",
                "\n",
                "Repository: https://github.com/openego/oedialect <br>\n",
                "Documentation: http://oep-data-interface.readthedocs.io/en/latest/api/how_to.html\n",
                "\n",
                "Please report bugs and improvements here: https://github.com/OpenEnergyPlatform/oedialect/issues <br>"
            ]
        },
        {
            "cell_type": "code",
            "execution_count": 1,
            "metadata": {},
            "outputs": [],
            "source": [
                "__copyright__ = \"Reiner Lemoine Institut\"\n",
                "__license__   = \"GNU Affero General Public License Version 3 (AGPL-3.0)\"\n",
                "__url__       = \"https://github.com/openego/data_processing/blob/master/LICENSE\"\n",
                "__author__    = \"christian-rli, oakca\""
            ]
        },
        {
            "cell_type": "code",
            "execution_count": 2,
            "metadata": {},
            "outputs": [],
            "source": [
                "# pip install oedialect pandas \"sqlalchemy~=1.3,<1.4\"\n",
                "\n",
                "import os\n",
                "import getpass\n",
                "\n",
                "import pandas as pd\n",
                "import sqlalchemy as sa\n",
                "from sqlalchemy.orm import sessionmaker\n",
                "import oedialect\n"
            ]
        },
        {
            "cell_type": "markdown",
            "metadata": {},
            "source": [
                "## Reading data from a csv file and uploading it to the oedb"
            ]
        },
        {
            "cell_type": "markdown",
            "metadata": {},
            "source": [
                "Pandas has a read_csv function which makes importing a csv-file rather comfortable. It reads csv into a DataFrame. By default, it assumes that the fields are comma-separated. Our example file has columns with semicolons as separators, so we have to specify this when reading the file. \n",
                "\n",
                "The example file for this tutorial ('DataTemplate.csv') is in a 'data' directory, one level above the file for this tutorial. Make sure to adapt the path to the file you're using if your file is located elsewhere.\n"
            ]
        },
        {
            "cell_type": "code",
            "execution_count": 3,
            "metadata": {},
            "outputs": [],
            "source": [
                "example_df = pd.read_csv('../../data/TemplateData.csv', encoding='utf8', sep=';')"
            ]
        },
        {
            "cell_type": "markdown",
            "metadata": {},
            "source": [
                "Looking at the first three lines of our dataframe:"
            ]
        },
        {
            "cell_type": "code",
            "execution_count": 4,
            "metadata": {},
            "outputs": [
                {
                    "data": {
                        "text/html": [
                            "<div>\n",
                            "<style scoped>\n",
                            "    .dataframe tbody tr th:only-of-type {\n",
                            "        vertical-align: middle;\n",
                            "    }\n",
                            "\n",
                            "    .dataframe tbody tr th {\n",
                            "        vertical-align: top;\n",
                            "    }\n",
                            "\n",
                            "    .dataframe thead th {\n",
                            "        text-align: right;\n",
                            "    }\n",
                            "</style>\n",
                            "<table border=\"1\" class=\"dataframe\">\n",
                            "  <thead>\n",
                            "    <tr style=\"text-align: right;\">\n",
                            "      <th></th>\n",
                            "      <th>variable</th>\n",
                            "      <th>unit</th>\n",
                            "      <th>year</th>\n",
                            "      <th>value</th>\n",
                            "    </tr>\n",
                            "  </thead>\n",
                            "  <tbody>\n",
                            "    <tr>\n",
                            "      <th>0</th>\n",
                            "      <td>Antimatter price</td>\n",
                            "      <td>Euro (2010) / GJ</td>\n",
                            "      <td>2020</td>\n",
                            "      <td>3.00</td>\n",
                            "    </tr>\n",
                            "    <tr>\n",
                            "      <th>1</th>\n",
                            "      <td>Antimatter price</td>\n",
                            "      <td>Euro (2010) / GJ</td>\n",
                            "      <td>2030</td>\n",
                            "      <td>3.30</td>\n",
                            "    </tr>\n",
                            "    <tr>\n",
                            "      <th>2</th>\n",
                            "      <td>Antimatter price</td>\n",
                            "      <td>Euro (2010) / GJ</td>\n",
                            "      <td>2040</td>\n",
                            "      <td>3.33</td>\n",
                            "    </tr>\n",
                            "  </tbody>\n",
                            "</table>\n",
                            "</div>"
                        ],
                        "text/plain": [
                            "           variable              unit  year  value\n",
                            "0  Antimatter price  Euro (2010) / GJ  2020   3.00\n",
                            "1  Antimatter price  Euro (2010) / GJ  2030   3.30\n",
                            "2  Antimatter price  Euro (2010) / GJ  2040   3.33"
                        ]
                    },
                    "execution_count": 4,
                    "metadata": {},
                    "output_type": "execute_result"
                }
            ],
            "source": [
                "example_df[:3]"
            ]
        },
        {
            "cell_type": "markdown",
            "metadata": {},
            "source": [
                "## Connection to OEP\n",
                "\n",
                "If we want to upload data to the OEP we first need to connect to it, using our OEP user name and token. \n",
                "Note: You ca view your token on your OEP profile page after logging in.  "
            ]
        },
        {
            "cell_type": "code",
            "execution_count": 5,
            "metadata": {},
            "outputs": [],
            "source": [
                "# NEVER commit your token to a repository\n",
                "# get your token from an environment variable\n",
                "# or ask user\n",
                "token = os.environ.get(\"OEP_API_TOKEN\") or getpass.getpass('Token:')"
            ]
        },
        {
            "cell_type": "markdown",
            "metadata": {},
            "source": [
                "Now we'll create an sql-alchemy-engine. The engine is what 'speaks' oedialect to the data base api. We need to tell it where the data base is and pass our credentials.\n"
            ]
        },
        {
            "cell_type": "code",
            "execution_count": 6,
            "metadata": {},
            "outputs": [
                {
                    "name": "stdout",
                    "output_type": "stream",
                    "text": [
                        "MetaData(bind=Engine(postgresql+oedialect://:***@openenergy-platform.org))\n"
                    ]
                }
            ],
            "source": [
                "# Create Engine:\n",
                "oep_url = 'openenergy-platform.org'\n",
                "oed_string = f'postgresql+oedialect://:{token}@{oep_url}'\n",
                "\n",
                "engine = sa.create_engine(oed_string)\n",
                "metadata = sa.MetaData(bind=engine)\n",
                "print(metadata)"
            ]
        },
        {
            "cell_type": "markdown",
            "metadata": {},
            "source": [
                "## Setup a Table\n",
                "\n",
                "We need to tell the data base what columns and datatypes we are about to upload. In our case we have four columns, two of which are text, one is integer and the last is float."
            ]
        },
        {
            "cell_type": "code",
            "execution_count": 7,
            "metadata": {},
            "outputs": [],
            "source": [
                "table_name = 'example_dialect_tablexon'\n",
                "schema_name = 'sandbox'\n",
                "\n",
                "ExampleTable = sa.Table(\n",
                "    table_name,\n",
                "    metadata,\n",
                "    sa.Column('id', sa.INTEGER),\n",
                "    sa.Column('variable', sa.VARCHAR(50)),\n",
                "    sa.Column('unit', sa.VARCHAR(50)),\n",
                "    sa.Column('year', sa.INTEGER),\n",
                "    sa.Column('value', sa.FLOAT(50)),\n",
                "    schema=schema_name\n",
                ")"
            ]
        },
        {
            "cell_type": "markdown",
            "metadata": {},
            "source": [
                "## Create the new Table\n",
                "\n",
                "Now we tell our engine to connect to the data base and create the defined table within the chosen schema."
            ]
        },
        {
            "cell_type": "code",
            "execution_count": 8,
            "metadata": {},
            "outputs": [
                {
                    "name": "stdout",
                    "output_type": "stream",
                    "text": [
                        "Connection established\n",
                        "Created table\n"
                    ]
                }
            ],
            "source": [
                "conn = engine.connect()\n",
                "print('Connection established')\n",
                "if not engine.dialect.has_table(conn, table_name, schema_name):\n",
                "    ExampleTable.create()\n",
                "    print('Created table')\n",
                "else:\n",
                "    print('Table already exists')"
            ]
        },
        {
            "cell_type": "markdown",
            "metadata": {},
            "source": [
                "## Insert data into Table\n",
                " \n",
                "Uploading the information from our DataFrame is now done with a single command. Uploading data in this way will always delete the content of the table and refill it with new values every time. If you change 'replace' to 'append', the data entries will be added to the preexisting ones. (Connecting and uploading may take a minute.)"
            ]
        },
        {
            "cell_type": "code",
            "execution_count": 9,
            "metadata": {},
            "outputs": [
                {
                    "name": "stdout",
                    "output_type": "stream",
                    "text": [
                        "Inserted to example_dialect_tablexon\n"
                    ]
                }
            ],
            "source": [
                "Session = sessionmaker(bind=engine)\n",
                "session = Session()\n",
                "try: \n",
                "    insert_statement = ExampleTable.insert().values(example_df.to_dict(orient='records'))\n",
                "    session.execute(insert_statement)\n",
                "    session.commit()\n",
                "    print('Inserted to ' + table_name)\n",
                "except Exception as e:\n",
                "    session.rollback()    \n",
                "    print('Insert incomplete!')\n",
                "    raise\n",
                "finally:\n",
                "    session.close()"
            ]
        },
        {
            "cell_type": "markdown",
            "metadata": {},
            "source": [
                "You can also insert data manually into the table."
            ]
        },
        {
            "cell_type": "code",
            "execution_count": 10,
            "metadata": {},
            "outputs": [
                {
                    "name": "stdout",
                    "output_type": "stream",
                    "text": [
                        "Insert successful!\n"
                    ]
                }
            ],
            "source": [
                "Session = sessionmaker(bind=engine)\n",
                "session = Session()\n",
                "try:\n",
                "    insert_statement = ExampleTable.insert().values(\n",
                "        [\n",
                "            dict(variable='fairy dust', unit='t', year=2020, value=200),\n",
                "            dict(variable='mana', unit='kg', year=1999, value=120),\n",
                "            dict(variable='the force', unit='l', year=1998, value=1100)\n",
                "        ]\n",
                "    )\n",
                "    session.execute(insert_statement)\n",
                "    session.commit()\n",
                "    print('Insert successful!')\n",
                "except Exception as e:\n",
                "    session.rollback()    \n",
                "    print('Insert incomplete!')\n",
                "    raise\n",
                "finally:\n",
                "    session.close()"
            ]
        },
        {
            "cell_type": "markdown",
            "metadata": {},
            "source": [
                "## Select from Table\n",
                "\n",
                "Now  we can query our table to see if the data arrived."
            ]
        },
        {
            "cell_type": "code",
            "execution_count": 11,
            "metadata": {},
            "outputs": [
                {
                    "name": "stdout",
                    "output_type": "stream",
                    "text": [
                        "[(1, 'Antimatter price', 'Euro (2010) / GJ', 2020, 3.0), (2, 'Antimatter price', 'Euro (2010) / GJ', 2030, 3.3), (3, 'Antimatter price', 'Euro (2010) / GJ', 2040, 3.33), (4, 'Antimatter price', 'Euro (2010) / GJ', 2050, 4.44), (5, 'Fusion price', 'Euro (2010) / GJ', 2020, 1.7), (6, 'Fusion price', 'Euro (2010) / GJ', 2030, 1.7), (7, 'Fusion price', 'Euro (2010) / GJ', 2040, 1.7), (8, 'Fusion price', 'Euro (2010) / GJ', 2050, 1.7), (9, 'Naquadria price', 'Euro (2010) / GJ', 2020, 10.0), (10, 'Naquadria price', 'Euro (2010) / GJ', 2030, 18.1), (11, 'Naquadria price', 'Euro (2010) / GJ', 2040, 26.2), (12, 'Naquadria price', 'Euro (2010) / GJ', 2050, 32.3), (13, 'Power Cristals price', 'Euro (2010) / GJ', 2020, 5.5), (14, 'Power Cristals price', 'Euro (2010) / GJ', 2030, 9.9), (15, 'Power Cristals price', 'Euro (2010) / GJ', 2040, 11.11), (16, 'Power Cristals price', 'Euro (2010) / GJ', 2050, 14.4), (17, 'CO2 certificate price ', 'Euro (2010) / ton', 2020, 40.0), (18, 'CO2 certificate price ', 'Euro (2010) / ton', 2030, 80.0), (19, 'CO2 certificate price ', 'Euro (2010) / ton', 2040, 160.0), (20, 'CO2 certificate price ', 'Euro (2010) / ton', 2050, 320.0), (21, 'Gross domestic product', 'Billion Euro (2000)', 2020, 1000.0), (22, 'Gross domestic product', 'Billion Euro (2010)', 2030, 2000.0), (23, 'Gross domestic product', 'Billion Euro (2010)', 2040, 3000.0), (24, 'Gross domestic product', 'Billion Euro (2010)', 2050, 4000.0), (25, 'fairy dust', 't', 2020, 200.0), (26, 'mana', 'kg', 1999, 120.0), (27, 'the force', 'l', 1998, 1100.0)]\n"
                    ]
                }
            ],
            "source": [
                "Session = sessionmaker(bind=engine)\n",
                "session = Session()\n",
                "print(session.query(ExampleTable).all())\n",
                "session.close()"
            ]
        },
        {
            "cell_type": "markdown",
            "metadata": {},
            "source": [
                "## Storing Query Result in DataFrame\n",
                "We can write the results of the query back into a DataFrame, where it's easier to handle."
            ]
        },
        {
            "cell_type": "code",
            "execution_count": 12,
            "metadata": {},
            "outputs": [
                {
                    "data": {
                        "text/html": [
                            "<div>\n",
                            "<style scoped>\n",
                            "    .dataframe tbody tr th:only-of-type {\n",
                            "        vertical-align: middle;\n",
                            "    }\n",
                            "\n",
                            "    .dataframe tbody tr th {\n",
                            "        vertical-align: top;\n",
                            "    }\n",
                            "\n",
                            "    .dataframe thead th {\n",
                            "        text-align: right;\n",
                            "    }\n",
                            "</style>\n",
                            "<table border=\"1\" class=\"dataframe\">\n",
                            "  <thead>\n",
                            "    <tr style=\"text-align: right;\">\n",
                            "      <th></th>\n",
                            "      <th>id</th>\n",
                            "      <th>variable</th>\n",
                            "      <th>unit</th>\n",
                            "      <th>year</th>\n",
                            "      <th>value</th>\n",
                            "    </tr>\n",
                            "  </thead>\n",
                            "  <tbody>\n",
                            "    <tr>\n",
                            "      <th>0</th>\n",
                            "      <td>1</td>\n",
                            "      <td>Antimatter price</td>\n",
                            "      <td>Euro (2010) / GJ</td>\n",
                            "      <td>2020</td>\n",
                            "      <td>3.00</td>\n",
                            "    </tr>\n",
                            "    <tr>\n",
                            "      <th>1</th>\n",
                            "      <td>2</td>\n",
                            "      <td>Antimatter price</td>\n",
                            "      <td>Euro (2010) / GJ</td>\n",
                            "      <td>2030</td>\n",
                            "      <td>3.30</td>\n",
                            "    </tr>\n",
                            "    <tr>\n",
                            "      <th>2</th>\n",
                            "      <td>3</td>\n",
                            "      <td>Antimatter price</td>\n",
                            "      <td>Euro (2010) / GJ</td>\n",
                            "      <td>2040</td>\n",
                            "      <td>3.33</td>\n",
                            "    </tr>\n",
                            "    <tr>\n",
                            "      <th>3</th>\n",
                            "      <td>4</td>\n",
                            "      <td>Antimatter price</td>\n",
                            "      <td>Euro (2010) / GJ</td>\n",
                            "      <td>2050</td>\n",
                            "      <td>4.44</td>\n",
                            "    </tr>\n",
                            "    <tr>\n",
                            "      <th>4</th>\n",
                            "      <td>5</td>\n",
                            "      <td>Fusion price</td>\n",
                            "      <td>Euro (2010) / GJ</td>\n",
                            "      <td>2020</td>\n",
                            "      <td>1.70</td>\n",
                            "    </tr>\n",
                            "    <tr>\n",
                            "      <th>5</th>\n",
                            "      <td>6</td>\n",
                            "      <td>Fusion price</td>\n",
                            "      <td>Euro (2010) / GJ</td>\n",
                            "      <td>2030</td>\n",
                            "      <td>1.70</td>\n",
                            "    </tr>\n",
                            "    <tr>\n",
                            "      <th>6</th>\n",
                            "      <td>7</td>\n",
                            "      <td>Fusion price</td>\n",
                            "      <td>Euro (2010) / GJ</td>\n",
                            "      <td>2040</td>\n",
                            "      <td>1.70</td>\n",
                            "    </tr>\n",
                            "    <tr>\n",
                            "      <th>7</th>\n",
                            "      <td>8</td>\n",
                            "      <td>Fusion price</td>\n",
                            "      <td>Euro (2010) / GJ</td>\n",
                            "      <td>2050</td>\n",
                            "      <td>1.70</td>\n",
                            "    </tr>\n",
                            "    <tr>\n",
                            "      <th>8</th>\n",
                            "      <td>9</td>\n",
                            "      <td>Naquadria price</td>\n",
                            "      <td>Euro (2010) / GJ</td>\n",
                            "      <td>2020</td>\n",
                            "      <td>10.00</td>\n",
                            "    </tr>\n",
                            "    <tr>\n",
                            "      <th>9</th>\n",
                            "      <td>10</td>\n",
                            "      <td>Naquadria price</td>\n",
                            "      <td>Euro (2010) / GJ</td>\n",
                            "      <td>2030</td>\n",
                            "      <td>18.10</td>\n",
                            "    </tr>\n",
                            "    <tr>\n",
                            "      <th>10</th>\n",
                            "      <td>11</td>\n",
                            "      <td>Naquadria price</td>\n",
                            "      <td>Euro (2010) / GJ</td>\n",
                            "      <td>2040</td>\n",
                            "      <td>26.20</td>\n",
                            "    </tr>\n",
                            "    <tr>\n",
                            "      <th>11</th>\n",
                            "      <td>12</td>\n",
                            "      <td>Naquadria price</td>\n",
                            "      <td>Euro (2010) / GJ</td>\n",
                            "      <td>2050</td>\n",
                            "      <td>32.30</td>\n",
                            "    </tr>\n",
                            "    <tr>\n",
                            "      <th>12</th>\n",
                            "      <td>13</td>\n",
                            "      <td>Power Cristals price</td>\n",
                            "      <td>Euro (2010) / GJ</td>\n",
                            "      <td>2020</td>\n",
                            "      <td>5.50</td>\n",
                            "    </tr>\n",
                            "    <tr>\n",
                            "      <th>13</th>\n",
                            "      <td>14</td>\n",
                            "      <td>Power Cristals price</td>\n",
                            "      <td>Euro (2010) / GJ</td>\n",
                            "      <td>2030</td>\n",
                            "      <td>9.90</td>\n",
                            "    </tr>\n",
                            "    <tr>\n",
                            "      <th>14</th>\n",
                            "      <td>15</td>\n",
                            "      <td>Power Cristals price</td>\n",
                            "      <td>Euro (2010) / GJ</td>\n",
                            "      <td>2040</td>\n",
                            "      <td>11.11</td>\n",
                            "    </tr>\n",
                            "    <tr>\n",
                            "      <th>15</th>\n",
                            "      <td>16</td>\n",
                            "      <td>Power Cristals price</td>\n",
                            "      <td>Euro (2010) / GJ</td>\n",
                            "      <td>2050</td>\n",
                            "      <td>14.40</td>\n",
                            "    </tr>\n",
                            "    <tr>\n",
                            "      <th>16</th>\n",
                            "      <td>17</td>\n",
                            "      <td>CO2 certificate price</td>\n",
                            "      <td>Euro (2010) / ton</td>\n",
                            "      <td>2020</td>\n",
                            "      <td>40.00</td>\n",
                            "    </tr>\n",
                            "    <tr>\n",
                            "      <th>17</th>\n",
                            "      <td>18</td>\n",
                            "      <td>CO2 certificate price</td>\n",
                            "      <td>Euro (2010) / ton</td>\n",
                            "      <td>2030</td>\n",
                            "      <td>80.00</td>\n",
                            "    </tr>\n",
                            "    <tr>\n",
                            "      <th>18</th>\n",
                            "      <td>19</td>\n",
                            "      <td>CO2 certificate price</td>\n",
                            "      <td>Euro (2010) / ton</td>\n",
                            "      <td>2040</td>\n",
                            "      <td>160.00</td>\n",
                            "    </tr>\n",
                            "    <tr>\n",
                            "      <th>19</th>\n",
                            "      <td>20</td>\n",
                            "      <td>CO2 certificate price</td>\n",
                            "      <td>Euro (2010) / ton</td>\n",
                            "      <td>2050</td>\n",
                            "      <td>320.00</td>\n",
                            "    </tr>\n",
                            "    <tr>\n",
                            "      <th>20</th>\n",
                            "      <td>21</td>\n",
                            "      <td>Gross domestic product</td>\n",
                            "      <td>Billion Euro (2000)</td>\n",
                            "      <td>2020</td>\n",
                            "      <td>1000.00</td>\n",
                            "    </tr>\n",
                            "    <tr>\n",
                            "      <th>21</th>\n",
                            "      <td>22</td>\n",
                            "      <td>Gross domestic product</td>\n",
                            "      <td>Billion Euro (2010)</td>\n",
                            "      <td>2030</td>\n",
                            "      <td>2000.00</td>\n",
                            "    </tr>\n",
                            "    <tr>\n",
                            "      <th>22</th>\n",
                            "      <td>23</td>\n",
                            "      <td>Gross domestic product</td>\n",
                            "      <td>Billion Euro (2010)</td>\n",
                            "      <td>2040</td>\n",
                            "      <td>3000.00</td>\n",
                            "    </tr>\n",
                            "    <tr>\n",
                            "      <th>23</th>\n",
                            "      <td>24</td>\n",
                            "      <td>Gross domestic product</td>\n",
                            "      <td>Billion Euro (2010)</td>\n",
                            "      <td>2050</td>\n",
                            "      <td>4000.00</td>\n",
                            "    </tr>\n",
                            "    <tr>\n",
                            "      <th>24</th>\n",
                            "      <td>25</td>\n",
                            "      <td>fairy dust</td>\n",
                            "      <td>t</td>\n",
                            "      <td>2020</td>\n",
                            "      <td>200.00</td>\n",
                            "    </tr>\n",
                            "    <tr>\n",
                            "      <th>25</th>\n",
                            "      <td>26</td>\n",
                            "      <td>mana</td>\n",
                            "      <td>kg</td>\n",
                            "      <td>1999</td>\n",
                            "      <td>120.00</td>\n",
                            "    </tr>\n",
                            "    <tr>\n",
                            "      <th>26</th>\n",
                            "      <td>27</td>\n",
                            "      <td>the force</td>\n",
                            "      <td>l</td>\n",
                            "      <td>1998</td>\n",
                            "      <td>1100.00</td>\n",
                            "    </tr>\n",
                            "  </tbody>\n",
                            "</table>\n",
                            "</div>"
                        ],
                        "text/plain": [
                            "    id                variable                 unit  year    value\n",
                            "0    1        Antimatter price     Euro (2010) / GJ  2020     3.00\n",
                            "1    2        Antimatter price     Euro (2010) / GJ  2030     3.30\n",
                            "2    3        Antimatter price     Euro (2010) / GJ  2040     3.33\n",
                            "3    4        Antimatter price     Euro (2010) / GJ  2050     4.44\n",
                            "4    5            Fusion price     Euro (2010) / GJ  2020     1.70\n",
                            "5    6            Fusion price     Euro (2010) / GJ  2030     1.70\n",
                            "6    7            Fusion price     Euro (2010) / GJ  2040     1.70\n",
                            "7    8            Fusion price     Euro (2010) / GJ  2050     1.70\n",
                            "8    9         Naquadria price     Euro (2010) / GJ  2020    10.00\n",
                            "9   10         Naquadria price     Euro (2010) / GJ  2030    18.10\n",
                            "10  11         Naquadria price     Euro (2010) / GJ  2040    26.20\n",
                            "11  12         Naquadria price     Euro (2010) / GJ  2050    32.30\n",
                            "12  13    Power Cristals price     Euro (2010) / GJ  2020     5.50\n",
                            "13  14    Power Cristals price     Euro (2010) / GJ  2030     9.90\n",
                            "14  15    Power Cristals price     Euro (2010) / GJ  2040    11.11\n",
                            "15  16    Power Cristals price     Euro (2010) / GJ  2050    14.40\n",
                            "16  17  CO2 certificate price     Euro (2010) / ton  2020    40.00\n",
                            "17  18  CO2 certificate price     Euro (2010) / ton  2030    80.00\n",
                            "18  19  CO2 certificate price     Euro (2010) / ton  2040   160.00\n",
                            "19  20  CO2 certificate price     Euro (2010) / ton  2050   320.00\n",
                            "20  21  Gross domestic product  Billion Euro (2000)  2020  1000.00\n",
                            "21  22  Gross domestic product  Billion Euro (2010)  2030  2000.00\n",
                            "22  23  Gross domestic product  Billion Euro (2010)  2040  3000.00\n",
                            "23  24  Gross domestic product  Billion Euro (2010)  2050  4000.00\n",
                            "24  25              fairy dust                    t  2020   200.00\n",
                            "25  26                    mana                   kg  1999   120.00\n",
                            "26  27               the force                    l  1998  1100.00"
                        ]
                    },
                    "execution_count": 12,
                    "metadata": {},
                    "output_type": "execute_result"
                }
            ],
            "source": [
                "Session = sessionmaker(bind=engine)\n",
                "session = Session()\n",
                "df = pd.DataFrame(session.query(ExampleTable).all())\n",
                "session.close()\n",
                "df"
            ]
        },
        {
            "attachments": {},
            "cell_type": "markdown",
            "metadata": {},
            "source": [
                "# Delete Table"
            ]
        },
        {
            "cell_type": "code",
            "execution_count": 13,
            "metadata": {},
            "outputs": [],
            "source": [
                "ExampleTable.drop()"
            ]
        }
    ],
    "metadata": {
        "kernelspec": {
            "display_name": "Python 3",
            "language": "python",
            "name": "python3"
        },
        "language_info": {
            "codemirror_mode": {
                "name": "ipython",
                "version": 3
            },
            "file_extension": ".py",
            "mimetype": "text/x-python",
            "name": "python",
            "nbconvert_exporter": "python",
            "pygments_lexer": "ipython3",
            "version": "3.10.0"
        }
    },
    "nbformat": 4,
    "nbformat_minor": 2
}
