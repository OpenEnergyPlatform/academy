{
 "cells": [
  {
   "cell_type": "markdown",
   "metadata": {},
   "source": [
    "<img src=\"http://openenergy-platform.org/static/OEP_logo_2_no_text.svg\" alt=\"OpenEnergy Platform\" height=\"100\" width=\"100\"  align=\"left\"/>\n",
    "\n",
    "# OpenEnergyPlatform\n",
    "<br><br>\n",
    "\n",
    "# Tutorial - How Upload Your Data and Metadata to the OEP\n",
    "\n",
    "The development of tutorials for the Open Energy Family takes place publicly in a dedicated [tutorial repository](https://github.com/OpenEnergyPlatform/tutorial).<br> \n",
    "Please report bugs and suggestions as [new issues](https://github.com/OpenEnergyPlatform/template/issues). <br> \n",
    "\n",
    "license: [**GNU Affero General Public License Version 3 (AGPL-3.0)**](https://github.com/openego/data_processing/blob/master/LICENSE)<br> \n",
    "copyright: **Reiner Lemoine Institut** <br> \n",
    "authors: **christian-rli, jh-RLI, Ludee**<br> \n",
    "\n",
    "If Jupyter Notebooks are new to you and you'd like to get an introduction, have a look at this less than 10 minute [introduction video](https://www.youtube.com/watch?v=q_BzsPxwLOE). Official installation instructions are available on [jupyter's readthedocs page](https://jupyter.readthedocs.io/en/latest/install.html)."
   ]
  },
  {
   "cell_type": "markdown",
   "metadata": {},
   "source": [
    "## Introduction\n",
    "\n",
    "This resource will go through the technical process of uploading data to the OEDB. It uses example data from a csv file and corresponding metadata to illustrate the process. In order to replicate it with your own data in a jupyter notebook, you can use this empty [upload template](https://github.com/OpenEnergyPlatform/tutorial/tree/master/upload/upload_template.ipynb) with the same structure. \n",
    "\n",
    "If you need more context on the used tools and how to install them, have a look at the [Upload Process Guidebook](https://github.com/OpenEnergyPlatform/tutorial/blob/feature/upload_process_tutorial/upload/OEP_Research_Data_Publishing_Guidebook.ipynb)."
   ]
  },
  {
   "cell_type": "markdown",
   "metadata": {},
   "source": [
    "## Setup\n",
    "\n",
    "You need to be signed up to the OEP to access your username and API Token. To run this Jupyter Notebook you need to create an execution environment with all the following dependencies installed: `oem2orm`, `pandas`, `requests`, `oep_client`, `oedialect`."
   ]
  },
  {
   "cell_type": "markdown",
   "metadata": {},
   "source": [
    "## Uploading Process\n",
    "\n",
    "### Import Dependencies\n",
    "\n",
    "We will start out by creating a connection to the OEP, reading in our metadata files and creating empty tables from these. For these steps we need to import oem2orm, pandas, os and getpass."
   ]
  },
  {
   "cell_type": "code",
   "execution_count": 1,
   "metadata": {},
   "outputs": [],
   "source": [
    "from oem2orm import oep_oedialect_oem2orm as oem2orm\n",
    "import os\n",
    "import pandas as pd\n",
    "import getpass"
   ]
  },
  {
   "cell_type": "markdown",
   "metadata": {},
   "source": [
    "### Setting up the oem2orm logger\n",
    "\n",
    "If you want to see detailed runtime information on oem2orm functions or if errors occur, you can activate the logger with this simple setup function."
   ]
  },
  {
   "cell_type": "code",
   "execution_count": 2,
   "metadata": {},
   "outputs": [
    {
     "name": "stdout",
     "output_type": "stream",
     "text": [
      "Display logging information[Yes] or [No]:Yes\n",
      "logging activated\n"
     ]
    }
   ],
   "source": [
    "oem2orm.setup_logger()"
   ]
  },
  {
   "cell_type": "markdown",
   "metadata": {},
   "source": [
    "### Connection to OEP\n",
    "\n",
    "To connect to the OEP you need your OEP Token and user name. Note: You can view your token on your OEP profile page after [logging in](https://openenergy-platform.org/user/login/?next=/). The following command will prompt you for your token and store it as an environment variable. When you paste it here, it will only show dots instead of the actual string."
   ]
  },
  {
   "cell_type": "code",
   "execution_count": 3,
   "metadata": {},
   "outputs": [
    {
     "name": "stdout",
     "output_type": "stream",
     "text": [
      "Token:········\n"
     ]
    }
   ],
   "source": [
    "os.environ[\"OEP_TOKEN\"] = getpass.getpass('Token:')"
   ]
  },
  {
   "cell_type": "markdown",
   "metadata": {},
   "source": [
    "Provide your OEP-username to oem2orm in order to create a connection to the database. Your token is taken from the environment variable you've created above. Note: Using white space in your name is fine."
   ]
  },
  {
   "cell_type": "code",
   "execution_count": 4,
   "metadata": {},
   "outputs": [
    {
     "name": "stdout",
     "output_type": "stream",
     "text": [
      "Enter OEP-username:efde\n"
     ]
    }
   ],
   "source": [
    "db = oem2orm.setup_db_connection()"
   ]
  },
  {
   "cell_type": "markdown",
   "metadata": {},
   "source": [
    "### Creating sql tables from oemetadata\n",
    "\n",
    "The oemetadata format is a standardised json file format and required for all data uploaded to the OEP. It includes the data model and the used data types. This allows us to derive the necessary tables in sqlalchemy from it.\n",
    "\n",
    "In order to create the table(s) we need to tell python where to find our oemetadata file first. To do this we place them in the folder \"metadata\" which is in the current directory (Path of this jupyter notebbok). Provide the path to your own folder if you want to use your own metadata. oem2orm will process all files that are located in the folder.\n"
   ]
  },
  {
   "cell_type": "code",
   "execution_count": 5,
   "metadata": {},
   "outputs": [],
   "source": [
    "metadata_folder = oem2orm.select_oem_dir(oem_folder_name=\"#path-to-metadata-folder\")"
   ]
  },
  {
   "cell_type": "markdown",
   "metadata": {},
   "source": [
    "The next command will set up the table. The collect_tables_function collects all metadata files in a folder and retrives the SQLAlchemy ORM objects and returns them. The Tables are ordered by foreign key. Having a valid metadata strings is necessary for the following steps.\n",
    "\n",
    "\n",
    "<div class=\"alert alert-block alert-info\">\n",
    "INFO: The red output is information printed by the logger. It does not mean that an error has occurred.</div>\n"
   ]
  },
  {
   "cell_type": "code",
   "execution_count": 7,
   "metadata": {},
   "outputs": [
    {
     "ename": "AttributeError",
     "evalue": "module 'oem2orm.oep_oedialect_oem2orm' has no attribute 'collect_ordered_tables_from_oem'",
     "output_type": "error",
     "traceback": [
      "\u001b[0;31m---------------------------------------------------------------------------\u001b[0m",
      "\u001b[0;31mAttributeError\u001b[0m                            Traceback (most recent call last)",
      "\u001b[0;32m<ipython-input-7-fa0e0f5f327f>\u001b[0m in \u001b[0;36m<module>\u001b[0;34m\u001b[0m\n\u001b[0;32m----> 1\u001b[0;31m \u001b[0mordered_orm\u001b[0m \u001b[0;34m=\u001b[0m \u001b[0moem2orm\u001b[0m\u001b[0;34m.\u001b[0m\u001b[0mcollect_ordered_tables_from_oem\u001b[0m\u001b[0;34m(\u001b[0m\u001b[0mdb\u001b[0m\u001b[0;34m,\u001b[0m \u001b[0mmetadata_folder\u001b[0m\u001b[0;34m)\u001b[0m\u001b[0;34m\u001b[0m\u001b[0;34m\u001b[0m\u001b[0m\n\u001b[0m",
      "\u001b[0;31mAttributeError\u001b[0m: module 'oem2orm.oep_oedialect_oem2orm' has no attribute 'collect_ordered_tables_from_oem'"
     ]
    }
   ],
   "source": [
    "ordered_orm = oem2orm.collect_tables_from_oem(db, metadata_folder)"
   ]
  },
  {
   "cell_type": "markdown",
   "metadata": {},
   "source": [
    "Now we can use create our table objects in the database."
   ]
  },
  {
   "cell_type": "code",
   "execution_count": 8,
   "metadata": {},
   "outputs": [
    {
     "ename": "NameError",
     "evalue": "name 'ordered_orm' is not defined",
     "output_type": "error",
     "traceback": [
      "\u001b[0;31m---------------------------------------------------------------------------\u001b[0m",
      "\u001b[0;31mNameError\u001b[0m                                 Traceback (most recent call last)",
      "\u001b[0;32m<ipython-input-8-fda07bd26a77>\u001b[0m in \u001b[0;36m<module>\u001b[0;34m\u001b[0m\n\u001b[1;32m      1\u001b[0m \u001b[0;31m#create table\u001b[0m\u001b[0;34m\u001b[0m\u001b[0;34m\u001b[0m\u001b[0;34m\u001b[0m\u001b[0m\n\u001b[0;32m----> 2\u001b[0;31m \u001b[0moem2orm\u001b[0m\u001b[0;34m.\u001b[0m\u001b[0mcreate_tables\u001b[0m\u001b[0;34m(\u001b[0m\u001b[0mdb\u001b[0m\u001b[0;34m,\u001b[0m \u001b[0mordered_orm\u001b[0m\u001b[0;34m)\u001b[0m\u001b[0;34m\u001b[0m\u001b[0;34m\u001b[0m\u001b[0m\n\u001b[0m",
      "\u001b[0;31mNameError\u001b[0m: name 'ordered_orm' is not defined"
     ]
    }
   ],
   "source": [
    "#create table\n",
    "oem2orm.create_tables(db, ordered_orm)"
   ]
  },
  {
   "cell_type": "markdown",
   "metadata": {},
   "source": [
    "The tables should now be public, but empty on the OEP at the location provided in the metadata file. For this example tutorial, the created table is located in [model_draft.upload_tutorial_example_data](https://openenergy-platform.org/dataedit/view/model_draft/upload_tutorial_example_data). If you've just been playing around and don't want to write any data to the OEP, please make sure to delete your tables again. \n",
    "\n",
    "### Deleting your table\n",
    "\n",
    "Running the following commands will delete the tables from the database which you have in your ordered ORM. Take care that you only delete tables you actually want to have removed.\n",
    "\n",
    "<div class=\"alert alert-block alert-danger\">\n",
    "Skip this command, if you want to keep your table!"
   ]
  },
  {
   "cell_type": "code",
   "execution_count": null,
   "metadata": {},
   "outputs": [],
   "source": [
    "# In order to actually delete, you will need to type: yes\n",
    "oem2orm.delete_tables(db, ordered_orm)"
   ]
  },
  {
   "cell_type": "markdown",
   "metadata": {},
   "source": [
    "## Writing data into a table\n",
    "\n",
    "In this example we will upload data from a csv file. Pandas has a read_csv function which makes importing a csv-file rather comfortable. It reads csv into a DataFrame. By default, it assumes that the fields are comma-separated. Our example file has columns with semicolons as separators, so we have to specify this when reading the file.\n",
    "\n",
    "The example file for this tutorial ('upload_tutorial_example_data.csv') is in the 'data' directory, next to this tutorial. Make sure to adapt the path to the file you're using if your file is located elsewhere."
   ]
  },
  {
   "cell_type": "code",
   "execution_count": null,
   "metadata": {},
   "outputs": [],
   "source": [
    "example_df = pd.read_csv('path-to-your-data.csv', encoding='utf8', sep=';')"
   ]
  },
  {
   "cell_type": "markdown",
   "metadata": {},
   "source": [
    "We need to define the location in the OEDB where the data should be written to. The connection information is still available from our steps above. "
   ]
  },
  {
   "cell_type": "code",
   "execution_count": null,
   "metadata": {},
   "outputs": [],
   "source": [
    "schema = \"model_draft\"\n",
    "table_name = \"name-of-your-table\"\n",
    "connection = db.engine.connect()"
   ]
  },
  {
   "cell_type": "markdown",
   "metadata": {},
   "source": [
    "The following command will write the content of your dataframe to the table on the OEP that was created earlier.<br>\n",
    "Have a look in the OEP after it ran succesfully!"
   ]
  },
  {
   "cell_type": "code",
   "execution_count": null,
   "metadata": {},
   "outputs": [],
   "source": [
    "try: \n",
    "    example_df.to_sql(table_name, connection, schema=schema, if_exists='replace', index=False)\n",
    "    print('Inserted data to ' + schema + '.' + table_name)\n",
    "except Exception as e:\n",
    "    session.rollback()\n",
    "    print('Writing to ' + table_name + ' failed!')"
   ]
  },
  {
   "cell_type": "markdown",
   "metadata": {},
   "source": [
    "## Writing metadata to the table"
   ]
  },
  {
   "cell_type": "markdown",
   "metadata": {},
   "source": [
    "Now that we have data in our table it's high time, that we attach our metadata to it. Since we're using the api, some direct http-requests and a little helper function from the oep-client, we need to import these new dependencies. "
   ]
  },
  {
   "cell_type": "code",
   "execution_count": null,
   "metadata": {},
   "outputs": [],
   "source": [
    "import json\n",
    "import requests\n",
    "from oep_client import OepClient"
   ]
  },
  {
   "cell_type": "markdown",
   "metadata": {},
   "source": [
    "The token needs to be passed from the environment variable to the oep-client."
   ]
  },
  {
   "cell_type": "code",
   "execution_count": null,
   "metadata": {},
   "outputs": [],
   "source": [
    "cl = OepClient(token=os.environ[\"OEP_TOKEN\"])"
   ]
  },
  {
   "cell_type": "markdown",
   "metadata": {},
   "source": [
    "First we're reading the metadata file into a json dictionary."
   ]
  },
  {
   "cell_type": "code",
   "execution_count": null,
   "metadata": {},
   "outputs": [],
   "source": [
    "with open('path-to-your-metadata.json') as json_file:\n",
    "    data = json.load(json_file)"
   ]
  },
  {
   "cell_type": "markdown",
   "metadata": {},
   "source": [
    "There is a temporary bug in the metadata parsing tool of the OEP, that will be updated in a release of [omi](https://github.com/OpenEnergyPlatform/omi), which is soon to come. Until it's released, we can adapt our string to work around the bug and allow an upload to the OEP."
   ]
  },
  {
   "cell_type": "code",
   "execution_count": null,
   "metadata": {},
   "outputs": [],
   "source": [
    "# workaround metadata upload bug in omi-version of the OEP\n",
    "data['temporal']\n",
    "if \"temporal\" in data:\n",
    "    if \"timeseries\" in data[\"temporal\"]:\n",
    "        if \"alignment\" in data[\"temporal\"][\"timeseries\"]:\n",
    "            data[\"temporal\"][\"timeseries\"][\"timestamp\"] = data[\"temporal\"][\"timeseries\"].pop(\"alignment\")"
   ]
  },
  {
   "cell_type": "code",
   "execution_count": null,
   "metadata": {},
   "outputs": [],
   "source": [
    "cl.update_metadata(metadata=data)"
   ]
  },
  {
   "cell_type": "markdown",
   "metadata": {},
   "source": [
    "If you still have the page on the OEP with your data open, refresh it. It should now show you the metadata on its side."
   ]
  }
 ],
 "metadata": {
  "kernelspec": {
   "display_name": "Python 3",
   "language": "python",
   "name": "python3"
  },
  "language_info": {
   "codemirror_mode": {
    "name": "ipython",
    "version": 3
   },
   "file_extension": ".py",
   "mimetype": "text/x-python",
   "name": "python",
   "nbconvert_exporter": "python",
   "pygments_lexer": "ipython3",
   "version": "3.8.2"
  }
 },
 "nbformat": 4,
 "nbformat_minor": 2
}
