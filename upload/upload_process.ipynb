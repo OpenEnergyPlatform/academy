{
 "cells": [
  {
   "cell_type": "markdown",
   "metadata": {},
   "source": [
    "<img src=\"http://openenergy-platform.org/static/OEP_logo_2_no_text.svg\" alt=\"OpenEnergy Platform\" height=\"100\" width=\"100\"  align=\"left\"/>\n",
    "\n",
    "# OpenEnergyPlatform\n",
    "<br><br>\n",
    "\n",
    "# Manual - How to Upload Your Data\n",
    "\n",
    "The development of tutorials for the Open Energy Family takes place publicly in a dedicated [tutorial repository](https://github.com/OpenEnergyPlatform/tutorial).<br> \n",
    "Please report bugs and suggestions as [new issues](https://github.com/OpenEnergyPlatform/template/issues). <br> \n",
    "\n",
    "license: [**GNU Affero General Public License Version 3 (AGPL-3.0)**](https://github.com/openego/data_processing/blob/master/LICENSE)<br> \n",
    "copyright: **Reiner Lemoine Institut** <br> \n",
    "authors: **christian-rli, jh-RLI, Ludee**<br> \n",
    "\n",
    "If Jupyter Notebooks are new to you and you'd like to get a, have a look at this less than 10 minute [introduction video](https://www.youtube.com/watch?v=q_BzsPxwLOE). Official installation instructions are available on [jupyter's readthedocs page](https://jupyter.readthedocs.io/en/latest/install.html)."
   ]
  },
  {
   "cell_type": "markdown",
   "metadata": {},
   "source": [
    "## Introduction\n",
    "\n",
    "If your goal is to publish your energy system research data, this is the right resource for you. This tutorial will guide you through the process of uploading your data to the OEDB and supplying it with proper metadata. Uploading your data in this way will ensure that your data is: <br>\n",
    "\n",
    "- public\n",
    "- findable\n",
    "- structured\n",
    "- licensed openly\n",
    "- supplied with sources\n",
    "- reviewed\n",
    "\n",
    "The process will go through the following steps:\n",
    "\n",
    "1 Creation of metadata <br>\n",
    "2 Initiation of metadata review <br>\n",
    "3 Uploading data <br>"
   ]
  },
  {
   "cell_type": "markdown",
   "metadata": {},
   "source": [
    "## 1 Creation of metadata\n",
    "\n",
    "Metadata provide information about other data. By creating metadata for your dataset, you are making sure, that it is easier to find and to understand, it's supplied with its sources and its structure is well described. The OEP uses [oemetadata](https://github.com/OpenEnergyPlatform/oemetadata) as a standard, which was developed specifically for energy research modelling. It is based on json and compatible to the [datapackage standard](https://specs.frictionlessdata.io/data-package/#language). An example oemetadata file in the current version 1.4.0 is available in the [oemetadata repository](https://github.com/OpenEnergyPlatform/oemetadata/blob/develop/oemetadata/v140/example.json). \n",
    "\n",
    "Filling out a string for the first time might take a while. Once you're familiar with what the different fields stand for, it'll become much faster. You can start with an empty [template string](https://github.com/OpenEnergyPlatform/oemetadata/blob/develop/oemetadata/v140/template.json) and just work your way from top to bottom. A [description for every key](https://github.com/OpenEnergyPlatform/oemetadata/wiki/Metadata-Description) of the string with example entries is available on its repository wiki page.\n",
    "\n",
    "<div class=\"alert alert-block alert-danger\">\n",
    "When selecting a license for your data, make sure that it is an open license! \n",
    "</div>\n",
    "\n",
    "Proprietary data is not currently allowed on the OEP. We recommend using [ODbL-1.0](https://opendatacommons.org/licenses/odbl/1.0/)."
   ]
  },
  {
   "cell_type": "markdown",
   "metadata": {},
   "source": [
    "## 2 Initiation of metadata review: \n",
    "\n",
    "Once your metadata string is ready, send it in for a review! The review process takes place publicly on GitHub. Create a [new issue](https://github.com/OpenEnergyPlatform/data-preprocessing/issues) in the data-preprocessing repository. \n",
    "\n",
    "Upload your metadata string to the folder [data-review](https://github.com/OpenEnergyPlatform/data-preprocessing/tree/master/data-review) in a new branch and reference the issue you created. If you're unable or don't know how to do this, just attach your string to a comment in the issue you created and ask the reviewer to do this for you. \n",
    "\n",
    "Once the review is done the branch will be merged with the master branch and if your data is on the OEP, a reviewed badge will show next to it (still needs to be implemented).\n",
    "\n",
    "<div class=\"alert alert-block alert-info\">\n",
    "You don't need to wait for the review to be done in order to upload your data or metadata to the OEDB!\n",
    "</div>\n",
    "\n",
    "So you may just continue with the next step."
   ]
  },
  {
   "cell_type": "markdown",
   "metadata": {},
   "source": [
    "## 3 Uploading data\n",
    "\n",
    "### 3.1 Requirements\n",
    "\n",
    "The OEDB is a [PostgreSQL](https://www.postgresql.org/) database with a public, RESTful API. The OEP functions as an interface to it. Downloads from the OEDB can be carried out by anyone without registration. \n",
    "\n",
    "However, in order to upload, you will need a user account on the OpenEnergyPlatform. There you will be presented with a token, which allows you to upload data via the public API. If you haven't got one already, [create a new account](https://openenergy-platform.org/user/register). To retrieve your token, do the following:\n",
    "\n",
    "\n",
    "#### 3.1.1.  Click on the login button and sign in\n",
    "\n",
    "Login on the [OEP](https://openenergy-platform.org/user/login/?next=/).\n",
    "\n",
    "<img src=\"images/login.png\"  alt=\"OpenEnergy Platform login\" height=\"100\" width=\"100\" align=\"left\"/>  <br><br>\n",
    "\n",
    "\n",
    "#### 3.1.2.  Copy your token\n",
    "\n",
    "Click on your Profile Name to see your information. To view your token, click on \"Show token\" \n",
    "\n",
    "<img src=\"images/token.png\"  alt=\"OpenEnergy Platform Token\" height=\"400\" width=\"500\" align=\"left\" /> "
   ]
  },
  {
   "cell_type": "markdown",
   "metadata": {},
   "source": [
    "3.2. Using the API\n",
    "\n",
    "The full [API documentation](https://oep-data-interface.readthedocs.io/en/latest/api/how_to.html#authenticate) for working with the OEDB is available on readthedocs. You can access the API with any tool that can send HTTP-requests.\n",
    "\n",
    "Uploading data to the can take place in different ways. \n",
    "\n",
    "Uploading a csv, geopackage..."
   ]
  },
  {
   "cell_type": "code",
   "execution_count": null,
   "metadata": {},
   "outputs": [],
   "source": []
  }
 ],
 "metadata": {
  "kernelspec": {
   "display_name": "Python 3",
   "language": "python",
   "name": "python3"
  },
  "language_info": {
   "codemirror_mode": {
    "name": "ipython",
    "version": 3
   },
   "file_extension": ".py",
   "mimetype": "text/x-python",
   "name": "python",
   "nbconvert_exporter": "python",
   "pygments_lexer": "ipython3",
   "version": "3.7.1"
  }
 },
 "nbformat": 4,
 "nbformat_minor": 1
}
