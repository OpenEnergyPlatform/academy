{
 "cells": [
  {
   "cell_type": "markdown",
   "metadata": {},
   "source": [
    "<img src=\"http://openenergy-platform.org/static/OEP_logo_2_no_text.svg\" alt=\"OpenEnergy Platform\" height=\"100\" width=\"100\"  align=\"left\"/>\n",
    "\n",
    "# OpenEnergyPlatform\n",
    "<br><br>\n",
    "\n",
    "# Tutorial - How to Upload Your Data\n",
    "\n",
    "The (development) location of this tutorial is [here](https://github.com/OpenEnergyPlatform/examples).\n",
    "Please report bugs and suggestions [here](https://github.com/OpenEnergyPlatform/examples/issues). <br> \n",
    "\n",
    "license: [**GNU Affero General Public License Version 3 (AGPL-3.0)**](https://github.com/openego/data_processing/blob/master/LICENSE)<br> \n",
    "copyright: **Reiner Lemoine Institut** <br> \n",
    "authors: **christian-rli, jh-rli, Ludee**<br> \n",
    "\n",
    "If Jupyter Notebooks are new to you and you'd like to get a less than 10 minute introduction, have a look [here](https://www.youtube.com/watch?v=q_BzsPxwLOE). Official installation instructions are [here](https://jupyter.readthedocs.io/en/latest/install.html)."
   ]
  },
  {
   "cell_type": "markdown",
   "metadata": {},
   "source": [
    "## Introduction\n",
    "\n",
    "If your goal is to publish your data and make it available for everyone, this is the right resource for you. This tutorial will guide you through the process of uploading your data to the OEDB. Uploading your data in this way will ensure that your data is: <br>\n",
    "\n",
    "- public\n",
    "- findable\n",
    "- structured\n",
    "- licensed openly\n",
    "- supplied with sources\n",
    "- reviewed\n",
    "\n",
    "The process will go through the following steps:\n",
    "\n",
    "1 Creation of metadata <br>\n",
    "2 Initiation of metadata review <br>\n",
    "3 Uploading data <br>"
   ]
  },
  {
   "cell_type": "markdown",
   "metadata": {},
   "source": [
    "## 1 Creation of metadata\n",
    "\n",
    "Metadata provides information about other data. By creating metadata for your dataset, you are making sure, that it is supplied with its sources, its structure is well described, easier to find and to understand.\n",
    "\n",
    "The OEP uses a metadata standard developed specifically for energy research modelling. [Link to example](https://github.com/OpenEnergyPlatform/oemetadata/blob/develop/oemetadata/v140/example.json)\n",
    "\n",
    "\n",
    "\n",
    "To describe your data as good as possible. Important: sources: [Link to standard](https://github.com/OpenEnergyPlatform/oemetadata/blob/develop/oemetadata/v140/example.json) (as good as possible. Important: sources): \n",
    "Push data: https://github.com/OpenEnergyPlatform/examples/tree/master/data/datapackage/oep-scenario-data-datapackage\n",
    "Check open licences\n",
    "Upload to OEP"
   ]
  },
  {
   "cell_type": "markdown",
   "metadata": {},
   "source": [
    "## 2 Initiation of metadata review: \n",
    "Create an Issue https://github.com/OpenEnergyPlatform/data-preprocessing/issues\n",
    "\n",
    "Push meta data and link it: https://github.com/OpenEnergyPlatform/data-preprocessing/tree/master/data-review"
   ]
  },
  {
   "cell_type": "markdown",
   "metadata": {},
   "source": [
    "## 3 Uploading data\n"
   ]
  },
  {
   "cell_type": "code",
   "execution_count": null,
   "metadata": {},
   "outputs": [],
   "source": []
  }
 ],
 "metadata": {
  "kernelspec": {
   "display_name": "Python 3",
   "language": "python",
   "name": "python3"
  },
  "language_info": {
   "codemirror_mode": {
    "name": "ipython",
    "version": 3
   },
   "file_extension": ".py",
   "mimetype": "text/x-python",
   "name": "python",
   "nbconvert_exporter": "python",
   "pygments_lexer": "ipython3",
   "version": "3.7.1"
  }
 },
 "nbformat": 4,
 "nbformat_minor": 1
}
