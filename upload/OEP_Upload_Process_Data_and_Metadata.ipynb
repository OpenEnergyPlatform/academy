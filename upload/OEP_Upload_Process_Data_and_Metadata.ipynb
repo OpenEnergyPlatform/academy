{
 "cells": [
  {
   "cell_type": "code",
   "execution_count": null,
   "metadata": {},
   "outputs": [],
   "source": [
    "from oem2orm import oep_oedialect_oem2orm as oem2orm\n",
    "import os\n",
    "import pandas as pd\n",
    "import getpass"
   ]
  },
  {
   "cell_type": "code",
   "execution_count": null,
   "metadata": {},
   "outputs": [],
   "source": [
    "oem2orm.setup_logger()"
   ]
  },
  {
   "cell_type": "code",
   "execution_count": null,
   "metadata": {},
   "outputs": [],
   "source": [
    "os.environ[\"OEP_TOKEN\"] = getpass.getpass('Token:')"
   ]
  },
  {
   "cell_type": "code",
   "execution_count": null,
   "metadata": {},
   "outputs": [],
   "source": [
    "# provide your OEP-username to create a connection to the database, \n",
    "# your token is taken from the environment variable you've created above\n",
    "db = oem2orm.setup_db_connection()"
   ]
  },
  {
   "cell_type": "code",
   "execution_count": null,
   "metadata": {},
   "outputs": [],
   "source": [
    "metadata_folder = oem2orm.select_oem_dir(oem_folder_name=\"metadata\")"
   ]
  },
  {
   "cell_type": "code",
   "execution_count": null,
   "metadata": {},
   "outputs": [],
   "source": [
    "ordered_orm = oem2orm.collect_ordered_tables_from_oem(db, metadata_folder)"
   ]
  },
  {
   "cell_type": "code",
   "execution_count": null,
   "metadata": {},
   "outputs": [],
   "source": [
    "#create table\n",
    "oem2orm.create_tables(db, ordered_orm)"
   ]
  },
  {
   "cell_type": "markdown",
   "metadata": {},
   "source": [
    "## Writing data into a table"
   ]
  },
  {
   "cell_type": "code",
   "execution_count": null,
   "metadata": {},
   "outputs": [],
   "source": [
    "example_df = pd.read_csv('data/upload_tutorial_example_data.csv', encoding='utf8', sep=';')"
   ]
  },
  {
   "cell_type": "code",
   "execution_count": null,
   "metadata": {},
   "outputs": [],
   "source": [
    "table_name = \"upload_tutorial_example_data3\"\n",
    "connection = db.engine.connect()\n",
    "schema = \"model_draft\""
   ]
  },
  {
   "cell_type": "code",
   "execution_count": null,
   "metadata": {},
   "outputs": [],
   "source": [
    "try: \n",
    "    example_df.to_sql(table_name, connection, schema=schema, if_exists='replace', index=False)\n",
    "    print('Inserted data to ' + schema + '.' + table_name)\n",
    "except Exception as e:\n",
    "    session.rollback()\n",
    "    print('Writing to ' + table_name + ' failed!')"
   ]
  },
  {
   "cell_type": "markdown",
   "metadata": {},
   "source": [
    "## Writing metadata to table"
   ]
  },
  {
   "cell_type": "code",
   "execution_count": null,
   "metadata": {},
   "outputs": [],
   "source": [
    "import json\n",
    "import requests\n",
    "from oep_client import OepClient"
   ]
  },
  {
   "cell_type": "code",
   "execution_count": null,
   "metadata": {},
   "outputs": [],
   "source": [
    "# The token needs to be passed to the oep-client \n",
    "cl = OepClient(token=os.environ[\"OEP_TOKEN\"])"
   ]
  },
  {
   "cell_type": "code",
   "execution_count": null,
   "metadata": {},
   "outputs": [],
   "source": [
    "# Read the metadata file into a json object\n",
    "with open('metadata/example_metadata.json') as json_file:\n",
    "    data = json.load(json_file)"
   ]
  },
  {
   "cell_type": "markdown",
   "metadata": {},
   "source": [
    "There is a temporary bug in the metadata parsing tool of the OEP, that will be updated in a release of [omi](https://github.com/OpenEnergyPlatform/omi), which is soon to come. Until it's released, we can adapt our string to work around the bug and allow an upload to the OEP."
   ]
  },
  {
   "cell_type": "code",
   "execution_count": null,
   "metadata": {},
   "outputs": [],
   "source": [
    "# workaround metadata upload bug in omi-version of the OEP\n",
    "data['temporal']\n",
    "if \"temporal\" in data:\n",
    "    if \"timeseries\" in data[\"temporal\"]:\n",
    "        if \"alignment\" in data[\"temporal\"][\"timeseries\"]:\n",
    "            data[\"temporal\"][\"timeseries\"][\"timestamp\"] = data[\"temporal\"][\"timeseries\"].pop(\"alignment\")"
   ]
  },
  {
   "cell_type": "code",
   "execution_count": null,
   "metadata": {},
   "outputs": [],
   "source": [
    "cl.update_metadata(metadata=data)"
   ]
  },
  {
   "cell_type": "markdown",
   "metadata": {},
   "source": [
    "## Deleting your table\n",
    "\n",
    "Running the following commands will delete the tables from the database which you have in your ordered ORM. Take care that you only delete tables you actually want to have removed."
   ]
  },
  {
   "cell_type": "code",
   "execution_count": null,
   "metadata": {},
   "outputs": [],
   "source": [
    "# You need to type yes if you want to actually delete the table\n",
    "oem2orm.delete_tables(db, ordered_orm)"
   ]
  },
  {
   "cell_type": "code",
   "execution_count": null,
   "metadata": {},
   "outputs": [],
   "source": []
  }
 ],
 "metadata": {
  "kernelspec": {
   "display_name": "Python 3",
   "language": "python",
   "name": "python3"
  },
  "language_info": {
   "codemirror_mode": {
    "name": "ipython",
    "version": 3
   },
   "file_extension": ".py",
   "mimetype": "text/x-python",
   "name": "python",
   "nbconvert_exporter": "python",
   "pygments_lexer": "ipython3",
   "version": "3.7.1"
  }
 },
 "nbformat": 4,
 "nbformat_minor": 2
}
