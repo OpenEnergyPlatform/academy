{
 "cells": [
  {
   "cell_type": "markdown",
   "metadata": {
    "collapsed": true
   },
   "source": [
    "<img src=\"http://openenergy-platform.org/static/OEP_logo_2_no_text.svg\" alt=\"OpenEnergy Platform\" height=\"100\" width=\"100\"  align=\"left\"/>\n",
    "\n",
    "# OpenEnergyPlatform\n",
    "<br><br>\n",
    "\n",
    "## Normalizing / Denormalizing\n",
    "\n",
    "Please report bugs and improvements here: https://github.com/OpenEnergyPlatform/oedialect/issues <br>"
   ]
  },
  {
   "cell_type": "code",
   "execution_count": null,
   "metadata": {},
   "outputs": [],
   "source": [
    "__copyright__ = \"Reiner Lemoine Institut\"\n",
    "__license__   = \"GNU Affero General Public License Version 3 (AGPL-3.0)\"\n",
    "__url__       = \"https://github.com/openego/data_processing/blob/master/LICENSE\"\n",
    "__author__    = \"oakca\""
   ]
  },
  {
   "cell_type": "code",
   "execution_count": null,
   "metadata": {},
   "outputs": [],
   "source": [
    "import pandas as pd"
   ]
  },
  {
   "cell_type": "code",
   "execution_count": null,
   "metadata": {},
   "outputs": [],
   "source": [
    "# open df.xlsx\n",
    "with pd.ExcelFile('df.xlsx') as xls:\n",
    "\n",
    "    # save Sheet1 in df.xlsx as df\n",
    "    df = xls.parse('Sheet1')\n",
    "\n",
    "# show df\n",
    "df"
   ]
  },
  {
   "cell_type": "markdown",
   "metadata": {},
   "source": [
    "## Normalizing"
   ]
  },
  {
   "cell_type": "code",
   "execution_count": null,
   "metadata": {},
   "outputs": [],
   "source": [
    "# normalizing the df with melt, we also add column unit\n",
    "norm = df.melt(['Site', 'Process']).assign(unit='').sort_values(['Site','Process']).reset_index(drop=True)\n",
    "\n",
    "# assign values for unit\n",
    "unit = {'inst-cap': 'MW', 'cap-lo': 'MW', 'cap-up': 'MW',\n",
    "        'inv-cost': '€/MW', 'fix-cost': '€/MW/a', 'var-cost': '€/MWh',\n",
    "        'wacc': None, 'depreciation': 'a'}\n",
    "norm['unit'] = norm['variable'].map(unit)\n",
    "\n",
    "# show normalized df\n",
    "norm"
   ]
  },
  {
   "cell_type": "markdown",
   "metadata": {},
   "source": [
    "## Denormalizing"
   ]
  },
  {
   "cell_type": "code",
   "execution_count": null,
   "metadata": {},
   "outputs": [],
   "source": [
    "# denormalizing the norm with pivot_table\n",
    "denorm = norm.pivot_table(values='value', index=['Site', 'Process'], columns='variable').reset_index()\n",
    "\n",
    "# remove the variable axis name\n",
    "denorm = denorm.rename_axis(None, axis=1) \n",
    "\n",
    "# show denormalized df\n",
    "denorm\n",
    "\n",
    "# note: the only difference between denorm and df is that the column names are in alphabetic order"
   ]
  },
  {
   "cell_type": "code",
   "execution_count": null,
   "metadata": {},
   "outputs": [],
   "source": [
    "# in some cases pivot_table() is problematic. \n",
    "# So unstack() can be also used for denormalizing via:\n",
    "\n",
    "# denormalizing the norm with unstack\n",
    "denorm = norm.set_index(['Site', 'Process', 'variable'])['value'].unstack().reset_index()\n",
    "\n",
    "# remove the variable axis name\n",
    "denorm = denorm.rename_axis(None, axis=1) \n",
    "\n",
    "# show denormalized df\n",
    "denorm"
   ]
  },
  {
   "cell_type": "code",
   "execution_count": null,
   "metadata": {},
   "outputs": [],
   "source": []
  }
 ],
 "metadata": {
  "kernelspec": {
   "display_name": "Python 3",
   "language": "python",
   "name": "python3"
  },
  "language_info": {
   "codemirror_mode": {
    "name": "ipython",
    "version": 3
   },
   "file_extension": ".py",
   "mimetype": "text/x-python",
   "name": "python",
   "nbconvert_exporter": "python",
   "pygments_lexer": "ipython3",
   "version": "3.6.7"
  }
 },
 "nbformat": 4,
 "nbformat_minor": 2
}
