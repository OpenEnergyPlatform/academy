{
 "cells": [
  {
   "cell_type": "markdown",
   "metadata": {},
   "source": [
    "<img src=\"http://openenergy-platform.org/static/OEP_logo_2_no_text.svg\" alt=\"OpenEnergy Platform\" height=\"100\" width=\"100\"  align=\"left\"/>\n",
    "\n",
    "\n",
    "# OpenEnergy Platform\n",
    "<br><br>\n",
    "\n",
    "# Tutorial 3 - How to work with the OpenEnergy Platform (OEP)\n",
    "Repository: https://github.com/openego/oedialect\n",
    "\n",
    "Please report bugs and improvements here: https://github.com/OpenEnergyPlatform/examples/issues <br>\n",
    "How to get started with Jupyter Notebooks can be found here: https://github.com/OpenEnergyPlatform/oeplatform/wiki"
   ]
  },
  {
   "cell_type": "code",
   "execution_count": null,
   "metadata": {
    "collapsed": true
   },
   "outputs": [],
   "source": [
    "__copyright__ = \"Reiner Lemoine Institut, Zentrum für nachhaltige Energiesysteme Flensburg\"\n",
    "__license__   = \"GNU Affero General Public License Version 3 (AGPL-3.0)\"\n",
    "__url__       = \"https://github.com/openego/data_processing/blob/master/LICENSE\"\n",
    "__author__    = \"wolfbunke, Ludee\""
   ]
  },
  {
   "cell_type": "markdown",
   "metadata": {},
   "source": [
    "\n",
    "## Introduction\n",
    "<br>\n",
    "<div class=\"alert alert-block alert-danger\">\n",
    "This is an important information!\n",
    "</div>\n",
    "<div class=\"alert alert-block alert-info\">\n",
    "This is an information!\n",
    "</div>\n",
    "<div class=\"alert alert-block alert-success\">\n",
    "This is your task!\n",
    "</div>\n",
    "\n",
    "This tutorial gives you an overview of the [**OpenEnergy Platform**](http://oep.iks.cs.ovgu.de/) and how you can work with the **REST-full-HTTP** API in Python. <br>\n",
    "The full API documentaion can be found on [ReadtheDocs.io](http://oep-data-interface.readthedocs.io/en/latest/api/how_to.html#authenticate \"OpenEnergyPlatform’s documentation\").\n",
    "\n",
    "\n",
    "## Part III - Content\n",
    "\n",
    "0 Setup token <br>\n",
    "1 Select data <br>\n",
    "2 Make a pandas dataframe <br>\n",
    "3 Plot a dataframe (geo plot)\n"
   ]
  },
  {
   "cell_type": "markdown",
   "metadata": {},
   "source": [
    "# Part III\n",
    "\n",
    "## 0. Setup token\n",
    "<div class=\"alert alert-block alert-info\">\n",
    "The token is used to verify the API interaction for your OEP user.\n",
    "</div>\n",
    "<div class=\"alert alert-block alert-danger\">\n",
    "Do not push your token to GitHub!\n",
    "</div>"
   ]
  },
  {
   "cell_type": "code",
   "execution_count": 2,
   "metadata": {},
   "outputs": [],
   "source": [
    "import requests\n",
    "import pandas as pd\n",
    "from IPython.core.display import HTML\n",
    "\n",
    "from token_config import oep_url, get_oep_token\n",
    "\n",
    "# token\n",
    "your_token = get_oep_token()"
   ]
  },
  {
   "cell_type": "markdown",
   "metadata": {},
   "source": [
    "## 1. Select data"
   ]
  },
  {
   "cell_type": "code",
   "execution_count": 3,
   "metadata": {},
   "outputs": [
    {
     "ename": "ModuleNotFoundError",
     "evalue": "No module named 'geopandas'",
     "output_type": "error",
     "traceback": [
      "\u001b[1;31m---------------------------------------------------------------------------\u001b[0m",
      "\u001b[1;31mModuleNotFoundError\u001b[0m                       Traceback (most recent call last)",
      "\u001b[1;32m<ipython-input-3-2810bd6553fb>\u001b[0m in \u001b[0;36m<module>\u001b[1;34m()\u001b[0m\n\u001b[1;32m----> 1\u001b[1;33m \u001b[1;32mimport\u001b[0m \u001b[0mgeopandas\u001b[0m \u001b[1;32mas\u001b[0m \u001b[0mgpd\u001b[0m\u001b[1;33m\u001b[0m\u001b[0m\n\u001b[0m\u001b[0;32m      2\u001b[0m \u001b[1;32mfrom\u001b[0m \u001b[0mshapely\u001b[0m\u001b[1;33m.\u001b[0m\u001b[0mgeometry\u001b[0m \u001b[1;32mimport\u001b[0m \u001b[0mPoint\u001b[0m\u001b[1;33m\u001b[0m\u001b[0m\n\u001b[0;32m      3\u001b[0m \u001b[1;32mimport\u001b[0m \u001b[0mshapely\u001b[0m\u001b[1;33m.\u001b[0m\u001b[0mwkt\u001b[0m\u001b[1;33m\u001b[0m\u001b[0m\n\u001b[0;32m      4\u001b[0m \u001b[1;32mfrom\u001b[0m \u001b[0mshapely\u001b[0m \u001b[1;32mimport\u001b[0m \u001b[0mwkb\u001b[0m\u001b[1;33m\u001b[0m\u001b[0m\n\u001b[0;32m      5\u001b[0m \u001b[1;32mfrom\u001b[0m \u001b[0mgeoalchemy2\u001b[0m\u001b[1;33m.\u001b[0m\u001b[0mshape\u001b[0m \u001b[1;32mimport\u001b[0m \u001b[0mto_shape\u001b[0m\u001b[1;33m\u001b[0m\u001b[0m\n",
      "\u001b[1;31mModuleNotFoundError\u001b[0m: No module named 'geopandas'"
     ]
    }
   ],
   "source": [
    "import geopandas as gpd\n",
    "from shapely.geometry import Point\n",
    "import shapely.wkt\n",
    "from shapely import wkb\n",
    "from geoalchemy2.shape import to_shape"
   ]
  },
  {
   "cell_type": "code",
   "execution_count": 4,
   "metadata": {},
   "outputs": [
    {
     "data": {
      "text/plain": [
       "200"
      ]
     },
     "execution_count": 4,
     "metadata": {},
     "output_type": "execute_result"
    }
   ],
   "source": [
    "# select powerplant data\n",
    "schema = 'supply'\n",
    "table = 'ego_dp_conv_powerplant'\n",
    "where = 'version=v0.2.10'\n",
    "\n",
    "conv_powerplants = requests.get(oep_url+'/api/v0/schema/'+schema+'/tables/'+table+'/rows/?where='+where, )\n",
    "conv_powerplants.status_code"
   ]
  },
  {
   "cell_type": "markdown",
   "metadata": {},
   "source": [
    "<div class=\"alert alert-block alert-info\">\n",
    "**200** succesfully selected data! <br>\n",
    "</div>"
   ]
  },
  {
   "cell_type": "code",
   "execution_count": 5,
   "metadata": {},
   "outputs": [
    {
     "data": {
      "text/plain": [
       "200"
      ]
     },
     "execution_count": 5,
     "metadata": {},
     "output_type": "execute_result"
    }
   ],
   "source": [
    "# select borders\n",
    "schema = 'boundaries'\n",
    "table = 'bkg_vg250_2_lan_mview'\n",
    "\n",
    "vg = requests.get(oep_url+'/api/v0/schema/'+schema+'/tables/'+table+'/rows/')\n",
    "vg.status_code"
   ]
  },
  {
   "cell_type": "markdown",
   "metadata": {},
   "source": [
    "<div class=\"alert alert-block alert-info\">\n",
    "**200** succesfully selected data! <br>\n",
    "</div>"
   ]
  },
  {
   "cell_type": "markdown",
   "metadata": {},
   "source": [
    "## 2. Make a pandas dataframe"
   ]
  },
  {
   "cell_type": "markdown",
   "metadata": {},
   "source": [
    "<div class=\"alert alert-block alert-success\">\n",
    "Create pandas dataframes for each API result!\n",
    "</div>"
   ]
  },
  {
   "cell_type": "code",
   "execution_count": 6,
   "metadata": {},
   "outputs": [],
   "source": [
    "# Create dataframe from json format\n",
    "df_pp = pd.DataFrame(conv_powerplants.json())\n",
    "df_vg = pd.DataFrame(vg.json())"
   ]
  },
  {
   "cell_type": "markdown",
   "metadata": {},
   "source": [
    "<div class=\"alert alert-block alert-success\">\n",
    "Let's take a look into our data!\n",
    "</div>"
   ]
  },
  {
   "cell_type": "code",
   "execution_count": 7,
   "metadata": {},
   "outputs": [
    {
     "name": "stdout",
     "output_type": "stream",
     "text": [
      "<class 'pandas.core.frame.DataFrame'>\n",
      "RangeIndex: 879 entries, 0 to 878\n",
      "Data columns (total 42 columns):\n",
      "block                    638 non-null object\n",
      "bnetza_id                879 non-null object\n",
      "capacity                 879 non-null float64\n",
      "capacity_uba             214 non-null float64\n",
      "chp                      856 non-null object\n",
      "chp_capacity_uba         111 non-null float64\n",
      "city                     879 non-null object\n",
      "comment                  879 non-null object\n",
      "commissioned             877 non-null float64\n",
      "commissioned_original    878 non-null object\n",
      "company                  876 non-null object\n",
      "eeg                      879 non-null object\n",
      "efficiency_data          135 non-null float64\n",
      "efficiency_estimate      685 non-null float64\n",
      "flag                     0 non-null object\n",
      "fuel                     879 non-null object\n",
      "geom                     879 non-null object\n",
      "id                       879 non-null int64\n",
      "la_id                    0 non-null object\n",
      "lat                      879 non-null float64\n",
      "lon                      879 non-null float64\n",
      "name                     845 non-null object\n",
      "name_uba                 331 non-null object\n",
      "network_node             744 non-null object\n",
      "network_operator         875 non-null object\n",
      "nuts                     0 non-null object\n",
      "otg_id                   879 non-null int64\n",
      "postcode                 879 non-null object\n",
      "preversion               0 non-null object\n",
      "retrofit                 76 non-null float64\n",
      "scenario                 879 non-null object\n",
      "shutdown                 54 non-null float64\n",
      "state                    879 non-null object\n",
      "status                   879 non-null object\n",
      "street                   476 non-null object\n",
      "subst_id                 879 non-null int64\n",
      "technology               879 non-null object\n",
      "type                     331 non-null object\n",
      "un_id                    810 non-null float64\n",
      "version                  879 non-null object\n",
      "voltage                  843 non-null object\n",
      "voltage_level            879 non-null int64\n",
      "dtypes: float64(11), int64(4), object(27)\n",
      "memory usage: 288.5+ KB\n"
     ]
    }
   ],
   "source": [
    "# Show metadata for a specific dataframe.\n",
    "df_pp.info()"
   ]
  },
  {
   "cell_type": "code",
   "execution_count": 8,
   "metadata": {},
   "outputs": [
    {
     "data": {
      "text/plain": [
       "Index(['block', 'bnetza_id', 'capacity', 'capacity_uba', 'chp',\n",
       "       'chp_capacity_uba', 'city', 'comment', 'commissioned',\n",
       "       'commissioned_original', 'company', 'eeg', 'efficiency_data',\n",
       "       'efficiency_estimate', 'flag', 'fuel', 'geom', 'id', 'la_id', 'lat',\n",
       "       'lon', 'name', 'name_uba', 'network_node', 'network_operator', 'nuts',\n",
       "       'otg_id', 'postcode', 'preversion', 'retrofit', 'scenario', 'shutdown',\n",
       "       'state', 'status', 'street', 'subst_id', 'technology', 'type', 'un_id',\n",
       "       'version', 'voltage', 'voltage_level'],\n",
       "      dtype='object')"
      ]
     },
     "execution_count": 8,
     "metadata": {},
     "output_type": "execute_result"
    }
   ],
   "source": [
    "# List all column names for a specific dataframe. \n",
    "df_pp.columns"
   ]
  },
  {
   "cell_type": "code",
   "execution_count": 9,
   "metadata": {},
   "outputs": [
    {
     "data": {
      "text/html": [
       "<div>\n",
       "<style scoped>\n",
       "    .dataframe tbody tr th:only-of-type {\n",
       "        vertical-align: middle;\n",
       "    }\n",
       "\n",
       "    .dataframe tbody tr th {\n",
       "        vertical-align: top;\n",
       "    }\n",
       "\n",
       "    .dataframe thead th {\n",
       "        text-align: right;\n",
       "    }\n",
       "</style>\n",
       "<table border=\"1\" class=\"dataframe\">\n",
       "  <thead>\n",
       "    <tr style=\"text-align: right;\">\n",
       "      <th></th>\n",
       "      <th>ags_0</th>\n",
       "      <th>gen</th>\n",
       "      <th>geom</th>\n",
       "      <th>reference_date</th>\n",
       "    </tr>\n",
       "  </thead>\n",
       "  <tbody>\n",
       "    <tr>\n",
       "      <th>0</th>\n",
       "      <td>01000000</td>\n",
       "      <td>Schleswig-Holstein</td>\n",
       "      <td>010600000001000000010300000001000000AA0B00006B...</td>\n",
       "      <td>2016-01-01</td>\n",
       "    </tr>\n",
       "    <tr>\n",
       "      <th>1</th>\n",
       "      <td>02000000</td>\n",
       "      <td>Hamburg</td>\n",
       "      <td>01060000000200000001030000000100000011000000C7...</td>\n",
       "      <td>2016-01-01</td>\n",
       "    </tr>\n",
       "    <tr>\n",
       "      <th>2</th>\n",
       "      <td>03000000</td>\n",
       "      <td>Niedersachsen</td>\n",
       "      <td>010600000002000000010300000005000000F627000036...</td>\n",
       "      <td>2016-01-01</td>\n",
       "    </tr>\n",
       "    <tr>\n",
       "      <th>3</th>\n",
       "      <td>04000000</td>\n",
       "      <td>Bremen</td>\n",
       "      <td>0106000000040000000103000000010000006204000009...</td>\n",
       "      <td>2016-01-01</td>\n",
       "    </tr>\n",
       "    <tr>\n",
       "      <th>4</th>\n",
       "      <td>05000000</td>\n",
       "      <td>Nordrhein-Westfalen</td>\n",
       "      <td>010600000005000000010300000001000000D82300001C...</td>\n",
       "      <td>2016-01-01</td>\n",
       "    </tr>\n",
       "    <tr>\n",
       "      <th>5</th>\n",
       "      <td>06000000</td>\n",
       "      <td>Hessen</td>\n",
       "      <td>010600000002000000010300000001000000181E0000BE...</td>\n",
       "      <td>2016-01-01</td>\n",
       "    </tr>\n",
       "    <tr>\n",
       "      <th>6</th>\n",
       "      <td>07000000</td>\n",
       "      <td>Rheinland-Pfalz</td>\n",
       "      <td>010600000001000000010300000001000000481C0000D0...</td>\n",
       "      <td>2016-01-01</td>\n",
       "    </tr>\n",
       "    <tr>\n",
       "      <th>7</th>\n",
       "      <td>08000000</td>\n",
       "      <td>Baden-Württemberg</td>\n",
       "      <td>0106000000030000000103000000010000008700000085...</td>\n",
       "      <td>2016-01-01</td>\n",
       "    </tr>\n",
       "    <tr>\n",
       "      <th>8</th>\n",
       "      <td>09000000</td>\n",
       "      <td>Bayern</td>\n",
       "      <td>010600000001000000010300000001000000C649000002...</td>\n",
       "      <td>2016-01-01</td>\n",
       "    </tr>\n",
       "    <tr>\n",
       "      <th>9</th>\n",
       "      <td>10000000</td>\n",
       "      <td>Saarland</td>\n",
       "      <td>01060000000100000001030000000100000002090000AC...</td>\n",
       "      <td>2016-01-01</td>\n",
       "    </tr>\n",
       "    <tr>\n",
       "      <th>10</th>\n",
       "      <td>11000000</td>\n",
       "      <td>Berlin</td>\n",
       "      <td>010600000001000000010300000001000000650400007D...</td>\n",
       "      <td>2016-01-01</td>\n",
       "    </tr>\n",
       "    <tr>\n",
       "      <th>11</th>\n",
       "      <td>12000000</td>\n",
       "      <td>Brandenburg</td>\n",
       "      <td>010600000004000000010300000002000000E020000013...</td>\n",
       "      <td>2016-01-01</td>\n",
       "    </tr>\n",
       "    <tr>\n",
       "      <th>12</th>\n",
       "      <td>13000000</td>\n",
       "      <td>Mecklenburg-Vorpommern</td>\n",
       "      <td>0106000000010000000103000000010000005F150000BB...</td>\n",
       "      <td>2016-01-01</td>\n",
       "    </tr>\n",
       "    <tr>\n",
       "      <th>13</th>\n",
       "      <td>14000000</td>\n",
       "      <td>Sachsen</td>\n",
       "      <td>010600000001000000010300000001000000A724000003...</td>\n",
       "      <td>2016-01-01</td>\n",
       "    </tr>\n",
       "    <tr>\n",
       "      <th>14</th>\n",
       "      <td>15000000</td>\n",
       "      <td>Sachsen-Anhalt</td>\n",
       "      <td>0106000000020000000103000000040000000B1D00008C...</td>\n",
       "      <td>2016-01-01</td>\n",
       "    </tr>\n",
       "    <tr>\n",
       "      <th>15</th>\n",
       "      <td>16000000</td>\n",
       "      <td>Thüringen</td>\n",
       "      <td>010600000001000000010300000002000000A51D000054...</td>\n",
       "      <td>2016-01-01</td>\n",
       "    </tr>\n",
       "  </tbody>\n",
       "</table>\n",
       "</div>"
      ],
      "text/plain": [
       "       ags_0                     gen  \\\n",
       "0   01000000      Schleswig-Holstein   \n",
       "1   02000000                 Hamburg   \n",
       "2   03000000           Niedersachsen   \n",
       "3   04000000                  Bremen   \n",
       "4   05000000     Nordrhein-Westfalen   \n",
       "5   06000000                  Hessen   \n",
       "6   07000000         Rheinland-Pfalz   \n",
       "7   08000000       Baden-Württemberg   \n",
       "8   09000000                  Bayern   \n",
       "9   10000000                Saarland   \n",
       "10  11000000                  Berlin   \n",
       "11  12000000             Brandenburg   \n",
       "12  13000000  Mecklenburg-Vorpommern   \n",
       "13  14000000                 Sachsen   \n",
       "14  15000000          Sachsen-Anhalt   \n",
       "15  16000000               Thüringen   \n",
       "\n",
       "                                                 geom reference_date  \n",
       "0   010600000001000000010300000001000000AA0B00006B...     2016-01-01  \n",
       "1   01060000000200000001030000000100000011000000C7...     2016-01-01  \n",
       "2   010600000002000000010300000005000000F627000036...     2016-01-01  \n",
       "3   0106000000040000000103000000010000006204000009...     2016-01-01  \n",
       "4   010600000005000000010300000001000000D82300001C...     2016-01-01  \n",
       "5   010600000002000000010300000001000000181E0000BE...     2016-01-01  \n",
       "6   010600000001000000010300000001000000481C0000D0...     2016-01-01  \n",
       "7   0106000000030000000103000000010000008700000085...     2016-01-01  \n",
       "8   010600000001000000010300000001000000C649000002...     2016-01-01  \n",
       "9   01060000000100000001030000000100000002090000AC...     2016-01-01  \n",
       "10  010600000001000000010300000001000000650400007D...     2016-01-01  \n",
       "11  010600000004000000010300000002000000E020000013...     2016-01-01  \n",
       "12  0106000000010000000103000000010000005F150000BB...     2016-01-01  \n",
       "13  010600000001000000010300000001000000A724000003...     2016-01-01  \n",
       "14  0106000000020000000103000000040000000B1D00008C...     2016-01-01  \n",
       "15  010600000001000000010300000002000000A51D000054...     2016-01-01  "
      ]
     },
     "execution_count": 9,
     "metadata": {},
     "output_type": "execute_result"
    }
   ],
   "source": [
    "#Print the df_pp dataframe as table.\n",
    "df_vg"
   ]
  },
  {
   "cell_type": "markdown",
   "metadata": {},
   "source": [
    "## 3. Plot a dataframe (geo plot)"
   ]
  },
  {
   "cell_type": "code",
   "execution_count": 10,
   "metadata": {},
   "outputs": [
    {
     "ename": "ModuleNotFoundError",
     "evalue": "No module named 'geopandas'",
     "output_type": "error",
     "traceback": [
      "\u001b[1;31m---------------------------------------------------------------------------\u001b[0m",
      "\u001b[1;31mModuleNotFoundError\u001b[0m                       Traceback (most recent call last)",
      "\u001b[1;32m<ipython-input-10-98757557f7c3>\u001b[0m in \u001b[0;36m<module>\u001b[1;34m()\u001b[0m\n\u001b[1;32m----> 1\u001b[1;33m \u001b[1;32mimport\u001b[0m \u001b[0mgeopandas\u001b[0m \u001b[1;32mas\u001b[0m \u001b[0mgpd\u001b[0m\u001b[1;33m\u001b[0m\u001b[0m\n\u001b[0m\u001b[0;32m      2\u001b[0m \u001b[1;32mimport\u001b[0m \u001b[0mshapely\u001b[0m\u001b[1;33m\u001b[0m\u001b[0m\n\u001b[0;32m      3\u001b[0m \u001b[1;32mimport\u001b[0m \u001b[0mmatplotlib\u001b[0m\u001b[1;33m.\u001b[0m\u001b[0mpyplot\u001b[0m \u001b[1;32mas\u001b[0m \u001b[0mplt\u001b[0m\u001b[1;33m\u001b[0m\u001b[0m\n\u001b[0;32m      4\u001b[0m \u001b[0mget_ipython\u001b[0m\u001b[1;33m(\u001b[0m\u001b[1;33m)\u001b[0m\u001b[1;33m.\u001b[0m\u001b[0mrun_line_magic\u001b[0m\u001b[1;33m(\u001b[0m\u001b[1;34m'matplotlib'\u001b[0m\u001b[1;33m,\u001b[0m \u001b[1;34m'inline'\u001b[0m\u001b[1;33m)\u001b[0m\u001b[1;33m\u001b[0m\u001b[0m\n",
      "\u001b[1;31mModuleNotFoundError\u001b[0m: No module named 'geopandas'"
     ]
    }
   ],
   "source": [
    "import geopandas as gpd\n",
    "import shapely\n",
    "import matplotlib.pyplot as plt\n",
    "%matplotlib inline"
   ]
  },
  {
   "cell_type": "code",
   "execution_count": 11,
   "metadata": {},
   "outputs": [
    {
     "ename": "NameError",
     "evalue": "name 'shapely' is not defined",
     "output_type": "error",
     "traceback": [
      "\u001b[1;31m---------------------------------------------------------------------------\u001b[0m",
      "\u001b[1;31mNameError\u001b[0m                                 Traceback (most recent call last)",
      "\u001b[1;32m<ipython-input-11-a892c2460e88>\u001b[0m in \u001b[0;36m<module>\u001b[1;34m()\u001b[0m\n\u001b[0;32m      1\u001b[0m \u001b[1;31m# transform WKB to WKT / Geometry\u001b[0m\u001b[1;33m\u001b[0m\u001b[1;33m\u001b[0m\u001b[0m\n\u001b[1;32m----> 2\u001b[1;33m \u001b[0mdf_pp\u001b[0m\u001b[1;33m[\u001b[0m\u001b[1;34m'geom'\u001b[0m\u001b[1;33m]\u001b[0m \u001b[1;33m=\u001b[0m \u001b[0mdf_pp\u001b[0m\u001b[1;33m[\u001b[0m\u001b[1;34m'geom'\u001b[0m\u001b[1;33m]\u001b[0m\u001b[1;33m.\u001b[0m\u001b[0mapply\u001b[0m\u001b[1;33m(\u001b[0m\u001b[1;32mlambda\u001b[0m \u001b[0mx\u001b[0m\u001b[1;33m:\u001b[0m\u001b[0mshapely\u001b[0m\u001b[1;33m.\u001b[0m\u001b[0mwkb\u001b[0m\u001b[1;33m.\u001b[0m\u001b[0mloads\u001b[0m\u001b[1;33m(\u001b[0m\u001b[0mx\u001b[0m\u001b[1;33m,\u001b[0m \u001b[0mhex\u001b[0m\u001b[1;33m=\u001b[0m\u001b[1;32mTrue\u001b[0m\u001b[1;33m)\u001b[0m\u001b[1;33m)\u001b[0m\u001b[1;33m\u001b[0m\u001b[0m\n\u001b[0m\u001b[0;32m      3\u001b[0m \u001b[0mdf_vg\u001b[0m\u001b[1;33m[\u001b[0m\u001b[1;34m'geom'\u001b[0m\u001b[1;33m]\u001b[0m \u001b[1;33m=\u001b[0m \u001b[0mdf_vg\u001b[0m\u001b[1;33m[\u001b[0m\u001b[1;34m'geom'\u001b[0m\u001b[1;33m]\u001b[0m\u001b[1;33m.\u001b[0m\u001b[0mapply\u001b[0m\u001b[1;33m(\u001b[0m\u001b[1;32mlambda\u001b[0m \u001b[0mx\u001b[0m\u001b[1;33m:\u001b[0m\u001b[0mshapely\u001b[0m\u001b[1;33m.\u001b[0m\u001b[0mwkb\u001b[0m\u001b[1;33m.\u001b[0m\u001b[0mloads\u001b[0m\u001b[1;33m(\u001b[0m\u001b[0mx\u001b[0m\u001b[1;33m,\u001b[0m \u001b[0mhex\u001b[0m\u001b[1;33m=\u001b[0m\u001b[1;32mTrue\u001b[0m\u001b[1;33m)\u001b[0m\u001b[1;33m)\u001b[0m\u001b[1;33m\u001b[0m\u001b[0m\n",
      "\u001b[1;32mC:\\Anaconda3\\lib\\site-packages\\pandas\\core\\series.py\u001b[0m in \u001b[0;36mapply\u001b[1;34m(self, func, convert_dtype, args, **kwds)\u001b[0m\n\u001b[0;32m   3190\u001b[0m             \u001b[1;32melse\u001b[0m\u001b[1;33m:\u001b[0m\u001b[1;33m\u001b[0m\u001b[0m\n\u001b[0;32m   3191\u001b[0m                 \u001b[0mvalues\u001b[0m \u001b[1;33m=\u001b[0m \u001b[0mself\u001b[0m\u001b[1;33m.\u001b[0m\u001b[0mastype\u001b[0m\u001b[1;33m(\u001b[0m\u001b[0mobject\u001b[0m\u001b[1;33m)\u001b[0m\u001b[1;33m.\u001b[0m\u001b[0mvalues\u001b[0m\u001b[1;33m\u001b[0m\u001b[0m\n\u001b[1;32m-> 3192\u001b[1;33m                 \u001b[0mmapped\u001b[0m \u001b[1;33m=\u001b[0m \u001b[0mlib\u001b[0m\u001b[1;33m.\u001b[0m\u001b[0mmap_infer\u001b[0m\u001b[1;33m(\u001b[0m\u001b[0mvalues\u001b[0m\u001b[1;33m,\u001b[0m \u001b[0mf\u001b[0m\u001b[1;33m,\u001b[0m \u001b[0mconvert\u001b[0m\u001b[1;33m=\u001b[0m\u001b[0mconvert_dtype\u001b[0m\u001b[1;33m)\u001b[0m\u001b[1;33m\u001b[0m\u001b[0m\n\u001b[0m\u001b[0;32m   3193\u001b[0m \u001b[1;33m\u001b[0m\u001b[0m\n\u001b[0;32m   3194\u001b[0m         \u001b[1;32mif\u001b[0m \u001b[0mlen\u001b[0m\u001b[1;33m(\u001b[0m\u001b[0mmapped\u001b[0m\u001b[1;33m)\u001b[0m \u001b[1;32mand\u001b[0m \u001b[0misinstance\u001b[0m\u001b[1;33m(\u001b[0m\u001b[0mmapped\u001b[0m\u001b[1;33m[\u001b[0m\u001b[1;36m0\u001b[0m\u001b[1;33m]\u001b[0m\u001b[1;33m,\u001b[0m \u001b[0mSeries\u001b[0m\u001b[1;33m)\u001b[0m\u001b[1;33m:\u001b[0m\u001b[1;33m\u001b[0m\u001b[0m\n",
      "\u001b[1;32mpandas/_libs/src\\inference.pyx\u001b[0m in \u001b[0;36mpandas._libs.lib.map_infer\u001b[1;34m()\u001b[0m\n",
      "\u001b[1;32m<ipython-input-11-a892c2460e88>\u001b[0m in \u001b[0;36m<lambda>\u001b[1;34m(x)\u001b[0m\n\u001b[0;32m      1\u001b[0m \u001b[1;31m# transform WKB to WKT / Geometry\u001b[0m\u001b[1;33m\u001b[0m\u001b[1;33m\u001b[0m\u001b[0m\n\u001b[1;32m----> 2\u001b[1;33m \u001b[0mdf_pp\u001b[0m\u001b[1;33m[\u001b[0m\u001b[1;34m'geom'\u001b[0m\u001b[1;33m]\u001b[0m \u001b[1;33m=\u001b[0m \u001b[0mdf_pp\u001b[0m\u001b[1;33m[\u001b[0m\u001b[1;34m'geom'\u001b[0m\u001b[1;33m]\u001b[0m\u001b[1;33m.\u001b[0m\u001b[0mapply\u001b[0m\u001b[1;33m(\u001b[0m\u001b[1;32mlambda\u001b[0m \u001b[0mx\u001b[0m\u001b[1;33m:\u001b[0m\u001b[0mshapely\u001b[0m\u001b[1;33m.\u001b[0m\u001b[0mwkb\u001b[0m\u001b[1;33m.\u001b[0m\u001b[0mloads\u001b[0m\u001b[1;33m(\u001b[0m\u001b[0mx\u001b[0m\u001b[1;33m,\u001b[0m \u001b[0mhex\u001b[0m\u001b[1;33m=\u001b[0m\u001b[1;32mTrue\u001b[0m\u001b[1;33m)\u001b[0m\u001b[1;33m)\u001b[0m\u001b[1;33m\u001b[0m\u001b[0m\n\u001b[0m\u001b[0;32m      3\u001b[0m \u001b[0mdf_vg\u001b[0m\u001b[1;33m[\u001b[0m\u001b[1;34m'geom'\u001b[0m\u001b[1;33m]\u001b[0m \u001b[1;33m=\u001b[0m \u001b[0mdf_vg\u001b[0m\u001b[1;33m[\u001b[0m\u001b[1;34m'geom'\u001b[0m\u001b[1;33m]\u001b[0m\u001b[1;33m.\u001b[0m\u001b[0mapply\u001b[0m\u001b[1;33m(\u001b[0m\u001b[1;32mlambda\u001b[0m \u001b[0mx\u001b[0m\u001b[1;33m:\u001b[0m\u001b[0mshapely\u001b[0m\u001b[1;33m.\u001b[0m\u001b[0mwkb\u001b[0m\u001b[1;33m.\u001b[0m\u001b[0mloads\u001b[0m\u001b[1;33m(\u001b[0m\u001b[0mx\u001b[0m\u001b[1;33m,\u001b[0m \u001b[0mhex\u001b[0m\u001b[1;33m=\u001b[0m\u001b[1;32mTrue\u001b[0m\u001b[1;33m)\u001b[0m\u001b[1;33m)\u001b[0m\u001b[1;33m\u001b[0m\u001b[0m\n",
      "\u001b[1;31mNameError\u001b[0m: name 'shapely' is not defined"
     ]
    }
   ],
   "source": [
    "# transform WKB to WKT / Geometry\n",
    "df_pp['geom'] = df_pp['geom'].apply(lambda x:shapely.wkb.loads(x, hex=True))\n",
    "df_vg['geom'] = df_vg['geom'].apply(lambda x:shapely.wkb.loads(x, hex=True))"
   ]
  },
  {
   "cell_type": "code",
   "execution_count": null,
   "metadata": {},
   "outputs": [],
   "source": [
    "# plot powerplants\n",
    "crs = {'init' :'epsg:4326'}\n",
    "gdf_pp = gpd.GeoDataFrame(df_pp, crs=crs, geometry=df_pp.geom)\n",
    "base = gdf_pp.plot(color='white', edgecolor='black',figsize=(8, 8))\n",
    "gdf_pp.plot(ax=base)\n",
    "plt.show()\n"
   ]
  },
  {
   "cell_type": "code",
   "execution_count": null,
   "metadata": {},
   "outputs": [],
   "source": [
    "# plot borders\n",
    "crs = {'init' :'epsg:3035'}\n",
    "gdf_vg = gpd.GeoDataFrame(df_pp, crs=crs, geometry=df_vg.geom)\n",
    "base = gdf_vg.plot(color='white', edgecolor='black',figsize=(8, 8))\n",
    "gdf_vg.plot(ax=base)\n",
    "\n",
    "plt.show()"
   ]
  },
  {
   "cell_type": "code",
   "execution_count": null,
   "metadata": {},
   "outputs": [],
   "source": [
    "# transform WKB to WKT / Geometry\n",
    "crs1 = {'init' :'epsg:4326'}\n",
    "crs2 = {'init' :'epsg:3035'}\n",
    "\n",
    "gdf_pp = gpd.GeoDataFrame(df_pp, crs=crs1, geometry=df_pp.geom)\n",
    "gdf_vg = gpd.GeoDataFrame(df_vg, crs=crs2, geometry=df_vg.geom)\n",
    "\n",
    "base = gdf_vg.plot(color='white', edgecolor='black',figsize=(10, 10))\n",
    "\n",
    "gdf_pp.plot(ax=base)\n",
    "#gdf_vg.plot(ax=base)\n",
    "\n",
    "plt.show()"
   ]
  },
  {
   "cell_type": "markdown",
   "metadata": {
    "collapsed": true
   },
   "source": [
    "<div class=\"alert alert-block alert-danger\">\n",
    "bug under ubuntu\n",
    "</div>"
   ]
  },
  {
   "cell_type": "code",
   "execution_count": null,
   "metadata": {
    "collapsed": true
   },
   "outputs": [],
   "source": [
    "from shapely import geos\n",
    "from geoalchemy2.shape import to_shape\n",
    "from shapely.geometry import Point\n",
    "\n",
    "from ipywidgets import widgets\n",
    "from IPython.display import display\n",
    "from IPython.core.display import HTML\n",
    "from geoalchemy2 import Geometry, WKTElement\n",
    "import requests\n",
    "import pandas as pd\n",
    "import mplleaflet"
   ]
  },
  {
   "cell_type": "code",
   "execution_count": null,
   "metadata": {},
   "outputs": [],
   "source": [
    "plants_data = requests.get(oep_url+'/api/v0/schema/model_draft/tables/ego_dp_supply_conv_powerplant/rows/?where=scenario=Status+Quo&limit=910',)\n",
    "regions  =  requests.get(oep_url+'/api/v0/schema/model_draft/tables/renpass_gis_parameter_region/rows/?where=stat_level=999',)\n",
    "regions.status_code\n",
    "plants_data.status_code"
   ]
  },
  {
   "cell_type": "code",
   "execution_count": null,
   "metadata": {},
   "outputs": [],
   "source": [
    "sq_plants = pd.DataFrame(plants_data.json())\n",
    "renpass_region_df = pd.DataFrame(regions.json())\n",
    "\n",
    "# transform WKB to WKT / Geometry\n",
    "crs = {'init' :'epsg:4326'}\n",
    "\n",
    "sq_plants['geom'] =sq_plants['geom'].apply(lambda x:shapely.wkb.loads(x, hex=True))\n",
    "renpass_region_df['geom'] =renpass_region_df['geom'].apply(lambda x:shapely.wkb.loads(x, hex=True))\n",
    "\n",
    "gdf_plants = gpd.GeoDataFrame(sq_plants, crs=crs, geometry=sq_plants.geom)\n",
    "gdf_regions = gpd.GeoDataFrame(renpass_region_df, crs=crs, geometry=renpass_region_df.geom)\n",
    "\n",
    "base = gdf_regions.plot(color='white', edgecolor='black',figsize=(10, 10))\n",
    "\n",
    "gdf_plants.plot(ax=base)\n",
    "\n",
    "\n",
    "plt.show()"
   ]
  },
  {
   "cell_type": "markdown",
   "metadata": {},
   "source": [
    "#### Point Plot "
   ]
  },
  {
   "cell_type": "code",
   "execution_count": null,
   "metadata": {
    "collapsed": true
   },
   "outputs": [],
   "source": [
    "import folium\n",
    "from folium import plugins\n",
    "import matplotlib.pyplot as plt\n",
    "%matplotlib inline"
   ]
  },
  {
   "cell_type": "code",
   "execution_count": null,
   "metadata": {
    "collapsed": true
   },
   "outputs": [],
   "source": [
    "# define map region\n",
    "map = folium.Map(location=[51, 9], zoom_start=6)"
   ]
  },
  {
   "cell_type": "code",
   "execution_count": null,
   "metadata": {
    "scrolled": true
   },
   "outputs": [],
   "source": [
    "# Use column lon / lat in order to plot map\n",
    "for name, row in df_pp.iloc[:1000].iterrows():\n",
    "    folium.Marker([row[\"lat\"], row[\"lon\"]], popup=row[\"type\"] ).add_to(map)\n",
    "#map.create_map('plants.html')\n",
    "map"
   ]
  },
  {
   "cell_type": "markdown",
   "metadata": {},
   "source": [
    "#### Heat plot for locations"
   ]
  },
  {
   "cell_type": "code",
   "execution_count": null,
   "metadata": {
    "scrolled": true
   },
   "outputs": [],
   "source": [
    "stops_heatmap = folium.Map(location=[51, 9], zoom_start=6)\n",
    "stops_heatmap.add_child(plugins.HeatMap([[row[\"lat\"], row[\"lon\"]] for capacity, row in df_pp.iloc[:1000].iterrows()]))\n",
    "stops_heatmap.save(\"heatmap.html\")\n",
    "stops_heatmap"
   ]
  },
  {
   "cell_type": "markdown",
   "metadata": {
    "collapsed": true
   },
   "source": [
    "### Make some statistics"
   ]
  },
  {
   "cell_type": "markdown",
   "metadata": {
    "collapsed": true
   },
   "source": [
    "<div class=\"alert alert-block alert-success\">\n",
    "Make an interesting API-example you need!\n",
    "</div>"
   ]
  },
  {
   "cell_type": "code",
   "execution_count": null,
   "metadata": {
    "collapsed": true
   },
   "outputs": [],
   "source": []
  }
 ],
 "metadata": {
  "kernelspec": {
   "display_name": "Python 3",
   "language": "python",
   "name": "python3"
  },
  "language_info": {
   "codemirror_mode": {
    "name": "ipython",
    "version": 3
   },
   "file_extension": ".py",
   "mimetype": "text/x-python",
   "name": "python",
   "nbconvert_exporter": "python",
   "pygments_lexer": "ipython3",
   "version": "3.6.5"
  }
 },
 "nbformat": 4,
 "nbformat_minor": 1
}
