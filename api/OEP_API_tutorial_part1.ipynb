{
 "cells": [
  {
   "cell_type": "markdown",
   "metadata": {},
   "source": [
    "<img src=\"http://openenergy-platform.org/static/OEP_logo_2_no_text.svg\" alt=\"OpenEnergy Platform\" height=\"100\" width=\"100\"  align=\"left\"/>\n",
    "\n",
    "# OpenEnergyPlatform\n",
    "<br><br>\n",
    "\n",
    "# API tutorial 1 - Introduction to the OEP-API and basic table opperations\n",
    "Repository: https://github.com/openego/oedialect\n",
    "\n",
    "Please report bugs and improvements here: https://github.com/OpenEnergyPlatform/examples/issues <br>\n",
    "How to get started with Jupyter Notebooks can be found here: https://github.com/OpenEnergyPlatform/oeplatform/wiki <br>\n",
    "Please ensure you have read the Terms of use here: https://openenergy-platform.org/legal/tou/"
   ]
  },
  {
   "cell_type": "code",
   "execution_count": 1,
   "metadata": {},
   "outputs": [],
   "source": [
    "__copyright__ = \"Reiner Lemoine Institut, Zentrum für nachhaltige Energiesysteme Flensburg\"\n",
    "__license__   = \"GNU Affero General Public License Version 3 (AGPL-3.0)\"\n",
    "__url__       = \"https://github.com/openego/data_processing/blob/master/LICENSE\"\n",
    "__author__    = \"wolfbunke, Ludee\""
   ]
  },
  {
   "cell_type": "markdown",
   "metadata": {},
   "source": [
    "## Introduction\n",
    "\n",
    "<br>\n",
    "<div class=\"alert alert-block alert-danger\">\n",
    "This is an important information!\n",
    "</div>\n",
    "<div class=\"alert alert-block alert-info\">\n",
    "This is an information!\n",
    "</div>\n",
    "<div class=\"alert alert-block alert-success\">\n",
    "This is your task!\n",
    "</div>\n",
    "\n",
    "This tutorial gives you an overview of the [**OpenEnergy Platform**](https://openenergy-platform.org/) and how you can work with the **REST-ful-HTTP** API in Python. <br>\n",
    "\n",
    "\n",
    "## Part I - How to work with the OpenEnergy Platform (OEP)\n",
    "\n",
    "  Get started - Sign-in and get your own token <br>\n",
    "0 Setup token <br>\n",
    "1 Create a table <br>\n",
    "2 Delete a table <br>\n",
    "3 Query table columns <br>\n",
    "4 Insert Data into a table <br>\n",
    "5 Insert data into a specific row <br>\n",
    "6 Alter data in a table <br>\n",
    "\n",
    "\n",
    "## Links and further information\n",
    "\n",
    "How to work with Python and Jupyter Notebooks <br>\n",
    "[OPSD wiki](https://github.com/Open-Power-System-Data/common/wiki) <br>\n",
    "[nbviewer example](http://nbviewer.jupyter.org/github/ocefpaf/folium_notebooks/blob/master/test_png_mpld3_vega_popup.ipynb)\n",
    "\n",
    "\n",
    "#### Overview of Packages:\n",
    "http://geopandas.org/install.html#installing-geopandas"
   ]
  },
  {
   "cell_type": "markdown",
   "metadata": {},
   "source": [
    "# Part I\n",
    " \n",
    "## 0. Get started - Sign-in and get your own token\n",
    "\n",
    "Register a new account on the [**OpenEnergyPlatform**](https://openenergy-platform.org/user/register:RequestAccount). Then login (https://openenergy-platform.org/).\n",
    "\n",
    "\n",
    "#### 1.  Click on the login button and sign in\n",
    "\n",
    "<img src=\"images/login.png\"  alt=\"OpenEnergy Platform login\" height=\"100\" width=\"100\" align=\"left\"/>  <br><br>\n",
    "\n",
    "\n",
    "#### 2.  Copy your token\n",
    "\n",
    "Click on your Profile Name to see your information. To view your token, click on \"Show token\" \n",
    "\n",
    "<img src=\"images/token.png\"  alt=\"OpenEnergy Platform Token\" height=\"400\" width=\"500\" align=\"left\" />\n",
    "<br><br><br><br><br><br><br><br><br>\n",
    "<br><br><br><br><br><br><br><br>\n",
    "\n",
    "#### 3a.  Paste your token in an environment variable\n",
    "\n",
    "The variable should be named 'OEP_TOKEN'. \n",
    "On linux :\n",
    "```\n",
    "export OEP_TOKEN=<your token>\n",
    "```\n",
    "On windows:\n",
    "```\n",
    "set OEP_TOKEN=<your token>\n",
    "```\n",
    "\n",
    "#### 3b.  Paste your token in a file (discouraged)\n",
    "\n",
    "Look for the following line in the file `api/token_config.py`,\n",
    "\n",
    "```python\n",
    "OEP_TOKEN = ''\n",
    "```\n",
    "then paste your token there\n",
    "\n",
    "```python\n",
    "OEP_TOKEN = '<paste_your_token_here>'\n",
    "```\n",
    "\n",
    "Save the file but DO NOT PUSH the change to GitHub"
   ]
  },
  {
   "cell_type": "markdown",
   "metadata": {},
   "source": [
    "## 0. Setup token\n",
    "\n",
    "<br>\n",
    "<div class=\"alert alert-block alert-danger\">\n",
    "Do not push your token to GitHub!\n",
    "</div>"
   ]
  },
  {
   "cell_type": "code",
   "execution_count": null,
   "metadata": {},
   "outputs": [],
   "source": [
    "import requests\n",
    "import pandas as pd\n",
    "from IPython.core.display import HTML\n",
    "\n",
    "from token_config import oep_url, get_oep_token\n",
    "\n",
    "# token\n",
    "your_token = get_oep_token()"
   ]
  },
  {
   "cell_type": "markdown",
   "metadata": {},
   "source": [
    "## 0.1 About the Database and used Packages\n",
    "Data are stored and ordered by topic under the \"schema\" tab:\n",
    "https://openenergy-platform.org/dataedit/schemas  </div> \n",
    "\n",
    "The data tables can be accessed by calling them via http request. </div> \n",
    "\n",
    "\n",
    "The \"request\" package will handle the HTTP communication with the OEP database. It sends requests that insert (put, post, delete) or read (get) data in/from the databank. For either request the URL of a requested table has to be included. \n",
    "For all \"put\", \"post\" and \"delete\" requests one has to include the authentification token as a header, like in the \"delete table \" example.</div> \n",
    "\n"
   ]
  },
  {
   "cell_type": "markdown",
   "metadata": {},
   "source": [
    "Example:\n",
    "```python\n",
    "requests.delete(\n",
    "    oep_url + '/api/v0/schema/' + schema + '/tables/' + table, \n",
    "    headers={'Authorization': 'Token %s'%your_token}\n",
    ")\n",
    "```"
   ]
  },
  {
   "cell_type": "markdown",
   "metadata": {},
   "source": [
    "**About the table structure:**  <br>\n",
    "\n",
    "The tables are organized in rows and columns that can be adressed via: <br>\n",
    "\n",
    "\n",
    "\n"
   ]
  },
  {
   "cell_type": "markdown",
   "metadata": {},
   "source": [
    "```python\n",
    "requests.post(oep_url + '/api/v0/schema/' + schema + '/tables/' + table + '/rows/')\n",
    "# and       \n",
    "requests.get(oep_url + '/api/v0/schema/' + schema + '/tables/' + table + '/columns')\n",
    "```"
   ]
  },
  {
   "cell_type": "markdown",
   "metadata": {},
   "source": [
    "In the following tutorial the schema will be 'model_draft'and the table 'example_api_table_test'.\n",
    "    \n",
    "Inserted data must have the structure of a dictionary / json with a key for every column of the table and the respective value like in: \n",
    "\n",
    "Random example from [OpenStreetMap](https://www.openstreetmap.de/karte.html?zoom=15&lat=52.40731&lon=7.46118&layers=B000TT) with freely chosen capacity."
   ]
  },
  {
   "cell_type": "code",
   "execution_count": null,
   "metadata": {},
   "outputs": [],
   "source": [
    "data = {\n",
    "    \"query\": {\n",
    "        \"name\": \"Windpark, Am Speller Sand\", \n",
    "        \"type\":  \"wind_onshore\",\n",
    "        \"capacity\": 20000,\n",
    "        \"lat\": 52.40731,\n",
    "        \"lon\": 7.46118\n",
    "    }\n",
    "}"
   ]
  },
  {
   "cell_type": "markdown",
   "metadata": {},
   "source": [
    "## 1. Create a table / Table Architecure \n",
    "\n",
    "\n",
    "\n",
    "You installed all Python packages? Let's create our first database table:\n",
    "\n",
    "<div class=\"alert alert-block alert-info\">\n",
    "The API is enabled for the following schmemas only: <b>'model_draft'</b> & <b>'sandbox'</b>\n",
    "</div>\n",
    "<div class=\"alert alert-block alert-info\">\n",
    "A table must have a column <b>'id'</b> of type <b>'bigserial'</b>!\n",
    "</div>\n",
    "<div class=\"alert alert-block alert-success\">\n",
    "Change the name of the table!\n",
    "</div>"
   ]
  },
  {
   "cell_type": "code",
   "execution_count": null,
   "metadata": {},
   "outputs": [],
   "source": [
    "# create table\n",
    "schema = 'model_draft'\n",
    "table = 'example_api_table_test'\n",
    "\n",
    "data = { \n",
    "    \"query\": { \n",
    "        \"columns\": [\n",
    "            { \"name\":\"id\", \"data_type\": \"bigserial\", \"is_nullable\": \"NO\" },\n",
    "            { \"name\":\"name\", \"data_type\": \"varchar\", \"character_maximum_length\": \"50\" },\n",
    "            { \"name\":\"type\", \"data_type\": \"varchar\", \"character_maximum_length\": \"20\" },\n",
    "            { \"name\":\"capacity\", \"data_type\": \"decimal\" },\n",
    "            { \"name\":\"lat\", \"data_type\": \"numeric\" },\n",
    "            { \"name\":\"lon\", \"data_type\": \"numeric\" }\n",
    "        ],\n",
    "        \"constraints\": [ { \"constraint_type\": \"PRIMARY KEY\", \"constraint_parameter\": \"id\" } ] \n",
    "    }\n",
    "}\n",
    "\n",
    "requests.put(\n",
    "    oep_url + '/api/v0/schema/' + schema + '/tables/' + table + '/',\n",
    "    json=data,\n",
    "    headers={'Authorization': 'Token %s'%your_token}\n",
    ")"
   ]
  },
  {
   "cell_type": "markdown",
   "metadata": {},
   "source": [
    "<div class=\"alert alert-block alert-info\">\n",
    "<b>Response [201]</b> succesfully created table! <br>\n",
    "<b>Response [400]</b> table already exists! (choose another name for table)\n",
    "</div>"
   ]
  },
  {
   "cell_type": "code",
   "execution_count": null,
   "metadata": {},
   "outputs": [],
   "source": [
    "# check if your table exists\n",
    "requests.get(oep_url + '/api/v0/schema/' + schema + '/tables/' + table)"
   ]
  },
  {
   "cell_type": "markdown",
   "metadata": {},
   "source": [
    "<div class=\"alert alert-block alert-info\">\n",
    "<b>Response [200]</b> table exists! <br>\n",
    "<b>Response [404]</b> table doesn't exist!\n",
    "</div>"
   ]
  },
  {
   "cell_type": "markdown",
   "metadata": {},
   "source": [
    "Table can be seen online:\n",
    "https://openenergy-platform.org/dataedit/view/model_draft/example_api_table_test or https://openenergy-platform.org/dataedit/view/model_draft/ + name_of_your_table"
   ]
  },
  {
   "cell_type": "markdown",
   "metadata": {},
   "source": [
    "## 2. Delete a table"
   ]
  },
  {
   "cell_type": "code",
   "execution_count": null,
   "metadata": {},
   "outputs": [],
   "source": [
    "# Delete your table\n",
    "requests.delete(oep_url + '/api/v0/schema/' + schema + '/tables/' + table, headers={'Authorization': 'Token %s'%your_token} )"
   ]
  },
  {
   "cell_type": "markdown",
   "metadata": {},
   "source": [
    "<div class=\"alert alert-block alert-info\">\n",
    "<b>Response [200]</b> succesfully deleted table! <br>\n",
    "<b>Response [404]</b> table doesn't exist and cannot be deleted!\n",
    "</div>"
   ]
  },
  {
   "cell_type": "code",
   "execution_count": null,
   "metadata": {},
   "outputs": [],
   "source": [
    "# check if your table was properly deleted\n",
    "requests.get(oep_url + '/api/v0/schema/' + schema + '/tables/' + table)"
   ]
  },
  {
   "cell_type": "markdown",
   "metadata": {},
   "source": [
    "<div class=\"alert alert-block alert-info\">\n",
    "<b>Response [404]</b> table does not exists!\n",
    "</div>"
   ]
  },
  {
   "cell_type": "markdown",
   "metadata": {},
   "source": [
    "<div class=\"alert alert-block alert-success\">\n",
    "Now create the table again! This is important for the following tutorials! \n",
    "</div>"
   ]
  },
  {
   "cell_type": "code",
   "execution_count": null,
   "metadata": {},
   "outputs": [],
   "source": [
    "# recreate the same table as above\n",
    "requests.put(\n",
    "    oep_url + '/api/v0/schema/' + schema + '/tables/' + table + '/',\n",
    "    json=data, \n",
    "    headers={'Authorization': 'Token %s'%your_token}\n",
    ")"
   ]
  },
  {
   "cell_type": "markdown",
   "metadata": {},
   "source": [
    "## 3. Query table columns"
   ]
  },
  {
   "cell_type": "code",
   "execution_count": null,
   "metadata": {},
   "outputs": [],
   "source": [
    "result = requests.get(oep_url + '/api/v0/schema/' + schema + '/tables/' + table + '/columns')\n",
    "json_result = result.json()\n",
    "json_result['capacity']\n",
    "\n",
    "# all:\n",
    "#json_result"
   ]
  },
  {
   "cell_type": "markdown",
   "metadata": {},
   "source": [
    "## 4. Insert Data into a table\n",
    "\n",
    "### 4.1 Insert single row\n",
    "\n",
    "Now we insert a power plant with name, type and latitude longitude cooridinates."
   ]
  },
  {
   "cell_type": "code",
   "execution_count": null,
   "metadata": {},
   "outputs": [],
   "source": [
    "data = {\n",
    "    \"query\": {\n",
    "        \"name\": \"Anlage 1\", \n",
    "        \"type\": \"wind_onshore\",\n",
    "        \"capacity\": 20000,\n",
    "        \"lat\": 52.40731,\n",
    "        \"lon\": 7.46118\n",
    "    }\n",
    "}\n",
    "\n",
    "requests.post(\n",
    "    oep_url + '/api/v0/schema/' + schema + '/tables/' + table + '/rows/new',\n",
    "    json=data,\n",
    "    headers={'Authorization': 'Token %s'%your_token}\n",
    ")"
   ]
  },
  {
   "cell_type": "markdown",
   "metadata": {},
   "source": [
    "<div class=\"alert alert-block alert-info\">\n",
    "<b>Response [201]</b> succesfully inserted data! <br>\n",
    "<b>Response [404]</b> table doesn't exist!\n",
    "</div>"
   ]
  },
  {
   "cell_type": "markdown",
   "metadata": {},
   "source": [
    "### 4.1 Insert multiple rows\n",
    "If you want to insert multiple lines of data like two power plants in this case, you can insert a list of dictionaries with as many entries as the table has columns. "
   ]
  },
  {
   "cell_type": "code",
   "execution_count": null,
   "metadata": {},
   "outputs": [],
   "source": [
    "data = {\n",
    "    \"query\": [\n",
    "        {\n",
    "            \"name\": \"Anlage 2\", \n",
    "            \"type\": \"photovoltaics\",\n",
    "            \"capacity\": 10,\n",
    "            \"lat\": 51.804783,\n",
    "            \"lon\": 11.686346\n",
    "        },\n",
    "        {\n",
    "            \"name\": \"Anlage 3\", \n",
    "             \"type\": \"photovoltaic\", \n",
    "             \"capacity\": 5.5,\n",
    "             \"lat\": 51.804783,\n",
    "             \"lon\": 11.6341573\n",
    "        }\n",
    "    ]\n",
    "}\n",
    "\n",
    "requests.post(\n",
    "    oep_url + '/api/v0/schema/' + schema + '/tables/' + table + '/rows/new', \n",
    "    json=data,\n",
    "    headers={'Authorization': 'Token %s'%your_token}\n",
    ")"
   ]
  },
  {
   "cell_type": "markdown",
   "metadata": {},
   "source": [
    "<div class=\"alert alert-block alert-info\">\n",
    "<b>Response [201]</b> succesfully inserted data! <br>\n",
    "<b>Response [404]</b> table doesn't exist!\n",
    "</div>"
   ]
  },
  {
   "cell_type": "markdown",
   "metadata": {},
   "source": [
    "## 5. Insert data into a specific row"
   ]
  },
  {
   "cell_type": "code",
   "execution_count": null,
   "metadata": {},
   "outputs": [],
   "source": [
    "# insert data to row 11\n",
    "rownumber = '11'\n",
    "\n",
    "data = {\n",
    "    \"query\": {\n",
    "        \"name\": \"Anlage 11\",\n",
    "        \"type\": \"photovoltaic\",\n",
    "        \"capacity\": 5.5,\n",
    "        \"lat\": 51.804783,\n",
    "        \"lon\": 10.41573\n",
    "    }\n",
    "}\n",
    "\n",
    "requests.put(\n",
    "    oep_url + '/api/v0/schema/' + schema + '/tables/' + table + '/rows/' + rownumber, \n",
    "    json=data,\n",
    "    headers={'Authorization': 'Token %s'%your_token}\n",
    ")"
   ]
  },
  {
   "cell_type": "markdown",
   "metadata": {},
   "source": [
    "<div class=\"alert alert-block alert-info\">\n",
    "<b>Response [201]</b> succesfully inserted data! <br>\n",
    "<b>Response [200]</b> row already taken! <br>\n",
    "<b>Response [404]</b> table doesn't exist!\n",
    "</div>"
   ]
  },
  {
   "cell_type": "markdown",
   "metadata": {},
   "source": [
    "<div class=\"alert alert-block alert-success\">\n",
    "Insert some powerplants!\n",
    "</div>"
   ]
  },
  {
   "cell_type": "code",
   "execution_count": null,
   "metadata": {},
   "outputs": [],
   "source": [
    "# insert some data\n",
    "\n",
    "\n"
   ]
  },
  {
   "cell_type": "markdown",
   "metadata": {},
   "source": [
    "## 6. Alter data in a table"
   ]
  },
  {
   "cell_type": "code",
   "execution_count": null,
   "metadata": {},
   "outputs": [],
   "source": [
    "requests.get(oep_url + '/api/v0/schema/' + schema + '/tables/' + table + '/rows/') # Load the names via GET"
   ]
  },
  {
   "cell_type": "markdown",
   "metadata": {},
   "source": [
    "<div class=\"alert alert-block alert-info\">\n",
    "<b>Response [200]</b> table exists! <br>\n",
    "<b>Response [404]</b> table doesn't exist!\n",
    "</div>"
   ]
  },
  {
   "cell_type": "code",
   "execution_count": null,
   "metadata": {},
   "outputs": [],
   "source": [
    "row = 2\n",
    "data = {\"query\": {\"capacity\": \"2\", \"type\": \"pv\"}}\n",
    "\n",
    "requests.post(\n",
    "    oep_url + '/api/v0/schema/' + schema + '/tables/' + table + '/rows/{id}'.format(id=row),\n",
    "    json=data,\n",
    "    headers={'Authorization': 'Token %s'%your_token}\n",
    ")"
   ]
  },
  {
   "cell_type": "markdown",
   "metadata": {},
   "source": [
    "<div class=\"alert alert-block alert-info\">\n",
    "<b>Response [200]</b> succesfully changed data! <br>\n",
    "<b>Response [404]</b> table doesn't exist!\n",
    "</div>"
   ]
  },
  {
   "cell_type": "code",
   "execution_count": null,
   "metadata": {},
   "outputs": [],
   "source": []
  }
 ],
 "metadata": {
  "kernelspec": {
   "display_name": "Python 3",
   "language": "python",
   "name": "python3"
  },
  "language_info": {
   "codemirror_mode": {
    "name": "ipython",
    "version": 3
   },
   "file_extension": ".py",
   "mimetype": "text/x-python",
   "name": "python",
   "nbconvert_exporter": "python",
   "pygments_lexer": "ipython3",
   "version": "3.6.10"
  }
 },
 "nbformat": 4,
 "nbformat_minor": 4
}
