{
 "cells": [
  {
   "cell_type": "markdown",
   "metadata": {},
   "source": [
    "<img src=\"http://openenergy-platform.org/static/OEP_logo_2_no_text.svg\" alt=\"OpenEnergy Platform\" height=\"100\" width=\"100\"  align=\"left\"/>\n",
    "\n",
    "\n",
    "# OpenEnergy Platform\n",
    "<br><br>\n",
    "\n",
    "# Tutorial 2 - How to work with the OpenEnergy Platform (OEP)\n",
    "Repository: https://github.com/openego/oedialect\n",
    "\n",
    "Please report bugs and improvements here: https://github.com/OpenEnergyPlatform/examples/issues <br>\n",
    "How to get started with Jupyter Notebooks can be found here: https://github.com/OpenEnergyPlatform/oeplatform/wiki"
   ]
  },
  {
   "cell_type": "code",
   "execution_count": null,
   "metadata": {},
   "outputs": [],
   "source": [
    "__copyright__ = \"Reiner Lemoine Institut, Zentrum für nachhaltige Energiesysteme Flensburg\"\n",
    "__license__   = \"GNU Affero General Public License Version 3 (AGPL-3.0)\"\n",
    "__url__       = \"https://github.com/openego/data_processing/blob/master/LICENSE\"\n",
    "__author__    = \"wolfbunke, Ludee\""
   ]
  },
  {
   "cell_type": "markdown",
   "metadata": {},
   "source": [
    "## Introduction\n",
    "\n",
    "<br>\n",
    "<div class=\"alert alert-block alert-danger\">\n",
    "This is an important information!\n",
    "</div>\n",
    "<div class=\"alert alert-block alert-info\">\n",
    "This is an information!\n",
    "</div>\n",
    "<div class=\"alert alert-block alert-success\">\n",
    "This is your task!\n",
    "</div>\n",
    "\n",
    "This tutorial gives you an overview of the [**OpenEnergy Platform**](http://oep.iks.cs.ovgu.de/) and how you can work with the **REST-full-HTTP** API in Python. <br>\n",
    "The full API documentaion can be found on [ReadtheDocs.io](http://oep-data-interface.readthedocs.io/en/latest/api/how_to.html\\#authenticate).\n",
    "\n",
    "\n",
    "## Part II - Content\n",
    "\n",
    "0 Setup token <br>\n",
    "1 Select data from a table <br>\n",
    "2 Include filters <br>\n",
    "3 More Options"
   ]
  },
  {
   "cell_type": "markdown",
   "metadata": {},
   "source": [
    "# Part II\n",
    "\n",
    "## 0. Setup token\n",
    "<div class=\"alert alert-block alert-info\">\n",
    "The token is used to verify the API interaction for your OEP user.\n",
    "</div>\n",
    "<div class=\"alert alert-block alert-danger\">\n",
    "Do not push your token to GitHub!\n",
    "</div>"
   ]
  },
  {
   "cell_type": "code",
   "execution_count": null,
   "metadata": {},
   "outputs": [],
   "source": [
    "import requests\n",
    "import pandas as pd\n",
    "from IPython.core.display import HTML\n",
    "\n",
    "from token_config import oep_url, get_oep_token\n",
    "\n",
    "# token\n",
    "your_token = get_oep_token()"
   ]
  },
  {
   "cell_type": "markdown",
   "metadata": {},
   "source": [
    "## 1. Select data from a table"
   ]
  },
  {
   "cell_type": "code",
   "execution_count": null,
   "metadata": {},
   "outputs": [],
   "source": [
    "# select data\n",
    "schema = 'model_draft'\n",
    "table = 'example_api_table_test'\n",
    "\n",
    "get_data = requests.get(oep_url + '/api/v0/schema/' + schema + '/tables/' + table + '/rows/')\n",
    "get_data.status_code"
   ]
  },
  {
   "cell_type": "markdown",
   "metadata": {},
   "source": [
    "<div class=\"alert alert-block alert-info\">\n",
    "<b>Response [201]</b> succesfully selected data! <br>\n",
    "<b>Response [404]</b> table doesn't exist!\n",
    "</div>"
   ]
  },
  {
   "cell_type": "code",
   "execution_count": null,
   "metadata": {},
   "outputs": [],
   "source": [
    "# Convert to dataframe\n",
    "plant_df = pd.DataFrame(get_data.json())\n",
    "plant_df"
   ]
  },
  {
   "cell_type": "markdown",
   "metadata": {},
   "source": [
    "## 2. Include filters\n",
    "<div class=\"alert alert-block alert-info\">\n",
    "A filter option is applied at the end of the result URL like this \".../rows/<b>?</b>where=filter_statement\" and is processed as HTTP/get request by the API.<br>\n",
    "</div>\n",
    "\n",
    "### 2.1 where"
   ]
  },
  {
   "cell_type": "code",
   "execution_count": null,
   "metadata": {},
   "outputs": [],
   "source": [
    "# insert 'columnname=value'\n",
    "where = 'type=wind_onshore'\n",
    "\n",
    "result = requests.get(oep_url + '/api/v0/schema/' + schema + '/tables/' + table + '/rows/?where=' + where)\n",
    "print(result.status_code)\n",
    "\n",
    "# Convert to dataframe\n",
    "df = pd.DataFrame(result.json())\n",
    "df"
   ]
  },
  {
   "cell_type": "markdown",
   "metadata": {},
   "source": [
    "<div class=\"alert alert-block alert-info\">\n",
    "<b>Response [201]</b> succesfully selected data! <br>\n",
    "<b>Response [404]</b> table doesn't exist!\n",
    "</div>"
   ]
  },
  {
   "cell_type": "markdown",
   "metadata": {},
   "source": [
    "### 2.2 column"
   ]
  },
  {
   "cell_type": "markdown",
   "metadata": {},
   "source": [
    "<div class=\"alert alert-block alert-info\">\n",
    "Name of a column to include in the results. If not present, all columns are returned.\n",
    "</div>"
   ]
  },
  {
   "cell_type": "code",
   "execution_count": null,
   "metadata": {},
   "outputs": [],
   "source": [
    "# select columns by columnname\n",
    "# select multiple columns using &\n",
    "column = 'column=name&column=id&column=type'\n",
    "\n",
    "result = requests.get(oep_url + '/api/v0/schema/' + schema + '/tables/' + table + '/rows/?' + column)\n",
    "print(result.status_code)\n",
    "\n",
    "# Convert to dataframe\n",
    "df = pd.DataFrame(result.json())\n",
    "df"
   ]
  },
  {
   "cell_type": "markdown",
   "metadata": {},
   "source": [
    "<div class=\"alert alert-block alert-info\">\n",
    "<b>Response [201]</b> succesfully selected data! <br>\n",
    "<b>Response [404]</b> table doesn't exist!\n",
    "</div>"
   ]
  },
  {
   "cell_type": "markdown",
   "metadata": {},
   "source": [
    "### 2.3 limit"
   ]
  },
  {
   "cell_type": "markdown",
   "metadata": {},
   "source": [
    "<div class=\"alert alert-block alert-info\">\n",
    "The limit option is used to limit the number of results returned by the API. This is useful when querying a large data set with many results for the specific filter request.\n",
    "</div>"
   ]
  },
  {
   "cell_type": "code",
   "execution_count": null,
   "metadata": {},
   "outputs": [],
   "source": [
    "# set the number of results\n",
    "limit = '2'\n",
    "\n",
    "result = requests.get(oep_url + '/api/v0/schema/' + schema + '/tables/' + table  +  '/rows/?limit='  +  limit)\n",
    "print(result.status_code)\n",
    "\n",
    "# Convert to dataframe\n",
    "df = pd.DataFrame(result.json())\n",
    "df"
   ]
  },
  {
   "cell_type": "markdown",
   "metadata": {},
   "source": [
    "<div class=\"alert alert-block alert-info\">\n",
    "<b>Response [201]</b> succesfully selected filtered data! <br>\n",
    "<b>Response [404]</b> table doesn't exist!\n",
    "</div>"
   ]
  },
  {
   "cell_type": "markdown",
   "metadata": {},
   "source": [
    "### 2.4 orderby"
   ]
  },
  {
   "cell_type": "markdown",
   "metadata": {},
   "source": [
    "<div class=\"alert alert-block alert-info\">\n",
    "The ORDER BY keyword is used to sort the result-set in ascending order.\n",
    "</div>"
   ]
  },
  {
   "cell_type": "code",
   "execution_count": null,
   "metadata": {},
   "outputs": [],
   "source": [
    "# insert column name\n",
    "order_by = 'id'\n",
    "\n",
    "result = requests.get(oep_url + '/api/v0/schema/' + schema + '/tables/' + table + '/rows/?orderby=' + order_by)\n",
    "result.status_code\n",
    "print(result)\n",
    "\n",
    "# Convert to dataframe\n",
    "df = pd.DataFrame(result.json())\n",
    "df\n"
   ]
  },
  {
   "cell_type": "markdown",
   "metadata": {},
   "source": [
    "<div class=\"alert alert-block alert-info\">\n",
    "<b>Response [201]</b> succesfully selected data! <br>\n",
    "<b>Response [404]</b> table doesn't exist!\n",
    "</div>"
   ]
  },
  {
   "cell_type": "markdown",
   "metadata": {},
   "source": [
    "<div class=\"alert alert-block alert-info\">\n",
    "It is possible to combine filters by appending a \"&\" to the end of the URL then adding another filteroption like \"/rows/?limit=somelimit<b>&</b>orderby=someorder\"\n",
    "</div>"
   ]
  },
  {
   "cell_type": "code",
   "execution_count": null,
   "metadata": {},
   "outputs": [],
   "source": [
    "# insert column name\n",
    "order_by = 'id'\n",
    "# set the number of results\n",
    "limit = '2'\n",
    "\n",
    "result = requests.get(oep_url + '/api/v0/schema/' + schema + '/tables/' + table + '/rows/?limit=' + limit + '&orderby=' + order_by)\n",
    "print(result.status_code)\n",
    "\n",
    "# Convert to dataframe\n",
    "df = pd.DataFrame(result.json())\n",
    "df"
   ]
  },
  {
   "cell_type": "markdown",
   "metadata": {},
   "source": [
    "<div class=\"alert alert-block alert-info\">\n",
    "<b>Response [201]</b> succesfully selected data! <br>\n",
    "<b>Response [404]</b> table doesn't exist!\n",
    "</div>"
   ]
  },
  {
   "cell_type": "markdown",
   "metadata": {},
   "source": [
    "### 2.5 Combine filters "
   ]
  },
  {
   "cell_type": "code",
   "execution_count": null,
   "metadata": {},
   "outputs": [],
   "source": [
    "# insert 'columnname=value'\n",
    "where = 'type=photovoltaics'\n",
    "\n",
    "# select columns by columnname\n",
    "# select multiple columns using &\n",
    "column = 'column=name&column=id&column=type'\n",
    "\n",
    "result = requests.get(oep_url + '/api/v0/schema/' + schema + '/tables/' + table + '/rows/?where=' + where + '&' + column)\n",
    "print(result.status_code)\n",
    "\n",
    "# Convert to dataframe\n",
    "df = pd.DataFrame(result.json())\n",
    "df"
   ]
  },
  {
   "cell_type": "markdown",
   "metadata": {},
   "source": [
    "<div class=\"alert alert-block alert-info\">\n",
    "<b>Response [201]</b> succesfully selected data! <br>\n",
    "<b>Response [404]</b> table doesn't exist!\n",
    "</div>"
   ]
  },
  {
   "cell_type": "markdown",
   "metadata": {},
   "source": [
    "## 3. More Options\n",
    "\n",
    "There are also optional parameters for these GET-queries:\n",
    "\n",
    "**offset**: Ignore the specified amount of rows <br>\n",
    "**where**: Constraint fourmulated as VALUE+OPERATOR+VALUE with <br>\n",
    "1 VALUE: Constant or name of a column <br>\n",
    "2 OPERATOR: One of the following: <br>\n",
    "* EQUALS or `=`, <br>\n",
    "* GREATER or `>`, <br>\n",
    "* LOWER or `<`, <br>\n",
    "* NOTEQUAL or `!=` or <>, <br>\n",
    "* NOTGREATER or `<=`, <br>\n",
    "* NOTLOWER or `>=` <br>"
   ]
  },
  {
   "cell_type": "markdown",
   "metadata": {},
   "source": [
    "<div class=\"alert alert-block alert-success\">\n",
    "Try some selects!\n",
    "</div>"
   ]
  },
  {
   "cell_type": "code",
   "execution_count": null,
   "metadata": {},
   "outputs": [],
   "source": []
  }
 ],
 "metadata": {
  "kernelspec": {
   "display_name": "Python 3",
   "language": "python",
   "name": "python3"
  },
  "language_info": {
   "codemirror_mode": {
    "name": "ipython",
    "version": 3
   },
   "file_extension": ".py",
   "mimetype": "text/x-python",
   "name": "python",
   "nbconvert_exporter": "python",
   "pygments_lexer": "ipython3",
   "version": "3.6.5"
  }
 },
 "nbformat": 4,
 "nbformat_minor": 1
}