{
 "cells": [
  {
   "cell_type": "markdown",
   "metadata": {},
   "source": [
    "<img src=\"http://openenergy-platform.org/static/OEP_logo_2_no_text.svg\" alt=\"OpenEnergy Platform\" height=\"100\" width=\"100\"  align=\"left\"/>\n",
    "\n",
    "# OpenEnergyPlatform\n",
    "<br><br>\n",
    "\n",
    "The development of tutorials for the Open Energy Family takes place publicly in a dedicated [tutorial repository](https://github.com/OpenEnergyPlatform/tutorial). Please report bugs and suggestions as [new issues](https://github.com/OpenEnergyPlatform/template/issues). If Jupyter Notebooks are new to you and you'd like to get an introduction, have a look at this less than 10 minute [introduction video](https://www.youtube.com/watch?v=q_BzsPxwLOE). Official installation instructions are available on [jupyter's readthedocs page](https://jupyter.readthedocs.io/en/latest/install.html).\n",
    "\n",
    "> **license**: [GNU Affero General Public License Version 3 (AGPL-3.0)](https://github.com/openego/data_processing/blob/master/LICENSE) <br> \n",
    "> **copyright**: Reiner Lemoine Institut <br> \n",
    "> **authors**: jh-RLI\n",
    "\n",
    "# Intoduction to the OpenEnergyMetadata (OEM) \n"
   ]
  },
  {
   "cell_type": "markdown",
   "metadata": {},
   "source": [
    "## Takeaways\n",
    "\n",
    "* Understand what OEMetadata is and where it is applied\n",
    "* How to use the OEMetadata.\n",
    "* Find helpful resources.\n",
    "* Where to start contributing as a developer."
   ]
  },
  {
   "cell_type": "markdown",
   "metadata": {},
   "source": [
    "## The OpenEnergyMetadata\n",
    "\n",
    "### Introduction\n",
    "\n",
    "In this tutorial you will learn about the OEP metadata format OpenenEnergyMetadata(OEM). OEM is used to provide relevant information about a dataset on the OEP \"It´s data explaining the data :)\". In addition, OEM is mandatory for publishing data on the OEP in order to clarify any licensing issues in advance. Here you can find more information about the [publishing](https://github.com/OpenEnergyPlatform/tutorial/blob/develop/upload/OEP_Research_Data_Publishing_Guidebook.ipynb) and upload ([user friendly](https://openenergy-platform.org/dataedit/wizard/), [developer](https://github.com/OpenEnergyPlatform/tutorial/blob/develop/upload/OEP_Upload_Process_Data_and_Metadata_oem2orm.ipynb)) process. If a dataset has already been uploaded to the OEP, then the metadata can be viewed via the [detailed view](https://openenergy-platform.org/dataedit/view/climate/szenariendb_gwp#MetaInformation) of a table (scroll down to the \"Meta Information\" section). The OEP also offers functions for creating, editing and downloading metadata. These functions can also be found on the detail view. Make sure to [sign up](https://openenergy-platform.org/user/login/?next=/) to the OEP in advance to get full access. \n",
    "\n",
    "### Developer information\n",
    "\n",
    "The oemetadata is developed in JSON format and is published on GitHub under the MIT License. The current version of the JSON string can be found in the [oeplatform/oemetadata](https://github.com/OpenEnergyPlatform/oemetadata/tree/develop/metadata/latest) repository. As an open source project, [suggestions for improvement](https://github.com/OpenEnergyPlatform/oemetadata/issues/new) and forking are welcome. Please note our [development philosophy](https://github.com/OpenEnergyPlatform/oemetadata/blob/master/CONTRIBUTING.md) before you start contributing."
   ]
  },
  {
   "cell_type": "markdown",
   "metadata": {},
   "source": [
    "### Structure of the OEMetadata\n",
    "\n",
    "The OEMetadata are, generally speaking, divided into five sections: \n",
    "1. gernal information\n",
    "    - Describes the dataset and links the related data table on the OEP.\n",
    "2. sources\n",
    "    - Documentation of all sources used with attribution and licenses.\n",
    "3. license\n",
    "    - The license for the data, here an open license must be available.\n",
    "4. history\n",
    "    - Information on who created/edited the metadata.\n",
    "5. data model\n",
    "    - Structure of the table in which the data is stored, also technical documentation of the table, requires basic database (SQL) knowledge.\n",
    "\n",
    "We provide a **[detailed overview](https://github.com/OpenEnergyPlatform/oemetadata/blob/develop/metadata/latest/metadata_key_description.md)** in which all fields that occur in the metadata are described. In addition, you will find sample values there. \n",
    "\n"
   ]
  },
  {
   "cell_type": "markdown",
   "metadata": {},
   "source": [
    "### Suggested workflow to get started\n",
    "\n",
    "There are several ways to create the OEMetadata. One way is to download the [template JSON file](https://github.com/OpenEnergyPlatform/oemetadata/blob/develop/metadata/latest/template.json) and fill it manually. But this is not user friendly and more applicable from a developer point of view. As another option, a [tool called wizard](https://openenergy-platform.org/dataedit/wizard/) has been developed that can be used via the OEP website. There a table can be created, data can be uploaded from an excel or CSV file and the metadata can be filled in. Since the tool is much more user friendly we recommend to use the tool. Once the metadata has been created, it must be downloaded and uploaded to github in order to go through the publishing process.\n",
    "\n",
    "The metadata can be filled in to the best of your knowledge in the first step. If there are any difficulties, it is sufficient to create an issue on github to get in contact with the OEP developers. The [issue template](https://github.com/OpenEnergyPlatform/data-preprocessing/issues/new?assignees=christian-rli%2C+jh-RLI%2C+Ludee&labels=review&template=metadata-and-data-review.md&title=Review%3A+NameOfDataset) can be used for this purpose.A GitHub account is required for this. "
   ]
  }
 ],
 "metadata": {
  "kernelspec": {
   "display_name": "oep-upload",
   "language": "python",
   "name": "oep-upload"
  },
  "language_info": {
   "codemirror_mode": {
    "name": "ipython",
    "version": 3
   },
   "file_extension": ".py",
   "mimetype": "text/x-python",
   "name": "python",
   "nbconvert_exporter": "python",
   "pygments_lexer": "ipython3",
   "version": "3.6.10"
  }
 },
 "nbformat": 4,
 "nbformat_minor": 2
}
