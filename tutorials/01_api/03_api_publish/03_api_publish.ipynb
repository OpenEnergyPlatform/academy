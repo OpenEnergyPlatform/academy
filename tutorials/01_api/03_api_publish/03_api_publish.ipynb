{
  "cells": [
    {
      "attachments": {},
      "cell_type": "markdown",
      "metadata": {},
      "source": [
        "# API Tutorial 03 - Publish data to the Open Energy Platform using the API.\n",
        "\n",
        "<!-- keep img below title and without align=\"left\"  -->\n",
        "<img src=\"https://raw.githubusercontent.com/OpenEnergyPlatform/academy/develop/docs/data/img/OEP_logo_2_no_text.svg\" alt=\"OpenEnergy Platform\" height=\"75\" width=\"75\"/>\n"
      ]
    },
    {
      "attachments": {},
      "cell_type": "markdown",
      "metadata": {},
      "source": [
        "## Learnings\n",
        "\n",
        "This tutorials will enable you to:\n",
        "\n",
        "- [Publish an existing table on the OEP](#create-table)\n",
        "- [Optionally apply an embargo period](#upload-data)\n",
        "- [Undo the table publishing](#upload-metadata)\n",
        "\n",
        "\n",
        "## Requirements\n",
        "\n",
        "- have your OEP API token at hand. You find this in settings tab in your profile page. (If you don't have a token see [Things you only need to do once](https://openenergyplatform.github.io/academy/tutorials/99_other/beginners_guide/#1-things-you-only-need-to-do-once).)\n",
        "- Your tabular data is available on the open energy platform and got oemetadata including an open license (according to the SPDX data license list) in the licenses field.\n",
        "  - we use the tutorial_example_table_publish from model_draft on the OEP, make sure it exists beforehand. If it is missing try to recreate it using this [script]() TODO.\n",
        "- Python\n",
        "- Python packages:\n",
        "  - `requests` (See the packages [documentation](https://requests.readthedocs.io/en/latest/) for more help)\n",
        "  - jupyter notebook, e.g. `notebook` or `jupyterlab`\n",
        "- Skills:\n",
        "  - use [python](https://wiki.python.org/moin/BeginnersGuide) with [jupyter notebooks](https://docs.jupyter.org/en/latest/)\n",
        "  - _some_ understanding of [JSON encoded data](https://www.w3schools.com/js/js_json_datatypes.asp)\n",
        "- Internet: obviously, but also make sure your network settings allow https traffic from python\n"
      ]
    },
    {
      "cell_type": "markdown",
      "metadata": {},
      "source": [
        "## Feedback\n",
        "\n",
        "You can provide feedback on this tutorial in this [GitHub issue](https://github.com/OpenEnergyPlatform/academy/issues/TBD)\n"
      ]
    },
    {
      "attachments": {},
      "cell_type": "markdown",
      "metadata": {},
      "source": [
        "## Setup\n",
        "\n",
        "This part of the code sets up all you need to execute the further code below. It imports the required packages into python, sets up the test table and asks you for the OEP API token so that you can identify with the OEP, which is mandatory if you want to upload to the OEP. The setup is a necessary step.\n"
      ]
    },
    {
      "cell_type": "code",
      "execution_count": 5,
      "metadata": {
        "metadata": {}
      },
      "outputs": [
        {
          "name": "stdout",
          "output_type": "stream",
          "text": [
            "https://openenergyplatform.org/api/v0/schema/model_draft/tables/tutorial_example_table/move_publish/demand/\n",
            "https://openenergyplatform.org/api/v0/schema/demand/tables/tutorial_example_table/move_publish/model_draft/\n"
          ]
        }
      ],
      "source": [
        "# install required packages with: pip install requests\n",
        "# import required packages\n",
        "import json\n",
        "from getpass import getpass\n",
        "from os import environ\n",
        "\n",
        "import requests as req\n",
        "\n",
        "topic = \"model_draft\"\n",
        "table = f\"tutorial_example_table\"\n",
        "\n",
        "publish_in_topic = \"demand\"\n",
        "token = environ.get(\"OEP_API_TOKEN\") or getpass(\"Enter your OEP API token:\")\n",
        "\n",
        "# for read/write, we need to add authorization header\n",
        "auth_headers = {\"Authorization\": \"Token %s\" % token}\n",
        "table_publish_api_url = f\"https://openenergyplatform.org/api/v0/schema/{topic}/tables/{table}/move_publish/{publish_in_topic}/\"\n",
        "table_undo_publish_api_url = f\"https://openenergyplatform.org/api/v0/schema/{publish_in_topic}/tables/{table}/move_publish/{topic}/\"\n",
        "\n",
        "print(table_publish_api_url)\n",
        "print(table_undo_publish_api_url)"
      ]
    },
    {
      "attachments": {},
      "cell_type": "markdown",
      "metadata": {},
      "source": [
        "## Optional: Setup an embargo period \n",
        "\n",
        "This part of the code will add an embargo period of either 6 months or 1 year on the published tabular dataset. Since it is also possible to apply an embargo on data that is not yet published, during table creation, this section code also shows how to remove an embargo period that is already active. \n",
        "\n",
        "Note: It is not possible to set a custom embargo period like embargo\": {\"start\": \"2024-08-27\", \"end\": \"2024-02-27\"} We might consider implementing such a possibility later on."
      ]
    },
    {
      "cell_type": "code",
      "execution_count": 4,
      "metadata": {
        "metadata": {}
      },
      "outputs": [],
      "source": [
        "embargo = {\n",
        "    \"embargo\": {\"duration\": \"6_months\"},\n",
        "    # \"embargo\": None,\n",
        "}"
      ]
    },
    {
      "attachments": {},
      "cell_type": "markdown",
      "metadata": {},
      "source": [
        "## Publish a table\n",
        "\n",
        "This part of the code deletes the table (including the metadata) that you have uploaded to the OEP.\n",
        "\n",
        "To be able to execute this part you will need to have executed the [setup](#setup) and you will need to have [created a table](#create-table).\n"
      ]
    },
    {
      "cell_type": "code",
      "execution_count": 3,
      "metadata": {},
      "outputs": [
        {
          "ename": "NameError",
          "evalue": "name 'table_undo_publish_api_url' is not defined",
          "output_type": "error",
          "traceback": [
            "\u001b[0;31m---------------------------------------------------------------------------\u001b[0m",
            "\u001b[0;31mNameError\u001b[0m                                 Traceback (most recent call last)",
            "Cell \u001b[0;32mIn[3], line 2\u001b[0m\n\u001b[1;32m      1\u001b[0m \u001b[38;5;66;03m# Deleting tables needs authentication headers\u001b[39;00m\n\u001b[0;32m----> 2\u001b[0m res \u001b[38;5;241m=\u001b[39m req\u001b[38;5;241m.\u001b[39mpost(\u001b[43mtable_undo_publish_api_url\u001b[49m, headers\u001b[38;5;241m=\u001b[39mauth_headers)\n\u001b[1;32m      4\u001b[0m \u001b[38;5;66;03m# raise Exception if request fails\u001b[39;00m\n\u001b[1;32m      5\u001b[0m \u001b[38;5;28;01mif\u001b[39;00m \u001b[38;5;129;01mnot\u001b[39;00m res\u001b[38;5;241m.\u001b[39mok:\n",
            "\u001b[0;31mNameError\u001b[0m: name 'table_undo_publish_api_url' is not defined"
          ]
        }
      ],
      "source": [
        "# Deleting tables needs authentication headers\n",
        "res = req.post(table_publish_api_url, json={\"query\": embargo}, headers=auth_headers)\n",
        "\n",
        "# raise Exception if request fails\n",
        "if not res.ok:\n",
        "    raise Exception(res.text)"
      ]
    },
    {
      "cell_type": "markdown",
      "metadata": {},
      "source": [
        "## Revoke a published table\n",
        "\n",
        "This part of the code deletes the table (including the metadata) that you have uploaded to the OEP.\n",
        "\n",
        "To be able to execute this part you will need to have executed the [setup](#setup) and you will need to have [created a table](#create-table).\n"
      ]
    },
    {
      "cell_type": "code",
      "execution_count": null,
      "metadata": {},
      "outputs": [],
      "source": [
        "# Deleting tables needs authentication headers\n",
        "res = req.post(table_undo_publish_api_url, headers=auth_headers)\n",
        "\n",
        "# raise Exception if request fails\n",
        "if not res.ok:\n",
        "    raise Exception(res.text)"
      ]
    },
    {
      "cell_type": "markdown",
      "metadata": {},
      "source": [
        "## About this tutorial\n",
        "\n",
        ":oep-logo-sirop:\n",
        "\n",
        "- Author: Jonas Huber\n",
        "- Copyright: [Reiner-Lemoine-Institut](https://www.reiner-lemoine-institut.de/) (2024)\n",
        "- License: [CC BY 4.0](https://creativecommons.org/licenses/by/4.0/deed.en)\n",
        "- Attribution: Reiner-Lemoine-Institut (2024): API Tutorial 03 - Publish data to the Open Energy Platform using the API.\n",
        "- Last update :oep-auto-lastupdate:\n"
      ]
    },
    {
      "cell_type": "markdown",
      "metadata": {},
      "source": []
    }
  ],
  "metadata": {
    "kernelspec": {
      "display_name": "Python 3",
      "language": "python",
      "name": "python3"
    },
    "language_info": {
      "codemirror_mode": {
        "name": "ipython",
        "version": 3
      },
      "file_extension": ".py",
      "mimetype": "text/x-python",
      "name": "python",
      "nbconvert_exporter": "python",
      "pygments_lexer": "ipython3",
      "version": "3.10.12"
    },
    "orig_nbformat": 4
  },
  "nbformat": 4,
  "nbformat_minor": 2
}
