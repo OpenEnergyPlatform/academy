{
  "cells": [
    {
      "attachments": {},
      "cell_type": "markdown",
      "metadata": {},
      "source": [
        "# OEP Client Tutorial 02 - Upload data to the Open Energy Platform using the OEP Client in a python script\n",
        "\n",
        "<!-- keep img below title and without align=\"left\"  -->\n",
        "<img src=\"https://raw.githubusercontent.com/OpenEnergyPlatform/academy/develop/docs/data/img/OEP_logo_2_no_text.svg\" alt=\"OpenEnergy Platform\" height=\"75\" width=\"75\"/>\n"
      ]
    },
    {
      "attachments": {},
      "cell_type": "markdown",
      "metadata": {},
      "source": [
        "## Learnings\n",
        "\n",
        "This tutorials will enable you to:\n",
        "\n",
        "- [Create a table on the OEP](#create-table)\n",
        "- [Upload data to that table](#upload-data)\n",
        "- [Upload metadata accompanying the data](#upload-metadata)\n",
        "- [Delete the table and the corresponding metadata](#delete-table)\n",
        "\n",
        "## Requirements\n",
        "\n",
        "To execute the following code you will need to need to be a registered user on the OEP and\n",
        "\n",
        "- have your OEP API token at hand. You find this in settings tab in your profile page. (If you don't have a token see [Things you only need to do once](https://openenergyplatform.github.io/academy/tutorials/99_other/beginners_guide/#1-things-you-only-need-to-do-once).)\n",
        "\n",
        "You will also need to have the following installed on your computer:\n",
        "\n",
        "- Python\n",
        "- Python packages:\n",
        "\n",
        "  - `oep-client>=0.17` (installs also the command line tool)\n",
        "  - jupyter notebook, e.g. `notebook` or `jupyterlab`\n",
        "\n",
        "- Ideally you exhibit the following skills:\n",
        "  - use python with jupyter notebooks\n",
        "\n",
        "## Feedback\n",
        "You can provide feedback on this tutorial here: https://github.com/OpenEnergyPlatform/academy/issues/236\n",
        "\n"
      ]
    },
    {
      "attachments": {},
      "cell_type": "markdown",
      "metadata": {},
      "source": [
        "## Setup\n",
        "\n",
        "This part of the code sets up all you need to execute the further code below. It imports the required packages into python, sets up the test table and asks you for the OEP API token so that you can identify with the OEP, which is mandatory if you want to upload to the OEP. The setup is a necessary step.\n"
      ]
    },
    {
      "cell_type": "code",
      "execution_count": 1,
      "metadata": {},
      "outputs": [],
      "source": [
        "# install required packages with: pip install \"oep-client>=0.17\"\n",
        "# import required packages\n",
        "import json\n",
        "from random import randint\n",
        "from getpass import getpass\n",
        "from os import environ\n",
        "\n",
        "import requests as req\n",
        "from oep_client import OepClient\n",
        "\n",
        "topic = \"sandbox\"\n",
        "table = f\"tutorial_example_table_{randint(0, 100000)}\"\n",
        "token = environ.get(\"OEP_API_TOKEN\") or getpass(\"Enter your OEP API token:\")\n",
        "\n",
        "cli = OepClient(token=token, default_schema=topic)"
      ]
    },
    {
      "attachments": {},
      "cell_type": "markdown",
      "metadata": {},
      "source": [
        "## Create table\n",
        "\n",
        "This part of the code creates the table you will later upload to the OEP.\n",
        "\n",
        "To be able to execute this part you will need to have executed the [setup](#setup)\n"
      ]
    },
    {
      "cell_type": "code",
      "execution_count": 2,
      "metadata": {},
      "outputs": [],
      "source": [
        "# TODO: explain / link to data types\n",
        "table_schema = {\n",
        "    \"columns\": [\n",
        "        # NOTE: first column should be numerical column named `id` .\n",
        "        # Use `bigserial` if you want the database to create the re\n",
        "        {\"name\": \"id\", \"data_type\": \"bigserial\", \"primary_key\": True},\n",
        "        {\"name\": \"name\", \"data_type\": \"varchar(18)\", \"is_nullable\": False},\n",
        "        {\"name\": \"is_active\", \"data_type\": \"boolean\"},\n",
        "        {\"name\": \"capacity_mw\", \"data_type\": \"float\"},\n",
        "        {\"name\": \"installation_datetime_utc\", \"data_type\": \"datetime\"},\n",
        "        {\"name\": \"location\", \"data_type\": \"geometry\"},\n",
        "    ]\n",
        "}"
      ]
    },
    {
      "cell_type": "code",
      "execution_count": 3,
      "metadata": {},
      "outputs": [
        {
          "data": {
            "text/plain": [
              "{}"
            ]
          },
          "execution_count": 3,
          "metadata": {},
          "output_type": "execute_result"
        }
      ],
      "source": [
        "cli.create_table(table, table_schema)"
      ]
    },
    {
      "attachments": {},
      "cell_type": "markdown",
      "metadata": {},
      "source": [
        "## Upload data\n",
        "\n",
        "This part of the code uploads the table that you have created above to the OEP.\n",
        "\n",
        "To be able to execute this part you will need to have executed the [setup](#setup) and you will need to have [created a table](#create-table).\n"
      ]
    },
    {
      "cell_type": "code",
      "execution_count": 4,
      "metadata": {},
      "outputs": [
        {
          "name": "stdout",
          "output_type": "stream",
          "text": [
            "[\n",
            "    {\n",
            "        \"name\": \"unit1\",\n",
            "        \"is_active\": true,\n",
            "        \"capacity_mw\": 1.2,\n",
            "        \"installation_datetime_utc\": \"2010-02-03 00:00:00\",\n",
            "        \"location\": \"POINT(53.12 8.345)\"\n",
            "    },\n",
            "    {\n",
            "        \"name\": \"unit2\",\n",
            "        \"is_active\": false,\n",
            "        \"capacity_mw\": 2.1,\n",
            "        \"installation_datetime_utc\": \"2010-01-08\",\n",
            "        \"location\": null\n",
            "    },\n",
            "    {\n",
            "        \"name\": \"unit3\",\n",
            "        \"is_active\": true,\n",
            "        \"capacity_mw\": 100.0,\n",
            "        \"installation_datetime_utc\": \"2010-01-02 10:30:00\",\n",
            "        \"location\": \"Point(55.34 7.34)\"\n",
            "    }\n",
            "]\n"
          ]
        }
      ],
      "source": [
        "# TODO: explain required data structure\n",
        "\n",
        "# get example data\n",
        "data = req.get(\n",
        "    \"https://raw.githubusercontent.com/OpenEnergyPlatform/academy/production/docs/data/tutorial_example_table.data.json\"\n",
        ").json()\n",
        "\n",
        "# show results in notebook\n",
        "print(json.dumps(data, indent=4))"
      ]
    },
    {
      "cell_type": "code",
      "execution_count": 5,
      "metadata": {},
      "outputs": [
        {
          "name": "stdout",
          "output_type": "stream",
          "text": [
            "\n"
          ]
        }
      ],
      "source": [
        "cli.insert_into_table(table, data)"
      ]
    },
    {
      "attachments": {},
      "cell_type": "markdown",
      "metadata": {},
      "source": [
        "## Upload metadata\n",
        "\n",
        "This part of the code will upload metadata that described the data in your table to the OEP.\n",
        "\n",
        "To be able to execute this part you will need to have executed the [setup](#setup) and you will need to have [created a table](#create-table).\n"
      ]
    },
    {
      "cell_type": "code",
      "execution_count": 6,
      "metadata": {},
      "outputs": [
        {
          "name": "stdout",
          "output_type": "stream",
          "text": [
            "{\n",
            "    \"id\": \"test_table\",\n",
            "    \"keywords\": [\n",
            "        \"energy\",\n",
            "        \"installations\",\n",
            "        \"geo\"\n",
            "    ],\n",
            "    \"resources\": [\n",
            "        {\n",
            "            \"name\": \"test_table\",\n",
            "            \"schema\": {\n",
            "                \"foreignKeys\": [],\n",
            "                \"fields\": [\n",
            "                    {\n",
            "                        \"name\": \"id\",\n",
            "                        \"description\": \"numerical id of this data point\",\n",
            "                        \"type\": \"integer\"\n",
            "                    },\n",
            "                    {\n",
            "                        \"name\": \"name\",\n",
            "                        \"description\": \"name of installation\",\n",
            "                        \"type\": \"string\"\n",
            "                    },\n",
            "                    {\n",
            "                        \"name\": \"is_active\",\n",
            "                        \"description\": \"true/false if installation is active\",\n",
            "                        \"type\": \"boolean\"\n",
            "                    },\n",
            "                    {\n",
            "                        \"name\": \"capacity_mw\",\n",
            "                        \"description\": \"installed capacity in MW\",\n",
            "                        \"type\": \"number\"\n",
            "                    },\n",
            "                    {\n",
            "                        \"name\": \"installation_datetime_utc\",\n",
            "                        \"description\": \"date (and time) when installation was build\",\n",
            "                        \"type\": \"string\"\n",
            "                    },\n",
            "                    {\n",
            "                        \"name\": \"location\",\n",
            "                        \"description\": \"point location of installation\",\n",
            "                        \"type\": \"geojson\"\n",
            "                    }\n",
            "                ]\n",
            "            }\n",
            "        }\n",
            "    ],\n",
            "    \"metaMetadata\": {\n",
            "        \"metadataVersion\": \"OEP-1.5.2\",\n",
            "        \"metadataLicense\": {\n",
            "            \"name\": \"CC0-1.0\",\n",
            "            \"title\": \"Creative Commons Zero v1.0 Universal\",\n",
            "            \"path\": \"https://creativecommons.org/publicdomain/zero/1.0/\"\n",
            "        }\n",
            "    },\n",
            "    \"_comment\": {\n",
            "        \"metadata\": \"Metadata documentation and explanation (https://github.com/OpenEnergyPlatform/oemetadata)\",\n",
            "        \"dates\": \"Dates and time must follow the ISO8601 including time zone (YYYY-MM-DD or YYYY-MM-DDThh:mm:ss\\u00b1hh)\",\n",
            "        \"units\": \"Use a space between numbers and units (100 m)\",\n",
            "        \"languages\": \"Languages must follow the IETF (BCP47) format (en-GB, en-US, de-DE)\",\n",
            "        \"licenses\": \"License name must follow the SPDX License List (https://spdx.org/licenses/)\",\n",
            "        \"review\": \"Following the OEP Data Review (https://github.com/OpenEnergyPlatform/data-preprocessing/blob/master/data-review/manual/review_manual.md)\",\n",
            "        \"null\": \"If not applicable use: null\",\n",
            "        \"todo\": \"If a value is not yet available, use: todo\"\n",
            "    }\n",
            "}\n"
          ]
        }
      ],
      "source": [
        "# get metadata (from example file)\n",
        "metadata = req.get(\n",
        "    \"https://raw.githubusercontent.com/OpenEnergyPlatform/academy/production/docs/data/tutorial_example_table.metadata.json\"\n",
        ").json()\n",
        "\n",
        "metadata = cli.set_metadata(table, metadata)\n",
        "print(json.dumps(metadata, indent=4))"
      ]
    },
    {
      "attachments": {},
      "cell_type": "markdown",
      "metadata": {},
      "source": [
        "## Delete table\n",
        "\n",
        "This part of the code deletes the table (including the metadata) that you have uploaded to the OEP.\n",
        "\n",
        "To be able to execute this part you will need to have executed the [setup](#setup) and you will need to have [created a table](#create-table).\n"
      ]
    },
    {
      "cell_type": "code",
      "execution_count": 7,
      "metadata": {},
      "outputs": [
        {
          "data": {
            "text/plain": [
              "{}"
            ]
          },
          "execution_count": 7,
          "metadata": {},
          "output_type": "execute_result"
        }
      ],
      "source": [
        "cli.drop_table(table)"
      ]
    },
    {
      "cell_type": "markdown",
      "metadata": {},
      "source": [
        "## About this tutorial\n",
        "\n",
        ":oep-logo-sirop:\n",
        "\n",
        "- Author: Christian Winger\n",
        "- Copyright: [Öko-Institut](https://www.oeko.de) (2024)\n",
        "- License: [CC BY 4.0](https://creativecommons.org/licenses/by/4.0/deed.en)\n",
        "- Attribution: Öko-Institut (2024): OEP Client Tutorial 02 - Upload data to the Open Energy Platform using the OEP Client in a python script\n",
        "- Last update :oep-auto-lastupdate:\n"
      ]
    },
    {
      "cell_type": "markdown",
      "metadata": {},
      "source": []
    }
  ],
  "metadata": {
    "kernelspec": {
      "display_name": "Python 3",
      "language": "python",
      "name": "python3"
    },
    "language_info": {
      "codemirror_mode": {
        "name": "ipython",
        "version": 3
      },
      "file_extension": ".py",
      "mimetype": "text/x-python",
      "name": "python",
      "nbconvert_exporter": "python",
      "pygments_lexer": "ipython3",
      "version": "3.10.0"
    },
    "orig_nbformat": 4
  },
  "nbformat": 4,
  "nbformat_minor": 2
}
