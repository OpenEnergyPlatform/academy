{
    "cells": [
        {
            "cell_type": "code",
            "execution_count": null,
            "metadata": {},
            "outputs": [],
            "source": [
                "# pip install oedialect pandas \"sqlalchemy~=1.3,<1.4\" saio\n",
                "\n",
                "import os\n",
                "import getpass\n",
                "\n",
                "import pandas as pd\n",
                "import sqlalchemy as sa\n",
                "from sqlalchemy.orm import sessionmaker\n",
                "import oedialect\n",
                "\n",
                "\n",
                "import saio"
            ]
        },
        {
            "cell_type": "code",
            "execution_count": null,
            "metadata": {},
            "outputs": [],
            "source": [
                "# NEVER commit your token to a repository\n",
                "# get your token from an environment variable\n",
                "# or ask user\n",
                "token = os.environ.get(\"OEP_API_TOKEN\") or getpass.getpass('Token:')"
            ]
        },
        {
            "cell_type": "code",
            "execution_count": null,
            "metadata": {},
            "outputs": [],
            "source": [
                "oep_host = 'openenergy-platform.org'\n",
                "oed_string = f'postgresql+oedialect://:{token}@{oep_host}'"
            ]
        },
        {
            "cell_type": "code",
            "execution_count": null,
            "metadata": {},
            "outputs": [],
            "source": [
                "engine = sa.create_engine(oed_string)"
            ]
        },
        {
            "cell_type": "code",
            "execution_count": null,
            "metadata": {},
            "outputs": [],
            "source": [
                "saio.register_schema(\"supply\", engine)"
            ]
        },
        {
            "cell_type": "code",
            "execution_count": null,
            "metadata": {},
            "outputs": [],
            "source": [
                "from saio.supply import wind_turbine_library as wind_turbine_library"
            ]
        },
        {
            "cell_type": "code",
            "execution_count": null,
            "metadata": {},
            "outputs": [],
            "source": [
                "# the structure of the table in the local object wind_turbine_library\n",
                "wind_turbine_library.__table__"
            ]
        },
        {
            "cell_type": "code",
            "execution_count": null,
            "metadata": {},
            "outputs": [],
            "source": [
                "# using saio to download data into a pandas dataframe\n",
                "Session = sessionmaker(bind=engine) # creates session class\n",
                "session = Session() # instantiates a session\n",
                "turbines = saio.as_pandas(session.query(wind_turbine_library))"
            ]
        },
        {
            "cell_type": "code",
            "execution_count": null,
            "metadata": {},
            "outputs": [],
            "source": [
                "# the data of the table is now in the local pandas dataframe turbines\n",
                "turbines"
            ]
        }
    ],
    "metadata": {
        "kernelspec": {
            "display_name": "Python 3",
            "language": "python",
            "name": "python3"
        },
        "language_info": {
            "codemirror_mode": {
                "name": "ipython",
                "version": 3
            },
            "file_extension": ".py",
            "mimetype": "text/x-python",
            "name": "python",
            "nbconvert_exporter": "python",
            "pygments_lexer": "ipython3",
            "version": "3.7.1"
        }
    },
    "nbformat": 4,
    "nbformat_minor": 2
}
