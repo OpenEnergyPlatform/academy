{
    "cells": [
        {
            "attachments": {},
            "cell_type": "markdown",
            "metadata": {},
            "source": [
                "<img src=\"https://raw.githubusercontent.com/OpenEnergyPlatform/academy/develop/docs/data/img/OEP_logo_2_no_text.svg\" alt=\"OpenEnergy Platform\" height=\"75\" width=\"75\"  align=\"left\"/>\n",
                "\n",
                "# Tutorial - How to create diagramms for tables\n",
                "\n",
                "The development of tutorials for the Open Energy Family takes place publicly in a dedicated [tutorial repository](https://github.com/OpenEnergyPlatform/tutorial).<br> \n",
                "Please report bugs and suggestions as [new issues](https://github.com/OpenEnergyPlatform/template/issues). <br> \n",
                "\n",
                "license: [**GNU Affero General Public License Version 3 (AGPL-3.0)**](https://github.com/openego/data_processing/blob/master/LICENSE)<br> \n",
                "copyright: **Reiner Lemoine Institut** <br> \n",
                "authors: **christian-rli, jh-RLI, Ludee**<br> \n",
                "\n",
                "If Jupyter Notebooks are new to you and you'd like to get an introduction, have a look at this less than 10 minute [introduction video](https://www.youtube.com/watch?v=q_BzsPxwLOE). Official installation instructions are available on [jupyter's readthedocs page](https://jupyter.readthedocs.io/en/latest/install.html)."
            ]
        },
        {
            "cell_type": "markdown",
            "metadata": {},
            "source": [
                "## Introduction\n",
                "\n",
                "This resource will go through the technical process of creating an [Entity Relationship Model (ERM)](https://en.wikipedia.org/wiki/Entity%E2%80%93relationship_model) als called an Entity Relationship Diagramms (ERD). It is a specific convention technique based on the [Unified Modeling Language (UML)](https://en.wikipedia.org/wiki/Unified_Modeling_Language) developed by the [OMG](https://en.wikipedia.org/wiki/Object_Management_Group). It is mainly used to visualize a data or information structure which can be implemented in a database, typically a relational database.\n",
                "\n",
                "In this tutorial, we use the python package [ERAlchemy](https://pypi.org/project/ERAlchemy/). It depends on the [GraphViz](https://en.wikipedia.org/wiki/Graphviz) Library and uses a markdown file as .er file format to define/describe the table entitys, key attributes, datatypes and table relations. It uses an existing table from the OEP or a loclally created sqlAlchemy table."
            ]
        },
        {
            "cell_type": "markdown",
            "metadata": {},
            "source": [
                "### Takeways\n",
                "\n",
                "- Connect to the OEP Database\n",
                "- Import tables from the database as [SQLAlchemy](https://de.wikipedia.org/wiki/SQLAlchemy) Object-Relational-Mappings (ORM)\n",
                "- Create Entity Relationship Diagrams"
            ]
        },
        {
            "cell_type": "markdown",
            "metadata": {},
            "source": [
                "## Setup\n",
                "\n",
                "You need to be signed up to the OEP to access your username and API Token. To run this Jupyter Notebook you need to create an execution environment with all the following dependencies installed:`eralchemy`, `sqlalchemy`, `saio`, `oedialect`, `pandas`, `oem2orm`.\n",
                "\n",
                "Installing `eralchemy` on **Windows** can cause some problems, try [this solution](https://stackoverflow.com/questions/40809758/howto-install-pygraphviz-on-windows-10-64bit): <br>\n",
                "`conda install -c alubbock pygraphviz` <br>\n",
                "`pip install eralchemy`\n",
                "\n",
                "On **Linux** you should be able to install Graphviz using `sudo apt install graphviz` on your machine. Then install eralchemy `pip install eralchemy` if this fails try to run `sudo apt install libgraphviz-dev` first. \n"
            ]
        },
        {
            "cell_type": "markdown",
            "metadata": {},
            "source": [
                "## Uploading Process\n",
                "\n",
                "### Import Dependencies\n",
                "\n",
                "We will start out by creating a connection to the OEP, reading in our metadata files and creating empty tables from these. For these steps we need to import oem2orm, pandas, os and getpass."
            ]
        },
        {
            "cell_type": "code",
            "execution_count": null,
            "metadata": {},
            "outputs": [],
            "source": [
                "from collections import namedtuple\n",
                "import saio\n",
                "import sqlalchemy as sa\n",
                "import getpass\n",
                "import os\n",
                "import eralchemy\n",
                "import oedialect\n",
                "from oem2orm import oep_oedialect_oem2orm as oem2orm"
            ]
        },
        {
            "cell_type": "markdown",
            "metadata": {},
            "source": [
                "### Connection to OEP\n",
                "\n",
                "To connect to the OEP you need your OEP Token and user name. Note: You can view your token on your OEP profile page after [logging in](https://openenergy-platform.org/user/login/?next=/). The following command will prompt you for your token and store it as an environment variable. When you paste it here, it will only show dots instead of the actual string.\n",
                "\n",
                "You can ignore this step if you already set your api token in your local os environment variables."
            ]
        },
        {
            "cell_type": "code",
            "execution_count": null,
            "metadata": {},
            "outputs": [],
            "source": [
                "os.environ[\"OEP_TOKEN\"] = getpass.getpass('Token:')"
            ]
        },
        {
            "cell_type": "markdown",
            "metadata": {},
            "source": [
                "Provide your OEP-username in order to create a connection to the database. Your token is taken from the environment variable you've created above. Note: Using white space in your name is fine. We use oem2orm because the package offers easy connection methodes and is usable with the oedialect."
            ]
        },
        {
            "cell_type": "code",
            "execution_count": null,
            "metadata": {},
            "outputs": [],
            "source": [
                "db = oem2orm.setup_db_connection()"
            ]
        },
        {
            "cell_type": "markdown",
            "metadata": {},
            "source": [
                "### Select a table on the database\n",
                "\n",
                "You can create ERD´s for tables that already exist on the OEP. We use the package saio to get the sqlalachemy ORM class. The ORM is a sqlalchemy table representaion in python that maps the a python class and the table object. We can use that class to create the ERD in the following steps."
            ]
        },
        {
            "cell_type": "code",
            "execution_count": null,
            "metadata": {},
            "outputs": [],
            "source": [
                "saio.register_schema(\"model_draft\", db.engine)\n",
                "from saio.model_draft import Base\n",
                "from saio.model_draft import tum_urbs_ger_transmission"
            ]
        },
        {
            "cell_type": "markdown",
            "metadata": {},
            "source": [
                "### Create the ERD\n",
                "\n",
                "We specify a file name and pass it along with the Table definition to the render function in eralchemy. Depending on the file format we can create a markdown file (.er) or a picture (.png) as output file."
            ]
        },
        {
            "cell_type": "code",
            "execution_count": null,
            "metadata": {},
            "outputs": [],
            "source": [
                "filename = 'erm/myErmDiagram.pdf'\n",
                "eralchemy.render_er(Base, filename)"
            ]
        },
        {
            "cell_type": "markdown",
            "metadata": {},
            "source": [
                "The next command will set up the table. The collect_tables_function collects all metadata files in a folder and retrives the SQLAlchemy ORM objects and returns them. The Tables are ordered by foreign key. Having a valid metadata strings is necessary for the following steps.\n",
                "\n",
                "\n",
                "<div class=\"alert alert-block alert-info\">\n",
                "INFO: The red output is information printed by the logger. It does not mean that an error has occurred.</div>\n"
            ]
        }
    ],
    "metadata": {
        "kernelspec": {
            "display_name": "Python 3",
            "language": "python",
            "name": "python3"
        },
        "language_info": {
            "codemirror_mode": {
                "name": "ipython",
                "version": 3
            },
            "file_extension": ".py",
            "mimetype": "text/x-python",
            "name": "python",
            "nbconvert_exporter": "python",
            "pygments_lexer": "ipython3",
            "version": "3.6.9"
        }
    },
    "nbformat": 4,
    "nbformat_minor": 2
}
