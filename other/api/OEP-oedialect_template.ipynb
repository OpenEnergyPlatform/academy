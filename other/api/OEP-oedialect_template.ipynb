{
  "cells": [
    {
      "attachments": {},
      "cell_type": "markdown",
      "metadata": {},
      "source": [
        "<img src=\"https://raw.githubusercontent.com/OpenEnergyPlatform/academy/develop/docs/data/img/OEP_logo_2_no_text.svg\" alt=\"OpenEnergy Platform\" height=\"75\" width=\"75\" align=\"left\"/>\n",
        "\n",
        "# Usage of OpenEnergyPlatform API-Dialect (oedialect)\n",
        "\n",
        "Repository: https://github.com/openego/oedialect <br>\n",
        "Documentation: http://oep-data-interface.readthedocs.io/en/latest/api/how_to.html\n",
        "\n",
        "Please report bugs and improvements here: https://github.com/OpenEnergyPlatform/oedialect/issues <br>"
      ]
    },
    {
      "cell_type": "code",
      "execution_count": 1,
      "metadata": {},
      "outputs": [],
      "source": [
        "__copyright__ = \"Reiner Lemoine Institut\"\n",
        "__license__   = \"GNU Affero General Public License Version 3 (AGPL-3.0)\"\n",
        "__url__       = \"https://github.com/openego/data_processing/blob/master/LICENSE\"\n",
        "__author__    = \"henhuy, Ludee, oakca\""
      ]
    },
    {
      "cell_type": "code",
      "execution_count": 2,
      "metadata": {},
      "outputs": [],
      "source": [
        "# pip install oedialect pandas \"sqlalchemy~=1.3,<1.4\"\n",
        "\n",
        "import os\n",
        "import getpass\n",
        "\n",
        "import pandas as pd\n",
        "import sqlalchemy as sa\n",
        "from sqlalchemy.orm import sessionmaker\n",
        "from sqlalchemy import BigInteger, Boolean, Column, Date, Float, Integer, Numeric, String, Table, Text, text\n",
        "from geoalchemy2.types import Geometry\n",
        "from sqlalchemy.ext.declarative import declarative_base\n",
        "import oedialect\n"
      ]
    },
    {
      "cell_type": "markdown",
      "metadata": {},
      "source": [
        "## Connection to OEP\n",
        "\n",
        "If we want to upload data to the OEP we first need to connect to it, using our OEP user name and token. \n",
        "Note: You ca view your token on your OEP profile page after logging in."
      ]
    },
    {
      "cell_type": "code",
      "execution_count": 3,
      "metadata": {},
      "outputs": [],
      "source": [
        "# NEVER commit your token to a repository\n",
        "# get your token from an environment variable\n",
        "# or ask user\n",
        "token = os.environ.get(\"OEP_API_TOKEN\") or getpass.getpass('Token:')"
      ]
    },
    {
      "cell_type": "code",
      "execution_count": 4,
      "metadata": {},
      "outputs": [],
      "source": [
        "# Create Engine:\n",
        "oep_host = 'openenergyplatform.org'\n",
        "oed_string = f'postgresql+oedialect://:{token}@{oep_host}'\n",
        "\n",
        "engine = sa.create_engine(oed_string)\n",
        "metadata = sa.MetaData(bind=engine)"
      ]
    },
    {
      "cell_type": "markdown",
      "metadata": {},
      "source": [
        "## Setup a Table\n",
        "\n",
        "We need to tell the data base what columns and datatypes we are about to upload. In our case we have four columns, two of which are text, one is integer and the last is float."
      ]
    },
    {
      "cell_type": "code",
      "execution_count": 5,
      "metadata": {},
      "outputs": [],
      "source": [
        "tname = 'example_dialect_table'\n",
        "sname = 'sandbox'\n",
        "\n",
        "table = sa.Table(\n",
        "    tname,\n",
        "    metadata,\n",
        "    sa.Column('name', sa.VARCHAR(50)),\n",
        "    sa.Column('age', sa.INTEGER),\n",
        "    schema=sname\n",
        ")"
      ]
    },
    {
      "cell_type": "markdown",
      "metadata": {},
      "source": [
        "## Create the new Table\n",
        "\n",
        "Now we tell our engine to connect to the data base and create the defined table within the chosen schema."
      ]
    },
    {
      "cell_type": "code",
      "execution_count": 6,
      "metadata": {},
      "outputs": [
        {
          "name": "stdout",
          "output_type": "stream",
          "text": [
            "Connection established\n"
          ]
        }
      ],
      "source": [
        "conn = engine.connect()\n",
        "print('Connection established')\n",
        "if not engine.dialect.has_table(conn, tname, sname):\n",
        "    table.create()\n",
        "    print('Created table')"
      ]
    },
    {
      "cell_type": "markdown",
      "metadata": {},
      "source": [
        "## Insert data into Table\n",
        " \n",
        "Uploading the information from our DataFrame is now done with a single command. Uploading data in this way will always delete the content of the table and refill it with new values every time. If you change 'replace' to 'append', the data entries will be added to the preexisting ones. (Connecting and uploading may take a minute.)"
      ]
    },
    {
      "cell_type": "code",
      "execution_count": 7,
      "metadata": {},
      "outputs": [
        {
          "name": "stdout",
          "output_type": "stream",
          "text": [
            "Insert successful!\n"
          ]
        }
      ],
      "source": [
        "Session = sessionmaker(bind=engine)\n",
        "session = Session()\n",
        "try:\n",
        "    insert_statement = table.insert().values(\n",
        "        [\n",
        "            dict(name='Peter', age=25),\n",
        "            dict(name='Inge', age=42),\n",
        "            dict(name='Horst', age=36)\n",
        "        ]\n",
        "    )\n",
        "    session.execute(insert_statement)\n",
        "    session.commit()\n",
        "    print('Insert successful!')\n",
        "except Exception as e:\n",
        "    session.rollback()\n",
        "    raise\n",
        "finally:\n",
        "    session.close()"
      ]
    },
    {
      "cell_type": "markdown",
      "metadata": {},
      "source": [
        "## Select from Table\n",
        "\n",
        "Now  we can query our table to see if the data arrived."
      ]
    },
    {
      "cell_type": "code",
      "execution_count": 8,
      "metadata": {},
      "outputs": [],
      "source": [
        "# ORM classes -> ego.io\n",
        "\n",
        "Base = declarative_base()\n",
        "metadata = Base.metadata\n",
        "\n",
        "class BkgVg2502Lan(Base):\n",
        "    __tablename__ = 'bkg_vg250_2_lan'\n",
        "    __table_args__ = {'schema': 'boundaries'}\n",
        "\n",
        "    reference_date = Column(Date, primary_key=True, nullable=False)\n",
        "    id = Column(Integer, primary_key=True, nullable=False, server_default=text(\"nextval('boundaries.bkg_vg250_2_lan_id_seq'::regclass)\"))\n",
        "    ade = Column(Float(53))\n",
        "    gf = Column(Float(53))\n",
        "    bsg = Column(Float(53))\n",
        "    rs = Column(String(12))\n",
        "    ags = Column(String(12))\n",
        "    sdv_rs = Column(String(12))\n",
        "    gen = Column(String(50))\n",
        "    bez = Column(String(50))\n",
        "    ibz = Column(Float(53))\n",
        "    bem = Column(String(75))\n",
        "    nbd = Column(String(4))\n",
        "    sn_l = Column(String(2))\n",
        "    sn_r = Column(String(1))\n",
        "    sn_k = Column(String(2))\n",
        "    sn_v1 = Column(String(2))\n",
        "    sn_v2 = Column(String(2))\n",
        "    sn_g = Column(String(3))\n",
        "    fk_s3 = Column(String(2))\n",
        "    nuts = Column(String(5))\n",
        "    rs_0 = Column(String(12))\n",
        "    ags_0 = Column(String(12))\n",
        "    wsk = Column(Date)\n",
        "    debkg_id = Column(String(16))\n",
        "geom = Column(Geometry('MULTIPOLYGON', 31467), index=True)"
      ]
    },
    {
      "cell_type": "code",
      "execution_count": 9,
      "metadata": {},
      "outputs": [
        {
          "name": "stdout",
          "output_type": "stream",
          "text": [
            "[<__main__.BkgVg2502Lan object at 0x00000280AA591CC0>, <__main__.BkgVg2502Lan object at 0x00000280AA591BA0>, <__main__.BkgVg2502Lan object at 0x00000280AA5918A0>, <__main__.BkgVg2502Lan object at 0x00000280AA591570>, <__main__.BkgVg2502Lan object at 0x00000280AA591330>, <__main__.BkgVg2502Lan object at 0x00000280AA591450>, <__main__.BkgVg2502Lan object at 0x00000280AA5919C0>, <__main__.BkgVg2502Lan object at 0x00000280AA591BD0>, <__main__.BkgVg2502Lan object at 0x00000280AA5919F0>, <__main__.BkgVg2502Lan object at 0x00000280AA5918D0>, <__main__.BkgVg2502Lan object at 0x00000280AA591C90>, <__main__.BkgVg2502Lan object at 0x00000280AA591C30>, <__main__.BkgVg2502Lan object at 0x00000280AA591750>, <__main__.BkgVg2502Lan object at 0x00000280AA591D80>, <__main__.BkgVg2502Lan object at 0x00000280AA591720>, <__main__.BkgVg2502Lan object at 0x00000280AA591540>, <__main__.BkgVg2502Lan object at 0x00000280AA591780>, <__main__.BkgVg2502Lan object at 0x00000280AA591AE0>, <__main__.BkgVg2502Lan object at 0x00000280AA591DB0>, <__main__.BkgVg2502Lan object at 0x00000280AA591630>, <__main__.BkgVg2502Lan object at 0x00000280AA591A20>, <__main__.BkgVg2502Lan object at 0x00000280AA5913F0>, <__main__.BkgVg2502Lan object at 0x00000280AA591660>, <__main__.BkgVg2502Lan object at 0x00000280AA591A50>, <__main__.BkgVg2502Lan object at 0x00000280AA5916F0>, <__main__.BkgVg2502Lan object at 0x00000280AA5915A0>, <__main__.BkgVg2502Lan object at 0x00000280AA591C60>, <__main__.BkgVg2502Lan object at 0x00000280AA591300>]\n"
          ]
        }
      ],
      "source": [
        "Session = sessionmaker(bind=engine)\n",
        "session = Session()\n",
        "print(session.query(BkgVg2502Lan).all())\n",
        "session.close()"
      ]
    },
    {
      "cell_type": "code",
      "execution_count": 10,
      "metadata": {},
      "outputs": [
        {
          "data": {
            "text/html": [
              "<div>\n",
              "<style scoped>\n",
              "    .dataframe tbody tr th:only-of-type {\n",
              "        vertical-align: middle;\n",
              "    }\n",
              "\n",
              "    .dataframe tbody tr th {\n",
              "        vertical-align: top;\n",
              "    }\n",
              "\n",
              "    .dataframe thead th {\n",
              "        text-align: right;\n",
              "    }\n",
              "</style>\n",
              "<table border=\"1\" class=\"dataframe\">\n",
              "  <thead>\n",
              "    <tr style=\"text-align: right;\">\n",
              "      <th></th>\n",
              "      <th>id</th>\n",
              "      <th>gen</th>\n",
              "      <th>reference_date</th>\n",
              "    </tr>\n",
              "  </thead>\n",
              "  <tbody>\n",
              "    <tr>\n",
              "      <th>0</th>\n",
              "      <td>1</td>\n",
              "      <td>Saarland</td>\n",
              "      <td>2016-01-01</td>\n",
              "    </tr>\n",
              "    <tr>\n",
              "      <th>1</th>\n",
              "      <td>2</td>\n",
              "      <td>Baden-Württemberg</td>\n",
              "      <td>2016-01-01</td>\n",
              "    </tr>\n",
              "    <tr>\n",
              "      <th>2</th>\n",
              "      <td>3</td>\n",
              "      <td>Nordrhein-Westfalen</td>\n",
              "      <td>2016-01-01</td>\n",
              "    </tr>\n",
              "    <tr>\n",
              "      <th>3</th>\n",
              "      <td>5</td>\n",
              "      <td>Bremen</td>\n",
              "      <td>2016-01-01</td>\n",
              "    </tr>\n",
              "    <tr>\n",
              "      <th>4</th>\n",
              "      <td>6</td>\n",
              "      <td>Hessen</td>\n",
              "      <td>2016-01-01</td>\n",
              "    </tr>\n",
              "    <tr>\n",
              "      <th>5</th>\n",
              "      <td>7</td>\n",
              "      <td>Brandenburg</td>\n",
              "      <td>2016-01-01</td>\n",
              "    </tr>\n",
              "    <tr>\n",
              "      <th>6</th>\n",
              "      <td>8</td>\n",
              "      <td>Niedersachsen</td>\n",
              "      <td>2016-01-01</td>\n",
              "    </tr>\n",
              "    <tr>\n",
              "      <th>7</th>\n",
              "      <td>9</td>\n",
              "      <td>Mecklenburg-Vorpommern</td>\n",
              "      <td>2016-01-01</td>\n",
              "    </tr>\n",
              "    <tr>\n",
              "      <th>8</th>\n",
              "      <td>10</td>\n",
              "      <td>Rheinland-Pfalz</td>\n",
              "      <td>2016-01-01</td>\n",
              "    </tr>\n",
              "    <tr>\n",
              "      <th>9</th>\n",
              "      <td>11</td>\n",
              "      <td>Berlin</td>\n",
              "      <td>2016-01-01</td>\n",
              "    </tr>\n",
              "    <tr>\n",
              "      <th>10</th>\n",
              "      <td>12</td>\n",
              "      <td>Baden-Württemberg (Bodensee)</td>\n",
              "      <td>2016-01-01</td>\n",
              "    </tr>\n",
              "    <tr>\n",
              "      <th>11</th>\n",
              "      <td>13</td>\n",
              "      <td>Bremen</td>\n",
              "      <td>2016-01-01</td>\n",
              "    </tr>\n",
              "    <tr>\n",
              "      <th>12</th>\n",
              "      <td>21</td>\n",
              "      <td>Sachsen</td>\n",
              "      <td>2016-01-01</td>\n",
              "    </tr>\n",
              "    <tr>\n",
              "      <th>13</th>\n",
              "      <td>22</td>\n",
              "      <td>Sachsen-Anhalt</td>\n",
              "      <td>2016-01-01</td>\n",
              "    </tr>\n",
              "    <tr>\n",
              "      <th>14</th>\n",
              "      <td>23</td>\n",
              "      <td>Hamburg</td>\n",
              "      <td>2016-01-01</td>\n",
              "    </tr>\n",
              "    <tr>\n",
              "      <th>15</th>\n",
              "      <td>14</td>\n",
              "      <td>Bayern (Bodensee)</td>\n",
              "      <td>2016-01-01</td>\n",
              "    </tr>\n",
              "    <tr>\n",
              "      <th>16</th>\n",
              "      <td>15</td>\n",
              "      <td>Baden-Württemberg</td>\n",
              "      <td>2016-01-01</td>\n",
              "    </tr>\n",
              "    <tr>\n",
              "      <th>17</th>\n",
              "      <td>16</td>\n",
              "      <td>Baden-Württemberg</td>\n",
              "      <td>2016-01-01</td>\n",
              "    </tr>\n",
              "    <tr>\n",
              "      <th>18</th>\n",
              "      <td>31</td>\n",
              "      <td>Thüringen</td>\n",
              "      <td>2016-01-01</td>\n",
              "    </tr>\n",
              "    <tr>\n",
              "      <th>19</th>\n",
              "      <td>33</td>\n",
              "      <td>Bayern</td>\n",
              "      <td>2016-01-01</td>\n",
              "    </tr>\n",
              "    <tr>\n",
              "      <th>20</th>\n",
              "      <td>34</td>\n",
              "      <td>Niedersachsen</td>\n",
              "      <td>2016-01-01</td>\n",
              "    </tr>\n",
              "    <tr>\n",
              "      <th>21</th>\n",
              "      <td>17</td>\n",
              "      <td>Hamburg</td>\n",
              "      <td>2016-01-01</td>\n",
              "    </tr>\n",
              "    <tr>\n",
              "      <th>22</th>\n",
              "      <td>19</td>\n",
              "      <td>Schleswig-Holstein</td>\n",
              "      <td>2016-01-01</td>\n",
              "    </tr>\n",
              "    <tr>\n",
              "      <th>23</th>\n",
              "      <td>25</td>\n",
              "      <td>Niedersachsen</td>\n",
              "      <td>2016-01-01</td>\n",
              "    </tr>\n",
              "    <tr>\n",
              "      <th>24</th>\n",
              "      <td>26</td>\n",
              "      <td>Schleswig-Holstein</td>\n",
              "      <td>2016-01-01</td>\n",
              "    </tr>\n",
              "    <tr>\n",
              "      <th>25</th>\n",
              "      <td>27</td>\n",
              "      <td>Schleswig-Holstein</td>\n",
              "      <td>2016-01-01</td>\n",
              "    </tr>\n",
              "    <tr>\n",
              "      <th>26</th>\n",
              "      <td>29</td>\n",
              "      <td>Mecklenburg-Vorpommern</td>\n",
              "      <td>2016-01-01</td>\n",
              "    </tr>\n",
              "    <tr>\n",
              "      <th>27</th>\n",
              "      <td>30</td>\n",
              "      <td>Mecklenburg-Vorpommern</td>\n",
              "      <td>2016-01-01</td>\n",
              "    </tr>\n",
              "  </tbody>\n",
              "</table>\n",
              "</div>"
            ],
            "text/plain": [
              "    id                           gen reference_date\n",
              "0    1                      Saarland     2016-01-01\n",
              "1    2             Baden-Württemberg     2016-01-01\n",
              "2    3           Nordrhein-Westfalen     2016-01-01\n",
              "3    5                        Bremen     2016-01-01\n",
              "4    6                        Hessen     2016-01-01\n",
              "5    7                   Brandenburg     2016-01-01\n",
              "6    8                 Niedersachsen     2016-01-01\n",
              "7    9        Mecklenburg-Vorpommern     2016-01-01\n",
              "8   10               Rheinland-Pfalz     2016-01-01\n",
              "9   11                        Berlin     2016-01-01\n",
              "10  12  Baden-Württemberg (Bodensee)     2016-01-01\n",
              "11  13                        Bremen     2016-01-01\n",
              "12  21                       Sachsen     2016-01-01\n",
              "13  22                Sachsen-Anhalt     2016-01-01\n",
              "14  23                       Hamburg     2016-01-01\n",
              "15  14             Bayern (Bodensee)     2016-01-01\n",
              "16  15             Baden-Württemberg     2016-01-01\n",
              "17  16             Baden-Württemberg     2016-01-01\n",
              "18  31                     Thüringen     2016-01-01\n",
              "19  33                        Bayern     2016-01-01\n",
              "20  34                 Niedersachsen     2016-01-01\n",
              "21  17                       Hamburg     2016-01-01\n",
              "22  19            Schleswig-Holstein     2016-01-01\n",
              "23  25                 Niedersachsen     2016-01-01\n",
              "24  26            Schleswig-Holstein     2016-01-01\n",
              "25  27            Schleswig-Holstein     2016-01-01\n",
              "26  29        Mecklenburg-Vorpommern     2016-01-01\n",
              "27  30        Mecklenburg-Vorpommern     2016-01-01"
            ]
          },
          "execution_count": 10,
          "metadata": {},
          "output_type": "execute_result"
        }
      ],
      "source": [
        "df = pd.DataFrame(session.query(BkgVg2502Lan.id,BkgVg2502Lan.gen, BkgVg2502Lan.reference_date)\n",
        "                  .filter(BkgVg2502Lan.reference_date == '2016-01-01').all())\n",
        "df"
      ]
    }
  ],
  "metadata": {
    "kernelspec": {
      "display_name": "Python 3.10.0 ('.env': venv)",
      "language": "python",
      "name": "python3"
    },
    "language_info": {
      "codemirror_mode": {
        "name": "ipython",
        "version": 3
      },
      "file_extension": ".py",
      "mimetype": "text/x-python",
      "name": "python",
      "nbconvert_exporter": "python",
      "pygments_lexer": "ipython3",
      "version": "3.10.0"
    },
    "vscode": {
      "interpreter": {
        "hash": "107173beb3e5096b29955c6f511b636e3644f34d87aaa01385107543be18dbd0"
      }
    },
    "widgets": {
      "application/vnd.jupyter.widget-state+json": {
        "state": {},
        "version_major": 1,
        "version_minor": 0
      }
    }
  },
  "nbformat": 4,
  "nbformat_minor": 2
}
