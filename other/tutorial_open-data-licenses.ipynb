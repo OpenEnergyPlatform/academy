{
 "cells": [
  {
   "cell_type": "markdown",
   "metadata": {},
   "source": [
    "<img src=\"http://openenergy-platform.org/static/OEP_logo_2_no_text.svg\" alt=\"OpenEnergy Platform\" height=\"100\" width=\"100\"  align=\"left\"/>\n",
    "\n",
    "# Open Energy Platform\n",
    "<br><br>\n",
    "\n",
    "The development of tutorials for the Open Energy Family takes place publicly in a dedicated [tutorial repository](https://github.com/OpenEnergyPlatform/tutorial). Please report bugs and suggestions as [new issues](https://github.com/OpenEnergyPlatform/template/issues). If Jupyter Notebooks are new to you and you'd like to get an introduction, have a look at this less than 10 minute [introduction video](https://www.youtube.com/watch?v=q_BzsPxwLOE). Official installation instructions are available on [jupyter's readthedocs page](https://jupyter.readthedocs.io/en/latest/install.html).\n",
    "\n",
    "> **license**: [GNU Affero General Public License Version 3 (AGPL-3.0)](https://github.com/openego/data_processing/blob/master/LICENSE) <br> \n",
    "> **copyright**: Reiner Lemoine Institut <br> \n",
    "> **authors**: Ludwig Hülk\n",
    "\n",
    "# Open Data Licenses\n"
   ]
  },
  {
   "cell_type": "markdown",
   "metadata": {},
   "source": [
    "## Takeaways\n",
    "\n",
    "* Overview of existing open data licenses\n",
    "* Suitable and allowed open licenses for the OEP"
   ]
  },
  {
   "cell_type": "markdown",
   "metadata": {},
   "source": [
    "## Introduction\n",
    "\n",
    "There are [licenses](https://en.wikipedia.org/wiki/License) that cover multiple material / domains (software, data, content) and some that only cover specific domains. <br>\n",
    "This tutorial aims at collecting and describing existing and used [open data](https://en.wikipedia.org/wiki/Open_data) licenses. <br>\n",
    "Please note that there are different definitions of free / open / libre and what falls into [open science data](https://en.wikipedia.org/wiki/Open_science_data)."
   ]
  },
  {
   "cell_type": "markdown",
   "metadata": {},
   "source": [
    "## Open Licenses\n",
    "\n",
    "In general, open licenses grant the four freedoms (rights) originally [defined for open-source software](https://en.wikipedia.org/wiki/The_Free_Software_Definition).\n",
    "The main difference is in the definition of the obligations that must be met in order to obtain the rights. <br>\n",
    "There are already lists of approved open-source licenses (e.g. by the Open Source Initiative [OSI](https://opensource.org/licenses)). <br>\n",
    "The [Open Knowledge Foundation](https://okfn.org/) defined an [Open Definition](http://opendefinition.org/) for data:\n",
    "\n",
    "<div class=\"alert alert-block alert-success\">\n",
    "“Open data and content can be freely used, modified, and shared by anyone for any purpose”\n",
    "</div>\n",
    "\n",
    "\n",
    "### Not open licenses\n",
    "\n",
    "There are certain obligations that will prevent the data to be considered as open! Also see: http://opendefinition.org/licenses/nonconformant/\n",
    "\n",
    "* Non-commercial (NC) <br>\n",
    "You may not use the material for commercial purposes. There is no definition of what is considered commercial. An NGO and a nonprofit organization can also be considered commercial. It is definitely not open!\n",
    "* No Derivatives (ND) <br>\n",
    "You may not alter, transform, or build upon this work. It is definitely not open!"
   ]
  },
  {
   "cell_type": "markdown",
   "metadata": {},
   "source": [
    "## Open Data Licenses\n",
    "\n",
    "The open data licenses will be grouped by the three main obligations. Also see: https://opendefinition.org/licenses/ and https://github.com/okfn/licenses.\n",
    "\n",
    "### Public Domain (No Obligations)\n",
    "\n",
    "This is a concept when no copyright or other protection (patents, trademark) exists and thus no obligations are defined. In order to label and communicate this, a public domain license is useful! <br>\n",
    "For more information see the international definition of [public domain](https://en.wikipedia.org/wiki/Public_domain) and the German/European [Gemeinfreiheit](https://de.wikipedia.org/wiki/Gemeinfreiheit).\n",
    "\n",
    "__Usecase__: Data where no naming of the authors is required, e.g. \"helper tables\" for conversions.\n",
    "\n",
    "__Openness:__ As open as possible, but others can create non open materials from it.\n",
    "\n",
    "| id | name | spdx | link | comment |\n",
    "|---|---|---|---|---|\n",
    "| 1.1 | Creative Commons Zero v1.0 Universal | CC0-1.0 | https://creativecommons.org/publicdomain/zero/1.0/legalcode | recommended |\n",
    "| 1.2 | ODC Public Domain Dedication & License 1.0 | PDDL-1.0 | https://opendatacommons.org/licenses/pddl/1-0/ | recommended |\n",
    "| 1.3 | Datenlizenz Deutschland – Zero – Version 2.0 | dl-de/zero-2-0 | https://www.govdata.de/dl-de/zero-2-0 | granted only by the German government |\n",
    "| 1.4 | Public Domain Mark | CC-PDDC | https://creativecommons.org/licenses/publicdomain/ | not recommended |"
   ]
  },
  {
   "cell_type": "markdown",
   "metadata": {},
   "source": [
    "### Permissive (Attribution)\n",
    "\n",
    "This obligation prescribes creating and placing an attribution string close to the created work. The string must contain the following information: 1. Title of the work, 2. Author(s), 3. Source (link) 4. License (Name of the license and a link to the license text). <br>\n",
    "Be aware that this _attribution_ string is different from the scientific _citation_ string, which is necessary for good scientific practice.\n",
    "\n",
    "For more information see the [Best practices for attribution](https://wiki.creativecommons.org/wiki/Best_practices_for_attribution) and the [Lizenzhinweisgenerator](https://lizenzhinweisgenerator.de/?lang=en).\n",
    "\n",
    "__Usecase__: Data where naming of the authors is required, e.g. \"input and result data\".\n",
    "\n",
    "__Openness:__ Open and suitable for acedemic work.\n",
    "\n",
    "| id | name | spdx | link | comment |\n",
    "|---|---|---|---|---|\n",
    "| 2.1 | Creative Commons Attribution 4.0 International | CC-BY-4.0 | https://creativecommons.org/licenses/by/4.0/legalcode| recommended |\n",
    "| 2.2 | Open Data Commons Attribution License v1.0 | ODC-By-1.0 | https://opendatacommons.org/licenses/by/1-0/ | recommended |\n",
    "| 2.3 | Community Data License Agreement Sharing 1.0 | CDLA-Sharing-1.0 | https://cdla.io/sharing-1-0 |   |\n",
    "| 2.4 | Datenlizenz Deutschland – Namensnennung – Version 2.0 | dl-de/by-2-0 | https://www.govdata.de/dl-de/by-2-0 | granted only by the German government  |\n",
    "| 2.5 | Gesetz über den Zugang zu digitalen Geodaten (Geodatenzugangsgesetz - GeoZG) | GeoZG | https://www.gesetze-im-internet.de/geozg/index.html | [quasi-license](https://de.wikipedia.org/wiki/Geodatenzugangsgesetz), granted only by the German government |\n",
    "| 2.6 | Verordnung zur Festlegung der Nutzungsbestimmungen für die Bereitstellung von Geodaten des Bundes (GeoNutzV) | GeoNutzV | https://www.gesetze-im-internet.de/geonutzv/index.html | [quasi-license](https://de.wikipedia.org/wiki/Geodatenzugangsgesetz), granted only by the German government  |"
   ]
  },
  {
   "cell_type": "markdown",
   "metadata": {},
   "source": [
    "### Share-Alike (Copyleft)\n",
    "\n",
    "This obligation requires you to choose the exact same license for resulting data. It can be described reciprocal, hereditary or (negative) virulent.\n",
    "\n",
    "For more information see [copyleft](https://en.wikipedia.org/wiki/Copyleft) on Wikipedia.\n",
    "\n",
    "__Usecase__: Data where naming of the authors is required and all further updates must be open as well, e.g. \"manual collection of technical parameters from factsheets\". \n",
    "\n",
    "__Openness:__ Open and will be open forever.\n",
    "\n",
    "| id | name | spdx | link | comment |\n",
    "|---|---|---|---|---|\n",
    "| 3.1 | ODC Open Database License v1.0 | ODbL-1.0 | https://opendatacommons.org/licenses/odbl/1-0/ | recommended |\n",
    "| 3.2 | ~~Creative Commons Attribution Share Alike 4.0 International~~ | CC-BY-SA-4.0 | https://creativecommons.org/licenses/by-sa/4.0/legalcode | not recommended! |\n",
    "|   |   |   |   |   |\n",
    "\n",
    "<div class=\"alert alert-block alert-danger\">\n",
    "Note that different copyleft licenses are never compatible! They create data silos. The OEP decided for the ODbL as only suitable copyleft license due to the use of OpenStreetMap (OSM) data.\n",
    "</div>"
   ]
  },
  {
   "cell_type": "code",
   "execution_count": null,
   "metadata": {},
   "outputs": [],
   "source": []
  }
 ],
 "metadata": {
  "kernelspec": {
   "display_name": "Python 3",
   "language": "python",
   "name": "python3"
  },
  "language_info": {
   "codemirror_mode": {
    "name": "ipython",
    "version": 3
   },
   "file_extension": ".py",
   "mimetype": "text/x-python",
   "name": "python",
   "nbconvert_exporter": "python",
   "pygments_lexer": "ipython3",
   "version": "3.7.7"
  }
 },
 "nbformat": 4,
 "nbformat_minor": 2
}
