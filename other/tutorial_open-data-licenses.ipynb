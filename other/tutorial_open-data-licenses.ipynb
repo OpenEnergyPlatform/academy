{
 "cells": [
  {
   "cell_type": "markdown",
   "metadata": {},
   "source": [
    "<img src=\"http://openenergy-platform.org/static/OEP_logo_2_no_text.svg\" alt=\"OpenEnergy Platform\" height=\"100\" width=\"100\"  align=\"left\"/>\n",
    "\n",
    "# Open Energy Platform\n",
    "<br><br>\n",
    "\n",
    "The development of tutorials for the Open Energy Family takes place publicly in a dedicated [tutorial repository](https://github.com/OpenEnergyPlatform/tutorial). Please report bugs and suggestions as [new issues](https://github.com/OpenEnergyPlatform/template/issues). If Jupyter Notebooks are new to you and you'd like to get an introduction, have a look at this less than 10 minute [introduction video](https://www.youtube.com/watch?v=q_BzsPxwLOE). Official installation instructions are available on [jupyter's readthedocs page](https://jupyter.readthedocs.io/en/latest/install.html).\n",
    "\n",
    "> **license**: [GNU Affero General Public License Version 3 (AGPL-3.0)](https://github.com/openego/data_processing/blob/master/LICENSE) <br> \n",
    "> **copyright**: Reiner Lemoine Institut <br> \n",
    "> **authors**: Ludwig Hülk\n",
    "\n",
    "# Open Data Licenses\n"
   ]
  },
  {
   "cell_type": "markdown",
   "metadata": {},
   "source": [
    "## Takeaways\n",
    "\n",
    "* Overview of existing open data licenses\n",
    "* Suitable and allowed open licenses for the OEP"
   ]
  },
  {
   "cell_type": "markdown",
   "metadata": {},
   "source": [
    "## Introduction\n",
    "\n",
    "In the field of information technology there are many [licenses](https://en.wikipedia.org/wiki/License). Some cover multiple materials and domains, i.e. software, data or content while others only cover specific domains. <br>\n",
    "This tutorial aims to collect and describe existing and commonly used [open data](https://en.wikipedia.org/wiki/Open_data) licenses. <br>\n",
    "Please note that there are different definitions of free, open, libre and what falls into [open science data](https://en.wikipedia.org/wiki/Open_science_data)."
   ]
  },
  {
   "cell_type": "markdown",
   "metadata": {},
   "source": [
    "## Open Licenses\n",
    "\n",
    "\n",
    "The [Open Knowledge Foundation](https://okfn.org/) provides a [definition](http://opendefinition.org/) for open data:\n",
    "\n",
    "<div class=\"alert alert-block alert-success\">\n",
    "“Open data and content can be freely used, modified, and shared by anyone for any purpose”\n",
    "</div>\n",
    "\n",
    "In general, open licenses grant the four freedoms, i.e. rights, that were originally defined for [free software](https://en.wikipedia.org/wiki/The_Free_Software_Definition#The_Four_Essential_Freedoms_of_Free_Software).\n",
    "The main difference between open data licenes and free or open source software licenses, lies in the definition of the obligations that must be met in order to obtain the rights. There are already lists of open source licenses that guarantee the four freedoms. For example the Open Source Initiative (OSI) offers a list of [approved licenses](https://opensource.org/licenses)). <br>\n",
    "\n",
    "\n",
    "\n",
    "### Not open licenses\n",
    "\n",
    "There are certain obligations that that a license may formalise, which will prevent the data from being considered open! The Open Knowledge Foundation has a section on [non-conformant clauses](http://opendefinition.org/licenses/nonconformant/). In brief, the main relevant clauses are:\n",
    "\n",
    "* Non-commercial (NC) <br>\n",
    "You may not use the material for commercial purposes. As there is no definition of what is considered commercial, and an NGO or a nonprofit organization may also be considered commercial entities, this clause renders data licensed under it not open. \n",
    "* No Derivatives (ND) <br>\n",
    "You may not alter, transform, or build upon this work. This limits your freedom to modify the data and is therefore not open."
   ]
  },
  {
   "cell_type": "markdown",
   "metadata": {},
   "source": [
    "## Open Data Licenses\n",
    "\n",
    "The open data licenses below are grouped by the three main obligations. For a broader list of licenses, also see: https://opendefinition.org/licenses/ and https://github.com/okfn/licenses.\n",
    "\n",
    "### Public Domain\n",
    "\n",
    "Public domain is a concept in which no copyright or other protection like patents and trademark exists and thus no obligations are defined. In order to label and communicate this, a public domain license is useful! In some countries, like Germany, it is not possible to waive one's copyright. Specifically declaring a public domain license will ensure a legal status that is equivalent to public domain. <br>\n",
    "For more information see the international definition of [public domain](https://en.wikipedia.org/wiki/Public_domain) and the German/European [Gemeinfreiheit](https://de.wikipedia.org/wiki/Gemeinfreiheit).\n",
    "\n",
    "__Usecase__: Data where no naming of the authors is required, e.g. \"helper tables\" for conversions.\n",
    "\n",
    "__Openness:__ As open as possible, but others can create non-open derivatives of it.\n",
    "\n",
    "| id | name | spdx | link | comment |\n",
    "|---|---|---|---|---|\n",
    "| 1.1 | Creative Commons Zero v1.0 Universal | CC0-1.0 | https://creativecommons.org/publicdomain/zero/1.0/legalcode | recommended |\n",
    "| 1.2 | ODC Public Domain Dedication & License 1.0 | PDDL-1.0 | https://opendatacommons.org/licenses/pddl/1-0/ | recommended |\n",
    "| 1.3 | Datenlizenz Deutschland – Zero – Version 2.0 | dl-de/zero-2-0 | https://www.govdata.de/dl-de/zero-2-0 | granted only by the German government |\n",
    "| 1.4 | Public Domain Mark | CC-PDDC | https://creativecommons.org/licenses/publicdomain/ | not recommended |"
   ]
  },
  {
   "cell_type": "markdown",
   "metadata": {},
   "source": [
    "### Attribution\n",
    "\n",
    "This obligation prescribes creating and placing an attribution string close to the created work. The string must contain the following information: 1. Title of the work, 2. Author(s), 3. Source (link) 4. License (Name of the license and a link to the license text). Be aware that this _attribution_ string is different from the scientific _citation_ string, which is necessary for good scientific practice. <br>\n",
    "Licenses that merely require an attribution are often referred to as [permissive licenses](https://en.wikipedia.org/wiki/Permissive_software_license)\n",
    "\n",
    "For more information, see [Best practices for attribution](https://wiki.creativecommons.org/wiki/Best_practices_for_attribution) and  [Lizenzhinweisgenerator](https://lizenzhinweisgenerator.de/?lang=en).\n",
    "\n",
    "__Usecase__: Data where naming of the authors is required, e.g. \"input and result data\".\n",
    "\n",
    "__Openness:__ Open and suitable for acedemic work.\n",
    "\n",
    "| id | name | spdx | link | comment |\n",
    "|---|---|---|---|---|\n",
    "| 2.1 | Creative Commons Attribution 4.0 International | CC-BY-4.0 | https://creativecommons.org/licenses/by/4.0/legalcode| recommended |\n",
    "| 2.2 | Open Data Commons Attribution License v1.0 | ODC-By-1.0 | https://opendatacommons.org/licenses/by/1-0/ | recommended |\n",
    "| 2.3 | Community Data License Agreement Sharing 1.0 | CDLA-Sharing-1.0 | https://cdla.io/sharing-1-0 |   |\n",
    "| 2.4 | Datenlizenz Deutschland – Namensnennung – Version 2.0 | dl-de/by-2-0 | https://www.govdata.de/dl-de/by-2-0 | granted only by the German government  |\n",
    "| 2.5 | Gesetz über den Zugang zu digitalen Geodaten (Geodatenzugangsgesetz - GeoZG) | GeoZG | https://www.gesetze-im-internet.de/geozg/index.html | [quasi-license](https://de.wikipedia.org/wiki/Geodatenzugangsgesetz), granted only by the German government |\n",
    "| 2.6 | Verordnung zur Festlegung der Nutzungsbestimmungen für die Bereitstellung von Geodaten des Bundes (GeoNutzV) | GeoNutzV | https://www.gesetze-im-internet.de/geonutzv/index.html | [quasi-license](https://de.wikipedia.org/wiki/Geodatenzugangsgesetz), granted only by the German government  |"
   ]
  },
  {
   "cell_type": "markdown",
   "metadata": {},
   "source": [
    "### Share-Alike (Copyleft)\n",
    "\n",
    "This obligation requires you to choose the exact same license for resulting data. It can be described as reciprocal, hereditary or (negatively connotated) virulent.\n",
    "\n",
    "For more information see [copyleft](https://en.wikipedia.org/wiki/Copyleft) on Wikipedia.\n",
    "\n",
    "__Usecase__: Data where naming of the authors is required and all further updates must be open as well, e.g. \"manual collection of technical parameters from factsheets\". \n",
    "\n",
    "__Openness:__ Open and will be open forever.\n",
    "\n",
    "| id | name | spdx | link | comment |\n",
    "|---|---|---|---|---|\n",
    "| 3.1 | ODC Open Database License v1.0 | ODbL-1.0 | https://opendatacommons.org/licenses/odbl/1-0/ | recommended |\n",
    "| 3.2 | ~~Creative Commons Attribution Share Alike 4.0 International~~ | CC-BY-SA-4.0 | https://creativecommons.org/licenses/by-sa/4.0/legalcode | not recommended! |\n",
    "|   |   |   |   |   |\n",
    "\n",
    "<div class=\"alert alert-block alert-danger\">\n",
    "Note that different copyleft licenses are never compatible! They create data silos. The OEP decided for the ODbL as only suitable copyleft license due to the use of OpenStreetMap (OSM) data.\n",
    "</div>"
   ]
  },
  {
   "cell_type": "code",
   "execution_count": null,
   "metadata": {},
   "outputs": [],
   "source": []
  }
 ],
 "metadata": {
  "kernelspec": {
   "display_name": "Python 3",
   "language": "python",
   "name": "python3"
  },
  "language_info": {
   "codemirror_mode": {
    "name": "ipython",
    "version": 3
   },
   "file_extension": ".py",
   "mimetype": "text/x-python",
   "name": "python",
   "nbconvert_exporter": "python",
   "pygments_lexer": "ipython3",
   "version": "3.7.1"
  }
 },
 "nbformat": 4,
 "nbformat_minor": 2
}
